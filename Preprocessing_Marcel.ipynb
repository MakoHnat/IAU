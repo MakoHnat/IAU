{
 "cells": [
  {
   "cell_type": "code",
   "execution_count": 1,
   "metadata": {},
   "outputs": [],
   "source": [
    "import pandas as pd\n",
    "import numpy as np\n",
    "import seaborn as sns\n",
    "import re\n",
    "import matplotlib.pyplot as plt\n",
    "import json\n",
    "import scipy.stats as stats\n",
    "import math\n",
    "\n",
    "import statsmodels.api as sm\n",
    "import statsmodels.stats as sm_stats\n",
    "import statsmodels.stats.api as sms\n",
    "\n",
    "import vizualizacia_funkcie as visual"
   ]
  },
  {
   "cell_type": "code",
   "execution_count": 2,
   "metadata": {},
   "outputs": [],
   "source": [
    "df1 = pd.read_csv(\"./data/personal_train.csv\", index_col=0)\n",
    "df2 = pd.read_csv(\"./data/other_train.csv\", index_col=0)"
   ]
  },
  {
   "cell_type": "code",
   "execution_count": 3,
   "metadata": {},
   "outputs": [],
   "source": [
    "#moje su len vo vacsom dataframe\n",
    "attributes_marcel = [\"marital-status\", \"relationship\", \"occupation\", \"income\", \"workclass\", \n",
    "                     \"hours-per-week\", \"medical_info\", \"class\"]"
   ]
  },
  {
   "cell_type": "markdown",
   "metadata": {},
   "source": [
    "# Joinutie dataframov + merguntie viacerych zaznamov jedneho pacienta"
   ]
  },
  {
   "cell_type": "code",
   "execution_count": 4,
   "metadata": {},
   "outputs": [
    {
     "name": "stdout",
     "output_type": "stream",
     "text": [
      "Rozmer df1 (3933, 5)\n",
      "Rozmer df2 (3983, 22)\n",
      "3933\n",
      "3933\n",
      "3933\n",
      "3933\n"
     ]
    }
   ],
   "source": [
    "print(\"Rozmer df1\", df1.shape)\n",
    "print(\"Rozmer df2\", df2.shape)\n",
    "\n",
    "print(len(df1[\"name\"].unique()))\n",
    "print(len(df1[\"address\"].unique()))\n",
    "\n",
    "print(len(df2[\"name\"].unique()))\n",
    "print(len(df2[\"address\"].unique()))"
   ]
  },
  {
   "cell_type": "markdown",
   "metadata": {},
   "source": [
    "Vidime, ze je rovnaky pocet unique values pre meno a adresu v obidvoch dataframoch. My totiz hladame najlepsi kluc, podla ktoreho by sme vedeli joinut obe dataframy dokopy. Sice maju rozdielne rozmery, ale minule, pri analyze, sme zistili, ze niektory pacienty maju pridelene 2 datarowy, kedy obe zaznamy su nie plne vyplnene - v zmysle, ze je mozne nasledne mergnut dane 2 zaznamy do jedneho, cim ziskavame jeden zaznam zo vsetkymi informaciami, ktore boli dostupne v tych dvoch zaznamoch."
   ]
  },
  {
   "cell_type": "code",
   "execution_count": 5,
   "metadata": {},
   "outputs": [
    {
     "data": {
      "text/plain": [
       "['Aaron Davis 379 Rodriguez Inlet\\r\\nFisherbury, MD 83114',\n",
       " 'Aaron Dini 105 Medina Springs Suite 462\\r\\nEmilyland, KS 59124',\n",
       " 'Aaron Gann 59685 Thomas Extension Apt. 142\\r\\nFieldsborough, UT 17996',\n",
       " 'Aaron Gregg 10883 Williams Locks Suite 821\\r\\nEast Carmen, ME 31095',\n",
       " 'Aaron Lindley 564 Stevenson Park Apt. 839\\r\\nRodriguezville, AR 73176',\n",
       " 'Aaron Manning 9503 Christy Meadow\\r\\nAntoniostad, DC 31369',\n",
       " 'Aaron Moody 5443 Kurt Estate\\r\\nHillbury, MS 07587',\n",
       " 'Aaron Noman PSC 0351, Box 8841\\r\\nAPO AA 86063',\n",
       " 'Aaron Robinson 16767 Medina Manor Suite 889\\r\\nCarlosshire, MD 96418',\n",
       " 'Aaron Rogers 3257 Jones Center Apt. 917\\r\\nSeanland, OH 20838',\n",
       " 'Aaron Spriggs 0988 Jeffrey Shoal Apt. 378\\r\\nMelissatown, DE 53705',\n",
       " 'Abel Love 40589 Brian Streets Apt. 190\\r\\nPort Lindseyfort, CO 71854',\n",
       " 'Abraham Hefty 21291 Beard Place\\r\\nSarahshire, TX 38497',\n",
       " 'Abraham Winkles 78263 Jennifer Road\\r\\nWilliamsmouth, ME 37642',\n",
       " 'Adalberto Daughters Unit 7931 Box 0601\\r\\nDPO AE 50505',\n",
       " 'Adam Baskerville USS Donovan\\r\\nFPO AA 95439',\n",
       " 'Adam Baugh 285 Rodney Center Suite 670\\r\\nGregorystad, NH 19299',\n",
       " 'Adam Bermudez 50679 Kirk Summit\\r\\nNew Ashleyshire, IN 36901',\n",
       " 'Adam Chipman 15596 Linda Pine\\r\\nLake Kayla, MI 50632',\n",
       " 'Adam Daniel 108 Timothy Bypass\\r\\nNew Jennifermouth, WY 19108',\n",
       " 'Adam Duncan 99550 Abigail View Suite 214\\r\\nSouth Angelafort, WY 56498',\n",
       " 'Adam George 4520 Gomez Shores Suite 996\\r\\nDavidville, OK 98715',\n",
       " 'Adam Kowal 0135 Robert Burg Suite 124\\r\\nNew Rebecca, CO 39994',\n",
       " 'Adam Perry 02726 Hale Lane\\r\\nLynchmouth, HI 33466',\n",
       " 'Adam Porter 5112 Beth Streets Suite 249\\r\\nWest Michaelstad, PA 21747',\n",
       " 'Adam Sprague 7425 Patrick Harbor Apt. 093\\r\\nButlerport, NJ 88215',\n",
       " 'Adan Browder 53754 Johnson Well Apt. 756\\r\\nPort Diane, AZ 00565',\n",
       " 'Adolfo Wamsley USS Howard\\r\\nFPO AA 39583',\n",
       " 'Adrian Alford 46915 Knox Falls\\r\\nHannahberg, UT 92015',\n",
       " 'Adrian Alnutt 8942 Kaufman Park\\r\\nJennifertown, AK 67798',\n",
       " 'Adrian Ballard 2426 Flores Square Apt. 981\\r\\nNew Samuel, WA 06463',\n",
       " 'Adrian Strohm 68090 Edwards Fall\\r\\nLake Paige, MS 70271',\n",
       " 'Adrian Veasey 9201 Richard Parkway Apt. 765\\r\\nNorth Julia, SC 70611',\n",
       " 'Alan Gray 97158 John Forks Apt. 846\\r\\nSouth Alejandrostad, AK 73174',\n",
       " 'Alan Hawkinson 03769 Tiffany Lights Apt. 896\\r\\nParkerstad, OR 26074',\n",
       " 'Alan Jablonski 474 Gonzalez Prairie\\r\\nVeronicatown, MD 93369',\n",
       " 'Alan Jackson 944 Ellis Throughway Apt. 481\\r\\nShepherdtown, OH 77434',\n",
       " 'Alan Lawrence 959 Brown Station Suite 403\\r\\nRichardfort, NV 58965',\n",
       " 'Alan Strope 783 Randy Square Suite 096\\r\\nNorth Marilyn, IN 77589',\n",
       " 'Albert Archambault 7299 Davis Knolls\\r\\nRobertside, AR 96409',\n",
       " 'Albert Ayers 601 Randall Knolls\\r\\nHardyport, WV 63119',\n",
       " 'Albert Berry 3044 Holmes Lakes\\r\\nDelgadofort, OH 75100',\n",
       " 'Albert Beverly 53304 Charles Groves\\r\\nEast Alexanderberg, KS 68534',\n",
       " 'Albert Crews 607 David Plaza\\r\\nLake Sarahfurt, MD 48514',\n",
       " 'Albert Doll 219 Nelson Grove Suite 062\\r\\nEast Johnmouth, SD 65571',\n",
       " 'Albert Dwyer 14457 Theresa Harbor Apt. 969\\r\\nPort Aaron, AK 43436',\n",
       " 'Albert Flowers Unit 1389 Box 5503\\r\\nDPO AP 40741',\n",
       " 'Albert Gonzalez USNV Cole\\r\\nFPO AE 85695',\n",
       " 'Albert Jensen 664 Micheal Haven Apt. 715\\r\\nSouth Jason, CO 85257',\n",
       " 'Albert Jones 822 Estrada Coves\\r\\nLisachester, SC 57786',\n",
       " 'Albert Linquist 55902 Washington Well Suite 673\\r\\nSouth Autumn, NM 77548',\n",
       " 'Albert Menefee 992 Hanson Shore\\r\\nJamesmouth, OR 19553',\n",
       " 'Albert Rakes Unit 8957 Box 7376\\r\\nDPO AP 66997',\n",
       " 'Albert Springer 90776 Donald Crossroad Apt. 942\\r\\nElizabethport, OH 27879',\n",
       " 'Albert Vandenberge 308 Harris Isle\\r\\nSouth Angelahaven, NH 91965',\n",
       " 'Alberto Martin 05899 Brian Circles\\r\\nEast Lancestad, WI 28280',\n",
       " 'Alden Brantly 563 Cross Spurs\\r\\nDanaberg, SC 05133',\n",
       " 'Alden Cooper 4525 Jennifer Radial Suite 630\\r\\nJohnhaven, SC 04235',\n",
       " 'Alejandro Leake 2838 Kelly Fords Apt. 626\\r\\nDevonport, HI 79491',\n",
       " 'Alex Burt 089 Gibson Squares\\r\\nMatthewmouth, MI 73413',\n",
       " 'Alex Chinzi 590 Samantha Bridge Apt. 572\\r\\nNorth Allison, HI 41886',\n",
       " 'Alex Coates 1452 Jennifer Haven Suite 737\\r\\nNorth Daniel, NV 80212',\n",
       " 'Alex Martin 02993 Taylor Tunnel Suite 928\\r\\nJeremyberg, IN 66247',\n",
       " 'Alex Mitchell 825 Arnold Passage Suite 708\\r\\nPort Jody, WY 67032',\n",
       " 'Alex Nichols 0417 Young Crescent\\r\\nEast Timothy, GA 87486',\n",
       " 'Alex Stachowiak 2196 Sarah Forge\\r\\nLake Thomas, KS 43326',\n",
       " 'Alex Stubblefield PSC 1476, Box 5156\\r\\nAPO AE 20184',\n",
       " 'Alex Turpin 4668 Cuevas Unions Apt. 717\\r\\nRichardsbury, AZ 09144',\n",
       " 'Alex Williams 19143 Alexander Inlet\\r\\nKimside, VA 59139',\n",
       " 'Alexander Bier 43219 Michael Ports\\r\\nWadeland, HI 53498',\n",
       " 'Alexander Endicott 568 Faith Corners\\r\\nWest Josephtown, MD 20533',\n",
       " 'Alexander Kramer 791 Elizabeth Village Apt. 600\\r\\nDavidtown, GA 74303',\n",
       " 'Alexander Mohammad PSC 9812, Box 2337\\r\\nAPO AA 80493',\n",
       " 'Alexander Ramon 80904 Johnson Forks\\r\\nEast Johnnychester, NE 59766',\n",
       " 'Alfonso Hines 348 Dean Viaduct Suite 152\\r\\nEast Richard, VT 21658',\n",
       " 'Alfonzo Henry 5632 Devon Locks Suite 601\\r\\nWest Jonathan, GA 12614',\n",
       " 'Alfred Adkins 808 Charles Terrace Apt. 619\\r\\nAmandastad, MS 44757',\n",
       " 'Alfred Booth PSC 4136, Box 3084\\r\\nAPO AA 67974',\n",
       " 'Alfred Daniel PSC 9509, Box 8382\\r\\nAPO AP 61291',\n",
       " 'Alfred Emberton 43759 Miller Expressway\\r\\nNorth Jonathanshire, WV 44567',\n",
       " 'Alfred Funk 981 Williams Falls\\r\\nEast Jesseview, IL 97294',\n",
       " 'Alfred Gaietto 4741 Blake Port Apt. 105\\r\\nRichardview, VT 14530',\n",
       " 'Alfred Hall 71320 John Forks\\r\\nWest Ashley, NH 21322',\n",
       " 'Alfred Santana 40622 Christopher Plaza Apt. 946\\r\\nEatonshire, KY 18590',\n",
       " 'Alfred Smith 72520 Flynn Drive\\r\\nPort Frederick, NH 61866',\n",
       " 'Alfred Tijerina 8619 Allison Mill\\r\\nWest Barbara, MT 85250',\n",
       " 'Alfredo Estrada 44242 Daniel Fort Suite 116\\r\\nAlexanderberg, SC 04709',\n",
       " 'Alfredo Lunn 197 Bryant Mountain\\r\\nMiddletonside, AR 98497',\n",
       " 'Alfredo Pando 694 Kristy Ford\\r\\nTorresview, ME 60926',\n",
       " 'Alfredo Peterson 6872 Travis Course Suite 686\\r\\nNew Monicafurt, AK 06433',\n",
       " 'Allan Hickam 67592 Michael Fields Apt. 696\\r\\nPamelastad, IN 62350',\n",
       " 'Allan Lewis 04787 Cunningham Corners Apt. 816\\r\\nNew Savannah, TX 23931',\n",
       " 'Allen Brickley 58775 Thomas Mills Apt. 873\\r\\nLake Richardhaven, KY 78090',\n",
       " 'Allen Carter 9034 Riggs Light\\r\\nAndrewfurt, IL 91295',\n",
       " 'Allen Cunningham 948 Stephanie Field\\r\\nPorterhaven, UT 68666',\n",
       " 'Allen Heppner 420 Taylor Unions Suite 512\\r\\nBooneton, ND 38245',\n",
       " 'Allen Martinez 4640 Keith Station\\r\\nSandraport, ID 04257',\n",
       " 'Allen Rangel 426 Robinson Pass Suite 334\\r\\nWest Wayne, KY 71132',\n",
       " 'Alonzo Ellis 7401 Donaldson Lake Apt. 338\\r\\nPort Wayneview, GA 17401',\n",
       " 'Alonzo Rodgers Unit 8917 Box 8236\\r\\nDPO AP 90222',\n",
       " 'Alonzo Sturm 349 Joshua Stravenue\\r\\nNew Russellbury, DE 88061',\n",
       " 'Alphonso Holland 809 Lisa Street\\r\\nCharlesfurt, NC 69066',\n",
       " 'Alton Eisele 50060 Terri Rapids Suite 575\\r\\nNew Michael, WY 05780',\n",
       " 'Alva Taylor 19075 Mcdowell Plaza\\r\\nNew Julie, OK 38636',\n",
       " 'Alva Ward Unit 0365 Box 5278\\r\\nDPO AA 50507',\n",
       " 'Alvaro Irving 5269 Perry Canyon Apt. 966\\r\\nWangland, MA 69009',\n",
       " 'Alvin Morris 5127 Christopher Valleys\\r\\nClarkhaven, PA 95784',\n",
       " 'Alvin Politi 26540 Jackson Estate Suite 638\\r\\nJessicaville, WV 30215',\n",
       " 'Anderson Gadson 391 Joseph Meadows\\r\\nEast Jonathan, NY 40708',\n",
       " 'Anderson Vieira 84360 John Passage Apt. 633\\r\\nBernardfurt, VA 62467',\n",
       " 'Andre Bennett 25878 Hector Canyon\\r\\nJerryfurt, AZ 38098',\n",
       " 'Andre Byrne 821 Aaron Forges\\r\\nSouth Virginia, AR 86918',\n",
       " 'Andre Mcdonald 448 Miller Ports\\r\\nLake Samuel, FL 25888',\n",
       " 'Andres Gallant 2032 Mathis Lakes Suite 369\\r\\nNorth Elizabethborough, MD 45782',\n",
       " 'Andres Inabinet 6822 Krystal Crossroad Apt. 544\\r\\nTiffanymouth, WY 93133',\n",
       " 'Andrew Armitage 9551 Caldwell Path Suite 481\\r\\nRamirezhaven, MN 11978',\n",
       " 'Andrew Bryson 091 Melissa Mount Apt. 387\\r\\nSamuelfurt, UT 91094',\n",
       " 'Andrew Daniels 66419 Kevin Cove Suite 153\\r\\nJakemouth, IL 75475',\n",
       " 'Andrew Davis 309 Roberts Shoal\\r\\nTeresatown, GA 39126',\n",
       " 'Andrew Dodge 820 Garcia Islands\\r\\nLake Staceybury, NV 87944',\n",
       " 'Andrew Erickson USNV Smith\\r\\nFPO AE 80235',\n",
       " 'Andrew Fernandez 2515 Powell Spurs Apt. 090\\r\\nLake Bryanport, GA 27203',\n",
       " 'Andrew Ferrell 39450 Coleman Ridges\\r\\nTheresaton, GA 71195',\n",
       " 'Andrew Harris 16802 Crystal Burgs Apt. 915\\r\\nHaydenfurt, TX 86912',\n",
       " 'Andrew Hensley 883 Carolyn Vista\\r\\nPort Kimberly, AZ 37239',\n",
       " 'Andrew Hodge 41409 Dunlap Ridge Suite 227\\r\\nJohnville, ME 85652',\n",
       " 'Andrew Johnston 20427 Ashley Falls\\r\\nNorth Scottchester, SD 91736',\n",
       " 'Andrew Kelly 21776 Case Cove Apt. 170\\r\\nBurtonmouth, NJ 41439',\n",
       " 'Andrew Lawson 57159 Christopher Throughway Apt. 388\\r\\nWest Elizabeth, MA 43582',\n",
       " 'Andrew Logan 550 Tammy Village\\r\\nLake William, NY 99025',\n",
       " 'Andrew Marsh USNS Gomez\\r\\nFPO AA 07344',\n",
       " 'Andrew Olmstead 519 Christopher Loop Suite 282\\r\\nRachelside, KY 63270',\n",
       " 'Andrew Paramo 3466 Jon Street\\r\\nEmilyville, OK 69967',\n",
       " 'Andrew Schultz 7989 Stephanie Stream Suite 693\\r\\nSouth Gregory, LA 88905',\n",
       " 'Andrew Smiechowski 07501 Christensen Corners\\r\\nWest Joshuachester, SD 57665',\n",
       " 'Andrew Vandre 707 Larry Path Suite 878\\r\\nPort David, IN 13619',\n",
       " 'Andrew Weddle 92635 Alexander Squares Suite 580\\r\\nEast Angelaside, WA 21018',\n",
       " 'Andrew Wilson 808 Tracy Cove Apt. 983\\r\\nEast Ronnieport, AZ 11510',\n",
       " 'Andrew Wright 9280 Gonzalez Bridge Apt. 657\\r\\nAutumnshire, CO 07971',\n",
       " 'Andrew Yarbrough USCGC Johnson\\r\\nFPO AA 11169',\n",
       " 'Andy Grayson 2573 Ryan Mission\\r\\nShortton, DC 01129',\n",
       " 'Andy Padilla 712 Roy Gardens\\r\\nSmithside, NY 57226',\n",
       " 'Angel Cook USS Contreras\\r\\nFPO AE 93902',\n",
       " 'Angel Johnson USNS Henderson\\r\\nFPO AE 50051',\n",
       " 'Angel Poole 183 Maria Common Suite 868\\r\\nNew Andrewstad, HI 93565',\n",
       " 'Angel Rollinger 5529 Rasmussen Port Apt. 803\\r\\nNorth Angelashire, DC 30165',\n",
       " 'Angelo Jones 199 Taylor Parkway Apt. 929\\r\\nCherylmouth, NJ 83562',\n",
       " 'Anthony Chavez 7516 Joshua Harbor\\r\\nSouth Tina, MA 93886',\n",
       " 'Anthony Cheatom 2382 Adams Court Suite 987\\r\\nGrayton, NH 25793',\n",
       " 'Anthony Colucci 904 Robert Cliffs Suite 186\\r\\nWest Kyle, CO 77139',\n",
       " 'Anthony Foster 4337 Aaron Gardens Apt. 359\\r\\nPaulbury, CO 90029',\n",
       " 'Anthony Frech 9086 David Union Suite 989\\r\\nSarahfort, MT 87859',\n",
       " 'Anthony Hanson 09330 Tran Vista Suite 806\\r\\nWest Thomas, MS 55366',\n",
       " 'Anthony Heil 7527 Nancy Walks\\r\\nWest Janet, MA 87830',\n",
       " 'Anthony Hoffman 164 Kristi Station Suite 000\\r\\nKimberlyfurt, PA 55642',\n",
       " 'Anthony Hofstetter 2249 Bailey Inlet\\r\\nPort Abigailchester, ID 55528',\n",
       " 'Anthony Huston 053 Jacob Cape Suite 034\\r\\nFigueroashire, SC 80804',\n",
       " 'Anthony Joseph USCGC Castillo\\r\\nFPO AA 00586',\n",
       " 'Anthony Kruger 24029 White Tunnel\\r\\nShannonton, KS 80428',\n",
       " 'Anthony Ladd 403 Snow Spring Apt. 484\\r\\nJonathanview, NH 94792',\n",
       " 'Anthony Mccoy 377 Dustin Tunnel\\r\\nShieldsport, NJ 22801',\n",
       " 'Anthony Miller 6320 Randy Parkway\\r\\nPort Stephenside, AR 74427',\n",
       " 'Anthony Novak USNV Elliott\\r\\nFPO AA 03321',\n",
       " 'Anthony Nunnally 251 Lee Summit\\r\\nLake Sarahshire, ND 56875',\n",
       " 'Anthony Pisciotta 907 Allen Coves\\r\\nNorth Christina, AR 21605',\n",
       " 'Anthony Ross 57601 Gray Bridge Apt. 238\\r\\nNorth Emilyport, IL 39579',\n",
       " 'Anthony Sanchez 66221 Shaffer Mountains Suite 507\\r\\nRamireztown, KY 98246',\n",
       " 'Anthony Sauer 29005 Gonzalez Drive\\r\\nJuanbury, MN 72336',\n",
       " 'Anthony Widell 027 Robertson Cliffs Suite 493\\r\\nWest Katelynchester, DE 81451',\n",
       " 'Anthony Yarbrough 1801 Abigail Extension Suite 623\\r\\nNancymouth, AK 17293',\n",
       " 'Anthony Zierenberg 6456 Estrada Islands\\r\\nLewishaven, TN 78288',\n",
       " 'Antoine Mckissack 5465 Montoya Extension Apt. 728\\r\\nCarterburgh, RI 54882',\n",
       " 'Anton Saulter 600 Howard Spurs\\r\\nRyanton, OR 15700',\n",
       " 'Antonio Ashlock 8742 Wilson Shoal\\r\\nJuliefort, SD 73173',\n",
       " 'Antonio Bailey 29028 Bowman Parkways\\r\\nKerrview, FL 57851',\n",
       " 'Antonio Davis 08791 Smith Mission Suite 140\\r\\nMurilloburgh, AZ 70521',\n",
       " 'Antonio Duke PSC 1429, Box 9777\\r\\nAPO AA 20201',\n",
       " 'Antonio Jimeson USNS Parker\\r\\nFPO AA 92061',\n",
       " 'Antonio Lewis 22808 Stephanie Mission\\r\\nBradfordbury, OK 40269',\n",
       " 'Antonio Mansfield 7203 Michelle Crossing Apt. 162\\r\\nMalonestad, NJ 68199',\n",
       " 'Antonio Rowan 016 Jacob Tunnel Apt. 031\\r\\nAmandabury, CA 37683',\n",
       " 'Archie Allen 9221 Sims Extensions Apt. 641\\r\\nHelenfort, TN 13340',\n",
       " 'Archie Lockwood 92232 Harris Inlet\\r\\nEast Aaronland, NV 50885',\n",
       " 'Armand Mccoach 8917 Evans Ferry\\r\\nLake Paul, SD 93388',\n",
       " 'Armando Welch 3508 Holden Neck Suite 181\\r\\nClarkfurt, TX 04627',\n",
       " 'Arnold Cobb 971 Paul Well\\r\\nMelissaton, IA 03789',\n",
       " 'Arnold Goodwin 41082 Michael Island\\r\\nSouth Cherylshire, OR 44073',\n",
       " 'Art Amundson 839 Richard Wells Suite 814\\r\\nNorth Dustinberg, AR 76838',\n",
       " 'Art Swaney 192 Baker Hill Suite 649\\r\\nPort Austinchester, CA 65616',\n",
       " 'Arthur Brown 05847 Franklin Drive Apt. 323\\r\\nPort Kimberly, SC 24000',\n",
       " 'Arthur Cough 98455 Cameron Squares\\r\\nNorth Lisaton, MI 77672',\n",
       " 'Arthur Crandall 806 Matthews River Suite 584\\r\\nPort Heidiside, CA 57208',\n",
       " 'Arthur Huynh PSC 3519, Box 9247\\r\\nAPO AP 33878',\n",
       " 'Arthur Mullins 71589 Carol Plains\\r\\nTeresamouth, KY 74795',\n",
       " 'Arthur Nelson 247 Cole Plaza Apt. 899\\r\\nWest Erinville, IN 48661',\n",
       " 'Arthur Osei 98834 James Turnpike Apt. 477\\r\\nPort Nicole, MA 56324',\n",
       " 'Arthur Stallcup 9384 Margaret Springs Apt. 915\\r\\nTammyfurt, ND 44467',\n",
       " 'Arthur Zack PSC 1224, Box 4018\\r\\nAPO AA 68060',\n",
       " 'Arturo Cox 83284 Allen Forges\\r\\nDariuschester, AR 32460',\n",
       " 'Arturo Layton 290 Danielle Cliffs\\r\\nKathrynton, PA 44936',\n",
       " 'Arturo Mckee 4785 Megan Estates Suite 560\\r\\nDixonhaven, MO 44439',\n",
       " 'Arturo Noble PSC 9970, Box 9739\\r\\nAPO AE 75642',\n",
       " 'Ashley Lyons 4166 Sara Points\\r\\nHernandezview, WY 62853',\n",
       " 'Aubrey Mcbride 201 Walter Villages\\r\\nSouth Aaronville, MO 73051',\n",
       " 'Austin James 93249 Douglas Rue Suite 311\\r\\nPort Michaelchester, TN 94404',\n",
       " 'Avery Kulesza 3221 David Underpass Suite 028\\r\\nLake Mercedes, ID 57118',\n",
       " 'Barry Kirk 7776 Schaefer Avenue\\r\\nMacdonaldmouth, NJ 82316',\n",
       " 'Barry Mccarter 930 Walker Knoll Suite 835\\r\\nMelissaville, OH 20188',\n",
       " 'Barry Newton 04945 Rebecca Walks\\r\\nLake Brett, ND 86641',\n",
       " 'Barry Obenshain 1459 Christopher Lock\\r\\nHayesborough, VT 93614',\n",
       " 'Barry Pruett 682 Brenda Road\\r\\nNorth Frankmouth, NE 72969',\n",
       " 'Barry Scovil 558 Kimberly Prairie\\r\\nDaisyton, ND 36753',\n",
       " 'Barry Wank 247 Cathy Mission Suite 980\\r\\nSouth Ashleybury, PA 02936',\n",
       " 'Ben Hart 4598 David Field Apt. 829\\r\\nNew Bridgetburgh, WA 53559',\n",
       " 'Ben Little 7305 Patrick Plains Suite 945\\r\\nNorth Christine, MN 72627',\n",
       " 'Ben Nelson 45315 Obrien Inlet\\r\\nCynthiaport, OH 63603',\n",
       " 'Benito Dupre 4682 Sabrina Grove\\r\\nSarahview, LA 02028',\n",
       " 'Benito Mcgraw 611 Theodore Ford\\r\\nYangmouth, AZ 29695',\n",
       " 'Benjamin Holman Unit 1778 Box 6724\\r\\nDPO AE 34370',\n",
       " 'Benjamin Mccloughan PSC 8403, Box 9307\\r\\nAPO AA 05328',\n",
       " 'Benjamin Nathaniel PSC 8666, Box 4951\\r\\nAPO AP 97206',\n",
       " 'Benjamin Ramos 4083 Daniel Pass Suite 092\\r\\nRandytown, GA 50482',\n",
       " 'Benjamin Sarver 19207 Tammy Corners Suite 225\\r\\nWest Michaelstad, MN 61446',\n",
       " 'Benjamin Stamper 015 Holmes Port\\r\\nDanielbury, MT 93579',\n",
       " 'Benjamin Tinker 959 Stephen Gateway Apt. 342\\r\\nLake Cynthia, WA 57987',\n",
       " 'Benjamin Ward 0485 Emily Cape Apt. 874\\r\\nNew Cherylhaven, FL 23871',\n",
       " 'Benjamin Weiss 9938 Hawkins Camp\\r\\nEast Christophertown, VA 14271',\n",
       " 'Bennett Hoffman 6042 Thompson Field\\r\\nWest Kellyton, NE 07322',\n",
       " 'Bennett Nielson 24787 Bradley Center\\r\\nNorth Marilynbury, ND 84244',\n",
       " 'Bennett Winters 4056 Cheryl River\\r\\nStevenfort, NV 49519',\n",
       " 'Bennie Barker 91586 James Station Apt. 571\\r\\nOrtiztown, MN 58601',\n",
       " 'Bennie Jones 78563 Michael Forks Suite 630\\r\\nSchmidtchester, CT 07640',\n",
       " 'Benny Ellis 9645 Charles Fields Apt. 004\\r\\nNew Nicole, WI 56162',\n",
       " 'Benny Wolfe 145 Autumn Manor\\r\\nNew Michael, NE 83039',\n",
       " 'Benton Ybarra 4817 Daniel Bridge Apt. 186\\r\\nChristineside, AR 75263',\n",
       " 'Bernard Bones 31332 Raymond Loaf\\r\\nNew Angelafurt, AK 47918',\n",
       " 'Bernard Hilser 11425 Taylor Fall\\r\\nMikeside, SC 82575',\n",
       " 'Bernard Whitehead 8300 Clark Stream Suite 812\\r\\nNew Thomas, RI 51207',\n",
       " 'Bernard Williams 258 Valerie Throughway\\r\\nSouth Samanthafort, TX 69130',\n",
       " 'Bernard Zhong 495 Andrea Grove\\r\\nRoblesville, AZ 05867',\n",
       " 'Bernardo Pennebaker USCGC Burke\\r\\nFPO AP 02596',\n",
       " 'Bert Fowler 83987 Smith Mall\\r\\nPort Cynthia, NY 01518',\n",
       " 'Bill Fallis 45448 Velasquez Land Suite 571\\r\\nNicolestad, TN 40172',\n",
       " 'Bill Frontz Unit 9920 Box 4137\\r\\nDPO AE 86376',\n",
       " 'Bill Pena 442 Sabrina Corners Apt. 314\\r\\nNorth Brittanybury, NY 10146',\n",
       " 'Bill Peterson 435 Martin Mountain\\r\\nSouth Karen, HI 89940',\n",
       " 'Billy Brown 424 Robyn Stravenue Suite 406\\r\\nSouth David, GA 95890',\n",
       " 'Billy Cardin PSC 3746, Box 3463\\r\\nAPO AE 65555',\n",
       " 'Billy Clark 3859 Melissa Bridge Apt. 723\\r\\nShawnfurt, GA 35992',\n",
       " 'Billy Millerbernd 46647 Joy Islands Suite 305\\r\\nEast Rachelburgh, NV 76155',\n",
       " 'Billy Moorer 5374 Jennifer Lights Apt. 715\\r\\nGarcialand, CO 34809',\n",
       " 'Billy Pitts 7832 Michele Meadow Apt. 996\\r\\nEast Lance, KY 96806',\n",
       " 'Billy Pumphrey USNV Davis\\r\\nFPO AE 52163',\n",
       " 'Billy Rose 93411 Thompson Islands\\r\\nWest Krystal, NC 28075',\n",
       " 'Bob Neal 98673 Garcia Shores\\r\\nKirkbury, IL 33059',\n",
       " 'Bob Smith 93367 Stephanie Fields\\r\\nMaryhaven, ND 06660',\n",
       " 'Bobby Alicea 787 Edwards Groves\\r\\nNew Melissaville, VT 70198',\n",
       " 'Bobby Bullock 4228 Mark Rest Suite 879\\r\\nPort Thomasfort, NM 84820',\n",
       " 'Bobby Burns 8038 Jerome Inlet\\r\\nWest Jason, NM 49841',\n",
       " 'Bobby Crews 500 Jennifer Lodge Apt. 857\\r\\nNew Hectorfurt, TN 23913',\n",
       " 'Bobby England 2362 Jones Pine\\r\\nJackieland, KY 89037',\n",
       " 'Bobby Farlow 0427 Hawkins Crest\\r\\nLake Josephshire, WA 84383',\n",
       " 'Bobby Fox 874 Freeman Wells Apt. 628\\r\\nLake Heidiborough, MS 65038',\n",
       " 'Bobby Gilbert 86727 Todd Shore\\r\\nSarahville, NE 34521',\n",
       " 'Bobby Guy 27613 Norman Ramp Suite 388\\r\\nEast Chelsea, SD 44990',\n",
       " 'Bobby Hawk 58166 Thomas Turnpike Suite 922\\r\\nMelissaburgh, MS 59207',\n",
       " 'Bobby Hill 79866 Andrews Ford\\r\\nPedrostad, WI 68777',\n",
       " 'Bobby Roberts 99137 Lambert Stravenue Apt. 053\\r\\nSouth Rhonda, NM 59005',\n",
       " 'Bobby Walker 81423 Sylvia Way\\r\\nFinleyview, MS 81487',\n",
       " 'Bobby Wetzel 1653 Wilson Isle Apt. 318\\r\\nLake Nathanchester, TN 71730',\n",
       " 'Boyd Eiselein 29941 Christopher Curve Apt. 682\\r\\nRaychester, VA 32742',\n",
       " 'Boyd Hinojosa 67820 Pamela Junction\\r\\nSamanthaview, HI 08812',\n",
       " 'Brad Dodd 4445 Timothy Square Suite 262\\r\\nJimenezbury, OK 37791',\n",
       " 'Brad Hernandez 76725 Jill View Apt. 139\\r\\nPamelafort, AR 91343',\n",
       " 'Brad Ortiz 5673 Crystal Mills\\r\\nSalazarmouth, OK 71816',\n",
       " 'Bradford Hayek 7115 Snyder Key Apt. 041\\r\\nWest Tina, DE 78012',\n",
       " 'Bradley Adams 08882 Bonnie Pike\\r\\nHowardfurt, NC 15204',\n",
       " 'Bradley Hendrickson 75850 Hall Streets\\r\\nNormanchester, AZ 85095',\n",
       " 'Bradley Ming 39272 Hughes Light\\r\\nSouth Daniel, GA 38798',\n",
       " 'Bradley Munoz 021 Butler Forges\\r\\nRojaston, ME 51925',\n",
       " 'Bradley Williams 389 Melissa Turnpike\\r\\nNorth Bradley, MS 63963',\n",
       " 'Bradly Marquez 952 Michelle Tunnel Suite 489\\r\\nSharonside, IL 87090',\n",
       " 'Brandon Board 8228 Robert Valleys Suite 168\\r\\nNew Alexander, TX 77051',\n",
       " 'Brandon Dombkowski 5179 Lauren Rest\\r\\nJeremyberg, MS 45401',\n",
       " 'Brandon Harrington 73186 Daniel Spring\\r\\nSherryshire, TX 91675',\n",
       " 'Brandon Johnson 461 Carlos Street Apt. 867\\r\\nEast Latasha, RI 72829',\n",
       " 'Brandon Lash Unit 1757 Box 4440\\r\\nDPO AP 53533',\n",
       " 'Brandon Moore 76441 Richard Crossing\\r\\nWilliamsside, CT 78263',\n",
       " 'Brandon Patel 701 Miranda Stream Apt. 440\\r\\nWest Mindytown, DE 24670',\n",
       " 'Brandon Pinion 992 Lawrence Ridges Apt. 141\\r\\nPort Margaret, NC 43187',\n",
       " 'Brandon Quattlebaum 0183 Scott Square\\r\\nNorth Randallland, OR 29655',\n",
       " 'Brandon Richardson 8401 Andrew Ways Suite 725\\r\\nRodriguezshire, VA 32188',\n",
       " 'Brandon Sewell 8294 Christina Wall\\r\\nWest Sarah, OK 01143',\n",
       " 'Brandon Thomas 3591 Tran Tunnel\\r\\nLake Lisa, MT 26529',\n",
       " 'Brandon Wangler 23895 Kyle Throughway Suite 629\\r\\nMcguiretown, KS 58560',\n",
       " 'Brendan Terrell 0878 Christian Vista Suite 581\\r\\nWest Katherine, ND 09479',\n",
       " 'Brent Burrell 84819 Scott Vista\\r\\nKevinfurt, NE 29868',\n",
       " 'Brent Ketterman 937 Garza Mount\\r\\nNew Annaport, NH 37591',\n",
       " 'Brent Leffert 38668 Roth Burg\\r\\nEast Daniellemouth, ID 19600',\n",
       " 'Brent Saulnier 202 George Isle\\r\\nNorth Joseph, DE 03726',\n",
       " 'Brent Sims 8521 Nicole Courts Suite 024\\r\\nNorth Austin, ID 34707',\n",
       " 'Brenton Valdez 995 Owens Causeway Apt. 789\\r\\nWest Tammy, UT 19461',\n",
       " 'Bret Barnes 73014 Carlson Bypass Suite 457\\r\\nNicholasburgh, MO 60891',\n",
       " 'Brett Dickinson 728 Molly Valleys Apt. 168\\r\\nEast Teresashire, FL 21061',\n",
       " 'Brett Zamorano 234 Lindsey Roads Apt. 253\\r\\nWest Tammyview, MO 25021',\n",
       " 'Brian Allen 243 Michael Route\\r\\nMendezside, MT 71419',\n",
       " 'Brian Ashley 077 Cynthia Views\\r\\nHayesfort, RI 31714',\n",
       " 'Brian Bandy 5629 Hardin Inlet\\r\\nSouth Robert, CT 35060',\n",
       " 'Brian Benner 30265 Lori Plains Apt. 739\\r\\nSouth Elizabethton, IL 83096',\n",
       " 'Brian Bridgmon 875 Chris Well Apt. 371\\r\\nLake Juan, IL 28876',\n",
       " 'Brian Burkhart 965 Phillips Plaza Suite 305\\r\\nPort Monique, HI 87438',\n",
       " 'Brian Burnett 1565 Andrew Underpass Suite 201\\r\\nLake Destiny, WY 94455',\n",
       " 'Brian Damore 9686 Benjamin Estates Apt. 949\\r\\nLake Lisaview, HI 44577',\n",
       " 'Brian Dense PSC 1500, Box 6684\\r\\nAPO AP 07382',\n",
       " 'Brian Ellison 117 Patricia Ways\\r\\nPhillipsland, HI 88464',\n",
       " 'Brian Engle USCGC Shea\\r\\nFPO AA 78073',\n",
       " 'Brian Fair 7074 Bryant Port\\r\\nNew Michelle, AL 91335',\n",
       " 'Brian Galindo 773 Brian Mountains Apt. 957\\r\\nNorth Douglas, IN 42769',\n",
       " 'Brian Gallucci 575 Samantha Passage Apt. 563\\r\\nTracyberg, OH 73867',\n",
       " 'Brian Galvan 1929 Wolf Skyway\\r\\nWest Caitlin, PA 87157',\n",
       " 'Brian Hogan 9604 Kevin Burgs\\r\\nPalmerburgh, NY 93882',\n",
       " 'Brian Houk 606 Leon Harbor\\r\\nLake Joshuaside, AR 22283',\n",
       " 'Brian Howard PSC 6112, Box 3846\\r\\nAPO AA 85706',\n",
       " 'Brian Jenkins 48262 Juan Summit Suite 071\\r\\nPort Shawnside, MN 19987',\n",
       " 'Brian Ledoux 1611 William Isle\\r\\nLake Brittanyton, ID 70334',\n",
       " 'Brian Lindsay 8862 Brian Overpass Apt. 749\\r\\nSouth Cristianchester, KS 46638',\n",
       " 'Brian Maddox 09845 Peterson Centers\\r\\nPort Jenniferview, NY 72292',\n",
       " 'Brian Mann 029 Sarah Well Suite 582\\r\\nNorth Candacebury, AK 07146',\n",
       " 'Brian Martinez 14653 Barnes Avenue\\r\\nRichardland, TN 16006',\n",
       " 'Brian Murphrey 7682 Cantu Glen\\r\\nMonroebury, NH 02629',\n",
       " 'Brian Murray Unit 5556 Box 6833\\r\\nDPO AP 46403',\n",
       " 'Brian Newhall 52925 Barton Ville Suite 664\\r\\nEast Whitney, DC 94830',\n",
       " 'Brian Orozco 699 Powell Gardens Apt. 171\\r\\nSloanland, HI 67035',\n",
       " 'Brian Sartwell 4581 Melody Corners Apt. 401\\r\\nEast Alfredport, MN 60750',\n",
       " 'Brian Sayle Unit 8665 Box 3853\\r\\nDPO AE 91497',\n",
       " 'Brian Slone 50366 Aguirre Avenue Suite 582\\r\\nLake Karen, AK 39565',\n",
       " 'Brian Soders USS Vincent\\r\\nFPO AA 04116',\n",
       " 'Brian Stiefel USNV Adams\\r\\nFPO AA 06991',\n",
       " 'Brian Taylor 666 Cassie Knolls\\r\\nSouth Richardfort, FL 38984',\n",
       " 'Brian Thuss PSC 3143, Box 7658\\r\\nAPO AE 40857',\n",
       " 'Brian Traub 8122 Wendy Shore Suite 140\\r\\nEast Kristine, UT 38652',\n",
       " 'Brian Yee 75021 Bishop Pass\\r\\nLake Rachel, ID 91709',\n",
       " 'Brock Jones Unit 9091 Box 2571\\r\\nDPO AP 18808',\n",
       " 'Brooks Kelley 22410 Vaughn Passage Apt. 010\\r\\nPort Joseph, CO 85237',\n",
       " 'Bruce Correll 768 Peggy Dale Apt. 504\\r\\nCherylfurt, DE 23735',\n",
       " 'Bruce Daniels 0550 Edward Rue\\r\\nWatsonton, KS 63725',\n",
       " 'Bruce Darby 856 Hill Rue Apt. 540\\r\\nNorth Jacquelineport, NE 80458',\n",
       " 'Bruce Dillard 7773 Teresa Shore Suite 415\\r\\nPort Stevenchester, MD 70571',\n",
       " 'Bruce Doss 6139 Jones Port\\r\\nJimmyshire, AZ 93483',\n",
       " 'Bruce Eichenlaub 23789 Ricky Summit Suite 520\\r\\nMichaelchester, IN 86094',\n",
       " 'Bruce Gaytan 6958 Stewart Port\\r\\nEast Williamstad, AR 01705',\n",
       " 'Bruce Hunsicker 049 Hudson Mews\\r\\nNew George, MI 87260',\n",
       " 'Bruce Luiz Unit 6323 Box 6842\\r\\nDPO AA 28302',\n",
       " 'Bruce Mcdonough PSC 3605, Box 8301\\r\\nAPO AA 61706',\n",
       " 'Bruce Moses 7784 Parker Way Apt. 036\\r\\nSmithmouth, KY 69942',\n",
       " 'Bruce Reed 061 Williamson Port\\r\\nRobertchester, AR 88249',\n",
       " 'Bruce Wright 801 Jeremy Path\\r\\nEast Brandontown, WI 38497',\n",
       " 'Bryan Burns 4804 Holmes Circle\\r\\nLake Justin, WI 77723',\n",
       " 'Bryan Dalrymple 794 Erica Islands Apt. 824\\r\\nCraigton, GA 13494',\n",
       " 'Bryan Haynes 4215 Jared Branch Suite 992\\r\\nStevenstad, WA 75157',\n",
       " 'Bryan Kirk 1503 Amy Vista Apt. 876\\r\\nRobynchester, AZ 26420',\n",
       " 'Bryan Mcdaniel 128 Wright Parkway Suite 620\\r\\nTorresfurt, WY 76794',\n",
       " 'Bryan Robertson 1412 Becky Extensions Suite 729\\r\\nNorth Joshua, LA 16128',\n",
       " 'Bryan Romero 137 Carr Mews Suite 524\\r\\nSouth Vickie, AL 51896',\n",
       " 'Bryan Sundquist USCGC Anderson\\r\\nFPO AA 94360',\n",
       " 'Bryan Sydnor Unit 3729 Box 0654\\r\\nDPO AP 63615',\n",
       " 'Bryon Gallegos 7923 Perez Route\\r\\nLake Vincent, MO 14843',\n",
       " 'Buck King 60370 Armstrong Stream Apt. 696\\r\\nBennettton, MT 14593',\n",
       " 'Buddy Pierson 983 Barrera Lights\\r\\nPort Alexaside, NM 41739',\n",
       " 'Byron Saari 520 Amanda Path\\r\\nPort Loriborough, AR 42069',\n",
       " 'Byron Scavone PSC 8481, Box 3458\\r\\nAPO AE 88191',\n",
       " 'Caleb Eldridge PSC 3663, Box 7668\\r\\nAPO AA 91149',\n",
       " 'Caleb Johnson 28237 Bradley Hollow\\r\\nEast Danielle, ME 02948',\n",
       " 'Caleb Valdez 2064 Ruiz Road\\r\\nSerranomouth, DE 21250',\n",
       " 'Calvin Blanton 86116 Lori Vista\\r\\nWest Angela, FL 95683',\n",
       " 'Calvin Bracken 766 Park Locks\\r\\nAdamton, NH 92513',\n",
       " 'Calvin Cobian 17350 Shannon Station\\r\\nNew Kenneth, AR 98016',\n",
       " 'Calvin Daniels 198 Lewis Cove\\r\\nLake James, TN 36349',\n",
       " 'Calvin Delgado 3818 Thomas Terrace\\r\\nTinahaven, NC 54695',\n",
       " 'Calvin Drake 56233 Benson Ridge\\r\\nCoxview, MO 19107',\n",
       " 'Calvin Stowers Unit 1557 Box 5711\\r\\nDPO AE 74660',\n",
       " 'Cameron Gonzales 01792 Nolan Circles Suite 128\\r\\nAaronmouth, ND 12226',\n",
       " 'Carey Trowbridge 581 Amanda Turnpike Suite 551\\r\\nNew April, CT 17394',\n",
       " 'Carl Baeza 70478 Lara Grove Apt. 247\\r\\nHendersonchester, ID 08009',\n",
       " 'Carl Crumpler 136 Bennett Crescent\\r\\nNorth Jeremy, SD 72004',\n",
       " 'Carl Dobransky 102 Taylor Trace\\r\\nNew Jennifer, RI 87597',\n",
       " 'Carl Dunn 453 Clayton Harbor Suite 489\\r\\nPort Melissa, ID 90578',\n",
       " 'Carl Erickson 924 Johnson Lock Apt. 169\\r\\nLake Melissa, AZ 94743',\n",
       " 'Carl Fernandez Unit 3641 Box 7254\\r\\nDPO AE 35143',\n",
       " 'Carl Gross 765 Cruz Walks\\r\\nBentleyburgh, IN 37147',\n",
       " 'Carl Hernandez 455 Leonard Lodge Suite 121\\r\\nThompsonside, MN 11173',\n",
       " 'Carl Hornsby 37574 Davis Camp\\r\\nJosephside, MO 35553',\n",
       " 'Carl Johnson 6724 Taylor Avenue\\r\\nJordanberg, NM 07215',\n",
       " 'Carl Leger 95893 Snyder Hills Apt. 397\\r\\nGonzalezburgh, NJ 83553',\n",
       " 'Carl Lueck 88074 Kyle Wall Apt. 869\\r\\nLeslieberg, ME 44805',\n",
       " 'Carl Navarrete 7986 Alvarez Loop\\r\\nNew Christopher, AZ 02669',\n",
       " 'Carl Nelson 680 Higgins Square\\r\\nSharonborough, NJ 01147',\n",
       " 'Carl Ponce USNS Bowers\\r\\nFPO AE 78965',\n",
       " 'Carl Pruitt 5053 Garcia Expressway Suite 737\\r\\nWest Emily, GA 26481',\n",
       " 'Carl Stoudt 25847 Moore Shore\\r\\nKellyfurt, OR 17677',\n",
       " 'Carl Weber Unit 6081 Box 0282\\r\\nDPO AE 19788',\n",
       " 'Carlos Coffee 87970 Eric Trail\\r\\nReginaside, RI 41013',\n",
       " 'Carlos Cooper PSC 9062, Box 8955\\r\\nAPO AE 89416',\n",
       " 'Carlos Edwards 6707 Troy Hill\\r\\nEast Kathleenstad, WV 37699',\n",
       " 'Carlos Jacobs Unit 6970 Box 2029\\r\\nDPO AP 51889',\n",
       " 'Carlos Mcculley 50928 Glenn Lakes Apt. 259\\r\\nWallston, NH 20583',\n",
       " 'Carlos Sikora 6638 Deanna Fords Suite 079\\r\\nWilliamsfurt, ND 34921',\n",
       " 'Carlton Redden PSC 3174, Box 2300\\r\\nAPO AA 42041',\n",
       " 'Carroll Starzyk USS Mcknight\\r\\nFPO AP 56803',\n",
       " 'Carroll Talley 71976 Daniel Curve\\r\\nNew Willieport, DE 55847',\n",
       " 'Carson Brady 373 Wells Point\\r\\nNorth Sharon, LA 60656',\n",
       " 'Carson Judy 9121 Steven Lake\\r\\nNew Christopher, NC 18321',\n",
       " 'Cary Montgomery 73410 Kirk Courts Suite 946\\r\\nErinview, AZ 39770',\n",
       " 'Cary Vogt 87607 Young Summit\\r\\nPort Ryan, KS 18069',\n",
       " 'Casey Smith USCGC Davidson\\r\\nFPO AA 86518',\n",
       " 'Casey Wanda 86447 Smith Highway Apt. 267\\r\\nNorth Courtneychester, WY 38663',\n",
       " 'Cecil Farr 0838 Samuel Walks\\r\\nJacksonchester, OR 35690',\n",
       " 'Cecil Mcgough USNV Ward\\r\\nFPO AP 67729',\n",
       " 'Cecil Palmer 9461 Smith Village\\r\\nCherylfort, WY 88027',\n",
       " 'Cedric Berlin 382 Connie Village Suite 615\\r\\nLake Destiny, LA 31320',\n",
       " 'Cedric Matthews 2010 Ross Place\\r\\nRodriguezport, NH 07286',\n",
       " 'Chad Bentley 721 Janice Square Suite 441\\r\\nNorth Jessicaside, WA 98654',\n",
       " 'Chad Corzo 743 Mayo Skyway Suite 545\\r\\nWest Brianchester, SD 02087',\n",
       " 'Chad Moore 6565 Curtis Glens\\r\\nNorth Sharon, SD 61582',\n",
       " 'Chad Morrow 13623 Lawrence Falls\\r\\nNicholsonborough, WA 99298',\n",
       " 'Charles Arthur 247 Johnson Roads Apt. 514\\r\\nPort Sarahton, WI 58688',\n",
       " 'Charles Audet 7790 Sierra Glens\\r\\nDanielstad, WY 59728',\n",
       " 'Charles Baxter Unit 6262 Box 2748\\r\\nDPO AP 34438',\n",
       " 'Charles Bobrow 927 John Walk Suite 896\\r\\nBartletttown, WA 85554',\n",
       " 'Charles Bowen 1314 Lewis Ville\\r\\nLewischester, IA 69543',\n",
       " 'Charles Brennan 304 Bailey Expressway\\r\\nPort Matthew, TN 49939',\n",
       " 'Charles Brueggeman 22256 James Passage Suite 255\\r\\nEast Danielle, KY 37512',\n",
       " 'Charles Carver 94834 Shaw Harbors\\r\\nWest Ryanfort, LA 86095',\n",
       " 'Charles Chen 09482 Horne Lakes Apt. 373\\r\\nEast Brian, TN 26892',\n",
       " 'Charles Conaway 3730 Michelle Ford\\r\\nRichardburgh, SD 48251',\n",
       " 'Charles Corcoran 430 Joseph Stravenue Suite 773\\r\\nSouth Jaclynview, MA 20837',\n",
       " 'Charles Cote PSC 0377, Box 7599\\r\\nAPO AE 84884',\n",
       " 'Charles Cyr 7710 Baker Bridge\\r\\nLake Kevin, OH 40805',\n",
       " 'Charles Czachorowski 6798 Wagner Locks Suite 377\\r\\nLake Brenda, DC 53038',\n",
       " 'Charles Entrekin 961 Jesse Extensions\\r\\nThompsonville, DC 47389',\n",
       " 'Charles Figueroa 6712 Benjamin Causeway Suite 531\\r\\nNorth Phyllisstad, TX 30258',\n",
       " 'Charles Finch 601 Mccormick Freeway Apt. 259\\r\\nNorth Jenniferhaven, NC 19739',\n",
       " 'Charles Fink PSC 9362, Box 9153\\r\\nAPO AP 52243',\n",
       " 'Charles Foster 475 Chris Cliff\\r\\nNew Aaron, MN 28762',\n",
       " 'Charles Francis 97206 Emma Park\\r\\nCherylfort, AZ 76114',\n",
       " 'Charles Franks 3380 Black Station Suite 767\\r\\nSouth Nicole, AR 57770',\n",
       " 'Charles Frediani 103 Jessica Haven\\r\\nNorth Johnfort, GA 86247',\n",
       " 'Charles Gamboa 6628 Davis Station Apt. 737\\r\\nPort Kenneth, AL 38732',\n",
       " 'Charles Gillespie 62025 Michael Turnpike\\r\\nSouth Stephaniemouth, VT 09707',\n",
       " 'Charles Gonzales 23953 Amber Falls\\r\\nSouth Dominiquefurt, LA 83266',\n",
       " 'Charles Gonzalez 527 Kelly Overpass Apt. 511\\r\\nEast Teresa, WV 75544',\n",
       " 'Charles Graham 149 Tracy Ridge\\r\\nTaylorport, ND 62831',\n",
       " 'Charles Gray 82950 Harding Knolls\\r\\nMcmahonburgh, ID 09644',\n",
       " 'Charles Guedjian 411 Harvey Land\\r\\nPort Johnny, WA 75021',\n",
       " 'Charles Hicks 51805 Huerta Hills Suite 640\\r\\nWest Matthew, NE 80274',\n",
       " 'Charles Hines 9942 Amber Loaf\\r\\nNew Joelmouth, NV 76166',\n",
       " 'Charles Hoffman 6092 Savannah Plains\\r\\nJamesbury, SC 54945',\n",
       " 'Charles Howarth 516 Jennifer Keys Apt. 051\\r\\nNorth Kevin, AL 37596',\n",
       " 'Charles Jones 3982 Stephanie Forges\\r\\nWest Natasha, NC 03814',\n",
       " 'Charles Kittrell 4210 Cordova Track\\r\\nWest Heather, MA 54799',\n",
       " 'Charles Langley 3036 Bailey Loaf Suite 670\\r\\nSmithhaven, IL 04877',\n",
       " 'Charles Lilly 527 Leblanc Lodge Apt. 712\\r\\nBrianmouth, KY 68881',\n",
       " 'Charles Loper 6452 Wright Knolls\\r\\nLake Stephanie, TX 05201',\n",
       " 'Charles Lovett 03212 Roberts Extension\\r\\nPort Melissa, MO 06074',\n",
       " 'Charles Lovette 20493 Leah Wall\\r\\nNew Jeffrey, GA 55945',\n",
       " 'Charles Malone 4780 Dixon Dam\\r\\nNorth Barbara, FL 23080',\n",
       " 'Charles Monaghan USCGC Gregory\\r\\nFPO AP 16846',\n",
       " 'Charles Motley 254 Mathis Point\\r\\nLake Jesusstad, AR 57391',\n",
       " 'Charles Munos 1161 Cheyenne Estates\\r\\nLake Jenniferland, SD 27333',\n",
       " 'Charles Myers 98632 Christine Hill Suite 109\\r\\nWeavertown, VT 10279',\n",
       " 'Charles Nelson 4411 Cook Dale Apt. 296\\r\\nNew Andrewstad, CT 76151',\n",
       " 'Charles Oneill 5153 Ellen Lodge\\r\\nArmstrongburgh, AL 15166',\n",
       " 'Charles Parrish 96531 Zuniga Drive\\r\\nHerreramouth, NY 66332',\n",
       " 'Charles Perryman 136 Kane Points\\r\\nNew Larry, VT 78663',\n",
       " 'Charles Phillips 0587 Joseph Lodge\\r\\nSouth Stephanie, DC 18292',\n",
       " 'Charles Pickett 9778 Kathy Divide\\r\\nWest Jessica, MI 01049',\n",
       " 'Charles Pollack 5703 Wilson Union Apt. 105\\r\\nStevenhaven, NJ 38636',\n",
       " 'Charles Propes 94959 Erickson Pines\\r\\nLoganville, NH 16958',\n",
       " 'Charles Rodwell 88562 Rebecca Plaza\\r\\nWest Nancyburgh, OR 63463',\n",
       " 'Charles Rozon 223 Patrick Lights Suite 932\\r\\nLisashire, WY 30127',\n",
       " 'Charles Ryan 753 Jenna Forest Suite 302\\r\\nAndrewstad, SC 86668',\n",
       " 'Charles Salvadore 275 Cory Grove\\r\\nNorth Phillip, AR 14937',\n",
       " 'Charles Shabel 5540 Ponce Park Suite 725\\r\\nSergioside, AL 95186',\n",
       " 'Charles Sotelo 516 Kristina Trail Apt. 938\\r\\nJustinland, AK 93902',\n",
       " 'Charles Spears 9140 Wright Villages Suite 755\\r\\nLake Andrew, MA 24325',\n",
       " 'Charles Stokes 5174 Bennett Harbors\\r\\nNicolehaven, NC 03501',\n",
       " 'Charles Thornley 51494 Tracy Causeway\\r\\nPort Charleshaven, ND 12782',\n",
       " 'Charles Thurmond 09347 Brian Causeway Suite 855\\r\\nBennettville, VT 63092',\n",
       " 'Charles Wing 752 Jeffrey Mountains\\r\\nWest Amyfurt, WA 37220',\n",
       " 'Charlie Cagle USNV Williams\\r\\nFPO AP 91192',\n",
       " 'Charlie Cross 36481 Jeffrey Forges\\r\\nMarciafort, NJ 87135',\n",
       " 'Charlie Jones 71422 Kimberly Points Suite 711\\r\\nEdwardland, AR 14218',\n",
       " 'Charlie Moran 279 Ryan Plain Apt. 471\\r\\nNorth Carlaland, SD 34955',\n",
       " 'Charlie Rainey 3834 Cheryl Green Apt. 202\\r\\nRyanhaven, OR 43803',\n",
       " 'Charlie Roberts 6857 Vasquez Square\\r\\nWest Cathy, MO 28398',\n",
       " 'Chase Mayes Unit 9539 Box 4683\\r\\nDPO AE 25219',\n",
       " 'Chauncey Suarez 481 Wilson Prairie\\r\\nKimberlymouth, LA 20064',\n",
       " 'Chester Holmes 720 Harris Turnpike Suite 732\\r\\nEast Sierra, CO 04774',\n",
       " 'Chet Johnson Unit 0153 Box 6399\\r\\nDPO AE 85615',\n",
       " 'Chi Thomas 078 Melissa Plaza\\r\\nPort Charlesbury, IA 38687',\n",
       " 'Chong Carter 90475 Chase Loaf Apt. 245\\r\\nNew Lindaberg, MD 66533',\n",
       " 'Chris Brown 3317 Alexander Rest\\r\\nWest Justinstad, MS 67676',\n",
       " 'Chris Delgado 4734 Mcmillan Brook Apt. 427\\r\\nNorth Bailey, MN 94465',\n",
       " 'Chris Duncan Unit 8652 Box 5091\\r\\nDPO AE 92528',\n",
       " 'Chris Harris 1368 Joseph Trace\\r\\nLake Brianburgh, NM 07892',\n",
       " 'Chris Palomares 9369 Page Mall\\r\\nHuntershire, MD 15389',\n",
       " 'Chris Reeve 9137 Shane Island Suite 140\\r\\nChristopherville, DC 19211',\n",
       " 'Chris Vinson 493 Farmer Field\\r\\nChristinehaven, AR 76908',\n",
       " 'Christian Davis 7153 Reese Summit Apt. 834\\r\\nBrownmouth, WA 71335',\n",
       " 'Christian Fowler Unit 4266 Box 5620\\r\\nDPO AA 97458',\n",
       " 'Christian Gustafson 67834 Kim Plaza Suite 620\\r\\nNew Desiree, KS 87444',\n",
       " 'Christian King 7173 Johnson Lane\\r\\nEast Brian, IL 23528',\n",
       " 'Christian Rosamond 6513 Rose Glen Apt. 438\\r\\nVargasport, ND 42108',\n",
       " 'Christopher Adams 3549 Peter Park\\r\\nNew Marissa, MS 28174',\n",
       " 'Christopher Auguste 065 Gregory Street Apt. 746\\r\\nNorth Andrew, MD 63922',\n",
       " 'Christopher Brown 353 Robert Spurs Apt. 937\\r\\nEast Carrie, SD 75330',\n",
       " 'Christopher Carney 77276 Martinez Roads Suite 646\\r\\nSouth Tamara, UT 83614',\n",
       " 'Christopher Divine 642 Kristi Harbor Apt. 814\\r\\nPort Brookeborough, WV 34696',\n",
       " 'Christopher Duckworth 516 Wilson Points Suite 656\\r\\nPort Karen, OR 97407',\n",
       " 'Christopher Fales 4227 Perry Flats Suite 691\\r\\nMillerton, MA 56547',\n",
       " 'Christopher Ferguson 19247 Webster Station Suite 385\\r\\nMelissamouth, OR 37054',\n",
       " 'Christopher Gilliard 08849 White Camp Apt. 314\\r\\nNicoleton, WI 60164',\n",
       " 'Christopher Granthan 10979 Jeffrey Trace\\r\\nThomastown, WY 01984',\n",
       " 'Christopher Griffith 143 David Causeway Suite 097\\r\\nSouth Richardside, MT 65725',\n",
       " 'Christopher Gruis 792 Timothy Road Suite 612\\r\\nWilsonland, MN 11536',\n",
       " 'Christopher Harrison 392 Sullivan Overpass\\r\\nNorth James, NE 07664',\n",
       " 'Christopher Hill 780 Banks Land Apt. 513\\r\\nChristopherberg, NE 29113',\n",
       " 'Christopher Hogan 647 Joseph Villages Suite 062\\r\\nPort Thomas, AR 43785',\n",
       " 'Christopher Holt 391 Kennedy Ville\\r\\nEast Ruben, KY 70287',\n",
       " 'Christopher Ishikawa 66790 Andrew Circles Suite 657\\r\\nPatriciaburgh, CA 08508',\n",
       " 'Christopher Jaeger 182 Phillips Circle Suite 410\\r\\nEast Marvin, CA 38553',\n",
       " 'Christopher Jennings 09825 Brian Freeway\\r\\nEast Austinborough, AR 81941',\n",
       " 'Christopher Larmon 859 Benjamin Mission Apt. 123\\r\\nSouth Jessica, MT 24630',\n",
       " 'Christopher Larson 42003 William Gardens\\r\\nSierrashire, AL 76982',\n",
       " 'Christopher Lawson 49667 Scott Drive\\r\\nWilliamstown, SC 86380',\n",
       " 'Christopher Lopez 50890 Erickson Cove\\r\\nNew Jason, UT 76443',\n",
       " 'Christopher Martin 539 Beltran Inlet\\r\\nPort William, NH 40363',\n",
       " 'Christopher Mosley PSC 8837, Box 1535\\r\\nAPO AP 88741',\n",
       " 'Christopher Nichols USNS Frank\\r\\nFPO AP 48205',\n",
       " 'Christopher Rich 6912 Thompson Glen Apt. 621\\r\\nJennifermouth, AR 45111',\n",
       " 'Christopher Russo USNS Rodriguez\\r\\nFPO AP 78991',\n",
       " 'Christopher Stiver 651 Tracy Key\\r\\nHaleychester, OK 24484',\n",
       " 'Christopher Teague 802 Lindsay Way Apt. 981\\r\\nPort Ryan, AR 18634',\n",
       " 'Christopher Thai 746 Christina Row\\r\\nPort Jason, AL 53510',\n",
       " 'Christopher Thomas 356 Kyle Gateway\\r\\nLambertfurt, OK 42677',\n",
       " 'Christopher Wahl 458 Douglas Terrace Apt. 121\\r\\nEast Jessica, MA 46158',\n",
       " 'Christopher Wakham 88170 Timothy Pine Apt. 142\\r\\nGonzalezberg, NH 40098',\n",
       " 'Christopher Waldron 93685 Samantha Ports Suite 113\\r\\nLake Josemouth, AL 19819',\n",
       " 'Christopher Wilson PSC 5212, Box 0748\\r\\nAPO AE 56826',\n",
       " 'Christopher Winfield 066 Brooke Park Apt. 577\\r\\nWest Caitlyn, VT 27453',\n",
       " 'Chuck Lao USS Scott\\r\\nFPO AE 78885',\n",
       " 'Clair Pinkleton 8582 Lee Roads\\r\\nCostaburgh, SC 21897',\n",
       " 'Clarence Alvarez Unit 0188 Box 4273\\r\\nDPO AP 18435',\n",
       " 'Clarence Archer 6376 Christine Hollow Suite 091\\r\\nDunnshire, HI 47740',\n",
       " 'Clarence Bagwell 11959 Casey Skyway\\r\\nHarrisberg, NJ 35322',\n",
       " 'Clarence Bauer 3193 Melton Trace\\r\\nPadillachester, VT 89108',\n",
       " 'Clarence Carrillo USCGC Perez\\r\\nFPO AE 05299',\n",
       " 'Clarence Grosse 548 Lamb Parks Suite 615\\r\\nRonaldview, MA 76217',\n",
       " 'Clarence Hanson 8140 Jason Pike Suite 167\\r\\nNew Thomasside, CO 55430',\n",
       " 'Clarence Larve 513 Colin Mission Suite 593\\r\\nNorth Anthony, KY 88897',\n",
       " 'Clarence Partch 370 Winters Causeway\\r\\nWest Fernandoburgh, AZ 96669',\n",
       " 'Clarence Pierre 70308 Rebecca Plaza Suite 169\\r\\nMoorefort, AZ 93774',\n",
       " 'Clarence Rivers 5800 Murphy Hollow\\r\\nPalmerbury, MA 20073',\n",
       " 'Clarence Rodriguez 6931 Anthony Island\\r\\nTaylorland, NH 14540',\n",
       " 'Clarence Smith 91202 Donna Light Apt. 181\\r\\nOchoaborough, NY 46363',\n",
       " 'Clarence Spina 0357 Martinez Fort Suite 239\\r\\nRichardside, WV 24140',\n",
       " 'Clarence Wyatt 813 Valerie Field Suite 618\\r\\nWest Brandonchester, MT 82219',\n",
       " 'Clark Monahan USS Graves\\r\\nFPO AE 80852',\n",
       " 'Clark Roberson 3476 Edwards Brook Suite 115\\r\\nLake Carlos, ME 64783',\n",
       " 'Clark Smith 9472 Megan Forge\\r\\nNorth Selenaborough, NV 88450',\n",
       " 'Claude Glover 113 Jackson Skyway Suite 160\\r\\nEast Elizabethtown, HI 25393',\n",
       " 'Claude Rodriguez 31740 Jeffrey Falls\\r\\nPort Faithstad, IA 94696',\n",
       " 'Clay Carlson 24843 Alyssa Plaza\\r\\nNew Richard, NV 35908',\n",
       " 'Clay Sheffield 764 Smith Radial Suite 923\\r\\nScottburgh, AK 25872',\n",
       " 'Clayton Jalbert Unit 7991 Box 0897\\r\\nDPO AP 08059',\n",
       " 'Clayton Podbielski 29685 Hahn Garden Suite 202\\r\\nMarcusport, MA 98348',\n",
       " 'Clayton Summers 646 Nina Greens\\r\\nNew Katrinaport, LA 88072',\n",
       " 'Clemente Padilla 8509 Jorge Vista\\r\\nHannahfort, CO 87770',\n",
       " 'Cleo Rush Unit 7871 Box 5747\\r\\nDPO AE 60433',\n",
       " 'Cleveland Maldonado 32581 Robertson Lakes\\r\\nShannonshire, DC 85376',\n",
       " 'Clifford Ames Unit 3443 Box 3997\\r\\nDPO AA 73967',\n",
       " 'Clifford Maclean 977 West Haven Suite 645\\r\\nMatthewsport, ID 96376',\n",
       " 'Clifford Quilliams 629 Walker Mills\\r\\nStephenville, UT 13561',\n",
       " 'Clifford Ross 156 Miller Crossroad\\r\\nPort Ruben, MS 25476',\n",
       " 'Clifton Seiler Unit 1988 Box 7050\\r\\nDPO AE 11671',\n",
       " 'Clint Gaddis 8450 Kenneth Falls Apt. 357\\r\\nPetersshire, NH 62902',\n",
       " 'Clint Johnson 96816 Parker Plain\\r\\nNew Derek, OR 84563',\n",
       " 'Clinton Barber 8510 Bird Valley Apt. 828\\r\\nNorth Ericton, FL 38956',\n",
       " 'Clinton Knedler 595 Kelly Parkway\\r\\nEricachester, IN 28394',\n",
       " 'Clinton Luke 117 Sarah Meadows Suite 409\\r\\nNew Paul, AL 85354',\n",
       " 'Clinton Sessions USNV Price\\r\\nFPO AE 13976',\n",
       " 'Clinton Whitley 81455 Martin Parkways Apt. 266\\r\\nNew Matthewport, IL 12135',\n",
       " 'Clyde Bader 52506 Deborah Fall\\r\\nPiercemouth, UT 14995',\n",
       " 'Clyde Craig Unit 7861 Box 0934\\r\\nDPO AP 96585',\n",
       " 'Clyde Jackson 6606 Kathy Fort Suite 804\\r\\nMichaelfurt, WV 69510',\n",
       " 'Clyde Jones 48634 Adams Crossing Suite 932\\r\\nLake Barbarahaven, ID 81751',\n",
       " 'Clyde Morris 8418 Thomas Extension\\r\\nWest Kelsey, MT 91372',\n",
       " 'Clyde Schwendemann 764 Brent Lake\\r\\nPort Colleenbury, CA 09117',\n",
       " 'Cody Booe 6692 Herrera Island\\r\\nBowenview, RI 20415',\n",
       " 'Cody Brown USNV Chapman\\r\\nFPO AP 06085',\n",
       " 'Cody Cook 051 Makayla Shores Apt. 683\\r\\nNew Carolmouth, OK 90625',\n",
       " 'Cody Rude 8463 Laura Springs\\r\\nLoweryshire, IN 86114',\n",
       " 'Connie Sykes PSC 7190, Box 7227\\r\\nAPO AP 93174',\n",
       " 'Conrad Roussell 78199 Cruz Expressway\\r\\nCarriefort, DC 84042',\n",
       " 'Conrad Walsh 953 Caldwell Mount\\r\\nPort Willie, MS 14959',\n",
       " 'Corey Browne 681 Perez Manor\\r\\nLake Joshuafurt, GA 51579',\n",
       " 'Corey Castillo 4762 Smith Mount Suite 138\\r\\nWest Justinton, MS 70881',\n",
       " 'Corey Hernandez 786 Smith Orchard Apt. 344\\r\\nPort Brittneyside, AK 49736',\n",
       " 'Corey Mays 7580 Clifford Locks\\r\\nPatriciaborough, MA 91544',\n",
       " 'Corey Mcmeen Unit 6132 Box 4180\\r\\nDPO AA 67573',\n",
       " 'Corey Rose 48053 Jeremiah Estate\\r\\nJeremychester, TN 50588',\n",
       " 'Cornell Krell 132 Romero Court\\r\\nCameronborough, OH 05700',\n",
       " 'Cornell Simmons 105 Snyder Forest\\r\\nSouth Emily, TN 06812',\n",
       " 'Cory Beauregard 3799 Fox Mission Suite 720\\r\\nGreenchester, AR 27016',\n",
       " 'Cory Kelly 903 John Crossroad Apt. 761\\r\\nCalebtown, NC 50065',\n",
       " 'Courtney Mackey 266 Vargas Glen\\r\\nPort Bonnie, NY 17787',\n",
       " 'Craig Brown 149 Melissa Track Apt. 896\\r\\nRachelville, AR 92737',\n",
       " 'Craig Holthaus 37388 Robinson Harbor Apt. 515\\r\\nPort Karen, MI 20618',\n",
       " 'Craig Mcswain USS Griffin\\r\\nFPO AA 37351',\n",
       " 'Craig Melendy 59759 Nicole Roads\\r\\nSouth Dannyland, VA 73275',\n",
       " 'Craig Newman 61951 Gutierrez Falls\\r\\nEast Amyhaven, SD 72728',\n",
       " 'Craig Reed 8834 Kimberly Manors\\r\\nNew Jamietown, MO 61308',\n",
       " 'Craig Russell 1599 Edwards Harbors Suite 148\\r\\nNew Marissa, ND 33079',\n",
       " 'Craig Sanford 725 Jackson Prairie\\r\\nRichardsonstad, CO 06398',\n",
       " 'Craig Smith 474 Blake Prairie Suite 918\\r\\nNew Lisachester, MO 43844',\n",
       " 'Craig Solomon PSC 7142, Box 7999\\r\\nAPO AA 51659',\n",
       " 'Craig Stallard 4195 Alvarado Ville\\r\\nNorth Alexander, TN 87174',\n",
       " 'Curtis Arzola 2903 Jones Crest\\r\\nHallmouth, CA 81449',\n",
       " 'Curtis Benson 70465 Michael Via Apt. 394\\r\\nSanchezview, WY 25004',\n",
       " 'Curtis Bowman 9435 James Cliffs\\r\\nWhitefurt, NC 10427',\n",
       " 'Curtis Brown 32266 Byrd Island\\r\\nFowlertown, DC 84201',\n",
       " 'Curtis Bunker 1031 Samantha Extension\\r\\nSouth Laura, OK 29763',\n",
       " 'Curtis Davis 3916 Barrera Drives Suite 439\\r\\nWest Robert, VA 66015',\n",
       " 'Curtis Fox PSC 2417, Box 3088\\r\\nAPO AP 49347',\n",
       " 'Curtis Heitzman 5844 Danielle Way Suite 108\\r\\nDavisview, HI 75447',\n",
       " 'Curtis Johnson 6711 Cristina River Apt. 482\\r\\nKimberlyfurt, VT 07177',\n",
       " 'Curtis Lee 5642 Morgan Street\\r\\nEast Allison, KY 69780',\n",
       " 'Curtis Marcum 1235 Kim Cliff Suite 089\\r\\nAndrewshire, OH 34593',\n",
       " 'Curtis Peter 8381 Tiffany Mills\\r\\nEast Hannah, CA 96498',\n",
       " 'Dale Barnes 0977 Martin Corners\\r\\nPort Kurt, WA 22127',\n",
       " 'Dale Hunt 92453 Smith Rapid\\r\\nLake Rebecca, CT 94778',\n",
       " 'Dale Keil 359 Jill Alley\\r\\nMarkside, AK 61127',\n",
       " 'Dale Sanchez 364 Theresa Center\\r\\nSotochester, DC 85403',\n",
       " 'Dale Steppe 6816 Veronica Union Apt. 778\\r\\nBryanttown, HI 74222',\n",
       " 'Dallas Heinbach 883 Miller Manor\\r\\nPort Mary, DE 30090',\n",
       " 'Dalton Brinson 1715 Paul Key\\r\\nLake Charles, IL 11456',\n",
       " 'Damian Woodall 8351 Roger Causeway Suite 476\\r\\nSouth Meghan, NV 52415',\n",
       " 'Damon Diehl 1190 Price Wells Suite 314\\r\\nAlvinshire, FL 41698',\n",
       " 'Damon Gordon 9853 Sims Tunnel Apt. 990\\r\\nNorth Katherineburgh, NE 35461',\n",
       " 'Dan Li 221 Farley Junctions\\r\\nLanehaven, NC 53687',\n",
       " 'Dan Nguyen 835 Richardson Lodge\\r\\nWest Tammyhaven, WV 57250',\n",
       " 'Dana Guajardo 04397 Jessica Burg\\r\\nLake Jamesberg, DC 18335',\n",
       " 'Dana Perez 588 Robin Mountain Apt. 784\\r\\nNew Devinfort, NY 58454',\n",
       " 'Daniel Adamson 628 Thomas Meadow Suite 957\\r\\nSouth Wesleyville, OH 83216',\n",
       " 'Daniel Arreola 4206 Tiffany Land Apt. 402\\r\\nSouth Michael, SC 43171',\n",
       " 'Daniel Baro 463 Shelby Motorway\\r\\nSmithmouth, ME 01058',\n",
       " 'Daniel Beard 8829 Reed Way\\r\\nSouth Erik, MD 24265',\n",
       " 'Daniel Bell 78234 Emily Oval\\r\\nPort Michaelport, OR 24683',\n",
       " 'Daniel Browne 62435 William Mill Apt. 976\\r\\nMalloryland, ND 48022',\n",
       " 'Daniel Crossman 74669 Robles Drive\\r\\nPort Madisonbury, LA 63565',\n",
       " 'Daniel Eckstein 17898 Brown Bypass\\r\\nWest Joshuabury, WY 30864',\n",
       " 'Daniel Elkin 15072 Schmitt Light\\r\\nPort Cynthialand, SC 16689',\n",
       " 'Daniel Ferreri 33420 Brenda Forges Suite 827\\r\\nOrtegafort, VA 99622',\n",
       " 'Daniel Gary 87061 Andrews Forks Suite 769\\r\\nRomeroport, MS 17149',\n",
       " 'Daniel Griffith PSC 8450, Box 1082\\r\\nAPO AA 91217',\n",
       " 'Daniel Happenny 7593 Lamb Mission Apt. 347\\r\\nChristopherberg, DE 74638',\n",
       " 'Daniel Harris 9401 Simmons Prairie Suite 269\\r\\nLake Stevemouth, AR 08617',\n",
       " 'Daniel Horn 96310 Benjamin Corners Apt. 526\\r\\nNew Lanceview, WY 93298',\n",
       " 'Daniel Huggins 368 Nelson Hills\\r\\nEast Christophermouth, KY 28669',\n",
       " 'Daniel Hull 33983 Laura Cape Suite 329\\r\\nEast Williamburgh, TX 19959',\n",
       " 'Daniel Hurdle Unit 2522 Box 2920\\r\\nDPO AE 32985',\n",
       " 'Daniel Jones 673 Yvonne Hollow Suite 045\\r\\nLake Terri, AZ 25227',\n",
       " 'Daniel Kasten 925 Moreno Islands\\r\\nJerrymouth, KY 31363',\n",
       " 'Daniel Lackey 06855 Brandon Mountains Apt. 703\\r\\nSmithmouth, SD 77205',\n",
       " 'Daniel Love 126 Ramirez Roads\\r\\nNew Jayville, IL 18861',\n",
       " 'Daniel Martin 1600 Shaun Drive Apt. 113\\r\\nEast Jacobmouth, TX 65863',\n",
       " 'Daniel Martinez 2919 Nancy Common\\r\\nGrahamburgh, SC 98783',\n",
       " 'Daniel Mccauley PSC 2055, Box 9861\\r\\nAPO AE 05952',\n",
       " 'Daniel Miller 51301 Schwartz Extensions Suite 847\\r\\nSouth Stephenmouth, CT 02476',\n",
       " 'Daniel Moeckel 08528 Adams Parkway\\r\\nRobertside, ND 91496',\n",
       " 'Daniel Parsons 3710 Miller Isle Apt. 373\\r\\nLake Stephanieberg, NC 76818',\n",
       " 'Daniel Pascual PSC 3047, Box 8365\\r\\nAPO AP 19155',\n",
       " 'Daniel Platt 1909 Tiffany Light\\r\\nSouth Jack, TX 53920',\n",
       " 'Daniel Price Unit 9068 Box 5321\\r\\nDPO AE 96612',\n",
       " 'Daniel Raymond 81519 Steven Cliff\\r\\nNew Courtney, AZ 38197',\n",
       " 'Daniel Robleto USNS Bradford\\r\\nFPO AP 78057',\n",
       " 'Daniel Rohan PSC 2005, Box 4599\\r\\nAPO AE 20732',\n",
       " 'Daniel Roy 8907 Davis Hollow Apt. 671\\r\\nLake Davidton, WY 42349',\n",
       " 'Daniel Ryan USNS Wiggins\\r\\nFPO AP 68559',\n",
       " 'Daniel Skrebes 90925 Dixon Brooks\\r\\nMargaretchester, ME 94356',\n",
       " 'Daniel Strahle 696 Miller Skyway\\r\\nByrdmouth, ND 27175',\n",
       " 'Daniel Theriot 5796 Chase Forest Apt. 735\\r\\nMyersland, IN 26896',\n",
       " 'Daniel Thomas 6493 Pena Greens\\r\\nLisafort, SD 14496',\n",
       " 'Daniel Vasquez 633 Eric Neck\\r\\nEast Candacechester, KY 44553',\n",
       " 'Daniel Walton 95548 Penny Pike Suite 375\\r\\nCalebmouth, NM 51705',\n",
       " 'Daniel Williams USS Hunter\\r\\nFPO AE 61374',\n",
       " 'Daniel Zolezzi 336 Edwin Stream Suite 817\\r\\nCodyview, CO 45355',\n",
       " 'Danilo Thomas 8711 Kathleen Circles\\r\\nNorth Erika, AR 34546',\n",
       " 'Dannie Watson 85474 Suzanne Union Suite 842\\r\\nWest Allisonbury, NC 61055',\n",
       " 'Danny Cason 842 Robert Mountain Suite 431\\r\\nWest Benjaminberg, AR 93682',\n",
       " 'Danny Dungey 5683 Evans Park Apt. 225\\r\\nAndersontown, MA 06762',\n",
       " 'Danny Erwin 413 Richard Causeway\\r\\nFitzgeraldtown, OK 53225',\n",
       " 'Danny Hartman 046 Stuart Point Apt. 801\\r\\nNelsonburgh, MS 57588',\n",
       " 'Danny Orr 471 Nichols Village Apt. 755\\r\\nNew Jennifer, SD 58150',\n",
       " 'Danny Smith 59305 Pope Field\\r\\nWest Johnfort, OH 16653',\n",
       " 'Danny Tucker 8075 Howell Throughway Apt. 407\\r\\nWilliamstad, ND 48936',\n",
       " 'Danny Volz 229 Rodriguez Bridge Suite 169\\r\\nNew Steven, RI 18590',\n",
       " 'Danny Wagner PSC 5858, Box 7189\\r\\nAPO AE 51538',\n",
       " 'Darrell Butler 322 Michelle Pike Suite 716\\r\\nSouth Jonathan, VT 71758',\n",
       " 'Darrell Dickey 8459 Johnny Port\\r\\nEast Angelica, NV 04193',\n",
       " 'Darrell Hulbert 0911 Jennings Lock Apt. 808\\r\\nWest Andrewview, MI 22664',\n",
       " 'Darren Larson 47038 Barnes Divide Suite 204\\r\\nEast Lawrence, CT 74635',\n",
       " 'Darren Wilson 0622 Richardson Camp Suite 698\\r\\nKatrinatown, TN 06077',\n",
       " 'Darrin Cisneros 93949 Sarah Bypass Suite 049\\r\\nDouglasmouth, LA 14049',\n",
       " 'Darrin Cusumano 3167 Thomas Glen\\r\\nDaniellebury, AK 96676',\n",
       " 'Darron Hays 8373 John Turnpike\\r\\nGlennfort, WY 56159',\n",
       " 'Darryl Bokor USNV Robinson\\r\\nFPO AP 96068',\n",
       " 'Darryl Smith 687 Brewer Ville Apt. 380\\r\\nMatthewberg, ME 01071',\n",
       " 'Darryl Thorne 97963 Frazier Groves\\r\\nNew James, MA 99291',\n",
       " 'Darryl Wright 77870 Heather Vista\\r\\nBennettberg, WA 82380',\n",
       " 'Darwin Dishon 17924 Lee Mountains\\r\\nCarlsonbury, IL 93757',\n",
       " 'Darwin Mitchell USNV Mendez\\r\\nFPO AE 83842',\n",
       " 'Daryl Corbett 9665 Matthew Trail Apt. 899\\r\\nPort Sarah, CA 58685',\n",
       " 'Daryl Coyle 45240 Lori Gateway\\r\\nNew Brittneyville, MT 17634',\n",
       " 'Daryl Lippert 3994 Margaret Court\\r\\nMcclureview, MT 04437',\n",
       " 'Daryl Rager 5130 Michael Burgs\\r\\nPiercetown, GA 74716',\n",
       " 'Daryl Samuels 402 Ruth Villages Suite 729\\r\\nJordanhaven, VA 65242',\n",
       " 'Dave Crawford 2170 Sarah Camp\\r\\nNew Jennifer, SD 87146',\n",
       " 'Dave Fraire 6402 Williams Plain Apt. 825\\r\\nFreemanland, NH 29523',\n",
       " 'Dave Monroe 4541 Fisher Mission Apt. 550\\r\\nNorth Bobby, NC 84183',\n",
       " 'David Aaron 866 Thomas Road Apt. 545\\r\\nNicholaschester, AK 73615',\n",
       " 'David Amaya 4394 Rebecca Extension Suite 442\\r\\nNorth Jessicaborough, TX 66714',\n",
       " 'David Arebalo 0519 Cassie Orchard\\r\\nNew John, TX 71955',\n",
       " 'David Arfman 655 Todd Stream Suite 571\\r\\nEast Nancyfort, TN 43279',\n",
       " 'David Askew 990 Kevin Club Apt. 813\\r\\nPort Robert, GA 53343',\n",
       " 'David Baker 94375 Velasquez Shore\\r\\nNorth Jenniferville, OH 72577',\n",
       " 'David Brent 8450 Harrison Row\\r\\nSmithhaven, WI 75816',\n",
       " 'David Brown 76817 Joshua Fork\\r\\nEmilyland, IL 58742',\n",
       " 'David Bryant 0327 Cox Vista Apt. 139\\r\\nEast Jesushaven, VT 62642',\n",
       " 'David Burt 91514 Kevin Extension Suite 992\\r\\nObrienhaven, FL 08644',\n",
       " 'David Chandler 58108 Matthew Orchard\\r\\nNorth Jacquelinemouth, GA 09685',\n",
       " 'David Conroy 347 Jackson Junctions\\r\\nEast Brianfort, TX 28196',\n",
       " 'David Cowden 8936 Lori Inlet Apt. 657\\r\\nEast Jennifer, RI 76788',\n",
       " 'David Cox 325 Cole Run Suite 809\\r\\nEast Bryanville, NH 36333',\n",
       " 'David Craven 97295 Salazar Burgs\\r\\nNorth Courtneyborough, MO 23254',\n",
       " 'David Cuellar 34785 Janet Corners Suite 816\\r\\nTyroneside, NM 93543',\n",
       " 'David Davis 60347 Meagan Gateway\\r\\nCopelandtown, CO 32371',\n",
       " 'David Deleon 51310 Daniel Crossroad\\r\\nSouth Michaelside, WA 31693',\n",
       " 'David Dietzler 0083 Baker Trail Suite 441\\r\\nHaneystad, VT 72241',\n",
       " 'David Farwell 5892 Ruiz Fords Apt. 885\\r\\nNorth Samantha, KS 73821',\n",
       " 'David Featherston 7181 Leon Walk\\r\\nCurtisborough, ID 29286',\n",
       " 'David Fleming 736 Coleman Cliff\\r\\nKimberlyburgh, MS 71076',\n",
       " 'David Garcia 44689 Devin Village Suite 315\\r\\nPort Justin, NM 90139',\n",
       " 'David Gentges PSC 5702, Box 5122\\r\\nAPO AA 93629',\n",
       " 'David Gentles 69020 Kline Ford Suite 363\\r\\nParkerfurt, NH 40983',\n",
       " 'David Gilliland PSC 6648, Box 4222\\r\\nAPO AE 39274',\n",
       " 'David Glotfelty 780 Jeffery Vista\\r\\nEast Toddfurt, NV 16529',\n",
       " 'David Grant 30810 Denise Valley Suite 743\\r\\nHarperstad, AL 35985',\n",
       " 'David Hall 9387 Moore Vista Suite 624\\r\\nNelsonport, AK 98105',\n",
       " 'David Hayes 235 Jennifer Throughway Suite 569\\r\\nNew Anthonyland, PA 19524',\n",
       " 'David Henderson 64832 Shannon Spurs Apt. 645\\r\\nRichardsport, TN 56024',\n",
       " 'David Hodge 193 Lamb Parks Suite 442\\r\\nPort Marie, GA 16697',\n",
       " 'David Howard 760 Joseph Pike\\r\\nNorth Sean, MS 13534',\n",
       " 'David Huff 8381 Cook Camp Apt. 258\\r\\nIbarraburgh, OH 03087',\n",
       " 'David Humphrey 64220 Perry Ridges Suite 106\\r\\nWalshside, GA 30372',\n",
       " 'David Jeansonne 09510 Eric Harbors Apt. 477\\r\\nNorth Warren, UT 69920',\n",
       " 'David Johnson 182 Joyce Brooks\\r\\nSouth Lisa, MO 47263',\n",
       " 'David Jones 2455 Richardson Forks\\r\\nNorth Seanside, AL 57677',\n",
       " 'David Kelly 3918 Soto Center Apt. 456\\r\\nNorth Kathrynside, CA 63098',\n",
       " 'David Key 27113 Moore Port\\r\\nPort Rachel, GA 29216',\n",
       " 'David Kohler 706 Murphy Well Apt. 052\\r\\nRodriguezshire, KS 28700',\n",
       " 'David Lackey USNV Patterson\\r\\nFPO AA 81791',\n",
       " 'David Lackland 8323 Moss Station\\r\\nJuliefurt, AZ 43882',\n",
       " 'David Lee 311 John Turnpike\\r\\nNorth Olivia, AK 58223',\n",
       " 'David Lewis 770 Johnson Centers Suite 086\\r\\nNew Julieshire, KS 42767',\n",
       " 'David Littell 42662 Rodriguez Ramp Apt. 142\\r\\nPort Amandachester, TN 45696',\n",
       " 'David Lopez 420 Jensen Place\\r\\nPort Kyletown, KS 65788',\n",
       " 'David Lucas 2045 Stephen Course Apt. 678\\r\\nSouth Alanmouth, NM 07518',\n",
       " 'David Maclean 0332 Michelle Camp Suite 066\\r\\nGoodmanburgh, CO 22873',\n",
       " 'David Magill 94373 Shelia Expressway Suite 407\\r\\nNew Erinfort, VT 39932',\n",
       " 'David Makris 0095 Elizabeth Shore Apt. 063\\r\\nPort Jorgeside, MS 15156',\n",
       " 'David Marcus 808 Young Skyway Apt. 187\\r\\nPort Heather, NM 27740',\n",
       " 'David Mcclean 762 Sean Mission Apt. 870\\r\\nPort Brandyview, MA 09908',\n",
       " 'David Mcclendon 666 Haynes Via Suite 073\\r\\nSouth Angela, RI 34209',\n",
       " 'David Mealy 0873 Diaz Village\\r\\nSandrastad, DE 05796',\n",
       " 'David Michel 005 David Brook Apt. 098\\r\\nRiveraville, TN 36172',\n",
       " 'David Muller 96941 Heather Heights\\r\\nPetersonberg, OK 45722',\n",
       " 'David Overton 4812 Hansen Well Apt. 635\\r\\nPort Dianeport, AR 83124',\n",
       " 'David Palesano 456 Johnston Avenue\\r\\nSouth Julian, NH 13423',\n",
       " 'David Parks 14221 James Fall\\r\\nThorntonton, AK 21145',\n",
       " 'David Pennock 361 Mariah Keys Apt. 948\\r\\nSouth Gregory, OK 23007',\n",
       " 'David Pinera 715 Maria Viaduct\\r\\nJulieville, MO 86123',\n",
       " 'David Prager Unit 2135 Box 1039\\r\\nDPO AP 59466',\n",
       " 'David Ramirez USNV Sheppard\\r\\nFPO AA 26483',\n",
       " 'David Ransbottom USCGC Lin\\r\\nFPO AP 07238',\n",
       " 'David Rawlings 7758 Dunn Village\\r\\nLawrenceside, OK 40875',\n",
       " 'David Ray PSC 4013, Box 4872\\r\\nAPO AA 54140',\n",
       " 'David Rider 2380 Chase Crossroad Suite 371\\r\\nSouth Jessica, GA 34874',\n",
       " 'David Ritchie 67605 Sean Road\\r\\nEast Cynthia, GA 13144',\n",
       " 'David Romero Unit 6596 Box 0663\\r\\nDPO AA 81463',\n",
       " 'David Rush 942 Guerra Hollow Apt. 547\\r\\nSouth Meganville, SC 78252',\n",
       " 'David Sandage PSC 8874, Box 3491\\r\\nAPO AP 75565',\n",
       " 'David Sanders 4780 Joseph Mount\\r\\nJonesshire, RI 87231',\n",
       " 'David Sawyers 8128 Williams Forges Apt. 082\\r\\nNew Matthewstad, WA 88943',\n",
       " 'David Scott 8141 Curtis Flats Apt. 399\\r\\nSarahtown, NE 35310',\n",
       " 'David Senne 197 Scott Wall\\r\\nPort Lee, HI 75027',\n",
       " 'David Shipley PSC 8891, Box 5731\\r\\nAPO AE 97510',\n",
       " 'David Short 42574 Sutton Parkway\\r\\nPedromouth, OH 97593',\n",
       " 'David Signorile 23675 Jennifer Island Suite 889\\r\\nTranland, AZ 19625',\n",
       " 'David Skipper 5437 Donald Creek Apt. 912\\r\\nLake Jenniferfurt, SD 75699',\n",
       " 'David Smith 7170 Christopher Village Suite 674\\r\\nLake Scott, NM 75808',\n",
       " 'David Swager 44040 David Canyon\\r\\nEast Matthew, PA 87336',\n",
       " 'David Tacadina 534 Cunningham Springs\\r\\nWilliamsland, MN 88735',\n",
       " 'David Thomas 212 Danny Street Apt. 589\\r\\nWest Andrewfurt, SD 90759',\n",
       " 'David Thornton 326 Williams Rapid\\r\\nNorth Sandra, ID 16392',\n",
       " 'David Troutman 627 Johnson Throughway Apt. 785\\r\\nWest Frankmouth, NY 89811',\n",
       " 'David Turner 405 Dawn Unions\\r\\nTaylorchester, MN 07845',\n",
       " 'David Walter Unit 1802 Box 5806\\r\\nDPO AA 39902',\n",
       " 'David Walters 677 Charles Stravenue Suite 998\\r\\nFrancisfort, AR 62593',\n",
       " 'David Washington 276 Mark Cliff Suite 757\\r\\nEast Kimberlyborough, SD 19847',\n",
       " 'David Williams 348 David Hills Apt. 602\\r\\nMercerburgh, NM 29934',\n",
       " 'Dean Foster 0953 Jenkins Extensions Suite 206\\r\\nKimhaven, LA 04433',\n",
       " 'Dean Moon PSC 9865, Box 9353\\r\\nAPO AE 70802',\n",
       " 'Dean Smith 844 Bishop Loop\\r\\nLake Ian, RI 05345',\n",
       " 'Deandre Sherrod 526 Bean Light Suite 525\\r\\nJonathanbury, NY 31823',\n",
       " 'Delbert Cantave 9537 Bruce Cape Apt. 688\\r\\nCodyport, AR 43964',\n",
       " 'Delbert Creasman 1851 Church Ville Suite 350\\r\\nJonathanside, OH 57090',\n",
       " 'Delmar Kiani 155 Thomas Plaza Apt. 253\\r\\nJordanview, PA 48416',\n",
       " 'Delmar Magallon USNV Johnson\\r\\nFPO AE 48482',\n",
       " 'Dennis Berger 5287 Alvarado Village\\r\\nBoonehaven, AZ 47035',\n",
       " 'Dennis Cyphers 78432 Patricia Pass\\r\\nGutierrezland, DC 94466',\n",
       " 'Dennis Garcia 920 Michelle Crest\\r\\nWest Theresachester, ID 62241',\n",
       " 'Dennis Giacomini 950 William Mission\\r\\nSouth Kathleen, KY 77460',\n",
       " 'Dennis Gonzalez 8715 Brown Rapid Suite 074\\r\\nPort Adrienneborough, AZ 11775',\n",
       " 'Dennis Hummel 2076 Anthony Overpass Suite 819\\r\\nFuentesshire, UT 99381',\n",
       " 'Dennis Lepard USCGC Roberts\\r\\nFPO AE 38393',\n",
       " 'Dennis Martin 1100 Andrew Fork Apt. 645\\r\\nNew Ryan, CA 48399',\n",
       " 'Dennis Pocai 3482 Emma Mount\\r\\nLake Lisa, DE 86935',\n",
       " 'Dennis Reed 9921 Kenneth Tunnel Apt. 316\\r\\nNorth Jamesfort, PA 97979',\n",
       " 'Dennis Reese 66312 Sellers Manor\\r\\nHallview, TX 13605',\n",
       " 'Dennis Stith 73282 Jacob Pines Suite 356\\r\\nRickytown, NV 74857',\n",
       " 'Dennis Sultemeier 69269 Mcclure Station\\r\\nEast Matthewhaven, NH 72876',\n",
       " 'Dennis Titus 09808 Dixon Flat Suite 145\\r\\nPort Sheri, WV 59254',\n",
       " 'Dennis Turner 7823 Hernandez Key Apt. 879\\r\\nNorth Ian, LA 97244',\n",
       " 'Dennis Tuttle 8110 Allen Island Apt. 242\\r\\nJameston, KY 67388',\n",
       " 'Dennis Williams 2583 Martinez Island Suite 893\\r\\nPort Danielberg, CA 59486',\n",
       " 'Denny Wright 197 Jose Summit\\r\\nHendersonbury, PA 15734',\n",
       " 'Derek King 739 Myers Island\\r\\nSouth Janet, OR 18363',\n",
       " 'Derek Lockwood 829 Ford Walks\\r\\nPruittside, NY 70124',\n",
       " 'Derek Mascarenas 866 Wendy Field Apt. 662\\r\\nNew Anthonystad, MN 94220',\n",
       " 'Derek Williams 4351 Bridges Divide Suite 404\\r\\nMaryport, ID 13659',\n",
       " 'Derek Wilson 45548 Sean Oval\\r\\nHarrisport, NM 55300',\n",
       " 'Derrick Bickerstaff 8340 Robert Islands\\r\\nNew Juan, MT 70047',\n",
       " 'Derrick Kinstler 8562 Powers Causeway Apt. 626\\r\\nFordville, WA 33313',\n",
       " 'Derrick Thompson 5521 Scott Ridges Suite 375\\r\\nNew Victoriaview, WI 30985',\n",
       " 'Desmond Standard 6822 Perry Mountains Suite 235\\r\\nNew Ericmouth, MT 27447',\n",
       " 'Devin Hughes 57812 Smith Garden Apt. 665\\r\\nVanessabury, RI 22370',\n",
       " 'Devin Starks 099 Cynthia Courts\\r\\nWilliamsstad, IN 09041',\n",
       " 'Devon Walker 3576 David Light\\r\\nKirkport, VA 24595',\n",
       " 'Dewayne Nelson 64084 David Junctions Apt. 884\\r\\nJessicaton, CA 84627',\n",
       " 'Dewey Frilling 69997 Madeline Inlet\\r\\nManningmouth, NH 07285',\n",
       " 'Dewey Ganley 747 Davis Burg\\r\\nJustinton, NH 42432',\n",
       " 'Dewey Laflamme 115 Jessica Points Suite 592\\r\\nCannonfurt, MN 80773',\n",
       " 'Dewey Smith 373 Christina Orchard Apt. 906\\r\\nNew Aaron, MT 62228',\n",
       " 'Dewitt Randall USCGC Jones\\r\\nFPO AE 85827',\n",
       " 'Dion Cole Unit 5904 Box 6980\\r\\nDPO AP 20958',\n",
       " 'Dirk Lefler 5311 Justin Road Suite 920\\r\\nNorth Natalieland, OH 54595',\n",
       " 'Domingo Labriola 36319 Wiley Drive Suite 094\\r\\nSouth Michael, WI 41806',\n",
       " 'Dominic Alexander Unit 2016 Box 2332\\r\\nDPO AE 96311',\n",
       " 'Dominic Conant 09916 Long Mills Suite 576\\r\\nNew Jane, RI 89940',\n",
       " 'Dominic Ford Unit 3121 Box 4527\\r\\nDPO AA 05377',\n",
       " 'Dominic Graham 48686 Marquez Greens\\r\\nNew Christy, NC 36543',\n",
       " 'Dominic Kincaid 0196 Collins Rapids Apt. 305\\r\\nLake Natashamouth, HI 13658',\n",
       " 'Dominic Phipps 7955 Hill Gardens Suite 020\\r\\nNew David, CT 01471',\n",
       " 'Dominick Kane 8803 Jeffrey Club Apt. 250\\r\\nNew Josephshire, HI 89295',\n",
       " 'Don Brann 012 Juarez Union\\r\\nPort Jason, WV 08629',\n",
       " 'Don Bruce 43445 Simmons Glens\\r\\nDouglasburgh, AR 74522',\n",
       " 'Don Holmes 0328 Ryan Rest Suite 777\\r\\nLake Terri, RI 00598',\n",
       " 'Don Jones 52542 Carter Port\\r\\nEast Teresaton, MA 97168',\n",
       " 'Don Mccall 3500 Taylor Landing\\r\\nEast Sheri, PA 18408',\n",
       " 'Donald Aguilar 048 Douglas Spurs\\r\\nPort Ashleyton, DE 96979',\n",
       " 'Donald Ayala 591 Vasquez Causeway Suite 347\\r\\nPort Susan, ND 45449',\n",
       " 'Donald Barton 63201 Rodriguez Keys Apt. 022\\r\\nNorth Julieview, MI 94486',\n",
       " 'Donald Bing 7699 Bridges Station Apt. 133\\r\\nDavisville, TN 42240',\n",
       " 'Donald Bourne 99079 Wilkinson Hollow Suite 975\\r\\nBowmanfort, VA 50411',\n",
       " 'Donald Castello 5313 Morgan Pass Apt. 247\\r\\nLake Morgan, ME 73899',\n",
       " 'Donald Colon 10808 Flores Divide Apt. 806\\r\\nWest William, MI 73146',\n",
       " 'Donald Cooper 7099 Miller Streets\\r\\nSmithmouth, KY 43783',\n",
       " 'Donald Delgado 704 Ryan Throughway\\r\\nNew Clintonbury, NV 87193',\n",
       " 'Donald Doyle 48674 Sherry Alley Suite 529\\r\\nWest Nicholas, RI 38799',\n",
       " 'Donald Elmer 19756 Knight Green\\r\\nLoritown, HI 41266',\n",
       " 'Donald Frase 569 Kenneth Ferry\\r\\nBrandontown, NC 48912',\n",
       " 'Donald Gillian 5943 Vanessa Crescent\\r\\nSouth Robertburgh, LA 04190',\n",
       " 'Donald Hanson 27761 Bonilla Squares\\r\\nTatemouth, OR 58165',\n",
       " 'Donald Hearn 770 Pena Key Suite 272\\r\\nEast Kathyside, LA 41142',\n",
       " 'Donald Heling 146 Hopkins Points\\r\\nPerryborough, FL 87450',\n",
       " 'Donald Henderson 413 Hubbard Isle\\r\\nSouth Vanessachester, PA 23494',\n",
       " 'Donald Honda 4141 Dalton Dam Apt. 536\\r\\nLake Melodyburgh, KS 84177',\n",
       " 'Donald James 05404 Crystal Creek\\r\\nHaileyborough, MT 23687',\n",
       " 'Donald Lartigue 5699 Smith Ferry\\r\\nRuizborough, WV 12296',\n",
       " 'Donald Loftis 103 Nicholas Loaf\\r\\nNew Erica, GA 49783',\n",
       " 'Donald Magner 612 Washington Islands\\r\\nEast Daniel, CO 91454',\n",
       " 'Donald Mckinley 5433 Kimberly Drives\\r\\nJacquelineview, NC 41147',\n",
       " 'Donald Medina 98210 Peter Street\\r\\nBethanyburgh, PA 45864',\n",
       " 'Donald Morgon 764 Smith Street Apt. 105\\r\\nMooreshire, CA 31166',\n",
       " 'Donald Nadeau 9025 Owens Tunnel Suite 419\\r\\nWest Danielberg, MO 86626',\n",
       " 'Donald Neal Unit 4369 Box 7730\\r\\nDPO AA 41687',\n",
       " 'Donald Perez 2645 Daniel Harbor\\r\\nNorth Lisa, OH 94608',\n",
       " 'Donald Smith 830 Wendy Fork Suite 375\\r\\nPort Justin, ND 30406',\n",
       " 'Donald Thal 260 Thomas Turnpike\\r\\nShannonfurt, KY 07261',\n",
       " 'Donald Thomas 455 Jimenez Walk Apt. 913\\r\\nRussellton, NH 07459',\n",
       " 'Donald Torres Unit 2993 Box 1225\\r\\nDPO AE 77257',\n",
       " 'Donald Walker 5869 Vazquez Street\\r\\nMatthewport, NM 63804',\n",
       " 'Donald Wilcox 739 Benjamin Brook\\r\\nRamirezbury, MI 56646',\n",
       " 'Donald Willis 17649 Silva Forge\\r\\nPort Amandachester, WA 24017',\n",
       " 'Donald Wills Unit 2174 Box 5252\\r\\nDPO AE 45807',\n",
       " 'Donnie Trout 74491 Summer Streets Suite 908\\r\\nPort Nancyhaven, KS 45930',\n",
       " 'Donte Contreras 74767 Brown Way Apt. 109\\r\\nLake Anthony, AK 41494',\n",
       " 'Doug Jackson 89329 Sanchez Isle Suite 166\\r\\nHowetown, NE 36157',\n",
       " 'Douglas Anderson 42954 Martinez Valleys\\r\\nEast Susanhaven, FL 48454',\n",
       " 'Douglas Blackwell 578 Brandon Trail\\r\\nReedton, NY 43030',\n",
       " 'Douglas Blanco 722 Erica Canyon Apt. 127\\r\\nNew Leslie, WV 27592',\n",
       " 'Douglas Cooper 17383 Michael Forks Apt. 573\\r\\nLancefort, UT 98733',\n",
       " 'Douglas Cruz 00791 Bryant Mount\\r\\nLake Deborah, OK 30553',\n",
       " 'Douglas Duran 4949 Morris Roads\\r\\nAmyview, NJ 70287',\n",
       " 'Douglas Gonzalez 81816 Adam Bridge\\r\\nStacyview, NY 80470',\n",
       " 'Douglas Raymond Unit 1385 Box 6731\\r\\nDPO AP 74667',\n",
       " 'Douglas Starkweather 3324 Stewart Ramp Suite 113\\r\\nNew Stevenmouth, NV 21893',\n",
       " 'Douglas Staten PSC 9220, Box 1904\\r\\nAPO AE 09496',\n",
       " 'Douglas Threet 57512 Clark Unions Apt. 347\\r\\nMichaelville, FL 73395',\n",
       " 'Douglas Walson 6167 Reyes Trail\\r\\nWest Jennifer, MS 38158',\n",
       " 'Doyle Jenkins 51959 Hawkins Stravenue\\r\\nWest Randy, MD 64351',\n",
       " 'Drew Garst USNS Duarte\\r\\nFPO AA 22046',\n",
       " 'Drew King 845 Ortega Junctions Suite 142\\r\\nEast Tonyville, CT 13671',\n",
       " 'Duane Gonzales 38048 Stevens Junction\\r\\nSouth Corey, MO 97735',\n",
       " 'Duane Rust 2646 Rodriguez Club\\r\\nNorth Davidport, WV 06240',\n",
       " 'Dustin Bungard 0571 Tiffany Fall Apt. 029\\r\\nLake Timothy, CT 92254',\n",
       " 'Dustin Moore 80548 Ryan Avenue\\r\\nKimberg, IA 27657',\n",
       " 'Dusty Lochrico 78283 Oliver Hills Apt. 730\\r\\nMichaelaside, CO 58582',\n",
       " 'Dwayne Hussein 767 White Crescent Suite 025\\r\\nElizabethside, NM 45141',\n",
       " 'Dwayne Johnson 619 Robert Viaduct\\r\\nCindymouth, GA 85101',\n",
       " 'Dwight Lee 9453 Fischer Brook\\r\\nPaulside, TN 81428',\n",
       " 'Dwight Ramos 7145 Brian Glens\\r\\nDanielsstad, OR 27382',\n",
       " 'Dylan Everly 5529 Walker Course Suite 292\\r\\nMichaelmouth, KY 15540',\n",
       " 'Dylan Garcia PSC 1474, Box 2402\\r\\nAPO AE 13323',\n",
       " 'Dylan Johnson 4124 Padilla Roads Apt. 390\\r\\nTylermouth, TN 33479',\n",
       " 'Dylan Zimmerman 76039 William Cliffs Suite 271\\r\\nWest David, IN 62671',\n",
       " 'Earl Castro 005 Gibson Stream Suite 482\\r\\nMauriceborough, TN 49387',\n",
       " 'Earl Gabert Unit 9929 Box 0951\\r\\nDPO AA 74388',\n",
       " 'Earl Hoffmann 700 Darlene Mill\\r\\nJackburgh, GA 99369',\n",
       " 'Earl Johnson 397 Steven Coves\\r\\nJeremyview, NE 82083',\n",
       " 'Earl Jones 95347 Henry Circle\\r\\nPatricialand, ME 93958',\n",
       " 'Earl Lorraine 526 Reese Curve Suite 012\\r\\nWattsstad, IA 71794',\n",
       " 'Earl Martinez 474 Kevin Land Apt. 117\\r\\nNorth Jamesburgh, WI 89949',\n",
       " 'Earl Montgomery 4363 Stephanie River\\r\\nChrismouth, UT 75151',\n",
       " 'Earl Oneil 59578 Alexander Ridge Suite 572\\r\\nSouth Teresa, UT 49493',\n",
       " 'Earl Phillips 316 Erin Meadows\\r\\nNorth Juliemouth, NH 73106',\n",
       " 'Earl Ross 4694 Williams Islands\\r\\nEricberg, NE 76541',\n",
       " 'Earnest Lopez 664 Edward Grove\\r\\nJonesburgh, HI 32763',\n",
       " 'Ed Dunlap 62586 Isabel Parkways\\r\\nNorth Reginald, DC 42712',\n",
       " 'Eddie Kalinowski 468 Robertson Street Apt. 154\\r\\nCharlotteville, FL 82007',\n",
       " 'Eddie Laird 78017 Brown Pike Apt. 029\\r\\nTheresaville, IN 36849',\n",
       " 'Eddie Oconor 7214 Schultz Canyon\\r\\nLake Katherineburgh, MT 45505',\n",
       " 'Eddie Self 19966 Jennifer Radial Apt. 765\\r\\nSouth Gabriel, OH 40829',\n",
       " 'Eddy Kessler 7646 Holder Garden Suite 721\\r\\nPort Christineberg, NC 57687',\n",
       " 'Edgar Harms 92451 Latoya Prairie Suite 607\\r\\nPort Monica, NJ 50471',\n",
       " 'Edgar Hicks 86046 Jessica Islands Suite 396\\r\\nSouth Randy, ND 59026',\n",
       " 'Edgar Holbrook 902 Figueroa Fields Suite 708\\r\\nDavishaven, OK 14930',\n",
       " 'Edgar Nelson 1082 Alvarado Freeway\\r\\nBergermouth, VA 18698',\n",
       " 'Edgar Nix 93275 Jensen Vista Apt. 623\\r\\nPort Brandon, NM 32803',\n",
       " 'Edgar Payne 5326 Colleen Square Apt. 893\\r\\nWest Taratown, NC 10473',\n",
       " 'Edgar Sarabia 2738 Anne Landing Apt. 058\\r\\nWilliamchester, CO 58106',\n",
       " 'Edmund Jeffries 6784 Ramsey Ville\\r\\nCarlsonmouth, HI 23989',\n",
       " 'Edmund Sutton 727 Laurie Track Apt. 909\\r\\nJenniferland, IA 34243',\n",
       " 'Edmund Watson 4783 Julie Walk\\r\\nWilliamschester, CO 11012',\n",
       " 'Edmundo Landis 4090 Wood Squares Suite 180\\r\\nRichardport, NE 31498',\n",
       " 'Eduardo James 07293 Jeffery Fords\\r\\nLake Kaitlynhaven, OH 57964',\n",
       " 'Eduardo Paci 7245 Harper Fields Apt. 575\\r\\nNorth Thomasshire, RI 44779',\n",
       " 'Eduardo Spencer 28881 Garner Green Suite 025\\r\\nNew Sandraburgh, AZ 15913',\n",
       " 'Eduardo Zediker 27132 Johnson Haven\\r\\nEast Jenniferhaven, MN 09718',\n",
       " 'Edward Adams 34013 Ryan Park Suite 437\\r\\nSmithside, OH 56416',\n",
       " 'Edward Allscheid 3089 Jose Drive Apt. 430\\r\\nSouth Heather, VA 93791',\n",
       " 'Edward Anderson 781 Moore Throughway\\r\\nAshleyfurt, WY 94154',\n",
       " 'Edward Bettes 38613 Melissa Throughway Apt. 413\\r\\nChristianbury, GA 59790',\n",
       " 'Edward Bragg 69225 Phillips Island\\r\\nZacharyberg, NC 71838',\n",
       " 'Edward Cobb 893 Arnold Island Suite 666\\r\\nLake Kyle, OR 42043',\n",
       " 'Edward Collins 723 Moreno Station\\r\\nEast Charles, MI 84383',\n",
       " 'Edward Corbitt 70079 Anne Plain Apt. 494\\r\\nSouth Dennis, SD 95497',\n",
       " 'Edward Duerr 92494 Sarah Hills\\r\\nTonytown, VT 49358',\n",
       " 'Edward Edge 1898 Heather Ridge\\r\\nNorth Carolport, DE 28871',\n",
       " 'Edward Freas 3415 Davis Centers\\r\\nLake Matthew, WA 20714',\n",
       " 'Edward George 6296 Hill Forks Apt. 762\\r\\nWest Nicole, AZ 15615',\n",
       " 'Edward Guerra 471 Gregory Divide\\r\\nWest Brianside, RI 15560',\n",
       " 'Edward Hess 60152 Hancock Rest Apt. 479\\r\\nChungfurt, DE 83817',\n",
       " 'Edward Holt Unit 8332 Box 5963\\r\\nDPO AA 41759',\n",
       " 'Edward Hood 87749 Angela Glens Apt. 048\\r\\nNew Christopherview, UT 54245',\n",
       " 'Edward Jenkins 6980 Price Pass\\r\\nStephanieville, KS 73347',\n",
       " 'Edward Joyner 4712 Ian Neck\\r\\nEast Lisahaven, UT 38854',\n",
       " 'Edward Krause 270 Tucker Estates Apt. 472\\r\\nHectorberg, TN 78640',\n",
       " 'Edward Marshall 20770 Stephenson Fall Suite 782\\r\\nGilbertborough, DC 39567',\n",
       " ...]"
      ]
     },
     "execution_count": 5,
     "metadata": {},
     "output_type": "execute_result"
    }
   ],
   "source": [
    "key1 = sorted(list(df1[\"name\"].unique() + \" \" + df1[\"address\"].unique()))\n",
    "key2 = sorted(list(df1[\"name\"].unique() + \" \" + df1[\"address\"].unique()))\n",
    "\n",
    "key1"
   ]
  },
  {
   "cell_type": "code",
   "execution_count": 6,
   "metadata": {},
   "outputs": [
    {
     "data": {
      "text/plain": [
       "True"
      ]
     },
     "execution_count": 6,
     "metadata": {},
     "output_type": "execute_result"
    }
   ],
   "source": [
    "key1 == key2"
   ]
  },
  {
   "cell_type": "markdown",
   "metadata": {},
   "source": [
    "Vidime, ze oba dataframy zdielaju rovnake informacie o pacientovi, konkretne o jeho mene a adrese. Tak mozeme tieto dva dataframy joinut na zaklade mena, pricom vymazeme prvotne adresu z jedneho dataframu"
   ]
  },
  {
   "cell_type": "code",
   "execution_count": 7,
   "metadata": {},
   "outputs": [
    {
     "data": {
      "text/html": [
       "<div>\n",
       "<style scoped>\n",
       "    .dataframe tbody tr th:only-of-type {\n",
       "        vertical-align: middle;\n",
       "    }\n",
       "\n",
       "    .dataframe tbody tr th {\n",
       "        vertical-align: top;\n",
       "    }\n",
       "\n",
       "    .dataframe thead th {\n",
       "        text-align: right;\n",
       "    }\n",
       "</style>\n",
       "<table border=\"1\" class=\"dataframe\">\n",
       "  <thead>\n",
       "    <tr style=\"text-align: right;\">\n",
       "      <th></th>\n",
       "      <th>name</th>\n",
       "      <th>age</th>\n",
       "      <th>sex</th>\n",
       "      <th>date_of_birth</th>\n",
       "      <th>address</th>\n",
       "      <th>race</th>\n",
       "      <th>marital-status</th>\n",
       "      <th>occupation</th>\n",
       "      <th>pregnant</th>\n",
       "      <th>education-num</th>\n",
       "      <th>...</th>\n",
       "      <th>education</th>\n",
       "      <th>fnlwgt</th>\n",
       "      <th>class</th>\n",
       "      <th>std_glucose</th>\n",
       "      <th>income</th>\n",
       "      <th>medical_info</th>\n",
       "      <th>native-country</th>\n",
       "      <th>hours-per-week</th>\n",
       "      <th>capital-loss</th>\n",
       "      <th>workclass</th>\n",
       "    </tr>\n",
       "  </thead>\n",
       "  <tbody>\n",
       "    <tr>\n",
       "      <th>0</th>\n",
       "      <td>Aaron Davis</td>\n",
       "      <td>56</td>\n",
       "      <td>Female</td>\n",
       "      <td>1962-12-27</td>\n",
       "      <td>379 Rodriguez Inlet\\r\\nFisherbury, MD 83114</td>\n",
       "      <td>White</td>\n",
       "      <td>Divorced</td>\n",
       "      <td>Other-service</td>\n",
       "      <td>f</td>\n",
       "      <td>3.0</td>\n",
       "      <td>...</td>\n",
       "      <td>5th-6th</td>\n",
       "      <td>199298.0</td>\n",
       "      <td>0.0</td>\n",
       "      <td>41.806596</td>\n",
       "      <td>&lt;=50K</td>\n",
       "      <td>{'mean_oxygen':'1.647157191','std_oxygen':'14....</td>\n",
       "      <td>?</td>\n",
       "      <td>45.0</td>\n",
       "      <td>0.0</td>\n",
       "      <td>Local-gov</td>\n",
       "    </tr>\n",
       "    <tr>\n",
       "      <th>1</th>\n",
       "      <td>Aaron Dini</td>\n",
       "      <td>50</td>\n",
       "      <td>Male</td>\n",
       "      <td>1969-05-22</td>\n",
       "      <td>105 Medina Springs Suite 462\\r\\nEmilyland, KS ...</td>\n",
       "      <td>White</td>\n",
       "      <td>Divorced</td>\n",
       "      <td>Sales</td>\n",
       "      <td>f</td>\n",
       "      <td>10.0</td>\n",
       "      <td>...</td>\n",
       "      <td>Some-college</td>\n",
       "      <td>120939.0</td>\n",
       "      <td>0.0</td>\n",
       "      <td>53.615229</td>\n",
       "      <td>&lt;=50K</td>\n",
       "      <td>{'mean_oxygen':'1.380434783','std_oxygen':'15....</td>\n",
       "      <td>United-States</td>\n",
       "      <td>40.0</td>\n",
       "      <td>0.0</td>\n",
       "      <td>Self-emp-not-inc</td>\n",
       "    </tr>\n",
       "    <tr>\n",
       "      <th>2</th>\n",
       "      <td>Aaron Gann</td>\n",
       "      <td>25</td>\n",
       "      <td>Male</td>\n",
       "      <td>1994-07-26</td>\n",
       "      <td>59685 Thomas Extension Apt. 142\\r\\nFieldsborou...</td>\n",
       "      <td>Black</td>\n",
       "      <td>Never-married</td>\n",
       "      <td>?</td>\n",
       "      <td>f</td>\n",
       "      <td>4.0</td>\n",
       "      <td>...</td>\n",
       "      <td>7th-8th</td>\n",
       "      <td>107112.0</td>\n",
       "      <td>0.0</td>\n",
       "      <td>50.476073</td>\n",
       "      <td>&lt;=50K</td>\n",
       "      <td>{'mean_oxygen':'78.30183946','std_oxygen':'79....</td>\n",
       "      <td>United-States</td>\n",
       "      <td>30.0</td>\n",
       "      <td>0.0</td>\n",
       "      <td>?</td>\n",
       "    </tr>\n",
       "    <tr>\n",
       "      <th>3</th>\n",
       "      <td>Aaron Gregg</td>\n",
       "      <td>42</td>\n",
       "      <td>Female</td>\n",
       "      <td>1977-04-16</td>\n",
       "      <td>10883 Williams Locks Suite 821\\r\\nEast Carmen,...</td>\n",
       "      <td>Black</td>\n",
       "      <td>Widowed</td>\n",
       "      <td>Transport-moving</td>\n",
       "      <td>f</td>\n",
       "      <td>9.0</td>\n",
       "      <td>...</td>\n",
       "      <td>HS-grad</td>\n",
       "      <td>157942.0</td>\n",
       "      <td>0.0</td>\n",
       "      <td>35.976649</td>\n",
       "      <td>&lt;=50K</td>\n",
       "      <td>{'mean_oxygen':'1.489130435','std_oxygen':'10....</td>\n",
       "      <td>United-States</td>\n",
       "      <td>40.0</td>\n",
       "      <td>0.0</td>\n",
       "      <td>Local-gov</td>\n",
       "    </tr>\n",
       "    <tr>\n",
       "      <th>4</th>\n",
       "      <td>Aaron Lindley</td>\n",
       "      <td>-4900</td>\n",
       "      <td>Female</td>\n",
       "      <td>1969-12-11 00:00:00</td>\n",
       "      <td>564 Stevenson Park Apt. 839\\r\\nRodriguezville,...</td>\n",
       "      <td>White</td>\n",
       "      <td>Never-married</td>\n",
       "      <td>Sales</td>\n",
       "      <td>F</td>\n",
       "      <td>9.0</td>\n",
       "      <td>...</td>\n",
       "      <td>HS-grad</td>\n",
       "      <td>156084.0</td>\n",
       "      <td>0.0</td>\n",
       "      <td>54.280153</td>\n",
       "      <td>&lt;=50K</td>\n",
       "      <td>{'mean_oxygen':'1.194816054','std_oxygen':'11....</td>\n",
       "      <td>United-States</td>\n",
       "      <td>40.0</td>\n",
       "      <td>0.0</td>\n",
       "      <td>Private</td>\n",
       "    </tr>\n",
       "    <tr>\n",
       "      <th>...</th>\n",
       "      <td>...</td>\n",
       "      <td>...</td>\n",
       "      <td>...</td>\n",
       "      <td>...</td>\n",
       "      <td>...</td>\n",
       "      <td>...</td>\n",
       "      <td>...</td>\n",
       "      <td>...</td>\n",
       "      <td>...</td>\n",
       "      <td>...</td>\n",
       "      <td>...</td>\n",
       "      <td>...</td>\n",
       "      <td>...</td>\n",
       "      <td>...</td>\n",
       "      <td>...</td>\n",
       "      <td>...</td>\n",
       "      <td>...</td>\n",
       "      <td>...</td>\n",
       "      <td>...</td>\n",
       "      <td>...</td>\n",
       "      <td>...</td>\n",
       "    </tr>\n",
       "    <tr>\n",
       "      <th>3978</th>\n",
       "      <td>Young Provines</td>\n",
       "      <td>51</td>\n",
       "      <td>Male</td>\n",
       "      <td>1968-05-19</td>\n",
       "      <td>7993 Sharon Roads Suite 311\\r\\nPort Daniel, GA...</td>\n",
       "      <td>White</td>\n",
       "      <td>Married-civ-spouse</td>\n",
       "      <td>Exec_managerial</td>\n",
       "      <td>FALSE</td>\n",
       "      <td>11.0</td>\n",
       "      <td>...</td>\n",
       "      <td>Assoc-voc</td>\n",
       "      <td>83444.0</td>\n",
       "      <td>1.0</td>\n",
       "      <td>44.303479</td>\n",
       "      <td>&gt;50K</td>\n",
       "      <td>{'mean_oxygen':'3.16722408','std_oxygen':'22.3...</td>\n",
       "      <td>United-States</td>\n",
       "      <td>43.0</td>\n",
       "      <td>0.0</td>\n",
       "      <td>Private</td>\n",
       "    </tr>\n",
       "    <tr>\n",
       "      <th>3979</th>\n",
       "      <td>Zachary Grandfield</td>\n",
       "      <td>-5800</td>\n",
       "      <td>Male</td>\n",
       "      <td>1960/12/18</td>\n",
       "      <td>77606 Maxwell Rest Apt. 485\\r\\nPort Jennifer, ...</td>\n",
       "      <td>Black</td>\n",
       "      <td>Married-civ-spouse</td>\n",
       "      <td>Transport-moving</td>\n",
       "      <td>f</td>\n",
       "      <td>10.0</td>\n",
       "      <td>...</td>\n",
       "      <td>Some-college</td>\n",
       "      <td>343849.0</td>\n",
       "      <td>1.0</td>\n",
       "      <td>29.456767</td>\n",
       "      <td>&lt;=50K</td>\n",
       "      <td>{'mean_oxygen':'2.994147157','std_oxygen':'21....</td>\n",
       "      <td>United-States</td>\n",
       "      <td>40.0</td>\n",
       "      <td>0.0</td>\n",
       "      <td>Private</td>\n",
       "    </tr>\n",
       "    <tr>\n",
       "      <th>3980</th>\n",
       "      <td>Zachary Miller</td>\n",
       "      <td>46</td>\n",
       "      <td>Male</td>\n",
       "      <td>1973-08-07</td>\n",
       "      <td>96654 Marc Stream\\r\\nEast Cassandra, VT 84597</td>\n",
       "      <td>White</td>\n",
       "      <td>Married-civ-spouse</td>\n",
       "      <td>Adm-clerical</td>\n",
       "      <td>f</td>\n",
       "      <td>13.0</td>\n",
       "      <td>...</td>\n",
       "      <td>Bachelors</td>\n",
       "      <td>162327.0</td>\n",
       "      <td>0.0</td>\n",
       "      <td>43.191434</td>\n",
       "      <td>&gt;50K</td>\n",
       "      <td>{'mean_oxygen':'1.62541806','std_oxygen':'14.0...</td>\n",
       "      <td>?</td>\n",
       "      <td>50.0</td>\n",
       "      <td>1902.0</td>\n",
       "      <td>Private</td>\n",
       "    </tr>\n",
       "    <tr>\n",
       "      <th>3981</th>\n",
       "      <td>Zachary Seltzer</td>\n",
       "      <td>64</td>\n",
       "      <td>Female</td>\n",
       "      <td>1955-06-08 00 00 00</td>\n",
       "      <td>38371 Crystal Stravenue\\r\\nPerkinsmouth, DE 20764</td>\n",
       "      <td>White</td>\n",
       "      <td>Divorced</td>\n",
       "      <td>Sales</td>\n",
       "      <td>f</td>\n",
       "      <td>7.0</td>\n",
       "      <td>...</td>\n",
       "      <td>11th</td>\n",
       "      <td>444089.0</td>\n",
       "      <td>1.0</td>\n",
       "      <td>34.132553</td>\n",
       "      <td>&lt;=50K</td>\n",
       "      <td>{'mean_oxygen':'66.53260870000001','std_oxygen...</td>\n",
       "      <td>United-States</td>\n",
       "      <td>40.0</td>\n",
       "      <td>0.0</td>\n",
       "      <td>Private</td>\n",
       "    </tr>\n",
       "    <tr>\n",
       "      <th>3982</th>\n",
       "      <td>Zane Bottorff</td>\n",
       "      <td>44</td>\n",
       "      <td>Male</td>\n",
       "      <td>1975-08-24 00 00 00</td>\n",
       "      <td>71075 Taylor Summit\\r\\nSouth Kevinside, MD 24906</td>\n",
       "      <td>White</td>\n",
       "      <td>Never-married</td>\n",
       "      <td>Transport-moving</td>\n",
       "      <td>FALSE</td>\n",
       "      <td>9.0</td>\n",
       "      <td>...</td>\n",
       "      <td>HS-grad</td>\n",
       "      <td>226196.0</td>\n",
       "      <td>1.0</td>\n",
       "      <td>51.931368</td>\n",
       "      <td>&lt;=50K</td>\n",
       "      <td>{'mean_oxygen':'34.07943144','std_oxygen':'74....</td>\n",
       "      <td>United-States</td>\n",
       "      <td>40.0</td>\n",
       "      <td>0.0</td>\n",
       "      <td>Private</td>\n",
       "    </tr>\n",
       "  </tbody>\n",
       "</table>\n",
       "<p>3983 rows × 25 columns</p>\n",
       "</div>"
      ],
      "text/plain": [
       "                    name   age      sex        date_of_birth  \\\n",
       "0            Aaron Davis    56   Female           1962-12-27   \n",
       "1             Aaron Dini    50     Male           1969-05-22   \n",
       "2             Aaron Gann    25     Male           1994-07-26   \n",
       "3            Aaron Gregg    42   Female           1977-04-16   \n",
       "4          Aaron Lindley -4900   Female  1969-12-11 00:00:00   \n",
       "...                  ...   ...      ...                  ...   \n",
       "3978      Young Provines    51     Male           1968-05-19   \n",
       "3979  Zachary Grandfield -5800     Male           1960/12/18   \n",
       "3980      Zachary Miller    46     Male           1973-08-07   \n",
       "3981     Zachary Seltzer    64   Female  1955-06-08 00 00 00   \n",
       "3982       Zane Bottorff    44     Male  1975-08-24 00 00 00   \n",
       "\n",
       "                                                address    race  \\\n",
       "0           379 Rodriguez Inlet\\r\\nFisherbury, MD 83114   White   \n",
       "1     105 Medina Springs Suite 462\\r\\nEmilyland, KS ...   White   \n",
       "2     59685 Thomas Extension Apt. 142\\r\\nFieldsborou...   Black   \n",
       "3     10883 Williams Locks Suite 821\\r\\nEast Carmen,...   Black   \n",
       "4     564 Stevenson Park Apt. 839\\r\\nRodriguezville,...   White   \n",
       "...                                                 ...     ...   \n",
       "3978  7993 Sharon Roads Suite 311\\r\\nPort Daniel, GA...   White   \n",
       "3979  77606 Maxwell Rest Apt. 485\\r\\nPort Jennifer, ...   Black   \n",
       "3980      96654 Marc Stream\\r\\nEast Cassandra, VT 84597   White   \n",
       "3981  38371 Crystal Stravenue\\r\\nPerkinsmouth, DE 20764   White   \n",
       "3982   71075 Taylor Summit\\r\\nSouth Kevinside, MD 24906   White   \n",
       "\n",
       "           marital-status         occupation pregnant  education-num  ...  \\\n",
       "0                Divorced      Other-service        f            3.0  ...   \n",
       "1                Divorced              Sales        f           10.0  ...   \n",
       "2           Never-married                  ?        f            4.0  ...   \n",
       "3                 Widowed   Transport-moving        f            9.0  ...   \n",
       "4           Never-married              Sales        F            9.0  ...   \n",
       "...                   ...                ...      ...            ...  ...   \n",
       "3978   Married-civ-spouse    Exec_managerial    FALSE           11.0  ...   \n",
       "3979   Married-civ-spouse   Transport-moving        f           10.0  ...   \n",
       "3980   Married-civ-spouse       Adm-clerical        f           13.0  ...   \n",
       "3981             Divorced              Sales        f            7.0  ...   \n",
       "3982        Never-married   Transport-moving    FALSE            9.0  ...   \n",
       "\n",
       "          education    fnlwgt class  std_glucose  income  \\\n",
       "0           5th-6th  199298.0   0.0    41.806596   <=50K   \n",
       "1      Some-college  120939.0   0.0    53.615229   <=50K   \n",
       "2           7th-8th  107112.0   0.0    50.476073   <=50K   \n",
       "3           HS-grad  157942.0   0.0    35.976649   <=50K   \n",
       "4           HS-grad  156084.0   0.0    54.280153   <=50K   \n",
       "...             ...       ...   ...          ...     ...   \n",
       "3978      Assoc-voc   83444.0   1.0    44.303479    >50K   \n",
       "3979   Some-college  343849.0   1.0    29.456767   <=50K   \n",
       "3980      Bachelors  162327.0   0.0    43.191434    >50K   \n",
       "3981           11th  444089.0   1.0    34.132553   <=50K   \n",
       "3982        HS-grad  226196.0   1.0    51.931368   <=50K   \n",
       "\n",
       "                                           medical_info  native-country  \\\n",
       "0     {'mean_oxygen':'1.647157191','std_oxygen':'14....               ?   \n",
       "1     {'mean_oxygen':'1.380434783','std_oxygen':'15....   United-States   \n",
       "2     {'mean_oxygen':'78.30183946','std_oxygen':'79....   United-States   \n",
       "3     {'mean_oxygen':'1.489130435','std_oxygen':'10....   United-States   \n",
       "4     {'mean_oxygen':'1.194816054','std_oxygen':'11....   United-States   \n",
       "...                                                 ...             ...   \n",
       "3978  {'mean_oxygen':'3.16722408','std_oxygen':'22.3...   United-States   \n",
       "3979  {'mean_oxygen':'2.994147157','std_oxygen':'21....   United-States   \n",
       "3980  {'mean_oxygen':'1.62541806','std_oxygen':'14.0...               ?   \n",
       "3981  {'mean_oxygen':'66.53260870000001','std_oxygen...   United-States   \n",
       "3982  {'mean_oxygen':'34.07943144','std_oxygen':'74....   United-States   \n",
       "\n",
       "      hours-per-week  capital-loss          workclass  \n",
       "0               45.0           0.0          Local-gov  \n",
       "1               40.0           0.0   Self-emp-not-inc  \n",
       "2               30.0           0.0                  ?  \n",
       "3               40.0           0.0          Local-gov  \n",
       "4               40.0           0.0            Private  \n",
       "...              ...           ...                ...  \n",
       "3978            43.0           0.0            Private  \n",
       "3979            40.0           0.0            Private  \n",
       "3980            50.0        1902.0            Private  \n",
       "3981            40.0           0.0            Private  \n",
       "3982            40.0           0.0            Private  \n",
       "\n",
       "[3983 rows x 25 columns]"
      ]
     },
     "execution_count": 7,
     "metadata": {},
     "output_type": "execute_result"
    }
   ],
   "source": [
    "data = df1.drop(columns=[\"address\"]).set_index(\"name\").join(df2.set_index(\"name\"), how=\"right\").reset_index()\n",
    "data"
   ]
  },
  {
   "cell_type": "markdown",
   "metadata": {},
   "source": [
    "Podme sa teraz pozriet na problem mergovania dat dvoch zaznamov jedneho pacienta do jedneho datarowu. Ako priklad sme si zobrali cloveka, ktory ma 2 zaznamy v nasom datasete, pricom ako mozno vidiet, existuje zopar atributov, ktore su u jedneho zaznamu nullove, zatial co u druheho nie su. Prikladom je napriklad relationship."
   ]
  },
  {
   "cell_type": "code",
   "execution_count": 8,
   "metadata": {},
   "outputs": [
    {
     "name": "stdout",
     "output_type": "stream",
     "text": [
      "name                False\n",
      "age                 False\n",
      "sex                 False\n",
      "date_of_birth       False\n",
      "address             False\n",
      "race                False\n",
      "marital-status      False\n",
      "occupation          False\n",
      "pregnant            False\n",
      "education-num       False\n",
      "relationship         True\n",
      "skewness_glucose    False\n",
      "mean_glucose         True\n",
      "capital-gain        False\n",
      "kurtosis_glucose    False\n",
      "education           False\n",
      "fnlwgt               True\n",
      "class               False\n",
      "std_glucose         False\n",
      "income              False\n",
      "medical_info         True\n",
      "native-country      False\n",
      "hours-per-week       True\n",
      "capital-loss        False\n",
      "workclass            True\n",
      "dtype: bool\n"
     ]
    },
    {
     "data": {
      "text/plain": [
       "678     Husband\n",
       "679         NaN\n",
       "Name: relationship, dtype: object"
      ]
     },
     "execution_count": 8,
     "metadata": {},
     "output_type": "execute_result"
    }
   ],
   "source": [
    "daniel = data.loc[data[\"name\"] == \"Daniel Martin\"]\n",
    "print(daniel.iloc[0].isnull() ^ daniel.iloc[1].isnull())\n",
    "\n",
    "daniel[\"relationship\"]"
   ]
  },
  {
   "cell_type": "markdown",
   "metadata": {},
   "source": [
    "Taktiez, niekto by mohol argumentovat, ze su to 2 rozlicne medicinske zaznamy daneho pacienta, a nie jedneho, no toto sme uz minule vyvratili, staci sa pozriet na namerane hodnoty cloveku"
   ]
  },
  {
   "cell_type": "code",
   "execution_count": 9,
   "metadata": {},
   "outputs": [
    {
     "data": {
      "text/plain": [
       "name                True\n",
       "age                 True\n",
       "sex                 True\n",
       "date_of_birth       True\n",
       "address             True\n",
       "race                True\n",
       "marital-status      True\n",
       "occupation          True\n",
       "pregnant            True\n",
       "education-num       True\n",
       "skewness_glucose    True\n",
       "capital-gain        True\n",
       "kurtosis_glucose    True\n",
       "education           True\n",
       "class               True\n",
       "std_glucose         True\n",
       "income              True\n",
       "native-country      True\n",
       "capital-loss        True\n",
       "dtype: bool"
      ]
     },
     "execution_count": 9,
     "metadata": {},
     "output_type": "execute_result"
    }
   ],
   "source": [
    "daniel2 = daniel.dropna(axis=1)\n",
    "\n",
    "daniel2.iloc[0] == daniel2.iloc[1]"
   ]
  },
  {
   "cell_type": "code",
   "execution_count": 10,
   "metadata": {},
   "outputs": [
    {
     "data": {
      "text/html": [
       "<div>\n",
       "<style scoped>\n",
       "    .dataframe tbody tr th:only-of-type {\n",
       "        vertical-align: middle;\n",
       "    }\n",
       "\n",
       "    .dataframe tbody tr th {\n",
       "        vertical-align: top;\n",
       "    }\n",
       "\n",
       "    .dataframe thead th {\n",
       "        text-align: right;\n",
       "    }\n",
       "</style>\n",
       "<table border=\"1\" class=\"dataframe\">\n",
       "  <thead>\n",
       "    <tr style=\"text-align: right;\">\n",
       "      <th></th>\n",
       "      <th>name</th>\n",
       "      <th>age</th>\n",
       "      <th>sex</th>\n",
       "      <th>date_of_birth</th>\n",
       "      <th>address</th>\n",
       "      <th>race</th>\n",
       "      <th>marital-status</th>\n",
       "      <th>occupation</th>\n",
       "      <th>pregnant</th>\n",
       "      <th>education-num</th>\n",
       "      <th>skewness_glucose</th>\n",
       "      <th>capital-gain</th>\n",
       "      <th>kurtosis_glucose</th>\n",
       "      <th>education</th>\n",
       "      <th>class</th>\n",
       "      <th>std_glucose</th>\n",
       "      <th>income</th>\n",
       "      <th>native-country</th>\n",
       "      <th>capital-loss</th>\n",
       "    </tr>\n",
       "  </thead>\n",
       "  <tbody>\n",
       "    <tr>\n",
       "      <th>678</th>\n",
       "      <td>Daniel Martin</td>\n",
       "      <td>55</td>\n",
       "      <td>Male</td>\n",
       "      <td>1964-02-02</td>\n",
       "      <td>1600 Shaun Drive Apt. 113\\r\\nEast Jacobmouth, ...</td>\n",
       "      <td>White</td>\n",
       "      <td>Married-civ-spouse</td>\n",
       "      <td>Prof-specialty</td>\n",
       "      <td>f</td>\n",
       "      <td>14.0</td>\n",
       "      <td>-0.575827</td>\n",
       "      <td>0.0</td>\n",
       "      <td>-0.065923</td>\n",
       "      <td>Masters</td>\n",
       "      <td>0.0</td>\n",
       "      <td>55.072854</td>\n",
       "      <td>&gt;50K</td>\n",
       "      <td>United-States</td>\n",
       "      <td>1887.0</td>\n",
       "    </tr>\n",
       "    <tr>\n",
       "      <th>679</th>\n",
       "      <td>Daniel Martin</td>\n",
       "      <td>55</td>\n",
       "      <td>Male</td>\n",
       "      <td>1964-02-02</td>\n",
       "      <td>1600 Shaun Drive Apt. 113\\r\\nEast Jacobmouth, ...</td>\n",
       "      <td>White</td>\n",
       "      <td>Married-civ-spouse</td>\n",
       "      <td>Prof-specialty</td>\n",
       "      <td>f</td>\n",
       "      <td>14.0</td>\n",
       "      <td>-0.575827</td>\n",
       "      <td>0.0</td>\n",
       "      <td>-0.065923</td>\n",
       "      <td>Masters</td>\n",
       "      <td>0.0</td>\n",
       "      <td>55.072854</td>\n",
       "      <td>&gt;50K</td>\n",
       "      <td>United-States</td>\n",
       "      <td>1887.0</td>\n",
       "    </tr>\n",
       "  </tbody>\n",
       "</table>\n",
       "</div>"
      ],
      "text/plain": [
       "              name  age    sex date_of_birth  \\\n",
       "678  Daniel Martin   55   Male    1964-02-02   \n",
       "679  Daniel Martin   55   Male    1964-02-02   \n",
       "\n",
       "                                               address    race  \\\n",
       "678  1600 Shaun Drive Apt. 113\\r\\nEast Jacobmouth, ...   White   \n",
       "679  1600 Shaun Drive Apt. 113\\r\\nEast Jacobmouth, ...   White   \n",
       "\n",
       "          marital-status       occupation pregnant  education-num  \\\n",
       "678   Married-civ-spouse   Prof-specialty        f           14.0   \n",
       "679   Married-civ-spouse   Prof-specialty        f           14.0   \n",
       "\n",
       "     skewness_glucose  capital-gain  kurtosis_glucose education  class  \\\n",
       "678         -0.575827           0.0         -0.065923   Masters    0.0   \n",
       "679         -0.575827           0.0         -0.065923   Masters    0.0   \n",
       "\n",
       "     std_glucose income  native-country  capital-loss  \n",
       "678    55.072854   >50K   United-States        1887.0  \n",
       "679    55.072854   >50K   United-States        1887.0  "
      ]
     },
     "execution_count": 10,
     "metadata": {},
     "output_type": "execute_result"
    }
   ],
   "source": [
    "daniel2"
   ]
  },
  {
   "cell_type": "markdown",
   "metadata": {},
   "source": [
    "Ako mozno vidiet, ide o rovnake medicinske zaznamy, staci sa pozriet na merania glukozy, ktore su \"nachlp\" presne"
   ]
  },
  {
   "cell_type": "code",
   "execution_count": 11,
   "metadata": {},
   "outputs": [],
   "source": [
    "def piece_datarows_together(data):\n",
    "    \n",
    "    data = data.copy().set_index(\"name\")\n",
    "    \n",
    "    #toto nam vrati dataset, ktory obsahuje vsetky duplikaty, s ktorymi budeme pracovat\n",
    "    duplicated = data[data.index.duplicated(keep=False)]\n",
    "    \n",
    "    index_values = duplicated.index.unique()\n",
    "    \n",
    "    #najprv vsetky hodnoty prenesieme do prveho vyskytu zaznamu daneho pacienta v datasete\n",
    "    for idx in index_values:\n",
    "        mini_dataset = duplicated.loc[idx]\n",
    "        \n",
    "        missing_mask = mini_dataset.iloc[0].isnull()\n",
    "        attributes = mini_dataset.columns.values\n",
    "        missing_attributes = attributes[missing_mask]\n",
    "        \n",
    "        for attr in missing_attributes:\n",
    "            mini_dataset.iloc[0][attr] = mini_dataset[attr].notnull().values[0]\n",
    "        \n",
    "        \n",
    "    #teraz uz mozme vymazat vsetky druhe, resp. ostatne zaznamy pacienta\n",
    "    duplicated_mask = data.index.duplicated(keep=\"first\")\n",
    "    \n",
    "    data = data.reset_index()\n",
    "    duplicated_indices = data.index.values[duplicated_mask]\n",
    "    \n",
    "    return data.drop(index=duplicated_indices).reset_index()\n"
   ]
  },
  {
   "cell_type": "code",
   "execution_count": 12,
   "metadata": {},
   "outputs": [
    {
     "name": "stderr",
     "output_type": "stream",
     "text": [
      "<ipython-input-11-9333c2aa2134>:19: SettingWithCopyWarning: \n",
      "A value is trying to be set on a copy of a slice from a DataFrame\n",
      "\n",
      "See the caveats in the documentation: https://pandas.pydata.org/pandas-docs/stable/user_guide/indexing.html#returning-a-view-versus-a-copy\n",
      "  mini_dataset.iloc[0][attr] = mini_dataset[attr].notnull().values[0]\n"
     ]
    }
   ],
   "source": [
    "data = piece_datarows_together(data)"
   ]
  },
  {
   "cell_type": "code",
   "execution_count": 13,
   "metadata": {},
   "outputs": [
    {
     "name": "stdout",
     "output_type": "stream",
     "text": [
      "Todd Salles       1\n",
      "James Tenney      1\n",
      "Todd Flanagan     1\n",
      "Joshua Thomas     1\n",
      "Caleb Johnson     1\n",
      "                 ..\n",
      "Wallace Street    1\n",
      "Shawn Replogle    1\n",
      "Matt Morgan       1\n",
      "Craig Holthaus    1\n",
      "John Emily        1\n",
      "Name: name, Length: 3933, dtype: int64\n"
     ]
    },
    {
     "data": {
      "text/html": [
       "<div>\n",
       "<style scoped>\n",
       "    .dataframe tbody tr th:only-of-type {\n",
       "        vertical-align: middle;\n",
       "    }\n",
       "\n",
       "    .dataframe tbody tr th {\n",
       "        vertical-align: top;\n",
       "    }\n",
       "\n",
       "    .dataframe thead th {\n",
       "        text-align: right;\n",
       "    }\n",
       "</style>\n",
       "<table border=\"1\" class=\"dataframe\">\n",
       "  <thead>\n",
       "    <tr style=\"text-align: right;\">\n",
       "      <th></th>\n",
       "      <th>index</th>\n",
       "      <th>name</th>\n",
       "      <th>age</th>\n",
       "      <th>sex</th>\n",
       "      <th>date_of_birth</th>\n",
       "      <th>address</th>\n",
       "      <th>race</th>\n",
       "      <th>marital-status</th>\n",
       "      <th>occupation</th>\n",
       "      <th>pregnant</th>\n",
       "      <th>...</th>\n",
       "      <th>education</th>\n",
       "      <th>fnlwgt</th>\n",
       "      <th>class</th>\n",
       "      <th>std_glucose</th>\n",
       "      <th>income</th>\n",
       "      <th>medical_info</th>\n",
       "      <th>native-country</th>\n",
       "      <th>hours-per-week</th>\n",
       "      <th>capital-loss</th>\n",
       "      <th>workclass</th>\n",
       "    </tr>\n",
       "  </thead>\n",
       "  <tbody>\n",
       "    <tr>\n",
       "      <th>675</th>\n",
       "      <td>678</td>\n",
       "      <td>Daniel Martin</td>\n",
       "      <td>55</td>\n",
       "      <td>Male</td>\n",
       "      <td>1964-02-02</td>\n",
       "      <td>1600 Shaun Drive Apt. 113\\r\\nEast Jacobmouth, ...</td>\n",
       "      <td>White</td>\n",
       "      <td>Married-civ-spouse</td>\n",
       "      <td>Prof-specialty</td>\n",
       "      <td>f</td>\n",
       "      <td>...</td>\n",
       "      <td>Masters</td>\n",
       "      <td>146659.0</td>\n",
       "      <td>0.0</td>\n",
       "      <td>55.072854</td>\n",
       "      <td>&gt;50K</td>\n",
       "      <td>{'mean_oxygen':'2.369565217','std_oxygen':'14....</td>\n",
       "      <td>United-States</td>\n",
       "      <td>NaN</td>\n",
       "      <td>1887.0</td>\n",
       "      <td>NaN</td>\n",
       "    </tr>\n",
       "  </tbody>\n",
       "</table>\n",
       "<p>1 rows × 26 columns</p>\n",
       "</div>"
      ],
      "text/plain": [
       "     index           name  age    sex date_of_birth  \\\n",
       "675    678  Daniel Martin   55   Male    1964-02-02   \n",
       "\n",
       "                                               address    race  \\\n",
       "675  1600 Shaun Drive Apt. 113\\r\\nEast Jacobmouth, ...   White   \n",
       "\n",
       "          marital-status       occupation pregnant  ...  education    fnlwgt  \\\n",
       "675   Married-civ-spouse   Prof-specialty        f  ...    Masters  146659.0   \n",
       "\n",
       "     class std_glucose  income  \\\n",
       "675    0.0   55.072854    >50K   \n",
       "\n",
       "                                          medical_info  native-country  \\\n",
       "675  {'mean_oxygen':'2.369565217','std_oxygen':'14....   United-States   \n",
       "\n",
       "     hours-per-week  capital-loss  workclass  \n",
       "675             NaN        1887.0        NaN  \n",
       "\n",
       "[1 rows x 26 columns]"
      ]
     },
     "execution_count": 13,
     "metadata": {},
     "output_type": "execute_result"
    }
   ],
   "source": [
    "print(data[\"name\"].value_counts())\n",
    "data.loc[data[\"name\"] == \"Daniel Martin\"]"
   ]
  },
  {
   "cell_type": "markdown",
   "metadata": {},
   "source": [
    "# Odstranenie useless atributov"
   ]
  },
  {
   "cell_type": "markdown",
   "metadata": {},
   "source": [
    "Teraz, co sme uz joinli obidva dataframy a mergli datarowy, ktore boli z nejakeho dovodu rozdelene, sa mozeme pozriet na samotne atributy a spracovat ich.\n",
    "\n",
    "V prvom rade vsak vyhodime atributy, ktore su uplne useless. Medzi nimi patri: \n",
    "- capital-gain \n",
    "- capital-loss\n",
    "\n",
    "Dovodom, preco tieto mazeme, je ze 90% vsetkych ich hodnot su same 0.\n",
    "\n",
    "Potom medzi dalsimi kandidatmi, ktore mozme hned vymazat budu:\n",
    "- name\n",
    "- date_of_birth - zatial ho nebudeme mazat, pouzijeme na imputaciu agu\n",
    "- address - z tadialto chceme este precitat napriklad stat, v ktorom sa to robilo (najma sa teraz bavime o USA a ich statoch)\n",
    "- fnlwgt - kedze nenasiel som ziadnu korelaciu medzi tymto vztahom a inymi ciselnymi hodnotami, ako aj nema korelaciu so samotnym prediction - class\n",
    "- pregnant - je velmi malo tehotnych ludi necele 2%"
   ]
  },
  {
   "cell_type": "code",
   "execution_count": 14,
   "metadata": {},
   "outputs": [
    {
     "data": {
      "text/plain": [
       "Index(['index', 'age', 'sex', 'date_of_birth', 'address', 'race',\n",
       "       'marital-status', 'occupation', 'education-num', 'relationship',\n",
       "       'skewness_glucose', 'mean_glucose', 'kurtosis_glucose', 'education',\n",
       "       'class', 'std_glucose', 'income', 'medical_info', 'native-country',\n",
       "       'hours-per-week', 'workclass'],\n",
       "      dtype='object')"
      ]
     },
     "execution_count": 14,
     "metadata": {},
     "output_type": "execute_result"
    }
   ],
   "source": [
    "data = data.drop(columns=[\"capital-gain\", \"capital-loss\", \"name\", \"fnlwgt\", \"pregnant\"])\n",
    "\n",
    "data.columns"
   ]
  },
  {
   "cell_type": "markdown",
   "metadata": {},
   "source": [
    "Este stale mame dost atributov, ktore nemusia mat so predikciou cukrovky ziadnu suvislost. Ale vacsina tychto atributov sa najlepsie urci, ci su potrebne alebo nie, na zaklade samotneho trenovania modelu s a bez danych parametrov. \n",
    "\n",
    "Este, v priebehu tohto 2. zadania, sa pokusime najst nejake atributy, ktore nemaju vypovednu hodnotu, napriklad pomocou VarianceThreshold, ale teraz v datasete mame velke mnozstvo kategorickych hodnot, ako aj mnozstvo zle zformatovanych udajov, a tak skontrolovanie variancie jednotlivych atributov vykoname neskorsie, ked ich trosku spracujeme... Teraz sa budeme venovat jednotlivym atributom a ich spravovaniu. \n",
    "\n",
    "Nakoniec, ked budeme mat vykonane vsetky upravy nad atributmi, tak to vsetko spojime dokopy pouzivajuc triedy v scikit kniznici, ako napriklad Pipeline, ColumnTransform a pod."
   ]
  },
  {
   "cell_type": "markdown",
   "metadata": {},
   "source": [
    "# Preprocessing jednotlivych atributov"
   ]
  },
  {
   "cell_type": "code",
   "execution_count": 15,
   "metadata": {},
   "outputs": [],
   "source": [
    "def identify_outliers(a):\n",
    "    q25 = a.quantile(0.25)\n",
    "    q75 = a.quantile(0.75)\n",
    "    \n",
    "    iqr = q75-q25\n",
    "        \n",
    "    lower = q25 - 1.5 * iqr\n",
    "    upper = q75 + 1.5 * iqr\n",
    "    \n",
    "    return a[(a > upper) | (a < lower)]"
   ]
  },
  {
   "cell_type": "markdown",
   "metadata": {},
   "source": [
    "Zbavime sa whitespacov vo vacsine stringovych atributoch..."
   ]
  },
  {
   "cell_type": "code",
   "execution_count": 16,
   "metadata": {},
   "outputs": [
    {
     "data": {
      "text/plain": [
       "Index(['index', 'age', 'sex', 'date_of_birth', 'address', 'race',\n",
       "       'marital-status', 'occupation', 'education-num', 'relationship',\n",
       "       'skewness_glucose', 'mean_glucose', 'kurtosis_glucose', 'education',\n",
       "       'class', 'std_glucose', 'income', 'medical_info', 'native-country',\n",
       "       'hours-per-week', 'workclass'],\n",
       "      dtype='object')"
      ]
     },
     "execution_count": 16,
     "metadata": {},
     "output_type": "execute_result"
    }
   ],
   "source": [
    "data.columns"
   ]
  },
  {
   "cell_type": "code",
   "execution_count": 17,
   "metadata": {},
   "outputs": [],
   "source": [
    "def string_formatting(col):\n",
    "    \n",
    "    if col.dtype == \"O\":\n",
    "        col = col.apply(lambda row: row.strip() if row is not np.nan else row)\n",
    "        col = col.apply(lambda row: np.nan if row is not np.nan and row == \"?\" else row)\n",
    "    \n",
    "    return col\n",
    "\n",
    "data = data.apply(string_formatting)"
   ]
  },
  {
   "cell_type": "markdown",
   "metadata": {},
   "source": [
    "### marital-status a relationship"
   ]
  },
  {
   "cell_type": "code",
   "execution_count": 18,
   "metadata": {},
   "outputs": [
    {
     "name": "stdout",
     "output_type": "stream",
     "text": [
      "Married-civ-spouse       1845\n",
      "Never-married            1237\n",
      "Divorced                  546\n",
      "Separated                 139\n",
      "Widowed                   115\n",
      "Married-spouse-absent      41\n",
      "Married-AF-spouse           3\n",
      "Name: marital-status, dtype: int64\n"
     ]
    },
    {
     "data": {
      "image/png": "[encoded data removed]",
      "text/plain": [
       "<Figure size 432x288 with 1 Axes>"
      ]
     },
     "metadata": {
      "needs_background": "light"
     },
     "output_type": "display_data"
    }
   ],
   "source": [
    "visual.univariate_categ_to_class(data, \"marital-status\")"
   ]
  },
  {
   "cell_type": "markdown",
   "metadata": {},
   "source": [
    "Zbavime sa malo pocetnych kategorii a skombinujeme ich vsetky do kategorie \"Other\""
   ]
  },
  {
   "cell_type": "code",
   "execution_count": 19,
   "metadata": {},
   "outputs": [],
   "source": [
    "def marital_status_categories(row):\n",
    "    \n",
    "    ms = row[\"marital-status\"]\n",
    "        \n",
    "    if ms is not np.nan and ms not in (\"Divorced\", \"Never-married\", \"Married-civ-spouse\"):\n",
    "        row[\"marital-status\"] = \"Other\"\n",
    "        \n",
    "    return row"
   ]
  },
  {
   "cell_type": "code",
   "execution_count": 20,
   "metadata": {},
   "outputs": [],
   "source": [
    "data = data.apply(marital_status_categories, axis=1)"
   ]
  },
  {
   "cell_type": "markdown",
   "metadata": {},
   "source": [
    "Na imputovanie missing values planujem pouzit atribut **relationship**, tak najprv na ten sa taktiez musime pozriet, a jemu znizit pocet kategorii, az potom budeme moct vyberat sposoby, ako imputovat missing values."
   ]
  },
  {
   "cell_type": "code",
   "execution_count": 21,
   "metadata": {},
   "outputs": [
    {
     "name": "stdout",
     "output_type": "stream",
     "text": [
      "Husband           1622\n",
      "Not-in-family      966\n",
      "Own-child          602\n",
      "Unmarried          425\n",
      "Wife               193\n",
      "Other-relative     117\n",
      "Name: relationship, dtype: int64\n"
     ]
    },
    {
     "data": {
      "image/png": "[encoded data removed]",
      "text/plain": [
       "<Figure size 432x288 with 1 Axes>"
      ]
     },
     "metadata": {
      "needs_background": "light"
     },
     "output_type": "display_data"
    }
   ],
   "source": [
    "visual.univariate_categ_to_class(data, \"relationship\")"
   ]
  },
  {
   "cell_type": "markdown",
   "metadata": {},
   "source": [
    "Znova mozme malopocetne kategorie spojit dokopy a nasledne vykoname bivariate analyzu medzi tymto atributom a marital-status, aby sme urcili, ci sme vybrali vhodny styl kategorizacie."
   ]
  },
  {
   "cell_type": "code",
   "execution_count": 22,
   "metadata": {},
   "outputs": [],
   "source": [
    "def relationship_categories(row):\n",
    "    \n",
    "    rel = row[\"relationship\"]\n",
    "        \n",
    "    if rel is not np.nan and rel not in (\"Not-in-family\", \"Husband\", \"Own-child\"):\n",
    "        row[\"relationship\"] = \"Other\"\n",
    "        \n",
    "    return row"
   ]
  },
  {
   "cell_type": "code",
   "execution_count": 23,
   "metadata": {},
   "outputs": [],
   "source": [
    "data = data.apply(relationship_categories, axis=1)"
   ]
  },
  {
   "cell_type": "code",
   "execution_count": 24,
   "metadata": {},
   "outputs": [
    {
     "data": {
      "text/plain": [
       "relationship      8\n",
       "marital-status    7\n",
       "dtype: int64"
      ]
     },
     "execution_count": 24,
     "metadata": {},
     "output_type": "execute_result"
    }
   ],
   "source": [
    "data[[\"relationship\", \"marital-status\"]].isnull().sum()"
   ]
  },
  {
   "cell_type": "markdown",
   "metadata": {},
   "source": [
    "Teraz sa sustredime na missing values"
   ]
  },
  {
   "cell_type": "code",
   "execution_count": 25,
   "metadata": {},
   "outputs": [],
   "source": [
    "from sklearn.experimental import enable_iterative_imputer \n",
    "from sklearn import impute \n",
    "from sklearn import preprocessing\n",
    "import category_encoders as ce"
   ]
  },
  {
   "cell_type": "code",
   "execution_count": 26,
   "metadata": {},
   "outputs": [],
   "source": [
    "def categ_impute_iterativeImputer(data, columns, initial_strategy=\"most_frequent\", \n",
    "                                  max_iter=20, join=True):\n",
    "\n",
    "    data = data.copy()\n",
    "    \n",
    "    X = data[columns]\n",
    "    \n",
    "\n",
    "    null_values = pd.DataFrame(index=pd.Index([-1]), columns=columns, data=[[np.nan for i in range(len(columns))]])\n",
    "    X = pd.concat([null_values,X])\n",
    "\n",
    "    encoder = ce.ordinal.OrdinalEncoder(handle_missing=\"return_nan\", handle_unknown=\"return_nan\")\n",
    "    X = encoder.fit_transform(X)\n",
    "    \n",
    "    X = X[1:]\n",
    "\n",
    "    iterative_impute = impute.IterativeImputer(max_iter=20, random_state=42, initial_strategy=\"most_frequent\", \n",
    "                                              min_value=X.min(), max_value=X.max())\n",
    "\n",
    "\n",
    "    try:\n",
    "        X = iterative_impute.fit_transform(X).round()\n",
    "    except (ValueError, np.linalg.LinAlgError):\n",
    "        print(\"Jeden error bol trapnuty, kedy funkcii vadili NaNs. Tento error je ale divny, lebo mu to vadi\", \\\n",
    "              \"len prvy krat, a potom to uz ide...\")\n",
    "        X = iterative_impute.fit_transform(X).round()\n",
    "    \n",
    "    X = pd.DataFrame(data=X, columns=columns)    \n",
    "    \n",
    "    if join:\n",
    "        \n",
    "        X = encoder.inverse_transform(X)\n",
    "        data[columns] = X\n",
    "        return data\n",
    "        \n",
    "    else:\n",
    "        return encoder.inverse_transform(X)\n",
    "\n"
   ]
  },
  {
   "cell_type": "markdown",
   "metadata": {},
   "source": [
    "Potom mozno najedme dalsie pomocne atributy, ktore nam lepsie pomozu pri estimacii missing values..."
   ]
  },
  {
   "cell_type": "code",
   "execution_count": 27,
   "metadata": {},
   "outputs": [
    {
     "name": "stdout",
     "output_type": "stream",
     "text": [
      "Jeden error bol trapnuty, kedy funkcii vadili NaNs. Tento error je ale divny, lebo mu to vadi len prvy krat, a potom to uz ide...\n"
     ]
    }
   ],
   "source": [
    "#tento prikaz je zaujimavy v tom, ze prvykrat, ked sa callne, mu vadi NaN values, no druhykrat uz nie\n",
    "data = categ_impute_iterativeImputer(data, [\"relationship\", \"marital-status\"])"
   ]
  },
  {
   "cell_type": "markdown",
   "metadata": {},
   "source": [
    "Takto vyzeraju nase atributy uz so vsetkymi hodnotami"
   ]
  },
  {
   "cell_type": "code",
   "execution_count": 28,
   "metadata": {},
   "outputs": [
    {
     "name": "stdout",
     "output_type": "stream",
     "text": [
      "Husband          1625\n",
      "Not-in-family     968\n",
      "Other             735\n",
      "Own-child         605\n",
      "Name: relationship, dtype: int64\n"
     ]
    },
    {
     "data": {
      "image/png": "[encoded data removed]",
      "text/plain": [
       "<Figure size 432x288 with 1 Axes>"
      ]
     },
     "metadata": {
      "needs_background": "light"
     },
     "output_type": "display_data"
    }
   ],
   "source": [
    "visual.univariate_categ_to_class(data, \"relationship\")"
   ]
  },
  {
   "cell_type": "code",
   "execution_count": 29,
   "metadata": {},
   "outputs": [
    {
     "name": "stdout",
     "output_type": "stream",
     "text": [
      "Married-civ-spouse    1846\n",
      "Never-married         1238\n",
      "Divorced               546\n",
      "Other                  303\n",
      "Name: marital-status, dtype: int64\n"
     ]
    },
    {
     "data": {
      "image/png": "[encoded data removed]",
      "text/plain": [
       "<Figure size 432x288 with 1 Axes>"
      ]
     },
     "metadata": {
      "needs_background": "light"
     },
     "output_type": "display_data"
    }
   ],
   "source": [
    "visual.univariate_categ_to_class(data, \"marital-status\")"
   ]
  },
  {
   "cell_type": "code",
   "execution_count": 30,
   "metadata": {},
   "outputs": [
    {
     "data": {
      "image/png": "[encoded data removed]",
      "text/plain": [
       "<Figure size 432x288 with 2 Axes>"
      ]
     },
     "metadata": {
      "needs_background": "light"
     },
     "output_type": "display_data"
    }
   ],
   "source": [
    "visual.bivar_2cats(data=data, x=\"marital-status\", y=\"relationship\")"
   ]
  },
  {
   "cell_type": "markdown",
   "metadata": {},
   "source": [
    "### Skupina atributov: occupation, workclass, income, hours-per-week"
   ]
  },
  {
   "cell_type": "code",
   "execution_count": 31,
   "metadata": {},
   "outputs": [
    {
     "data": {
      "text/plain": [
       "['marital-status',\n",
       " 'relationship',\n",
       " 'occupation',\n",
       " 'income',\n",
       " 'workclass',\n",
       " 'hours-per-week',\n",
       " 'medical_info',\n",
       " 'class']"
      ]
     },
     "execution_count": 31,
     "metadata": {},
     "output_type": "execute_result"
    }
   ],
   "source": [
    "attributes_marcel"
   ]
  },
  {
   "cell_type": "markdown",
   "metadata": {},
   "source": [
    "Upraceme kategorie v tomto atribute. Vsetky mozne hodnoty boli zduplikovane, kedy v jednej variante sa pouzivali \"-\", zatial co v druhej \"_\""
   ]
  },
  {
   "cell_type": "code",
   "execution_count": 32,
   "metadata": {},
   "outputs": [],
   "source": [
    "data[\"occupation\"] = data[\"occupation\"].apply(lambda row: np.nan if row is not np.nan and row == \"?\" else row)\n",
    "data[\"occupation\"] = data[\"occupation\"].apply(lambda row: row.strip().replace(\"_\", \"-\") if row is not np.nan else row)"
   ]
  },
  {
   "cell_type": "code",
   "execution_count": 33,
   "metadata": {},
   "outputs": [
    {
     "name": "stdout",
     "output_type": "stream",
     "text": [
      "Craft-repair         522\n",
      "Prof-specialty       494\n",
      "Exec-managerial      481\n",
      "Adm-clerical         472\n",
      "Sales                431\n",
      "Other-service        400\n",
      "Machine-op-inspct    241\n",
      "Transport-moving     196\n",
      "Handlers-cleaners    162\n",
      "Tech-support         106\n",
      "Farming-fishing      104\n",
      "Protective-serv       72\n",
      "Priv-house-serv       12\n",
      "Armed-Forces           1\n",
      "Name: occupation, dtype: int64\n"
     ]
    },
    {
     "data": {
      "image/png": "[encoded data removed]",
      "text/plain": [
       "<Figure size 432x288 with 1 Axes>"
      ]
     },
     "metadata": {
      "needs_background": "light"
     },
     "output_type": "display_data"
    }
   ],
   "source": [
    "visual.univariate_categ_to_class(data, \"occupation\")"
   ]
  },
  {
   "cell_type": "markdown",
   "metadata": {},
   "source": [
    "Malo pocetne hodnoty mozeme mergnut do jednej hodnoty, no ako sme minule vraveli, nemyslime si, ze tento atribut je extra vypovedny pre nasu klasifikacnu ulohu. Avsak mozme ho mierne spracovat a doplnit mu missing values, aby sme neskor v modeli mohli otestovat, ci nam pomaha pri klasifikacii alebo nie. Mergneme 6 najmenej poslednych kategorii do jendej."
   ]
  },
  {
   "cell_type": "code",
   "execution_count": 34,
   "metadata": {},
   "outputs": [],
   "source": [
    "def occupation_categories(row):\n",
    "\n",
    "    occ = row[\"occupation\"]\n",
    "    \n",
    "    if occ is not np.nan and occ not in (\"Craft-repair\", \"Prof-specialty\", \"Exec-managerial\", \n",
    "                                         \"Adm-clerical\", \"Sales\", \"Other-service\", \"Machine-op-inspct\", \n",
    "                                         \"Transport-moving\"):\n",
    "        \n",
    "        row[\"occupation\"] = \"Other\"\n",
    "        \n",
    "    return row"
   ]
  },
  {
   "cell_type": "code",
   "execution_count": 35,
   "metadata": {},
   "outputs": [],
   "source": [
    "data = data.apply(occupation_categories, axis=1)"
   ]
  },
  {
   "cell_type": "code",
   "execution_count": 36,
   "metadata": {
    "scrolled": false
   },
   "outputs": [
    {
     "name": "stdout",
     "output_type": "stream",
     "text": [
      "Craft-repair         522\n",
      "Prof-specialty       494\n",
      "Exec-managerial      481\n",
      "Adm-clerical         472\n",
      "Other                457\n",
      "Sales                431\n",
      "Other-service        400\n",
      "Machine-op-inspct    241\n",
      "Transport-moving     196\n",
      "Name: occupation, dtype: int64\n"
     ]
    },
    {
     "data": {
      "image/png": "[encoded data removed]",
      "text/plain": [
       "<Figure size 432x288 with 1 Axes>"
      ]
     },
     "metadata": {
      "needs_background": "light"
     },
     "output_type": "display_data"
    }
   ],
   "source": [
    "visual.univariate_categ_to_class(data, \"occupation\")"
   ]
  },
  {
   "cell_type": "code",
   "execution_count": 37,
   "metadata": {},
   "outputs": [
    {
     "name": "stdout",
     "output_type": "stream",
     "text": [
      "Private             2756\n",
      "Self-emp-not-inc     289\n",
      "Local-gov            253\n",
      "State-gov            145\n",
      "Self-emp-inc         131\n",
      "Federal-gov          119\n",
      "Never-worked           2\n",
      "Without-pay            1\n",
      "Name: workclass, dtype: int64\n"
     ]
    },
    {
     "data": {
      "image/png": "[encoded data removed]",
      "text/plain": [
       "<Figure size 432x288 with 1 Axes>"
      ]
     },
     "metadata": {
      "needs_background": "light"
     },
     "output_type": "display_data"
    }
   ],
   "source": [
    "visual.univariate_categ_to_class(data, \"workclass\")"
   ]
  },
  {
   "cell_type": "markdown",
   "metadata": {},
   "source": [
    "Tu mergneme vsetky kategorie, ktore nie su private..."
   ]
  },
  {
   "cell_type": "code",
   "execution_count": 38,
   "metadata": {},
   "outputs": [],
   "source": [
    "def workclass_categories(row):\n",
    "\n",
    "    wc = row[\"workclass\"]\n",
    "    \n",
    "    if wc is not np.nan and wc != \"Private\":\n",
    "        row[\"workclass\"] = \"Non-private\"\n",
    "        \n",
    "    return row"
   ]
  },
  {
   "cell_type": "code",
   "execution_count": 39,
   "metadata": {},
   "outputs": [],
   "source": [
    "data = data.apply(workclass_categories, axis=1)"
   ]
  },
  {
   "cell_type": "code",
   "execution_count": 40,
   "metadata": {},
   "outputs": [
    {
     "name": "stdout",
     "output_type": "stream",
     "text": [
      "Private        2756\n",
      "Non-private     940\n",
      "Name: workclass, dtype: int64\n"
     ]
    },
    {
     "data": {
      "image/png": "[encoded data removed]",
      "text/plain": [
       "<Figure size 432x288 with 1 Axes>"
      ]
     },
     "metadata": {
      "needs_background": "light"
     },
     "output_type": "display_data"
    }
   ],
   "source": [
    "visual.univariate_categ_to_class(data, \"workclass\")"
   ]
  },
  {
   "cell_type": "code",
   "execution_count": 41,
   "metadata": {},
   "outputs": [
    {
     "data": {
      "image/png": "[encoded data removed]",
      "text/plain": [
       "<Figure size 432x288 with 2 Axes>"
      ]
     },
     "metadata": {
      "needs_background": "light"
     },
     "output_type": "display_data"
    }
   ],
   "source": [
    "visual.bivar_2cats(data=data, x=\"workclass\", y=\"occupation\")"
   ]
  },
  {
   "cell_type": "markdown",
   "metadata": {},
   "source": [
    "### Sem pridame aj education-num, lebo to je tiez celkom vhodny atribut do tejto kategorie..."
   ]
  },
  {
   "cell_type": "code",
   "execution_count": 42,
   "metadata": {},
   "outputs": [
    {
     "data": {
      "text/plain": [
       "workclass         237\n",
       "occupation        239\n",
       "income              5\n",
       "hours-per-week      9\n",
       "dtype: int64"
      ]
     },
     "execution_count": 42,
     "metadata": {},
     "output_type": "execute_result"
    }
   ],
   "source": [
    "data[[\"workclass\", \"occupation\", \"income\", \"hours-per-week\"]].isnull().sum()"
   ]
  },
  {
   "cell_type": "markdown",
   "metadata": {},
   "source": [
    "Ako mozno vidiet, je velke mnozstvo NaN hodnot, ktore potrebujeme vyriesit. Mohli by sme ich odstranit, najma pokial by sme nemali ine atributy, podla ktorych by sme mohli imputovat hodnoty, no kvoli tomu, ze je ich tolko vela na imputaciu, tak pouzijeme viacero atributov dokopy, ktore pouzijeme do IterativeImputer na doplnenie missing values.\n",
    "\n",
    "Este predtym, nez vykoname spominanu imputaciu missing values, treba predspracovat ostatne atributy.\n",
    "\n",
    "Atribut income netreba extra riesit, chybamu zopar hodnot, ale tie sa doplnia pri IterativeImputer"
   ]
  },
  {
   "cell_type": "code",
   "execution_count": 43,
   "metadata": {},
   "outputs": [
    {
     "name": "stdout",
     "output_type": "stream",
     "text": [
      "Korelacia medzi nasim atributom a y: -0.022582040803000948\n"
     ]
    },
    {
     "data": {
      "image/png": "[encoded data removed]",
      "text/plain": [
       "<Figure size 432x288 with 1 Axes>"
      ]
     },
     "metadata": {
      "needs_background": "light"
     },
     "output_type": "display_data"
    },
    {
     "data": {
      "image/png": "[encoded data removed]",
      "text/plain": [
       "<Figure size 432x288 with 1 Axes>"
      ]
     },
     "metadata": {
      "needs_background": "light"
     },
     "output_type": "display_data"
    }
   ],
   "source": [
    "visual.univariate_num_to_class(data, \"hours-per-week\")"
   ]
  },
  {
   "cell_type": "code",
   "execution_count": 44,
   "metadata": {},
   "outputs": [],
   "source": [
    "outliery = identify_outliers(data[\"hours-per-week\"])"
   ]
  },
  {
   "cell_type": "markdown",
   "metadata": {},
   "source": [
    "Je tu velke mnozstvo outlierov, ktore nemozeme len tak vymazat. Skusal som uz predtym aplikovat na tuto distribuciu viacero transformacii, ako PowerTransform alebo QuantileTransform, aby som transformoval spominane outliery, no bez uspechu. Dovodom, preco je tolko vela dat povazovanych za outlierov je, ze IQR je strasne maly. \n",
    "\n",
    "Rozhodol som sa, ze zkategorizujem tento atribut, cim vlastne aj mierne sa zbavim problemu outlierov."
   ]
  },
  {
   "cell_type": "code",
   "execution_count": 45,
   "metadata": {},
   "outputs": [
    {
     "name": "stdout",
     "output_type": "stream",
     "text": [
      "40.0\n",
      "40.0\n",
      "45.0\n"
     ]
    }
   ],
   "source": [
    "print(data[\"hours-per-week\"].quantile(0.25))\n",
    "print(data[\"hours-per-week\"].quantile(0.70))\n",
    "print(data[\"hours-per-week\"].quantile(0.75))"
   ]
  },
  {
   "cell_type": "code",
   "execution_count": 46,
   "metadata": {},
   "outputs": [],
   "source": [
    "def categorize_hours(row):\n",
    "    \n",
    "    hour = row[\"hours-per-week\"]\n",
    "    \n",
    "    if math.isnan(hour):\n",
    "        row[\"hours-per-week-cat\"] = math.nan\n",
    "    elif hour <= 35:\n",
    "        row[\"hours-per-week-cat\"] = \"<=35\"\n",
    "    elif hour <= 45:\n",
    "        row[\"hours-per-week-cat\"] = \"35< hours <=45\"\n",
    "    elif hour > 45:\n",
    "        row[\"hours-per-week-cat\"] = \">45\"        \n",
    "\n",
    "    return row\n",
    "        \n",
    "data[\"hours-per-week-cat\"] = 0\n",
    "data = data.apply(categorize_hours, axis=1)"
   ]
  },
  {
   "cell_type": "code",
   "execution_count": 47,
   "metadata": {},
   "outputs": [
    {
     "name": "stdout",
     "output_type": "stream",
     "text": [
      "35< hours <=45    2260\n",
      "<=35               839\n",
      ">45                825\n",
      "Name: hours-per-week-cat, dtype: int64\n"
     ]
    },
    {
     "data": {
      "image/png": "[encoded data removed]",
      "text/plain": [
       "<Figure size 432x288 with 1 Axes>"
      ]
     },
     "metadata": {
      "needs_background": "light"
     },
     "output_type": "display_data"
    }
   ],
   "source": [
    "visual.univariate_categ_to_class(data, \"hours-per-week-cat\")"
   ]
  },
  {
   "cell_type": "code",
   "execution_count": 48,
   "metadata": {},
   "outputs": [
    {
     "name": "stdout",
     "output_type": "stream",
     "text": [
      "Jeden error bol trapnuty, kedy funkcii vadili NaNs. Tento error je ale divny, lebo mu to vadi len prvy krat, a potom to uz ide...\n"
     ]
    }
   ],
   "source": [
    "data = data.drop(columns=[\"hours-per-week\"])\n",
    "data = categ_impute_iterativeImputer(data, [\"occupation\", \"workclass\", \"income\", \"hours-per-week-cat\"], max_iter=20)"
   ]
  },
  {
   "cell_type": "markdown",
   "metadata": {},
   "source": [
    "Podme sa teraz pozriet najma na atributy occupation a workclass, ktorym velkme mnozstvo hodnot chybalo"
   ]
  },
  {
   "cell_type": "code",
   "execution_count": 49,
   "metadata": {},
   "outputs": [
    {
     "name": "stdout",
     "output_type": "stream",
     "text": [
      "Other                677\n",
      "Craft-repair         541\n",
      "Prof-specialty       494\n",
      "Exec-managerial      481\n",
      "Adm-clerical         472\n",
      "Sales                431\n",
      "Other-service        400\n",
      "Machine-op-inspct    241\n",
      "Transport-moving     196\n",
      "Name: occupation, dtype: int64\n"
     ]
    },
    {
     "data": {
      "image/png": "[encoded data removed]",
      "text/plain": [
       "<Figure size 432x288 with 1 Axes>"
      ]
     },
     "metadata": {
      "needs_background": "light"
     },
     "output_type": "display_data"
    }
   ],
   "source": [
    "visual.univariate_categ_to_class(data, \"occupation\")"
   ]
  },
  {
   "cell_type": "code",
   "execution_count": 50,
   "metadata": {},
   "outputs": [
    {
     "name": "stdout",
     "output_type": "stream",
     "text": [
      "Private        2993\n",
      "Non-private     940\n",
      "Name: workclass, dtype: int64\n"
     ]
    },
    {
     "data": {
      "image/png": "[encoded data removed]",
      "text/plain": [
       "<Figure size 432x288 with 1 Axes>"
      ]
     },
     "metadata": {
      "needs_background": "light"
     },
     "output_type": "display_data"
    }
   ],
   "source": [
    "visual.univariate_categ_to_class(data, \"workclass\")"
   ]
  },
  {
   "cell_type": "code",
   "execution_count": 51,
   "metadata": {},
   "outputs": [
    {
     "data": {
      "text/html": [
       "<div>\n",
       "<style scoped>\n",
       "    .dataframe tbody tr th:only-of-type {\n",
       "        vertical-align: middle;\n",
       "    }\n",
       "\n",
       "    .dataframe tbody tr th {\n",
       "        vertical-align: top;\n",
       "    }\n",
       "\n",
       "    .dataframe thead th {\n",
       "        text-align: right;\n",
       "    }\n",
       "</style>\n",
       "<table border=\"1\" class=\"dataframe\">\n",
       "  <thead>\n",
       "    <tr style=\"text-align: right;\">\n",
       "      <th></th>\n",
       "      <th>index</th>\n",
       "      <th>age</th>\n",
       "      <th>sex</th>\n",
       "      <th>date_of_birth</th>\n",
       "      <th>address</th>\n",
       "      <th>race</th>\n",
       "      <th>marital-status</th>\n",
       "      <th>occupation</th>\n",
       "      <th>education-num</th>\n",
       "      <th>relationship</th>\n",
       "      <th>...</th>\n",
       "      <th>mean_glucose</th>\n",
       "      <th>kurtosis_glucose</th>\n",
       "      <th>education</th>\n",
       "      <th>class</th>\n",
       "      <th>std_glucose</th>\n",
       "      <th>income</th>\n",
       "      <th>medical_info</th>\n",
       "      <th>native-country</th>\n",
       "      <th>workclass</th>\n",
       "      <th>hours-per-week-cat</th>\n",
       "    </tr>\n",
       "  </thead>\n",
       "  <tbody>\n",
       "    <tr>\n",
       "      <th>439</th>\n",
       "      <td>440</td>\n",
       "      <td>62</td>\n",
       "      <td>Female</td>\n",
       "      <td>57-09-03</td>\n",
       "      <td>961 Jesse Extensions\\r\\nThompsonville, DC 47389</td>\n",
       "      <td>Black</td>\n",
       "      <td>Never-married</td>\n",
       "      <td>Other-service</td>\n",
       "      <td>9.0</td>\n",
       "      <td>Other</td>\n",
       "      <td>...</td>\n",
       "      <td>149.421875</td>\n",
       "      <td>-0.299657</td>\n",
       "      <td>NaN</td>\n",
       "      <td>NaN</td>\n",
       "      <td>49.993220</td>\n",
       "      <td>&lt;=50K</td>\n",
       "      <td>{'mean_oxygen':'85.84280936','std_oxygen':'93....</td>\n",
       "      <td>United-States</td>\n",
       "      <td>Non-private</td>\n",
       "      <td>35&lt; hours &lt;=45</td>\n",
       "    </tr>\n",
       "    <tr>\n",
       "      <th>1428</th>\n",
       "      <td>1441</td>\n",
       "      <td>-3500</td>\n",
       "      <td>Male</td>\n",
       "      <td>1984-04-25</td>\n",
       "      <td>974 Barnes Vista\\r\\nRichburgh, IA 08339</td>\n",
       "      <td>NaN</td>\n",
       "      <td>Never-married</td>\n",
       "      <td>Sales</td>\n",
       "      <td>13.0</td>\n",
       "      <td>Not-in-family</td>\n",
       "      <td>...</td>\n",
       "      <td>NaN</td>\n",
       "      <td>0.663868</td>\n",
       "      <td>Bachelors</td>\n",
       "      <td>NaN</td>\n",
       "      <td>45.005769</td>\n",
       "      <td>&lt;=50K</td>\n",
       "      <td>{'mean_oxygen':'2.58361204','std_oxygen':'19.4...</td>\n",
       "      <td>United-States</td>\n",
       "      <td>Non-private</td>\n",
       "      <td>35&lt; hours &lt;=45</td>\n",
       "    </tr>\n",
       "    <tr>\n",
       "      <th>1608</th>\n",
       "      <td>1622</td>\n",
       "      <td>39</td>\n",
       "      <td>Male</td>\n",
       "      <td>1980-02-22 00:00:00</td>\n",
       "      <td>PSC 6528, Box 2421\\r\\nAPO AA 67256</td>\n",
       "      <td>NaN</td>\n",
       "      <td>Married-civ-spouse</td>\n",
       "      <td>Exec-managerial</td>\n",
       "      <td>13.0</td>\n",
       "      <td>Husband</td>\n",
       "      <td>...</td>\n",
       "      <td>111.0234375</td>\n",
       "      <td>0.122113</td>\n",
       "      <td>Bachelors</td>\n",
       "      <td>NaN</td>\n",
       "      <td>40.881969</td>\n",
       "      <td>&lt;=50K</td>\n",
       "      <td>{'mean_oxygen':'2.673076923','std_oxygen':'15....</td>\n",
       "      <td>Poland</td>\n",
       "      <td>Private</td>\n",
       "      <td>&lt;=35</td>\n",
       "    </tr>\n",
       "    <tr>\n",
       "      <th>1754</th>\n",
       "      <td>1771</td>\n",
       "      <td>6300</td>\n",
       "      <td>Female</td>\n",
       "      <td>56-01-18</td>\n",
       "      <td>82549 Michelle Plain\\r\\nPort Carl, GA 39389</td>\n",
       "      <td>White</td>\n",
       "      <td>Divorced</td>\n",
       "      <td>Other</td>\n",
       "      <td>10.0</td>\n",
       "      <td>Not-in-family</td>\n",
       "      <td>...</td>\n",
       "      <td>14.3359375</td>\n",
       "      <td>5.856152</td>\n",
       "      <td>Some-college</td>\n",
       "      <td>NaN</td>\n",
       "      <td>31.947290</td>\n",
       "      <td>&lt;=50K</td>\n",
       "      <td>{'mean_oxygen':'23.03093645','std_oxygen':'48....</td>\n",
       "      <td>United-States</td>\n",
       "      <td>Private</td>\n",
       "      <td>35&lt; hours &lt;=45</td>\n",
       "    </tr>\n",
       "    <tr>\n",
       "      <th>1864</th>\n",
       "      <td>1884</td>\n",
       "      <td>4700</td>\n",
       "      <td>Female</td>\n",
       "      <td>1971-11-12</td>\n",
       "      <td>8413 James Branch Suite 359\\r\\nEast Hannah, DC...</td>\n",
       "      <td>White</td>\n",
       "      <td>Never-married</td>\n",
       "      <td>Other</td>\n",
       "      <td>NaN</td>\n",
       "      <td>Not-in-family</td>\n",
       "      <td>...</td>\n",
       "      <td>125.734375</td>\n",
       "      <td>0.026517</td>\n",
       "      <td>Bachelors</td>\n",
       "      <td>NaN</td>\n",
       "      <td>52.657722</td>\n",
       "      <td>&lt;=50K</td>\n",
       "      <td>{'mean_oxygen':'4.850334448','std_oxygen':'29....</td>\n",
       "      <td>United-States</td>\n",
       "      <td>Private</td>\n",
       "      <td>35&lt; hours &lt;=45</td>\n",
       "    </tr>\n",
       "    <tr>\n",
       "      <th>2283</th>\n",
       "      <td>2307</td>\n",
       "      <td>49</td>\n",
       "      <td>Male</td>\n",
       "      <td>1970-04-23</td>\n",
       "      <td>4679 Castillo Fort Apt. 242\\r\\nCourtneytown, A...</td>\n",
       "      <td>White</td>\n",
       "      <td>Married-civ-spouse</td>\n",
       "      <td>Other</td>\n",
       "      <td>9.0</td>\n",
       "      <td>Husband</td>\n",
       "      <td>...</td>\n",
       "      <td>117.234375</td>\n",
       "      <td>0.639060</td>\n",
       "      <td>HS-grad</td>\n",
       "      <td>NaN</td>\n",
       "      <td>47.797667</td>\n",
       "      <td>&lt;=50K</td>\n",
       "      <td>{'mean_oxygen':'1.717391304','std_oxygen':'14....</td>\n",
       "      <td>United-States</td>\n",
       "      <td>Private</td>\n",
       "      <td>35&lt; hours &lt;=45</td>\n",
       "    </tr>\n",
       "    <tr>\n",
       "      <th>2399</th>\n",
       "      <td>2429</td>\n",
       "      <td>60</td>\n",
       "      <td>Female</td>\n",
       "      <td>1959-06-29</td>\n",
       "      <td>545 Marshall Rapid\\r\\nEast Stephanieborough, M...</td>\n",
       "      <td>White</td>\n",
       "      <td>Never-married</td>\n",
       "      <td>Other</td>\n",
       "      <td>12.0</td>\n",
       "      <td>Not-in-family</td>\n",
       "      <td>...</td>\n",
       "      <td>114.78125</td>\n",
       "      <td>0.211148</td>\n",
       "      <td>Assoc-acdm</td>\n",
       "      <td>NaN</td>\n",
       "      <td>64.411632</td>\n",
       "      <td>&lt;=50K</td>\n",
       "      <td>{'mean_oxygen':'2.779264214','std_oxygen':'23....</td>\n",
       "      <td>United-States</td>\n",
       "      <td>Private</td>\n",
       "      <td>35&lt; hours &lt;=45</td>\n",
       "    </tr>\n",
       "    <tr>\n",
       "      <th>2500</th>\n",
       "      <td>2532</td>\n",
       "      <td>57</td>\n",
       "      <td>Male</td>\n",
       "      <td>1962-02-17</td>\n",
       "      <td>646 Rachel Hollow Apt. 497\\r\\nStoutview, MN 15863</td>\n",
       "      <td>White</td>\n",
       "      <td>Never-married</td>\n",
       "      <td>Transport-moving</td>\n",
       "      <td>10.0</td>\n",
       "      <td>Own-child</td>\n",
       "      <td>...</td>\n",
       "      <td>131.1484375</td>\n",
       "      <td>-0.204942</td>\n",
       "      <td>Some-college</td>\n",
       "      <td>NaN</td>\n",
       "      <td>49.870001</td>\n",
       "      <td>&lt;=50K</td>\n",
       "      <td>{'mean_oxygen':'2.523411371','std_oxygen':'15....</td>\n",
       "      <td>United-States</td>\n",
       "      <td>Private</td>\n",
       "      <td>&lt;=35</td>\n",
       "    </tr>\n",
       "    <tr>\n",
       "      <th>3159</th>\n",
       "      <td>3199</td>\n",
       "      <td>6900</td>\n",
       "      <td>Male</td>\n",
       "      <td>1950-10-09</td>\n",
       "      <td>76441 Erin Trail\\r\\nWest Jared, WI 77001</td>\n",
       "      <td>White</td>\n",
       "      <td>Married-civ-spouse</td>\n",
       "      <td>Other</td>\n",
       "      <td>NaN</td>\n",
       "      <td>Husband</td>\n",
       "      <td>...</td>\n",
       "      <td>110.421875</td>\n",
       "      <td>0.396590</td>\n",
       "      <td>Doctorate</td>\n",
       "      <td>NaN</td>\n",
       "      <td>53.736715</td>\n",
       "      <td>&gt;50K</td>\n",
       "      <td>{'mean_oxygen':'3.421404682','std_oxygen':'22....</td>\n",
       "      <td>NaN</td>\n",
       "      <td>Non-private</td>\n",
       "      <td>&gt;45</td>\n",
       "    </tr>\n",
       "  </tbody>\n",
       "</table>\n",
       "<p>9 rows × 21 columns</p>\n",
       "</div>"
      ],
      "text/plain": [
       "      index   age     sex        date_of_birth  \\\n",
       "439     440    62  Female             57-09-03   \n",
       "1428   1441 -3500    Male           1984-04-25   \n",
       "1608   1622    39    Male  1980-02-22 00:00:00   \n",
       "1754   1771  6300  Female             56-01-18   \n",
       "1864   1884  4700  Female           1971-11-12   \n",
       "2283   2307    49    Male           1970-04-23   \n",
       "2399   2429    60  Female           1959-06-29   \n",
       "2500   2532    57    Male           1962-02-17   \n",
       "3159   3199  6900    Male           1950-10-09   \n",
       "\n",
       "                                                address   race  \\\n",
       "439     961 Jesse Extensions\\r\\nThompsonville, DC 47389  Black   \n",
       "1428            974 Barnes Vista\\r\\nRichburgh, IA 08339    NaN   \n",
       "1608                 PSC 6528, Box 2421\\r\\nAPO AA 67256    NaN   \n",
       "1754        82549 Michelle Plain\\r\\nPort Carl, GA 39389  White   \n",
       "1864  8413 James Branch Suite 359\\r\\nEast Hannah, DC...  White   \n",
       "2283  4679 Castillo Fort Apt. 242\\r\\nCourtneytown, A...  White   \n",
       "2399  545 Marshall Rapid\\r\\nEast Stephanieborough, M...  White   \n",
       "2500  646 Rachel Hollow Apt. 497\\r\\nStoutview, MN 15863  White   \n",
       "3159           76441 Erin Trail\\r\\nWest Jared, WI 77001  White   \n",
       "\n",
       "          marital-status        occupation  education-num   relationship  ...  \\\n",
       "439        Never-married     Other-service            9.0          Other  ...   \n",
       "1428       Never-married             Sales           13.0  Not-in-family  ...   \n",
       "1608  Married-civ-spouse   Exec-managerial           13.0        Husband  ...   \n",
       "1754            Divorced             Other           10.0  Not-in-family  ...   \n",
       "1864       Never-married             Other            NaN  Not-in-family  ...   \n",
       "2283  Married-civ-spouse             Other            9.0        Husband  ...   \n",
       "2399       Never-married             Other           12.0  Not-in-family  ...   \n",
       "2500       Never-married  Transport-moving           10.0      Own-child  ...   \n",
       "3159  Married-civ-spouse             Other            NaN        Husband  ...   \n",
       "\n",
       "      mean_glucose kurtosis_glucose     education class  std_glucose  income  \\\n",
       "439     149.421875        -0.299657           NaN   NaN    49.993220   <=50K   \n",
       "1428           NaN         0.663868     Bachelors   NaN    45.005769   <=50K   \n",
       "1608   111.0234375         0.122113     Bachelors   NaN    40.881969   <=50K   \n",
       "1754    14.3359375         5.856152  Some-college   NaN    31.947290   <=50K   \n",
       "1864    125.734375         0.026517     Bachelors   NaN    52.657722   <=50K   \n",
       "2283    117.234375         0.639060       HS-grad   NaN    47.797667   <=50K   \n",
       "2399     114.78125         0.211148    Assoc-acdm   NaN    64.411632   <=50K   \n",
       "2500   131.1484375        -0.204942  Some-college   NaN    49.870001   <=50K   \n",
       "3159    110.421875         0.396590     Doctorate   NaN    53.736715    >50K   \n",
       "\n",
       "                                           medical_info native-country  \\\n",
       "439   {'mean_oxygen':'85.84280936','std_oxygen':'93....  United-States   \n",
       "1428  {'mean_oxygen':'2.58361204','std_oxygen':'19.4...  United-States   \n",
       "1608  {'mean_oxygen':'2.673076923','std_oxygen':'15....         Poland   \n",
       "1754  {'mean_oxygen':'23.03093645','std_oxygen':'48....  United-States   \n",
       "1864  {'mean_oxygen':'4.850334448','std_oxygen':'29....  United-States   \n",
       "2283  {'mean_oxygen':'1.717391304','std_oxygen':'14....  United-States   \n",
       "2399  {'mean_oxygen':'2.779264214','std_oxygen':'23....  United-States   \n",
       "2500  {'mean_oxygen':'2.523411371','std_oxygen':'15....  United-States   \n",
       "3159  {'mean_oxygen':'3.421404682','std_oxygen':'22....            NaN   \n",
       "\n",
       "        workclass hours-per-week-cat  \n",
       "439   Non-private     35< hours <=45  \n",
       "1428  Non-private     35< hours <=45  \n",
       "1608      Private               <=35  \n",
       "1754      Private     35< hours <=45  \n",
       "1864      Private     35< hours <=45  \n",
       "2283      Private     35< hours <=45  \n",
       "2399      Private     35< hours <=45  \n",
       "2500      Private               <=35  \n",
       "3159  Non-private                >45  \n",
       "\n",
       "[9 rows x 21 columns]"
      ]
     },
     "execution_count": 51,
     "metadata": {},
     "output_type": "execute_result"
    }
   ],
   "source": [
    "data[data[\"class\"].isnull()]"
   ]
  },
  {
   "cell_type": "markdown",
   "metadata": {},
   "source": [
    "### medical_info \n",
    "\n",
    "Ako vieme uz z minulej casti, v tomto atribute su ulozene 4 atributy, ktore sa sustreduju na namerane hodnoty mnozstva kyslika v krvi pacientov.\n",
    "\n",
    "Najprv budeme riesit outliery jednotlivych atributov, a potom spolu naraz im vyriesime missing values cez IterativeImputator"
   ]
  },
  {
   "cell_type": "code",
   "execution_count": 52,
   "metadata": {},
   "outputs": [],
   "source": [
    "data[\"mean_oxygen\"] = np.nan\n",
    "data[\"std_oxygen\"] = np.nan\n",
    "data[\"kurtosis_oxygen\"] = np.nan\n",
    "data[\"skewness_oxygen\"] = np.nan"
   ]
  },
  {
   "cell_type": "code",
   "execution_count": 53,
   "metadata": {},
   "outputs": [],
   "source": [
    "def get_oxygen_stats(row):\n",
    "    \n",
    "    string = row[\"medical_info\"]\n",
    "    \n",
    "    if string is np.nan:\n",
    "        return row\n",
    "    \n",
    "    string = string.replace(\"\\'\", \"\\\"\")\n",
    "    di = json.loads(string)\n",
    "    \n",
    "    for k in di.keys():\n",
    "        row[k] = float(di[k])\n",
    "        \n",
    "    return row"
   ]
  },
  {
   "cell_type": "code",
   "execution_count": 54,
   "metadata": {},
   "outputs": [],
   "source": [
    "data = data.apply(get_oxygen_stats, axis=1)\n",
    "data = data.drop(columns=[\"medical_info\"])"
   ]
  },
  {
   "cell_type": "markdown",
   "metadata": {},
   "source": [
    "#### mean_oxygen"
   ]
  },
  {
   "cell_type": "code",
   "execution_count": 55,
   "metadata": {},
   "outputs": [
    {
     "name": "stdout",
     "output_type": "stream",
     "text": [
      "count    3924.000000\n",
      "mean       18.443141\n",
      "std        34.723910\n",
      "min         0.213211\n",
      "25%         2.065217\n",
      "50%         3.237040\n",
      "75%        12.619983\n",
      "max       217.371238\n",
      "Name: mean_oxygen, dtype: float64\n",
      "Skewness: 2.625728748203792\n",
      "Kurtosis: 6.541974040571324\n"
     ]
    },
    {
     "data": {
      "image/png": "[encoded data removed]",
      "text/plain": [
       "<Figure size 432x288 with 1 Axes>"
      ]
     },
     "metadata": {
      "needs_background": "light"
     },
     "output_type": "display_data"
    },
    {
     "data": {
      "image/png": "[encoded data removed]",
      "text/plain": [
       "<Figure size 432x288 with 1 Axes>"
      ]
     },
     "metadata": {
      "needs_background": "light"
     },
     "output_type": "display_data"
    },
    {
     "data": {
      "text/plain": [
       "(695,)"
      ]
     },
     "execution_count": 55,
     "metadata": {},
     "output_type": "execute_result"
    }
   ],
   "source": [
    "visual.univariate_num(data, \"mean_oxygen\")\n",
    "identify_outliers(data[\"mean_oxygen\"]).shape"
   ]
  },
  {
   "cell_type": "code",
   "execution_count": 56,
   "metadata": {},
   "outputs": [
    {
     "name": "stdout",
     "output_type": "stream",
     "text": [
      "Korelacia medzi nasim atributom a y: 0.5172635777288903\n"
     ]
    },
    {
     "data": {
      "image/png": "[encoded data removed]",
      "text/plain": [
       "<Figure size 432x288 with 1 Axes>"
      ]
     },
     "metadata": {
      "needs_background": "light"
     },
     "output_type": "display_data"
    },
    {
     "data": {
      "image/png": "[encoded data removed]",
      "text/plain": [
       "<Figure size 432x288 with 1 Axes>"
      ]
     },
     "metadata": {
      "needs_background": "light"
     },
     "output_type": "display_data"
    },
    {
     "name": "stderr",
     "output_type": "stream",
     "text": [
      "c:\\users\\marcel\\appdata\\local\\programs\\python\\python38\\lib\\site-packages\\numpy\\linalg\\linalg.py:1872: RuntimeWarning: invalid value encountered in greater\n",
      "  return count_nonzero(S > tol, axis=-1)\n"
     ]
    },
    {
     "data": {
      "image/png": "[encoded data removed]",
      "text/plain": [
       "<Figure size 432x288 with 1 Axes>"
      ]
     },
     "metadata": {
      "needs_background": "light"
     },
     "output_type": "display_data"
    }
   ],
   "source": [
    "visual.univariate_num_to_class(data, \"mean_oxygen\")"
   ]
  },
  {
   "cell_type": "markdown",
   "metadata": {},
   "source": [
    "Klucom pri spracovavani outlierov pri vacsine tychto medicinskych merani, je rozdelit si dany atribut podla target atributu. Ako mozno vidiet vyssie, tak vidime, ze dane distribucie hodnot tohto atributu podla hodnoty class su radikalne odlisne."
   ]
  },
  {
   "cell_type": "code",
   "execution_count": 57,
   "metadata": {},
   "outputs": [
    {
     "name": "stdout",
     "output_type": "stream",
     "text": [
      "Pocet outlierov: (358,)\n",
      "Pocet outlierov: (7,)\n"
     ]
    }
   ],
   "source": [
    "data_y0 = data[data[\"class\"] == 0][\"mean_oxygen\"]\n",
    "data_y1 = data[data[\"class\"] == 1][\"mean_oxygen\"]\n",
    "\n",
    "print(\"Pocet outlierov:\", identify_outliers(data_y0).shape)\n",
    "print(\"Pocet outlierov:\", identify_outliers(data_y1).shape)"
   ]
  },
  {
   "cell_type": "markdown",
   "metadata": {},
   "source": [
    "Uz len tymto rozdelenim hodnot do dvoch distribucii sme sa zbavili polovice outlierov. Keby sme to tak nespravili, tak velke mnozstvo cukrovkarov by bolo odstranenych, i ked oni sami, ked ich porovname k ostatnym cukrovkarom, nie su outliermi."
   ]
  },
  {
   "cell_type": "code",
   "execution_count": 58,
   "metadata": {},
   "outputs": [],
   "source": [
    "power = preprocessing.PowerTransformer()\n",
    "new_data = power.fit_transform(data[\"mean_oxygen\"].to_frame())"
   ]
  },
  {
   "cell_type": "code",
   "execution_count": 59,
   "metadata": {},
   "outputs": [
    {
     "data": {
      "text/plain": [
       "(0,)"
      ]
     },
     "execution_count": 59,
     "metadata": {},
     "output_type": "execute_result"
    },
    {
     "data": {
      "image/png": "[encoded data removed]",
      "text/plain": [
       "<Figure size 432x288 with 1 Axes>"
      ]
     },
     "metadata": {
      "needs_background": "light"
     },
     "output_type": "display_data"
    }
   ],
   "source": [
    "sns.distplot(new_data)\n",
    "new_data = pd.Series(new_data.reshape(-1), name=\"data\")\n",
    "data[\"new_data\"] = new_data\n",
    "\n",
    "identify_outliers(new_data).shape"
   ]
  },
  {
   "cell_type": "code",
   "execution_count": 60,
   "metadata": {},
   "outputs": [
    {
     "name": "stdout",
     "output_type": "stream",
     "text": [
      "Korelacia medzi nasim atributom a y: 0.6424056166901284\n"
     ]
    },
    {
     "data": {
      "image/png": "[encoded data removed]",
      "text/plain": [
       "<Figure size 432x288 with 1 Axes>"
      ]
     },
     "metadata": {
      "needs_background": "light"
     },
     "output_type": "display_data"
    },
    {
     "data": {
      "image/png": "[encoded data removed]",
      "text/plain": [
       "<Figure size 432x288 with 1 Axes>"
      ]
     },
     "metadata": {
      "needs_background": "light"
     },
     "output_type": "display_data"
    },
    {
     "name": "stderr",
     "output_type": "stream",
     "text": [
      "c:\\users\\marcel\\appdata\\local\\programs\\python\\python38\\lib\\site-packages\\numpy\\linalg\\linalg.py:1872: RuntimeWarning: invalid value encountered in greater\n",
      "  return count_nonzero(S > tol, axis=-1)\n"
     ]
    },
    {
     "data": {
      "image/png": "[encoded data removed]",
      "text/plain": [
       "<Figure size 432x288 with 1 Axes>"
      ]
     },
     "metadata": {
      "needs_background": "light"
     },
     "output_type": "display_data"
    }
   ],
   "source": [
    "visual.univariate_num_to_class(data, \"new_data\")"
   ]
  },
  {
   "cell_type": "markdown",
   "metadata": {},
   "source": [
    "Ako mozno vidiet, pokial by sme rovno na vsetky hodnoty **mean_oxygen** pouzili napriklad PowerTransform, tak sice by sme sa zbavili vsetkych outlierov, no taktiez by sme zahodili rozdielnost distribucii na zaklade hodnoty class."
   ]
  },
  {
   "cell_type": "markdown",
   "metadata": {},
   "source": [
    "Rozhodol som sa, ze odstranime outliery pri tomto atribute, co znamena, ze vacsina hodnot bude vymazana prave pre target triedu 0, co nam nevadi, lebo aj tak boli triedy nevyvazene."
   ]
  },
  {
   "cell_type": "code",
   "execution_count": 61,
   "metadata": {},
   "outputs": [],
   "source": [
    "idx = identify_outliers(data_y0).index.values\n",
    "data = data.drop(index=idx)\n",
    "\n",
    "idx = identify_outliers(data_y1).index.values\n",
    "data = data.drop(index=idx)"
   ]
  },
  {
   "cell_type": "code",
   "execution_count": 62,
   "metadata": {},
   "outputs": [
    {
     "name": "stdout",
     "output_type": "stream",
     "text": [
      "Korelacia medzi nasim atributom a y: 0.6576775365977274\n"
     ]
    },
    {
     "data": {
      "image/png": "[encoded data removed]",
      "text/plain": [
       "<Figure size 432x288 with 1 Axes>"
      ]
     },
     "metadata": {
      "needs_background": "light"
     },
     "output_type": "display_data"
    },
    {
     "data": {
      "image/png": "[encoded data removed]",
      "text/plain": [
       "<Figure size 432x288 with 1 Axes>"
      ]
     },
     "metadata": {
      "needs_background": "light"
     },
     "output_type": "display_data"
    },
    {
     "name": "stderr",
     "output_type": "stream",
     "text": [
      "c:\\users\\marcel\\appdata\\local\\programs\\python\\python38\\lib\\site-packages\\numpy\\linalg\\linalg.py:1872: RuntimeWarning: invalid value encountered in greater\n",
      "  return count_nonzero(S > tol, axis=-1)\n",
      "c:\\users\\marcel\\appdata\\local\\programs\\python\\python38\\lib\\site-packages\\statsmodels\\genmod\\families\\family.py:894: RuntimeWarning: invalid value encountered in true_divide\n",
      "  n_endog_mu = self._clean((1. - endog) / (1. - mu))\n"
     ]
    },
    {
     "data": {
      "image/png": "[encoded data removed]",
      "text/plain": [
       "<Figure size 432x288 with 1 Axes>"
      ]
     },
     "metadata": {
      "needs_background": "light"
     },
     "output_type": "display_data"
    }
   ],
   "source": [
    "visual.univariate_num_to_class(data, \"mean_oxygen\")"
   ]
  },
  {
   "cell_type": "markdown",
   "metadata": {},
   "source": [
    "Teraz mozme vyskusat znova pouzit PowerTransformer"
   ]
  },
  {
   "cell_type": "code",
   "execution_count": 63,
   "metadata": {},
   "outputs": [],
   "source": [
    "power = preprocessing.StandardScaler()\n",
    "new_data = power.fit_transform(data[\"mean_oxygen\"].to_frame())"
   ]
  },
  {
   "cell_type": "code",
   "execution_count": 64,
   "metadata": {},
   "outputs": [
    {
     "data": {
      "image/png": "[encoded data removed]",
      "text/plain": [
       "<Figure size 432x288 with 1 Axes>"
      ]
     },
     "metadata": {
      "needs_background": "light"
     },
     "output_type": "display_data"
    }
   ],
   "source": [
    "sns.distplot(new_data)\n",
    "\n",
    "data[\"new_data\"] = pd.Series(new_data.reshape(-1))"
   ]
  },
  {
   "cell_type": "markdown",
   "metadata": {},
   "source": [
    "#### std_oxygen"
   ]
  },
  {
   "cell_type": "code",
   "execution_count": 65,
   "metadata": {},
   "outputs": [
    {
     "name": "stdout",
     "output_type": "stream",
     "text": [
      "Korelacia medzi nasim atributom a y: 0.8284349917810904\n"
     ]
    },
    {
     "data": {
      "image/png": "[encoded data removed]",
      "text/plain": [
       "<Figure size 432x288 with 1 Axes>"
      ]
     },
     "metadata": {
      "needs_background": "light"
     },
     "output_type": "display_data"
    },
    {
     "data": {
      "image/png": "[encoded data removed]",
      "text/plain": [
       "<Figure size 432x288 with 1 Axes>"
      ]
     },
     "metadata": {
      "needs_background": "light"
     },
     "output_type": "display_data"
    },
    {
     "name": "stderr",
     "output_type": "stream",
     "text": [
      "c:\\users\\marcel\\appdata\\local\\programs\\python\\python38\\lib\\site-packages\\numpy\\linalg\\linalg.py:1872: RuntimeWarning: invalid value encountered in greater\n",
      "  return count_nonzero(S > tol, axis=-1)\n"
     ]
    },
    {
     "data": {
      "image/png": "[encoded data removed]",
      "text/plain": [
       "<Figure size 432x288 with 1 Axes>"
      ]
     },
     "metadata": {
      "needs_background": "light"
     },
     "output_type": "display_data"
    }
   ],
   "source": [
    "visual.univariate_num_to_class(data, \"std_oxygen\")"
   ]
  },
  {
   "cell_type": "code",
   "execution_count": 66,
   "metadata": {},
   "outputs": [
    {
     "data": {
      "text/plain": [
       "(516,)"
      ]
     },
     "execution_count": 66,
     "metadata": {},
     "output_type": "execute_result"
    }
   ],
   "source": [
    "identify_outliers(data[\"std_oxygen\"]).shape"
   ]
  },
  {
   "cell_type": "markdown",
   "metadata": {},
   "source": [
    "Znova to splitneme na 2 distribucie a pozrieme, kolko outlierov potom bude..."
   ]
  },
  {
   "cell_type": "code",
   "execution_count": 67,
   "metadata": {},
   "outputs": [
    {
     "name": "stdout",
     "output_type": "stream",
     "text": [
      "Pocet outlierov: (72,)\n",
      "Pocet outlierov: (0,)\n"
     ]
    }
   ],
   "source": [
    "data_y0 = data[data[\"class\"] == 0][\"std_oxygen\"]\n",
    "data_y1 = data[data[\"class\"] == 1][\"std_oxygen\"]\n",
    "\n",
    "print(\"Pocet outlierov:\", identify_outliers(data_y0).shape)\n",
    "print(\"Pocet outlierov:\", identify_outliers(data_y1).shape)"
   ]
  },
  {
   "cell_type": "code",
   "execution_count": 68,
   "metadata": {},
   "outputs": [],
   "source": [
    "idx = identify_outliers(data_y0).index.values\n",
    "data = data.drop(index=idx)"
   ]
  },
  {
   "cell_type": "code",
   "execution_count": 69,
   "metadata": {},
   "outputs": [
    {
     "name": "stdout",
     "output_type": "stream",
     "text": [
      "Korelacia medzi nasim atributom a y: 0.8351644671636412\n"
     ]
    },
    {
     "data": {
      "image/png": "[encoded data removed]",
      "text/plain": [
       "<Figure size 432x288 with 1 Axes>"
      ]
     },
     "metadata": {
      "needs_background": "light"
     },
     "output_type": "display_data"
    },
    {
     "data": {
      "image/png": "[encoded data removed]",
      "text/plain": [
       "<Figure size 432x288 with 1 Axes>"
      ]
     },
     "metadata": {
      "needs_background": "light"
     },
     "output_type": "display_data"
    },
    {
     "name": "stderr",
     "output_type": "stream",
     "text": [
      "c:\\users\\marcel\\appdata\\local\\programs\\python\\python38\\lib\\site-packages\\numpy\\linalg\\linalg.py:1872: RuntimeWarning: invalid value encountered in greater\n",
      "  return count_nonzero(S > tol, axis=-1)\n"
     ]
    },
    {
     "data": {
      "image/png": "[encoded data removed]",
      "text/plain": [
       "<Figure size 432x288 with 1 Axes>"
      ]
     },
     "metadata": {
      "needs_background": "light"
     },
     "output_type": "display_data"
    }
   ],
   "source": [
    "visual.univariate_num_to_class(data, \"std_oxygen\")"
   ]
  },
  {
   "cell_type": "markdown",
   "metadata": {},
   "source": [
    "#### skewness_oxygen"
   ]
  },
  {
   "cell_type": "code",
   "execution_count": 70,
   "metadata": {},
   "outputs": [
    {
     "name": "stdout",
     "output_type": "stream",
     "text": [
      "Korelacia medzi nasim atributom a y: -0.47007384014059744\n"
     ]
    },
    {
     "data": {
      "image/png": "[encoded data removed]",
      "text/plain": [
       "<Figure size 432x288 with 1 Axes>"
      ]
     },
     "metadata": {
      "needs_background": "light"
     },
     "output_type": "display_data"
    },
    {
     "data": {
      "image/png": "[encoded data removed]",
      "text/plain": [
       "<Figure size 432x288 with 1 Axes>"
      ]
     },
     "metadata": {
      "needs_background": "light"
     },
     "output_type": "display_data"
    },
    {
     "name": "stderr",
     "output_type": "stream",
     "text": [
      "c:\\users\\marcel\\appdata\\local\\programs\\python\\python38\\lib\\site-packages\\numpy\\linalg\\linalg.py:1872: RuntimeWarning: invalid value encountered in greater\n",
      "  return count_nonzero(S > tol, axis=-1)\n"
     ]
    },
    {
     "data": {
      "image/png": "[encoded data removed]",
      "text/plain": [
       "<Figure size 432x288 with 1 Axes>"
      ]
     },
     "metadata": {
      "needs_background": "light"
     },
     "output_type": "display_data"
    }
   ],
   "source": [
    "visual.univariate_num_to_class(data, \"skewness_oxygen\")"
   ]
  },
  {
   "cell_type": "code",
   "execution_count": 71,
   "metadata": {},
   "outputs": [
    {
     "data": {
      "text/plain": [
       "(166,)"
      ]
     },
     "execution_count": 71,
     "metadata": {},
     "output_type": "execute_result"
    }
   ],
   "source": [
    "identify_outliers(data[\"skewness_oxygen\"]).shape"
   ]
  },
  {
   "cell_type": "code",
   "execution_count": 72,
   "metadata": {},
   "outputs": [
    {
     "name": "stdout",
     "output_type": "stream",
     "text": [
      "Pocet outlierov: (161,)\n",
      "Pocet outlierov: (125,)\n"
     ]
    }
   ],
   "source": [
    "data_y0 = data[data[\"class\"] == 0][\"skewness_oxygen\"]\n",
    "data_y1 = data[data[\"class\"] == 1][\"skewness_oxygen\"]\n",
    "\n",
    "print(\"Pocet outlierov:\", identify_outliers(data_y0).shape)\n",
    "print(\"Pocet outlierov:\", identify_outliers(data_y1).shape)"
   ]
  },
  {
   "cell_type": "code",
   "execution_count": 73,
   "metadata": {},
   "outputs": [],
   "source": [
    "idx = identify_outliers(data_y0).index.values\n",
    "data = data.drop(index=idx)\n",
    "\n",
    "idx = identify_outliers(data_y1).index.values\n",
    "data = data.drop(index=idx)"
   ]
  },
  {
   "cell_type": "code",
   "execution_count": 74,
   "metadata": {},
   "outputs": [
    {
     "name": "stdout",
     "output_type": "stream",
     "text": [
      "Korelacia medzi nasim atributom a y: -0.6772021564333919\n"
     ]
    },
    {
     "data": {
      "image/png": "[encoded data removed]",
      "text/plain": [
       "<Figure size 432x288 with 1 Axes>"
      ]
     },
     "metadata": {
      "needs_background": "light"
     },
     "output_type": "display_data"
    },
    {
     "data": {
      "image/png": "[encoded data removed]",
      "text/plain": [
       "<Figure size 432x288 with 1 Axes>"
      ]
     },
     "metadata": {
      "needs_background": "light"
     },
     "output_type": "display_data"
    },
    {
     "name": "stderr",
     "output_type": "stream",
     "text": [
      "c:\\users\\marcel\\appdata\\local\\programs\\python\\python38\\lib\\site-packages\\numpy\\linalg\\linalg.py:1872: RuntimeWarning: invalid value encountered in greater\n",
      "  return count_nonzero(S > tol, axis=-1)\n"
     ]
    },
    {
     "data": {
      "image/png": "[encoded data removed]",
      "text/plain": [
       "<Figure size 432x288 with 1 Axes>"
      ]
     },
     "metadata": {
      "needs_background": "light"
     },
     "output_type": "display_data"
    }
   ],
   "source": [
    "visual.univariate_num_to_class(data, \"skewness_oxygen\")"
   ]
  },
  {
   "cell_type": "markdown",
   "metadata": {},
   "source": [
    "Najprv som chcel rovno transformovat tento atribut, aby som sa zbavil outlierov, no vyskusal som najprv vymazanie outierov v jednotlivych distribuciach podla hodnoty atributu class, cim som vyrazne zvysil korelaciu tohto atributu s target atributom."
   ]
  },
  {
   "cell_type": "markdown",
   "metadata": {},
   "source": [
    "#### kurtosis_oxygen"
   ]
  },
  {
   "cell_type": "code",
   "execution_count": 75,
   "metadata": {},
   "outputs": [
    {
     "name": "stdout",
     "output_type": "stream",
     "text": [
      "Korelacia medzi nasim atributom a y: -0.8307778215367214\n"
     ]
    },
    {
     "data": {
      "image/png": "[encoded data removed]",
      "text/plain": [
       "<Figure size 432x288 with 1 Axes>"
      ]
     },
     "metadata": {
      "needs_background": "light"
     },
     "output_type": "display_data"
    },
    {
     "data": {
      "image/png": "[encoded data removed]",
      "text/plain": [
       "<Figure size 432x288 with 1 Axes>"
      ]
     },
     "metadata": {
      "needs_background": "light"
     },
     "output_type": "display_data"
    },
    {
     "name": "stderr",
     "output_type": "stream",
     "text": [
      "c:\\users\\marcel\\appdata\\local\\programs\\python\\python38\\lib\\site-packages\\numpy\\linalg\\linalg.py:1872: RuntimeWarning: invalid value encountered in greater\n",
      "  return count_nonzero(S > tol, axis=-1)\n"
     ]
    },
    {
     "data": {
      "image/png": "[encoded data removed]",
      "text/plain": [
       "<Figure size 432x288 with 1 Axes>"
      ]
     },
     "metadata": {
      "needs_background": "light"
     },
     "output_type": "display_data"
    }
   ],
   "source": [
    "visual.univariate_num_to_class(data, \"kurtosis_oxygen\")"
   ]
  },
  {
   "cell_type": "code",
   "execution_count": 76,
   "metadata": {},
   "outputs": [
    {
     "name": "stdout",
     "output_type": "stream",
     "text": [
      "Pocet outlierov: (0,)\n"
     ]
    }
   ],
   "source": [
    "print(\"Pocet outlierov:\", identify_outliers(data[\"kurtosis_oxygen\"]).shape)"
   ]
  },
  {
   "cell_type": "code",
   "execution_count": 77,
   "metadata": {},
   "outputs": [
    {
     "name": "stdout",
     "output_type": "stream",
     "text": [
      "Pocet outlierov: (66,)\n",
      "Pocet outlierov: (75,)\n"
     ]
    }
   ],
   "source": [
    "data_y0 = data[data[\"class\"] == 0][\"skewness_oxygen\"]\n",
    "data_y1 = data[data[\"class\"] == 1][\"skewness_oxygen\"]\n",
    "\n",
    "print(\"Pocet outlierov:\", identify_outliers(data_y0).shape)\n",
    "print(\"Pocet outlierov:\", identify_outliers(data_y1).shape)"
   ]
  },
  {
   "cell_type": "code",
   "execution_count": 78,
   "metadata": {},
   "outputs": [],
   "source": [
    "idx = identify_outliers(data_y0).index.values\n",
    "data = data.drop(index=idx)\n",
    "\n",
    "idx = identify_outliers(data_y1).index.values\n",
    "data = data.drop(index=idx)"
   ]
  },
  {
   "cell_type": "code",
   "execution_count": 79,
   "metadata": {},
   "outputs": [
    {
     "name": "stdout",
     "output_type": "stream",
     "text": [
      "Korelacia medzi nasim atributom a y: -0.8544274492738746\n"
     ]
    },
    {
     "data": {
      "image/png": "[encoded data removed]",
      "text/plain": [
       "<Figure size 432x288 with 1 Axes>"
      ]
     },
     "metadata": {
      "needs_background": "light"
     },
     "output_type": "display_data"
    },
    {
     "data": {
      "image/png": "[encoded data removed]",
      "text/plain": [
       "<Figure size 432x288 with 1 Axes>"
      ]
     },
     "metadata": {
      "needs_background": "light"
     },
     "output_type": "display_data"
    },
    {
     "name": "stderr",
     "output_type": "stream",
     "text": [
      "c:\\users\\marcel\\appdata\\local\\programs\\python\\python38\\lib\\site-packages\\numpy\\linalg\\linalg.py:1872: RuntimeWarning: invalid value encountered in greater\n",
      "  return count_nonzero(S > tol, axis=-1)\n",
      "c:\\users\\marcel\\appdata\\local\\programs\\python\\python38\\lib\\site-packages\\statsmodels\\genmod\\families\\family.py:894: RuntimeWarning: invalid value encountered in true_divide\n",
      "  n_endog_mu = self._clean((1. - endog) / (1. - mu))\n",
      "c:\\users\\marcel\\appdata\\local\\programs\\python\\python38\\lib\\site-packages\\statsmodels\\genmod\\families\\links.py:188: RuntimeWarning: overflow encountered in exp\n",
      "  t = np.exp(-z)\n",
      "c:\\users\\marcel\\appdata\\local\\programs\\python\\python38\\lib\\site-packages\\statsmodels\\genmod\\families\\family.py:893: RuntimeWarning: invalid value encountered in true_divide\n",
      "  endog_mu = self._clean(endog / mu)\n"
     ]
    },
    {
     "data": {
      "image/png": "[encoded data removed]",
      "text/plain": [
       "<Figure size 432x288 with 1 Axes>"
      ]
     },
     "metadata": {
      "needs_background": "light"
     },
     "output_type": "display_data"
    }
   ],
   "source": [
    "visual.univariate_num_to_class(data, \"kurtosis_oxygen\")"
   ]
  },
  {
   "cell_type": "markdown",
   "metadata": {},
   "source": [
    "Teraz sa mozme sustredit na imputaciu missing values"
   ]
  },
  {
   "cell_type": "code",
   "execution_count": 80,
   "metadata": {},
   "outputs": [
    {
     "data": {
      "text/plain": [
       "mean_oxygen        9\n",
       "std_oxygen         9\n",
       "skewness_oxygen    9\n",
       "kurtosis_oxygen    9\n",
       "dtype: int64"
      ]
     },
     "execution_count": 80,
     "metadata": {},
     "output_type": "execute_result"
    }
   ],
   "source": [
    "data[[\"mean_oxygen\", \"std_oxygen\", \"skewness_oxygen\", \"kurtosis_oxygen\"]].isnull().sum()"
   ]
  },
  {
   "cell_type": "code",
   "execution_count": 86,
   "metadata": {},
   "outputs": [
    {
     "data": {
      "text/plain": [
       "9"
      ]
     },
     "execution_count": 86,
     "metadata": {},
     "output_type": "execute_result"
    }
   ],
   "source": [
    "data[[\"mean_oxygen\", \"std_oxygen\", \"skewness_oxygen\", \"kurtosis_oxygen\"]].isnull().all(axis=1).sum()"
   ]
  },
  {
   "cell_type": "markdown",
   "metadata": {},
   "source": [
    "Sice vieme celkom dobre nahradit nejake chybajuce hodnoty atributov merani kyslika a glukozy na zaklade korelacie s inymi meraniami, vidime, ze prave 9 pacientov nema ziaden atribut o kysliku, inak povedane, maju atribut medical_info == NaN.\n",
    "\n",
    "A toto by sme si uz moc trufali imputaciu atributov kyslika, pokial nemame ziadne hodnoty pre vsetky atributy kyslika. Tak ich iba jednoducho dropneme..."
   ]
  },
  {
   "cell_type": "code",
   "execution_count": 92,
   "metadata": {},
   "outputs": [],
   "source": [
    "idx = data[data[[\"mean_oxygen\", \"std_oxygen\", \"skewness_oxygen\", \"kurtosis_oxygen\"]].isnull().all(axis=1)].index.values\n",
    "data = data.drop(index=idx)"
   ]
  },
  {
   "cell_type": "markdown",
   "metadata": {},
   "source": [
    "Kedze my si chceme uchovat tvar, resp. doterajsiu diverzitu medzi distribuciami rovnakeho atributu na zaklade hodnoty class, tak my nepouzijeme ziadnu nelinearnu transformaciu, aby sme nasilu dostali normalnu distribuciu, lebo potom by sme \"zabili\" korelaciu medzi danym atributom a target atributom. \n",
    "\n",
    "Namiesto toho ich iba rescalujeme, konkretne pouzijeme StandardScaler"
   ]
  },
  {
   "cell_type": "code",
   "execution_count": 102,
   "metadata": {},
   "outputs": [],
   "source": [
    "def standardize(data, columns):\n",
    "    \n",
    "    data = data.copy()\n",
    "    X = data[columns]\n",
    "\n",
    "    scaler = preprocessing.StandardScaler()\n",
    "    X = scaler.fit_transform(X)\n",
    "\n",
    "    data[columns] = X\n",
    "    \n",
    "    return data"
   ]
  },
  {
   "cell_type": "code",
   "execution_count": 105,
   "metadata": {},
   "outputs": [],
   "source": [
    "data = standardize(data, [\"mean_oxygen\", \"std_oxygen\", \"skewness_oxygen\", \"kurtosis_oxygen\"])"
   ]
  },
  {
   "cell_type": "code",
   "execution_count": null,
   "metadata": {},
   "outputs": [],
   "source": []
  },
  {
   "cell_type": "markdown",
   "metadata": {},
   "source": [
    "### class\n",
    "\n",
    "Tomuto atributu chyba zopar hodnot, konkretne 9, a tak datam by sme neublizili, pokial by sme ich jednoducho dropli. Kludne by sme mohli aj imputovat dane hodnoty, mame dobre atributy so silnymi korelaciami s tymto atributom, a tak by sme sa hrali, ze vlastne uz robime danu klasifikacnu ulohu, ako keby, no tento atribut ma cisto obsahovat len ground truth, a tak, aby sme boli korektny, mali by sme missing value odstranit."
   ]
  },
  {
   "cell_type": "code",
   "execution_count": 81,
   "metadata": {},
   "outputs": [],
   "source": [
    "idx = data[data[\"class\"].isnull()].index.values\n",
    "data = data.drop(index=idx)"
   ]
  },
  {
   "cell_type": "markdown",
   "metadata": {},
   "source": [
    "# TODO\n",
    "\n",
    "- Kategoricke atributy -> Doteraz som len zmensoval pocet hodnot pri kategorickych atributoch + sme riesili imputovanie. Teraz vsak je potrebne encodovat ich bud do OrdinalEncoder alebo OneHotEncoder.\n",
    "- Spojite atributy -> Bud v pripade \"hours-per-week\" sme dany atribut transformovali na kategoricky, alebo sme odstranovali outliery bud transformaciou alebo rovno odstranovanim zaznamov (zatial sme pouzivali len odstarnovanie zaznamov na odstranenie outlierov). Teraz je potrebne ich, v pripade, ze chceme zachovat distribuciu, len rescalovat - StandardScaler, alebo pokial nemusime zachovat distribuciu, tak rovno atribut namapujeme na gaussovku cez nelinearne transformacie - PowerTransforer / QuantileTransformer\n",
    "\n",
    "Treba pouzivat OneHotEncoder pre nominal attributes a OrdinalEncoder pre ordinal attributes"
   ]
  }
 ],
 "metadata": {
  "kernelspec": {
   "display_name": "Python 3",
   "language": "python",
   "name": "python3"
  },
  "language_info": {
   "codemirror_mode": {
    "name": "ipython",
    "version": 3
   },
   "file_extension": ".py",
   "mimetype": "text/x-python",
   "name": "python",
   "nbconvert_exporter": "python",
   "pygments_lexer": "ipython3",
   "version": "3.8.5"
  }
 },
 "nbformat": 4,
 "nbformat_minor": 4
}
