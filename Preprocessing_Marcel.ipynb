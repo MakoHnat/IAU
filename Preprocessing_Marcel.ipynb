{
 "cells": [
  {
   "cell_type": "code",
   "execution_count": 1,
   "metadata": {},
   "outputs": [],
   "source": [
    "import pandas as pd\n",
    "import numpy as np\n",
    "import seaborn as sns\n",
    "import re\n",
    "import matplotlib.pyplot as plt\n",
    "import json\n",
    "import scipy.stats as stats\n",
    "import math\n",
    "\n",
    "import category_encoders as ce\n",
    "\n",
    "import statsmodels.api as sm\n",
    "import statsmodels.stats as sm_stats\n",
    "import statsmodels.stats.api as sms\n",
    "\n",
    "import vizualizacia_funkcie as visual\n",
    "\n",
    "\n",
    "from sklearn.experimental import enable_iterative_imputer \n",
    "from sklearn import impute \n",
    "from sklearn import preprocessing\n",
    "from sklearn import pipeline\n",
    "from sklearn import base\n",
    "from sklearn import compose\n",
    "from datetime import datetime\n",
    "from datetime import date"
   ]
  },
  {
   "cell_type": "code",
   "execution_count": 2,
   "metadata": {},
   "outputs": [],
   "source": [
    "df1 = pd.read_csv(\"./data/personal_train.csv\", index_col=0)\n",
    "df2 = pd.read_csv(\"./data/other_train.csv\", index_col=0)"
   ]
  },
  {
   "cell_type": "code",
   "execution_count": 3,
   "metadata": {},
   "outputs": [],
   "source": [
    "#moje su len vo vacsom dataframe\n",
    "attributes_marcel = [\"marital-status\", \"relationship\", \"occupation\", \"income\", \"workclass\", \n",
    "                     \"hours-per-week\", \"medical_info\", \"class\"]"
   ]
  },
  {
   "cell_type": "markdown",
   "metadata": {},
   "source": [
    "# Joinutie dataframov"
   ]
  },
  {
   "cell_type": "code",
   "execution_count": 4,
   "metadata": {},
   "outputs": [
    {
     "name": "stdout",
     "output_type": "stream",
     "text": [
      "Rozmer df1 (3933, 5)\n",
      "Rozmer df2 (3983, 22)\n",
      "3933\n",
      "3933\n",
      "3933\n",
      "3933\n"
     ]
    }
   ],
   "source": [
    "print(\"Rozmer df1\", df1.shape)\n",
    "print(\"Rozmer df2\", df2.shape)\n",
    "\n",
    "print(len(df1[\"name\"].unique()))\n",
    "print(len(df1[\"address\"].unique()))\n",
    "\n",
    "print(len(df2[\"name\"].unique()))\n",
    "print(len(df2[\"address\"].unique()))"
   ]
  },
  {
   "cell_type": "markdown",
   "metadata": {},
   "source": [
    "Vidime, ze je rovnaky pocet unique values pre meno a adresu v obidvoch dataframoch. My totiz hladame najlepsi kluc, podla ktoreho by sme vedeli joinut obe dataframy dokopy. Sice maju rozdielne rozmery, ale minule, pri analyze, sme zistili, ze niektori pacienti maju pridelene 2 datarowy, kedy obe zaznamy su nie plne vyplnene - v zmysle, ze je mozne nasledne mergnut dane 2 zaznamy do jedneho, cim ziskavame jeden zaznam zo vsetkymi informaciami, ktore boli dostupne v tych dvoch zaznamoch."
   ]
  },
  {
   "cell_type": "code",
   "execution_count": 5,
   "metadata": {},
   "outputs": [
    {
     "data": {
      "text/plain": [
       "['Aaron Davis 379 Rodriguez Inlet\\r\\nFisherbury, MD 83114',\n",
       " 'Aaron Dini 105 Medina Springs Suite 462\\r\\nEmilyland, KS 59124',\n",
       " 'Aaron Gann 59685 Thomas Extension Apt. 142\\r\\nFieldsborough, UT 17996',\n",
       " 'Aaron Gregg 10883 Williams Locks Suite 821\\r\\nEast Carmen, ME 31095',\n",
       " 'Aaron Lindley 564 Stevenson Park Apt. 839\\r\\nRodriguezville, AR 73176',\n",
       " 'Aaron Manning 9503 Christy Meadow\\r\\nAntoniostad, DC 31369',\n",
       " 'Aaron Moody 5443 Kurt Estate\\r\\nHillbury, MS 07587',\n",
       " 'Aaron Noman PSC 0351, Box 8841\\r\\nAPO AA 86063',\n",
       " 'Aaron Robinson 16767 Medina Manor Suite 889\\r\\nCarlosshire, MD 96418',\n",
       " 'Aaron Rogers 3257 Jones Center Apt. 917\\r\\nSeanland, OH 20838']"
      ]
     },
     "execution_count": 5,
     "metadata": {},
     "output_type": "execute_result"
    }
   ],
   "source": [
    "key1 = sorted(list(df1[\"name\"].unique() + \" \" + df1[\"address\"].unique()))\n",
    "key2 = sorted(list(df2[\"name\"].unique() + \" \" + df2[\"address\"].unique()))\n",
    "\n",
    "key1[:10]"
   ]
  },
  {
   "cell_type": "code",
   "execution_count": 6,
   "metadata": {},
   "outputs": [
    {
     "data": {
      "text/plain": [
       "True"
      ]
     },
     "execution_count": 6,
     "metadata": {},
     "output_type": "execute_result"
    }
   ],
   "source": [
    "key1 == key2"
   ]
  },
  {
   "cell_type": "markdown",
   "metadata": {},
   "source": [
    "Vidime, ze oba dataframy zdielaju rovnake informacie o pacientovi, konkretne o jeho mene a adrese. Tak mozeme tieto dva dataframy joinut na zaklade mena, pricom vymazeme prvotne adresu z jedneho dataframu"
   ]
  },
  {
   "cell_type": "code",
   "execution_count": 7,
   "metadata": {},
   "outputs": [
    {
     "data": {
      "text/html": [
       "<div>\n",
       "<style scoped>\n",
       "    .dataframe tbody tr th:only-of-type {\n",
       "        vertical-align: middle;\n",
       "    }\n",
       "\n",
       "    .dataframe tbody tr th {\n",
       "        vertical-align: top;\n",
       "    }\n",
       "\n",
       "    .dataframe thead th {\n",
       "        text-align: right;\n",
       "    }\n",
       "</style>\n",
       "<table border=\"1\" class=\"dataframe\">\n",
       "  <thead>\n",
       "    <tr style=\"text-align: right;\">\n",
       "      <th></th>\n",
       "      <th>name</th>\n",
       "      <th>age</th>\n",
       "      <th>sex</th>\n",
       "      <th>date_of_birth</th>\n",
       "      <th>address</th>\n",
       "      <th>race</th>\n",
       "      <th>marital-status</th>\n",
       "      <th>occupation</th>\n",
       "      <th>pregnant</th>\n",
       "      <th>education-num</th>\n",
       "      <th>...</th>\n",
       "      <th>education</th>\n",
       "      <th>fnlwgt</th>\n",
       "      <th>class</th>\n",
       "      <th>std_glucose</th>\n",
       "      <th>income</th>\n",
       "      <th>medical_info</th>\n",
       "      <th>native-country</th>\n",
       "      <th>hours-per-week</th>\n",
       "      <th>capital-loss</th>\n",
       "      <th>workclass</th>\n",
       "    </tr>\n",
       "  </thead>\n",
       "  <tbody>\n",
       "    <tr>\n",
       "      <th>0</th>\n",
       "      <td>Aaron Davis</td>\n",
       "      <td>56</td>\n",
       "      <td>Female</td>\n",
       "      <td>1962-12-27</td>\n",
       "      <td>379 Rodriguez Inlet\\r\\nFisherbury, MD 83114</td>\n",
       "      <td>White</td>\n",
       "      <td>Divorced</td>\n",
       "      <td>Other-service</td>\n",
       "      <td>f</td>\n",
       "      <td>3.0</td>\n",
       "      <td>...</td>\n",
       "      <td>5th-6th</td>\n",
       "      <td>199298.0</td>\n",
       "      <td>0.0</td>\n",
       "      <td>41.806596</td>\n",
       "      <td>&lt;=50K</td>\n",
       "      <td>{'mean_oxygen':'1.647157191','std_oxygen':'14....</td>\n",
       "      <td>?</td>\n",
       "      <td>45.0</td>\n",
       "      <td>0.0</td>\n",
       "      <td>Local-gov</td>\n",
       "    </tr>\n",
       "    <tr>\n",
       "      <th>1</th>\n",
       "      <td>Aaron Dini</td>\n",
       "      <td>50</td>\n",
       "      <td>Male</td>\n",
       "      <td>1969-05-22</td>\n",
       "      <td>105 Medina Springs Suite 462\\r\\nEmilyland, KS ...</td>\n",
       "      <td>White</td>\n",
       "      <td>Divorced</td>\n",
       "      <td>Sales</td>\n",
       "      <td>f</td>\n",
       "      <td>10.0</td>\n",
       "      <td>...</td>\n",
       "      <td>Some-college</td>\n",
       "      <td>120939.0</td>\n",
       "      <td>0.0</td>\n",
       "      <td>53.615229</td>\n",
       "      <td>&lt;=50K</td>\n",
       "      <td>{'mean_oxygen':'1.380434783','std_oxygen':'15....</td>\n",
       "      <td>United-States</td>\n",
       "      <td>40.0</td>\n",
       "      <td>0.0</td>\n",
       "      <td>Self-emp-not-inc</td>\n",
       "    </tr>\n",
       "    <tr>\n",
       "      <th>2</th>\n",
       "      <td>Aaron Gann</td>\n",
       "      <td>25</td>\n",
       "      <td>Male</td>\n",
       "      <td>1994-07-26</td>\n",
       "      <td>59685 Thomas Extension Apt. 142\\r\\nFieldsborou...</td>\n",
       "      <td>Black</td>\n",
       "      <td>Never-married</td>\n",
       "      <td>?</td>\n",
       "      <td>f</td>\n",
       "      <td>4.0</td>\n",
       "      <td>...</td>\n",
       "      <td>7th-8th</td>\n",
       "      <td>107112.0</td>\n",
       "      <td>0.0</td>\n",
       "      <td>50.476073</td>\n",
       "      <td>&lt;=50K</td>\n",
       "      <td>{'mean_oxygen':'78.30183946','std_oxygen':'79....</td>\n",
       "      <td>United-States</td>\n",
       "      <td>30.0</td>\n",
       "      <td>0.0</td>\n",
       "      <td>?</td>\n",
       "    </tr>\n",
       "    <tr>\n",
       "      <th>3</th>\n",
       "      <td>Aaron Gregg</td>\n",
       "      <td>42</td>\n",
       "      <td>Female</td>\n",
       "      <td>1977-04-16</td>\n",
       "      <td>10883 Williams Locks Suite 821\\r\\nEast Carmen,...</td>\n",
       "      <td>Black</td>\n",
       "      <td>Widowed</td>\n",
       "      <td>Transport-moving</td>\n",
       "      <td>f</td>\n",
       "      <td>9.0</td>\n",
       "      <td>...</td>\n",
       "      <td>HS-grad</td>\n",
       "      <td>157942.0</td>\n",
       "      <td>0.0</td>\n",
       "      <td>35.976649</td>\n",
       "      <td>&lt;=50K</td>\n",
       "      <td>{'mean_oxygen':'1.489130435','std_oxygen':'10....</td>\n",
       "      <td>United-States</td>\n",
       "      <td>40.0</td>\n",
       "      <td>0.0</td>\n",
       "      <td>Local-gov</td>\n",
       "    </tr>\n",
       "    <tr>\n",
       "      <th>4</th>\n",
       "      <td>Aaron Lindley</td>\n",
       "      <td>-4900</td>\n",
       "      <td>Female</td>\n",
       "      <td>1969-12-11 00:00:00</td>\n",
       "      <td>564 Stevenson Park Apt. 839\\r\\nRodriguezville,...</td>\n",
       "      <td>White</td>\n",
       "      <td>Never-married</td>\n",
       "      <td>Sales</td>\n",
       "      <td>F</td>\n",
       "      <td>9.0</td>\n",
       "      <td>...</td>\n",
       "      <td>HS-grad</td>\n",
       "      <td>156084.0</td>\n",
       "      <td>0.0</td>\n",
       "      <td>54.280153</td>\n",
       "      <td>&lt;=50K</td>\n",
       "      <td>{'mean_oxygen':'1.194816054','std_oxygen':'11....</td>\n",
       "      <td>United-States</td>\n",
       "      <td>40.0</td>\n",
       "      <td>0.0</td>\n",
       "      <td>Private</td>\n",
       "    </tr>\n",
       "    <tr>\n",
       "      <th>...</th>\n",
       "      <td>...</td>\n",
       "      <td>...</td>\n",
       "      <td>...</td>\n",
       "      <td>...</td>\n",
       "      <td>...</td>\n",
       "      <td>...</td>\n",
       "      <td>...</td>\n",
       "      <td>...</td>\n",
       "      <td>...</td>\n",
       "      <td>...</td>\n",
       "      <td>...</td>\n",
       "      <td>...</td>\n",
       "      <td>...</td>\n",
       "      <td>...</td>\n",
       "      <td>...</td>\n",
       "      <td>...</td>\n",
       "      <td>...</td>\n",
       "      <td>...</td>\n",
       "      <td>...</td>\n",
       "      <td>...</td>\n",
       "      <td>...</td>\n",
       "    </tr>\n",
       "    <tr>\n",
       "      <th>3978</th>\n",
       "      <td>Young Provines</td>\n",
       "      <td>51</td>\n",
       "      <td>Male</td>\n",
       "      <td>1968-05-19</td>\n",
       "      <td>7993 Sharon Roads Suite 311\\r\\nPort Daniel, GA...</td>\n",
       "      <td>White</td>\n",
       "      <td>Married-civ-spouse</td>\n",
       "      <td>Exec_managerial</td>\n",
       "      <td>FALSE</td>\n",
       "      <td>11.0</td>\n",
       "      <td>...</td>\n",
       "      <td>Assoc-voc</td>\n",
       "      <td>83444.0</td>\n",
       "      <td>1.0</td>\n",
       "      <td>44.303479</td>\n",
       "      <td>&gt;50K</td>\n",
       "      <td>{'mean_oxygen':'3.16722408','std_oxygen':'22.3...</td>\n",
       "      <td>United-States</td>\n",
       "      <td>43.0</td>\n",
       "      <td>0.0</td>\n",
       "      <td>Private</td>\n",
       "    </tr>\n",
       "    <tr>\n",
       "      <th>3979</th>\n",
       "      <td>Zachary Grandfield</td>\n",
       "      <td>-5800</td>\n",
       "      <td>Male</td>\n",
       "      <td>1960/12/18</td>\n",
       "      <td>77606 Maxwell Rest Apt. 485\\r\\nPort Jennifer, ...</td>\n",
       "      <td>Black</td>\n",
       "      <td>Married-civ-spouse</td>\n",
       "      <td>Transport-moving</td>\n",
       "      <td>f</td>\n",
       "      <td>10.0</td>\n",
       "      <td>...</td>\n",
       "      <td>Some-college</td>\n",
       "      <td>343849.0</td>\n",
       "      <td>1.0</td>\n",
       "      <td>29.456767</td>\n",
       "      <td>&lt;=50K</td>\n",
       "      <td>{'mean_oxygen':'2.994147157','std_oxygen':'21....</td>\n",
       "      <td>United-States</td>\n",
       "      <td>40.0</td>\n",
       "      <td>0.0</td>\n",
       "      <td>Private</td>\n",
       "    </tr>\n",
       "    <tr>\n",
       "      <th>3980</th>\n",
       "      <td>Zachary Miller</td>\n",
       "      <td>46</td>\n",
       "      <td>Male</td>\n",
       "      <td>1973-08-07</td>\n",
       "      <td>96654 Marc Stream\\r\\nEast Cassandra, VT 84597</td>\n",
       "      <td>White</td>\n",
       "      <td>Married-civ-spouse</td>\n",
       "      <td>Adm-clerical</td>\n",
       "      <td>f</td>\n",
       "      <td>13.0</td>\n",
       "      <td>...</td>\n",
       "      <td>Bachelors</td>\n",
       "      <td>162327.0</td>\n",
       "      <td>0.0</td>\n",
       "      <td>43.191434</td>\n",
       "      <td>&gt;50K</td>\n",
       "      <td>{'mean_oxygen':'1.62541806','std_oxygen':'14.0...</td>\n",
       "      <td>?</td>\n",
       "      <td>50.0</td>\n",
       "      <td>1902.0</td>\n",
       "      <td>Private</td>\n",
       "    </tr>\n",
       "    <tr>\n",
       "      <th>3981</th>\n",
       "      <td>Zachary Seltzer</td>\n",
       "      <td>64</td>\n",
       "      <td>Female</td>\n",
       "      <td>1955-06-08 00 00 00</td>\n",
       "      <td>38371 Crystal Stravenue\\r\\nPerkinsmouth, DE 20764</td>\n",
       "      <td>White</td>\n",
       "      <td>Divorced</td>\n",
       "      <td>Sales</td>\n",
       "      <td>f</td>\n",
       "      <td>7.0</td>\n",
       "      <td>...</td>\n",
       "      <td>11th</td>\n",
       "      <td>444089.0</td>\n",
       "      <td>1.0</td>\n",
       "      <td>34.132553</td>\n",
       "      <td>&lt;=50K</td>\n",
       "      <td>{'mean_oxygen':'66.53260870000001','std_oxygen...</td>\n",
       "      <td>United-States</td>\n",
       "      <td>40.0</td>\n",
       "      <td>0.0</td>\n",
       "      <td>Private</td>\n",
       "    </tr>\n",
       "    <tr>\n",
       "      <th>3982</th>\n",
       "      <td>Zane Bottorff</td>\n",
       "      <td>44</td>\n",
       "      <td>Male</td>\n",
       "      <td>1975-08-24 00 00 00</td>\n",
       "      <td>71075 Taylor Summit\\r\\nSouth Kevinside, MD 24906</td>\n",
       "      <td>White</td>\n",
       "      <td>Never-married</td>\n",
       "      <td>Transport-moving</td>\n",
       "      <td>FALSE</td>\n",
       "      <td>9.0</td>\n",
       "      <td>...</td>\n",
       "      <td>HS-grad</td>\n",
       "      <td>226196.0</td>\n",
       "      <td>1.0</td>\n",
       "      <td>51.931368</td>\n",
       "      <td>&lt;=50K</td>\n",
       "      <td>{'mean_oxygen':'34.07943144','std_oxygen':'74....</td>\n",
       "      <td>United-States</td>\n",
       "      <td>40.0</td>\n",
       "      <td>0.0</td>\n",
       "      <td>Private</td>\n",
       "    </tr>\n",
       "  </tbody>\n",
       "</table>\n",
       "<p>3983 rows × 25 columns</p>\n",
       "</div>"
      ],
      "text/plain": [
       "                    name   age      sex        date_of_birth  \\\n",
       "0            Aaron Davis    56   Female           1962-12-27   \n",
       "1             Aaron Dini    50     Male           1969-05-22   \n",
       "2             Aaron Gann    25     Male           1994-07-26   \n",
       "3            Aaron Gregg    42   Female           1977-04-16   \n",
       "4          Aaron Lindley -4900   Female  1969-12-11 00:00:00   \n",
       "...                  ...   ...      ...                  ...   \n",
       "3978      Young Provines    51     Male           1968-05-19   \n",
       "3979  Zachary Grandfield -5800     Male           1960/12/18   \n",
       "3980      Zachary Miller    46     Male           1973-08-07   \n",
       "3981     Zachary Seltzer    64   Female  1955-06-08 00 00 00   \n",
       "3982       Zane Bottorff    44     Male  1975-08-24 00 00 00   \n",
       "\n",
       "                                                address    race  \\\n",
       "0           379 Rodriguez Inlet\\r\\nFisherbury, MD 83114   White   \n",
       "1     105 Medina Springs Suite 462\\r\\nEmilyland, KS ...   White   \n",
       "2     59685 Thomas Extension Apt. 142\\r\\nFieldsborou...   Black   \n",
       "3     10883 Williams Locks Suite 821\\r\\nEast Carmen,...   Black   \n",
       "4     564 Stevenson Park Apt. 839\\r\\nRodriguezville,...   White   \n",
       "...                                                 ...     ...   \n",
       "3978  7993 Sharon Roads Suite 311\\r\\nPort Daniel, GA...   White   \n",
       "3979  77606 Maxwell Rest Apt. 485\\r\\nPort Jennifer, ...   Black   \n",
       "3980      96654 Marc Stream\\r\\nEast Cassandra, VT 84597   White   \n",
       "3981  38371 Crystal Stravenue\\r\\nPerkinsmouth, DE 20764   White   \n",
       "3982   71075 Taylor Summit\\r\\nSouth Kevinside, MD 24906   White   \n",
       "\n",
       "           marital-status         occupation pregnant  education-num  ...  \\\n",
       "0                Divorced      Other-service        f            3.0  ...   \n",
       "1                Divorced              Sales        f           10.0  ...   \n",
       "2           Never-married                  ?        f            4.0  ...   \n",
       "3                 Widowed   Transport-moving        f            9.0  ...   \n",
       "4           Never-married              Sales        F            9.0  ...   \n",
       "...                   ...                ...      ...            ...  ...   \n",
       "3978   Married-civ-spouse    Exec_managerial    FALSE           11.0  ...   \n",
       "3979   Married-civ-spouse   Transport-moving        f           10.0  ...   \n",
       "3980   Married-civ-spouse       Adm-clerical        f           13.0  ...   \n",
       "3981             Divorced              Sales        f            7.0  ...   \n",
       "3982        Never-married   Transport-moving    FALSE            9.0  ...   \n",
       "\n",
       "          education    fnlwgt class  std_glucose  income  \\\n",
       "0           5th-6th  199298.0   0.0    41.806596   <=50K   \n",
       "1      Some-college  120939.0   0.0    53.615229   <=50K   \n",
       "2           7th-8th  107112.0   0.0    50.476073   <=50K   \n",
       "3           HS-grad  157942.0   0.0    35.976649   <=50K   \n",
       "4           HS-grad  156084.0   0.0    54.280153   <=50K   \n",
       "...             ...       ...   ...          ...     ...   \n",
       "3978      Assoc-voc   83444.0   1.0    44.303479    >50K   \n",
       "3979   Some-college  343849.0   1.0    29.456767   <=50K   \n",
       "3980      Bachelors  162327.0   0.0    43.191434    >50K   \n",
       "3981           11th  444089.0   1.0    34.132553   <=50K   \n",
       "3982        HS-grad  226196.0   1.0    51.931368   <=50K   \n",
       "\n",
       "                                           medical_info  native-country  \\\n",
       "0     {'mean_oxygen':'1.647157191','std_oxygen':'14....               ?   \n",
       "1     {'mean_oxygen':'1.380434783','std_oxygen':'15....   United-States   \n",
       "2     {'mean_oxygen':'78.30183946','std_oxygen':'79....   United-States   \n",
       "3     {'mean_oxygen':'1.489130435','std_oxygen':'10....   United-States   \n",
       "4     {'mean_oxygen':'1.194816054','std_oxygen':'11....   United-States   \n",
       "...                                                 ...             ...   \n",
       "3978  {'mean_oxygen':'3.16722408','std_oxygen':'22.3...   United-States   \n",
       "3979  {'mean_oxygen':'2.994147157','std_oxygen':'21....   United-States   \n",
       "3980  {'mean_oxygen':'1.62541806','std_oxygen':'14.0...               ?   \n",
       "3981  {'mean_oxygen':'66.53260870000001','std_oxygen...   United-States   \n",
       "3982  {'mean_oxygen':'34.07943144','std_oxygen':'74....   United-States   \n",
       "\n",
       "      hours-per-week  capital-loss          workclass  \n",
       "0               45.0           0.0          Local-gov  \n",
       "1               40.0           0.0   Self-emp-not-inc  \n",
       "2               30.0           0.0                  ?  \n",
       "3               40.0           0.0          Local-gov  \n",
       "4               40.0           0.0            Private  \n",
       "...              ...           ...                ...  \n",
       "3978            43.0           0.0            Private  \n",
       "3979            40.0           0.0            Private  \n",
       "3980            50.0        1902.0            Private  \n",
       "3981            40.0           0.0            Private  \n",
       "3982            40.0           0.0            Private  \n",
       "\n",
       "[3983 rows x 25 columns]"
      ]
     },
     "execution_count": 7,
     "metadata": {},
     "output_type": "execute_result"
    }
   ],
   "source": [
    "data = df1.drop(columns=[\"address\"]).set_index(\"name\").join(df2.set_index(\"name\"), how=\"right\").reset_index()\n",
    "data"
   ]
  },
  {
   "cell_type": "markdown",
   "metadata": {},
   "source": [
    "# Merguntie viacerych zaznamov jedneho pacienta"
   ]
  },
  {
   "cell_type": "markdown",
   "metadata": {},
   "source": [
    "Podme sa teraz pozriet na problem mergovania dat dvoch zaznamov jedneho pacienta do jedneho datarowu. Ako priklad sme si zobrali cloveka, ktory ma 2 zaznamy v nasom datasete, pricom ako mozno vidiet, existuje zopar atributov, ktore su u jedneho zaznamu nullove, zatial co u druheho nie su. Prikladom je napriklad relationship."
   ]
  },
  {
   "cell_type": "code",
   "execution_count": 8,
   "metadata": {},
   "outputs": [
    {
     "name": "stdout",
     "output_type": "stream",
     "text": [
      "name                False\n",
      "age                 False\n",
      "sex                 False\n",
      "date_of_birth       False\n",
      "address             False\n",
      "race                False\n",
      "marital-status      False\n",
      "occupation          False\n",
      "pregnant            False\n",
      "education-num       False\n",
      "relationship         True\n",
      "skewness_glucose    False\n",
      "mean_glucose         True\n",
      "capital-gain        False\n",
      "kurtosis_glucose    False\n",
      "education           False\n",
      "fnlwgt               True\n",
      "class               False\n",
      "std_glucose         False\n",
      "income              False\n",
      "medical_info         True\n",
      "native-country      False\n",
      "hours-per-week       True\n",
      "capital-loss        False\n",
      "workclass            True\n",
      "dtype: bool\n"
     ]
    },
    {
     "data": {
      "text/plain": [
       "678     Husband\n",
       "679         NaN\n",
       "Name: relationship, dtype: object"
      ]
     },
     "execution_count": 8,
     "metadata": {},
     "output_type": "execute_result"
    }
   ],
   "source": [
    "daniel = data.loc[data[\"name\"] == \"Daniel Martin\"]\n",
    "print(daniel.iloc[0].isnull() ^ daniel.iloc[1].isnull())\n",
    "\n",
    "daniel[\"relationship\"]"
   ]
  },
  {
   "cell_type": "markdown",
   "metadata": {},
   "source": [
    "Taktiez, niekto by mohol argumentovat, ze su to 2 rozlicne medicinske zaznamy rovnakeho pacienta, a nejde o jedno meranie, no toto sme uz minule vyvratili, staci sa pozriet na namerane hodnoty cloveku"
   ]
  },
  {
   "cell_type": "code",
   "execution_count": 9,
   "metadata": {},
   "outputs": [
    {
     "data": {
      "text/plain": [
       "name                True\n",
       "age                 True\n",
       "sex                 True\n",
       "date_of_birth       True\n",
       "address             True\n",
       "race                True\n",
       "marital-status      True\n",
       "occupation          True\n",
       "pregnant            True\n",
       "education-num       True\n",
       "skewness_glucose    True\n",
       "capital-gain        True\n",
       "kurtosis_glucose    True\n",
       "education           True\n",
       "class               True\n",
       "std_glucose         True\n",
       "income              True\n",
       "native-country      True\n",
       "capital-loss        True\n",
       "dtype: bool"
      ]
     },
     "execution_count": 9,
     "metadata": {},
     "output_type": "execute_result"
    }
   ],
   "source": [
    "daniel2 = daniel.dropna(axis=1)\n",
    "\n",
    "daniel2.iloc[0] == daniel2.iloc[1]"
   ]
  },
  {
   "cell_type": "code",
   "execution_count": 10,
   "metadata": {},
   "outputs": [
    {
     "data": {
      "text/html": [
       "<div>\n",
       "<style scoped>\n",
       "    .dataframe tbody tr th:only-of-type {\n",
       "        vertical-align: middle;\n",
       "    }\n",
       "\n",
       "    .dataframe tbody tr th {\n",
       "        vertical-align: top;\n",
       "    }\n",
       "\n",
       "    .dataframe thead th {\n",
       "        text-align: right;\n",
       "    }\n",
       "</style>\n",
       "<table border=\"1\" class=\"dataframe\">\n",
       "  <thead>\n",
       "    <tr style=\"text-align: right;\">\n",
       "      <th></th>\n",
       "      <th>name</th>\n",
       "      <th>age</th>\n",
       "      <th>sex</th>\n",
       "      <th>date_of_birth</th>\n",
       "      <th>address</th>\n",
       "      <th>race</th>\n",
       "      <th>marital-status</th>\n",
       "      <th>occupation</th>\n",
       "      <th>pregnant</th>\n",
       "      <th>education-num</th>\n",
       "      <th>skewness_glucose</th>\n",
       "      <th>capital-gain</th>\n",
       "      <th>kurtosis_glucose</th>\n",
       "      <th>education</th>\n",
       "      <th>class</th>\n",
       "      <th>std_glucose</th>\n",
       "      <th>income</th>\n",
       "      <th>native-country</th>\n",
       "      <th>capital-loss</th>\n",
       "    </tr>\n",
       "  </thead>\n",
       "  <tbody>\n",
       "    <tr>\n",
       "      <th>678</th>\n",
       "      <td>Daniel Martin</td>\n",
       "      <td>55</td>\n",
       "      <td>Male</td>\n",
       "      <td>1964-02-02</td>\n",
       "      <td>1600 Shaun Drive Apt. 113\\r\\nEast Jacobmouth, ...</td>\n",
       "      <td>White</td>\n",
       "      <td>Married-civ-spouse</td>\n",
       "      <td>Prof-specialty</td>\n",
       "      <td>f</td>\n",
       "      <td>14.0</td>\n",
       "      <td>-0.575827</td>\n",
       "      <td>0.0</td>\n",
       "      <td>-0.065923</td>\n",
       "      <td>Masters</td>\n",
       "      <td>0.0</td>\n",
       "      <td>55.072854</td>\n",
       "      <td>&gt;50K</td>\n",
       "      <td>United-States</td>\n",
       "      <td>1887.0</td>\n",
       "    </tr>\n",
       "    <tr>\n",
       "      <th>679</th>\n",
       "      <td>Daniel Martin</td>\n",
       "      <td>55</td>\n",
       "      <td>Male</td>\n",
       "      <td>1964-02-02</td>\n",
       "      <td>1600 Shaun Drive Apt. 113\\r\\nEast Jacobmouth, ...</td>\n",
       "      <td>White</td>\n",
       "      <td>Married-civ-spouse</td>\n",
       "      <td>Prof-specialty</td>\n",
       "      <td>f</td>\n",
       "      <td>14.0</td>\n",
       "      <td>-0.575827</td>\n",
       "      <td>0.0</td>\n",
       "      <td>-0.065923</td>\n",
       "      <td>Masters</td>\n",
       "      <td>0.0</td>\n",
       "      <td>55.072854</td>\n",
       "      <td>&gt;50K</td>\n",
       "      <td>United-States</td>\n",
       "      <td>1887.0</td>\n",
       "    </tr>\n",
       "  </tbody>\n",
       "</table>\n",
       "</div>"
      ],
      "text/plain": [
       "              name  age    sex date_of_birth  \\\n",
       "678  Daniel Martin   55   Male    1964-02-02   \n",
       "679  Daniel Martin   55   Male    1964-02-02   \n",
       "\n",
       "                                               address    race  \\\n",
       "678  1600 Shaun Drive Apt. 113\\r\\nEast Jacobmouth, ...   White   \n",
       "679  1600 Shaun Drive Apt. 113\\r\\nEast Jacobmouth, ...   White   \n",
       "\n",
       "          marital-status       occupation pregnant  education-num  \\\n",
       "678   Married-civ-spouse   Prof-specialty        f           14.0   \n",
       "679   Married-civ-spouse   Prof-specialty        f           14.0   \n",
       "\n",
       "     skewness_glucose  capital-gain  kurtosis_glucose education  class  \\\n",
       "678         -0.575827           0.0         -0.065923   Masters    0.0   \n",
       "679         -0.575827           0.0         -0.065923   Masters    0.0   \n",
       "\n",
       "     std_glucose income  native-country  capital-loss  \n",
       "678    55.072854   >50K   United-States        1887.0  \n",
       "679    55.072854   >50K   United-States        1887.0  "
      ]
     },
     "execution_count": 10,
     "metadata": {},
     "output_type": "execute_result"
    }
   ],
   "source": [
    "daniel2"
   ]
  },
  {
   "cell_type": "markdown",
   "metadata": {},
   "source": [
    "Ako mozno vidiet, ide o rovnake medicinske zaznamy, staci sa pozriet na merania glukozy, ktore su \"nachlp\" presne"
   ]
  },
  {
   "cell_type": "code",
   "execution_count": 11,
   "metadata": {},
   "outputs": [],
   "source": [
    "#funckia, ktora mergne zaznamy, ktore su rovnake\n",
    "def piece_datarows_together(data):\n",
    "    \n",
    "    data = data.copy().set_index(\"name\")\n",
    "    \n",
    "    #toto nam vrati dataset, ktory obsahuje vsetky duplikaty, s ktorymi budeme pracovat\n",
    "    #proste to vrati data, ktore maju index, ktory je v datasete viac ako raz pouzity\n",
    "    duplicated = data[data.index.duplicated(keep=False)]\n",
    "    \n",
    "    index_values = duplicated.index.unique()\n",
    "    \n",
    "    #najprv vsetky hodnoty prenesieme do prveho vyskytu zaznamu daneho pacienta v datasete\n",
    "    for idx in index_values:\n",
    "        mini_dataset = duplicated.loc[idx] #toto vrati viacero zaznamov s rovnakych idx\n",
    "        \n",
    "        #zistim si, ktore atributy su nullove pre presne prvy zaznam a pre konkretne nullove atributy budem nadalej hladat\n",
    "        #nenullovu hodnotu v ostatnych zaznamoch s rovnakym idx\n",
    "        missing_mask = mini_dataset.iloc[0].isnull()\n",
    "        attributes = mini_dataset.columns.values\n",
    "        missing_attributes = attributes[missing_mask]\n",
    "        \n",
    "        #tu replacujem null hodnoty za nenullove\n",
    "        for attr in missing_attributes:\n",
    "            not_null = mini_dataset[attr][mini_dataset[attr].notnull()]\n",
    "            \n",
    "            if len(not_null) != 0:\n",
    "                mini_dataset.iloc[0][attr] = not_null.values[0]\n",
    "        \n",
    "        \n",
    "    #teraz uz mozme vymazat vsetky druhe, resp. ostatne zaznamy pacienta\n",
    "    duplicated_mask = data.index.duplicated(keep=\"first\")\n",
    "    \n",
    "    data = data.reset_index()\n",
    "    duplicated_indices = data.index.values[duplicated_mask]\n",
    "    \n",
    "    return data.drop(index=duplicated_indices).reset_index()\n"
   ]
  },
  {
   "cell_type": "code",
   "execution_count": 12,
   "metadata": {},
   "outputs": [
    {
     "name": "stderr",
     "output_type": "stream",
     "text": [
      "<ipython-input-11-ec6ab45a7131>:27: SettingWithCopyWarning: \n",
      "A value is trying to be set on a copy of a slice from a DataFrame\n",
      "\n",
      "See the caveats in the documentation: https://pandas.pydata.org/pandas-docs/stable/user_guide/indexing.html#returning-a-view-versus-a-copy\n",
      "  mini_dataset.iloc[0][attr] = not_null.values[0]\n"
     ]
    }
   ],
   "source": [
    "data = piece_datarows_together(data)"
   ]
  },
  {
   "cell_type": "code",
   "execution_count": 13,
   "metadata": {},
   "outputs": [
    {
     "name": "stdout",
     "output_type": "stream",
     "text": [
      "Frank Stokes           1\n",
      "Nicholas Parker        1\n",
      "Donald Aguilar         1\n",
      "Ricky Paterson         1\n",
      "Scott Roberts          1\n",
      "                      ..\n",
      "Danny Smith            1\n",
      "Derrick Bickerstaff    1\n",
      "William Robinson       1\n",
      "Travis Chambers        1\n",
      "Steven Hall            1\n",
      "Name: name, Length: 3933, dtype: int64\n"
     ]
    },
    {
     "data": {
      "text/html": [
       "<div>\n",
       "<style scoped>\n",
       "    .dataframe tbody tr th:only-of-type {\n",
       "        vertical-align: middle;\n",
       "    }\n",
       "\n",
       "    .dataframe tbody tr th {\n",
       "        vertical-align: top;\n",
       "    }\n",
       "\n",
       "    .dataframe thead th {\n",
       "        text-align: right;\n",
       "    }\n",
       "</style>\n",
       "<table border=\"1\" class=\"dataframe\">\n",
       "  <thead>\n",
       "    <tr style=\"text-align: right;\">\n",
       "      <th></th>\n",
       "      <th>index</th>\n",
       "      <th>name</th>\n",
       "      <th>age</th>\n",
       "      <th>sex</th>\n",
       "      <th>date_of_birth</th>\n",
       "      <th>address</th>\n",
       "      <th>race</th>\n",
       "      <th>marital-status</th>\n",
       "      <th>occupation</th>\n",
       "      <th>pregnant</th>\n",
       "      <th>...</th>\n",
       "      <th>education</th>\n",
       "      <th>fnlwgt</th>\n",
       "      <th>class</th>\n",
       "      <th>std_glucose</th>\n",
       "      <th>income</th>\n",
       "      <th>medical_info</th>\n",
       "      <th>native-country</th>\n",
       "      <th>hours-per-week</th>\n",
       "      <th>capital-loss</th>\n",
       "      <th>workclass</th>\n",
       "    </tr>\n",
       "  </thead>\n",
       "  <tbody>\n",
       "    <tr>\n",
       "      <th>675</th>\n",
       "      <td>678</td>\n",
       "      <td>Daniel Martin</td>\n",
       "      <td>55</td>\n",
       "      <td>Male</td>\n",
       "      <td>1964-02-02</td>\n",
       "      <td>1600 Shaun Drive Apt. 113\\r\\nEast Jacobmouth, ...</td>\n",
       "      <td>White</td>\n",
       "      <td>Married-civ-spouse</td>\n",
       "      <td>Prof-specialty</td>\n",
       "      <td>f</td>\n",
       "      <td>...</td>\n",
       "      <td>Masters</td>\n",
       "      <td>146659.0</td>\n",
       "      <td>0.0</td>\n",
       "      <td>55.072854</td>\n",
       "      <td>&gt;50K</td>\n",
       "      <td>{'mean_oxygen':'2.369565217','std_oxygen':'14....</td>\n",
       "      <td>United-States</td>\n",
       "      <td>NaN</td>\n",
       "      <td>1887.0</td>\n",
       "      <td>NaN</td>\n",
       "    </tr>\n",
       "  </tbody>\n",
       "</table>\n",
       "<p>1 rows × 26 columns</p>\n",
       "</div>"
      ],
      "text/plain": [
       "     index           name  age    sex date_of_birth  \\\n",
       "675    678  Daniel Martin   55   Male    1964-02-02   \n",
       "\n",
       "                                               address    race  \\\n",
       "675  1600 Shaun Drive Apt. 113\\r\\nEast Jacobmouth, ...   White   \n",
       "\n",
       "          marital-status       occupation pregnant  ...  education    fnlwgt  \\\n",
       "675   Married-civ-spouse   Prof-specialty        f  ...    Masters  146659.0   \n",
       "\n",
       "     class std_glucose  income  \\\n",
       "675    0.0   55.072854    >50K   \n",
       "\n",
       "                                          medical_info  native-country  \\\n",
       "675  {'mean_oxygen':'2.369565217','std_oxygen':'14....   United-States   \n",
       "\n",
       "     hours-per-week  capital-loss  workclass  \n",
       "675             NaN        1887.0        NaN  \n",
       "\n",
       "[1 rows x 26 columns]"
      ]
     },
     "execution_count": 13,
     "metadata": {},
     "output_type": "execute_result"
    }
   ],
   "source": [
    "print(data[\"name\"].value_counts())\n",
    "data.loc[data[\"name\"] == \"Daniel Martin\"]"
   ]
  },
  {
   "cell_type": "markdown",
   "metadata": {},
   "source": [
    "# Odstranenie useless atributov"
   ]
  },
  {
   "cell_type": "markdown",
   "metadata": {},
   "source": [
    "Teraz, co sme uz joinli obidva dataframy a mergli datarowy, ktore boli z nejakeho dovodu rozdelene, sa mozeme pozriet na samotne atributy a spracovat ich.\n",
    "\n",
    "V prvom rade vsak vyhodime atributy, ktore su uplne useless. Medzi nimi patri: \n",
    "- capital-gain \n",
    "- capital-loss\n",
    "\n",
    "Dovodom, preco tieto mazeme, je ze 90% vsetkych ich hodnot su same 0.\n",
    "\n",
    "Potom medzi dalsimi kandidatmi, ktore mozme hned vymazat budu:\n",
    "- name\n",
    "- date_of_birth - zatial ho nebudeme mazat, pouzijeme na imputaciu agu\n",
    "- address - z tadialto chceme este precitat napriklad stat, v ktorom sa to robilo (najma sa teraz bavime o USA a ich statoch)\n",
    "- fnlwgt - kedze nenasiel som ziadnu korelaciu medzi tymto vztahom a inymi ciselnymi hodnotami, ako aj nema korelaciu so samotnym prediction - class\n",
    "- pregnant - je velmi malo tehotnych ludi necele 2%"
   ]
  },
  {
   "cell_type": "code",
   "execution_count": 14,
   "metadata": {},
   "outputs": [
    {
     "data": {
      "text/plain": [
       "Index(['index', 'age', 'sex', 'date_of_birth', 'address', 'race',\n",
       "       'marital-status', 'occupation', 'education-num', 'relationship',\n",
       "       'skewness_glucose', 'mean_glucose', 'kurtosis_glucose', 'education',\n",
       "       'class', 'std_glucose', 'income', 'medical_info', 'native-country',\n",
       "       'hours-per-week', 'workclass'],\n",
       "      dtype='object')"
      ]
     },
     "execution_count": 14,
     "metadata": {},
     "output_type": "execute_result"
    }
   ],
   "source": [
    "data = data.drop(columns=[\"capital-gain\", \"capital-loss\", \"name\", \"fnlwgt\", \"pregnant\"])\n",
    "\n",
    "data.columns"
   ]
  },
  {
   "cell_type": "markdown",
   "metadata": {},
   "source": [
    "Este stale mame dost atributov, ktore nemusia mat so predikciou cukrovky ziadnu suvislost. Ale vacsina tychto atributov sa najlepsie urci, ci su potrebne alebo nie, na zaklade samotneho trenovania modelu s a bez danych parametrov. \n",
    "\n",
    "Este, v priebehu tohto 2. zadania, sa pokusime najst nejake atributy, ktore nemaju vypovednu hodnotu, napriklad pomocou VarianceThreshold, ale teraz v datasete mame velke mnozstvo kategorickych hodnot, ako aj mnozstvo zle zformatovanych udajov, a tak skontrolovanie variancie jednotlivych atributov vykoname neskorsie, ked ich trosku spracujeme... Teraz sa budeme venovat jednotlivym atributom a ich spravovaniu. \n",
    "\n",
    "Nakoniec, ked budeme mat vykonane vsetky upravy nad atributmi, tak to vsetko spojime dokopy pouzivajuc triedy v scikit kniznici, ako napriklad Pipeline, ColumnTransform a pod."
   ]
  },
  {
   "cell_type": "markdown",
   "metadata": {},
   "source": [
    "# Preprocessing jednotlivych atributov"
   ]
  },
  {
   "cell_type": "code",
   "execution_count": 15,
   "metadata": {},
   "outputs": [],
   "source": [
    "def identify_outliers(a):\n",
    "    q25 = a.quantile(0.25)\n",
    "    q75 = a.quantile(0.75)\n",
    "    \n",
    "    iqr = q75-q25\n",
    "        \n",
    "    lower = q25 - 1.5 * iqr\n",
    "    upper = q75 + 1.5 * iqr\n",
    "    \n",
    "    return a[(a > upper) | (a < lower)]"
   ]
  },
  {
   "cell_type": "markdown",
   "metadata": {},
   "source": [
    "Zbavime sa whitespacov vo vacsine stringovych atributoch..."
   ]
  },
  {
   "cell_type": "code",
   "execution_count": 16,
   "metadata": {},
   "outputs": [
    {
     "data": {
      "text/plain": [
       "Index(['index', 'age', 'sex', 'date_of_birth', 'address', 'race',\n",
       "       'marital-status', 'occupation', 'education-num', 'relationship',\n",
       "       'skewness_glucose', 'mean_glucose', 'kurtosis_glucose', 'education',\n",
       "       'class', 'std_glucose', 'income', 'medical_info', 'native-country',\n",
       "       'hours-per-week', 'workclass'],\n",
       "      dtype='object')"
      ]
     },
     "execution_count": 16,
     "metadata": {},
     "output_type": "execute_result"
    }
   ],
   "source": [
    "data.columns"
   ]
  },
  {
   "cell_type": "code",
   "execution_count": 17,
   "metadata": {},
   "outputs": [],
   "source": [
    "def string_formatting(col):\n",
    "    \n",
    "    if col.dtype == \"O\":\n",
    "        col = col.apply(lambda row: row.strip() if row is not np.nan else row)\n",
    "        col = col.apply(lambda row: np.nan if row is not np.nan and row == \"?\" else row)\n",
    "    \n",
    "    return col\n",
    "\n",
    "data = data.apply(string_formatting)"
   ]
  },
  {
   "cell_type": "markdown",
   "metadata": {},
   "source": [
    "### marital-status a relationship"
   ]
  },
  {
   "cell_type": "markdown",
   "metadata": {},
   "source": [
    "#### marital-status"
   ]
  },
  {
   "cell_type": "code",
   "execution_count": 18,
   "metadata": {},
   "outputs": [
    {
     "name": "stdout",
     "output_type": "stream",
     "text": [
      "Married-civ-spouse       1845\n",
      "Never-married            1237\n",
      "Divorced                  546\n",
      "Separated                 139\n",
      "Widowed                   115\n",
      "Married-spouse-absent      41\n",
      "Married-AF-spouse           3\n",
      "Name: marital-status, dtype: int64\n"
     ]
    },
    {
     "data": {
      "image/png": "[encoded data removed]",
      "text/plain": [
       "<Figure size 432x288 with 1 Axes>"
      ]
     },
     "metadata": {
      "needs_background": "light"
     },
     "output_type": "display_data"
    }
   ],
   "source": [
    "visual.univariate_categ_to_class(data, \"marital-status\")"
   ]
  },
  {
   "cell_type": "markdown",
   "metadata": {},
   "source": [
    "Zbavime sa malo pocetnych kategorii a skombinujeme ich vsetky do kategorie \"Other\""
   ]
  },
  {
   "cell_type": "code",
   "execution_count": 19,
   "metadata": {},
   "outputs": [],
   "source": [
    "def marital_status_categories(row):\n",
    "    \n",
    "    ms = row[\"marital-status\"]\n",
    "        \n",
    "    if ms is not np.nan and ms not in (\"Divorced\", \"Never-married\", \"Married-civ-spouse\"):\n",
    "        row[\"marital-status\"] = \"Other\"\n",
    "        \n",
    "    return row"
   ]
  },
  {
   "cell_type": "code",
   "execution_count": 20,
   "metadata": {},
   "outputs": [],
   "source": [
    "data = data.apply(marital_status_categories, axis=1)"
   ]
  },
  {
   "cell_type": "markdown",
   "metadata": {},
   "source": [
    "Na imputovanie missing values planujem pouzit atribut **relationship**, tak najprv na ten sa taktiez musime pozriet, a jemu znizit pocet kategorii, az potom budeme moct vyberat sposoby, ako imputovat missing values."
   ]
  },
  {
   "cell_type": "markdown",
   "metadata": {},
   "source": [
    "#### relationship"
   ]
  },
  {
   "cell_type": "code",
   "execution_count": 21,
   "metadata": {},
   "outputs": [
    {
     "name": "stdout",
     "output_type": "stream",
     "text": [
      "Husband           1622\n",
      "Not-in-family      966\n",
      "Own-child          602\n",
      "Unmarried          425\n",
      "Wife               193\n",
      "Other-relative     117\n",
      "Name: relationship, dtype: int64\n"
     ]
    },
    {
     "data": {
      "image/png": "[encoded data removed]",
      "text/plain": [
       "<Figure size 432x288 with 1 Axes>"
      ]
     },
     "metadata": {
      "needs_background": "light"
     },
     "output_type": "display_data"
    }
   ],
   "source": [
    "visual.univariate_categ_to_class(data, \"relationship\")"
   ]
  },
  {
   "cell_type": "markdown",
   "metadata": {},
   "source": [
    "Znova mozme malopocetne kategorie spojit dokopy a nasledne vykoname bivariate analyzu medzi tymto atributom a marital-status, aby sme urcili, ci sme vybrali vhodny styl kategorizacie."
   ]
  },
  {
   "cell_type": "code",
   "execution_count": 22,
   "metadata": {},
   "outputs": [],
   "source": [
    "def relationship_categories(row):\n",
    "    \n",
    "    rel = row[\"relationship\"]\n",
    "        \n",
    "    if rel is not np.nan and rel not in (\"Not-in-family\", \"Husband\", \"Own-child\"):\n",
    "        row[\"relationship\"] = \"Other\"\n",
    "        \n",
    "    return row"
   ]
  },
  {
   "cell_type": "code",
   "execution_count": 23,
   "metadata": {},
   "outputs": [],
   "source": [
    "data = data.apply(relationship_categories, axis=1)"
   ]
  },
  {
   "cell_type": "code",
   "execution_count": 24,
   "metadata": {},
   "outputs": [
    {
     "data": {
      "text/plain": [
       "relationship      8\n",
       "marital-status    7\n",
       "dtype: int64"
      ]
     },
     "execution_count": 24,
     "metadata": {},
     "output_type": "execute_result"
    }
   ],
   "source": [
    "data[[\"relationship\", \"marital-status\"]].isnull().sum()"
   ]
  },
  {
   "cell_type": "markdown",
   "metadata": {},
   "source": [
    "Teraz sa sustredime na missing values"
   ]
  },
  {
   "cell_type": "code",
   "execution_count": 25,
   "metadata": {},
   "outputs": [],
   "source": [
    "def categ_impute_iterativeImputer(data, columns, initial_strategy=\"most_frequent\", \n",
    "                                  max_iter=20, join=True):\n",
    "\n",
    "    data = data.copy()\n",
    "    \n",
    "    X = data[columns]\n",
    "    \n",
    "    #do datasetu vkladame ako prvy zaznam same null hodnoty, lebo OrdinalEncoder je celkom hlupy v tomto zmysle pri praci s null hodnotami\n",
    "    #lebo i ked mu poviete, aby ignoroval null hodnoty, ked ju uvidi po prvy krat, tak sice ju nezakoduje, ale inkrementne encoding hodnoty,\n",
    "    #co pri iterative imputerovi, kde chcem vediet min hodnotu a max hodnotu encodingu je zle, lebo pokial by som dostal null hodnotu v strede\n",
    "    #datasetu, tak dana null hodnota zoberie nejaku stredne cislo pre encoding, a zle mi bude vyhodnocovat iterative imputer\n",
    "    #jednoduchsie je, ked takto feedneme mu hned na zaciatku null hodnoty, vdaka ktorym sa inkrementne hodnota pri encodingu, no uz potom nas\n",
    "    #nic neprekvapi a hodnoty daneho atributu su cele cisla v rozmedzi medzi 2 a nejakym inym cislom - zatial, co keby sme nedali na zaciatok\n",
    "    #null hodnotu, tak by sme mali cisla od 1 po ine cislo, kedy by mohlo byt v danom rangy jedno cislo preskocene - nevhodne pre iterativeimputer\n",
    "    null_values = pd.DataFrame(index=pd.Index([-1]), columns=columns, data=[[np.nan for i in range(len(columns))]])\n",
    "    X = pd.concat([null_values,X])\n",
    "\n",
    "    #encodovanie kategorickych atributov\n",
    "    encoder = ce.ordinal.OrdinalEncoder(handle_missing=\"return_nan\", handle_unknown=\"return_nan\")\n",
    "    X = encoder.fit_transform(X)\n",
    "    \n",
    "    #zbavanie sa null hodnot\n",
    "    X = X[1:]\n",
    "\n",
    "    \n",
    "    iterative_impute = impute.IterativeImputer(max_iter=20, random_state=42, initial_strategy=\"most_frequent\", \n",
    "                                              min_value=X.min(), max_value=X.max())\n",
    "\n",
    "\n",
    "    #prvy krat vzdycky hodi iterative imputer nejaky error, ale druhy krat mu to uz nevadi... zaujimave\n",
    "    try:\n",
    "        X = iterative_impute.fit_transform(X).round()\n",
    "    except (ValueError, np.linalg.LinAlgError):\n",
    "        print(\"Jeden error bol trapnuty, kedy funkcii vadili NaNs. Tento error je ale divny, lebo mu to vadi\", \\\n",
    "              \"len prvy krat, a potom to uz ide...\")\n",
    "        X = iterative_impute.fit_transform(X).round()\n",
    "    \n",
    "    \n",
    "    X = pd.DataFrame(data=X, columns=columns)    \n",
    "    \n",
    "    \n",
    "    #tu uz len zo encodingu chceme naspat stringy - dovodom je ten, ze chceme este hodnoty pouzit pri analyze\n",
    "    #plus pre niektore atributy budeme chciet skor OneHotEncoding\n",
    "    if join:\n",
    "        \n",
    "        X = encoder.inverse_transform(X)\n",
    "        data[columns] = X\n",
    "        return data\n",
    "        \n",
    "    else:\n",
    "        return encoder.inverse_transform(X)\n",
    "\n"
   ]
  },
  {
   "cell_type": "markdown",
   "metadata": {},
   "source": [
    "Potom mozno najedme dalsie pomocne atributy, ktore nam lepsie pomozu pri estimacii missing values..."
   ]
  },
  {
   "cell_type": "code",
   "execution_count": 26,
   "metadata": {},
   "outputs": [
    {
     "name": "stdout",
     "output_type": "stream",
     "text": [
      "Jeden error bol trapnuty, kedy funkcii vadili NaNs. Tento error je ale divny, lebo mu to vadi len prvy krat, a potom to uz ide...\n"
     ]
    }
   ],
   "source": [
    "#tento prikaz je zaujimavy v tom, ze prvykrat, ked sa callne, mu vadi NaN values, no druhykrat uz nie\n",
    "data = categ_impute_iterativeImputer(data, [\"relationship\", \"marital-status\"])"
   ]
  },
  {
   "cell_type": "markdown",
   "metadata": {},
   "source": [
    "Takto vyzeraju nase atributy uz so vsetkymi hodnotami"
   ]
  },
  {
   "cell_type": "code",
   "execution_count": 27,
   "metadata": {},
   "outputs": [
    {
     "name": "stdout",
     "output_type": "stream",
     "text": [
      "Husband          1625\n",
      "Not-in-family     968\n",
      "Other             735\n",
      "Own-child         605\n",
      "Name: relationship, dtype: int64\n"
     ]
    },
    {
     "data": {
      "image/png": "[encoded data removed]",
      "text/plain": [
       "<Figure size 432x288 with 1 Axes>"
      ]
     },
     "metadata": {
      "needs_background": "light"
     },
     "output_type": "display_data"
    }
   ],
   "source": [
    "visual.univariate_categ_to_class(data, \"relationship\")"
   ]
  },
  {
   "cell_type": "code",
   "execution_count": 28,
   "metadata": {},
   "outputs": [
    {
     "name": "stdout",
     "output_type": "stream",
     "text": [
      "Married-civ-spouse    1846\n",
      "Never-married         1238\n",
      "Divorced               546\n",
      "Other                  303\n",
      "Name: marital-status, dtype: int64\n"
     ]
    },
    {
     "data": {
      "image/png": "[encoded data removed]",
      "text/plain": [
       "<Figure size 432x288 with 1 Axes>"
      ]
     },
     "metadata": {
      "needs_background": "light"
     },
     "output_type": "display_data"
    }
   ],
   "source": [
    "visual.univariate_categ_to_class(data, \"marital-status\")"
   ]
  },
  {
   "cell_type": "code",
   "execution_count": 29,
   "metadata": {},
   "outputs": [
    {
     "data": {
      "image/png": "[encoded data removed]",
      "text/plain": [
       "<Figure size 432x288 with 2 Axes>"
      ]
     },
     "metadata": {
      "needs_background": "light"
     },
     "output_type": "display_data"
    }
   ],
   "source": [
    "visual.bivar_2cats(data=data, x=\"marital-status\", y=\"relationship\")"
   ]
  },
  {
   "cell_type": "markdown",
   "metadata": {},
   "source": [
    "### Skupina atributov: occupation, workclass, income, hours-per-week"
   ]
  },
  {
   "cell_type": "markdown",
   "metadata": {},
   "source": [
    "#### occupation"
   ]
  },
  {
   "cell_type": "markdown",
   "metadata": {},
   "source": [
    "Upraceme kategorie v tomto atribute. Vsetky mozne hodnoty boli zduplikovane, kedy v jednej variante sa pouzivali \"-\", zatial co v druhej \"_\""
   ]
  },
  {
   "cell_type": "code",
   "execution_count": 30,
   "metadata": {},
   "outputs": [],
   "source": [
    "data[\"occupation\"] = data[\"occupation\"].apply(lambda row: np.nan if row is not np.nan and row == \"?\" else row)\n",
    "data[\"occupation\"] = data[\"occupation\"].apply(lambda row: row.strip().replace(\"_\", \"-\") if row is not np.nan else row)"
   ]
  },
  {
   "cell_type": "code",
   "execution_count": 31,
   "metadata": {},
   "outputs": [
    {
     "name": "stdout",
     "output_type": "stream",
     "text": [
      "Craft-repair         522\n",
      "Prof-specialty       494\n",
      "Exec-managerial      481\n",
      "Adm-clerical         472\n",
      "Sales                431\n",
      "Other-service        400\n",
      "Machine-op-inspct    241\n",
      "Transport-moving     196\n",
      "Handlers-cleaners    162\n",
      "Tech-support         106\n",
      "Farming-fishing      104\n",
      "Protective-serv       72\n",
      "Priv-house-serv       12\n",
      "Armed-Forces           1\n",
      "Name: occupation, dtype: int64\n"
     ]
    },
    {
     "data": {
      "image/png": "[encoded data removed]",
      "text/plain": [
       "<Figure size 432x288 with 1 Axes>"
      ]
     },
     "metadata": {
      "needs_background": "light"
     },
     "output_type": "display_data"
    }
   ],
   "source": [
    "visual.univariate_categ_to_class(data, \"occupation\")"
   ]
  },
  {
   "cell_type": "markdown",
   "metadata": {},
   "source": [
    "Malo pocetne hodnoty mozeme mergnut do jednej hodnoty, no ako sme minule vraveli, nemyslime si, ze tento atribut je extra vypovedny pre nasu klasifikacnu ulohu. Avsak mozme ho mierne spracovat a doplnit mu missing values, aby sme neskor v modeli mohli otestovat, ci nam pomaha pri klasifikacii alebo nie. Mergneme 6 najmenej poslednych kategorii do jendej."
   ]
  },
  {
   "cell_type": "code",
   "execution_count": 32,
   "metadata": {},
   "outputs": [],
   "source": [
    "def occupation_categories(row):\n",
    "\n",
    "    occ = row[\"occupation\"]\n",
    "    \n",
    "    if occ is not np.nan and occ not in (\"Craft-repair\", \"Prof-specialty\", \"Exec-managerial\", \n",
    "                                         \"Adm-clerical\", \"Sales\", \"Other-service\", \"Machine-op-inspct\", \n",
    "                                         \"Transport-moving\"):\n",
    "        \n",
    "        row[\"occupation\"] = \"Other\"\n",
    "        \n",
    "    return row"
   ]
  },
  {
   "cell_type": "code",
   "execution_count": 33,
   "metadata": {},
   "outputs": [],
   "source": [
    "data = data.apply(occupation_categories, axis=1)"
   ]
  },
  {
   "cell_type": "code",
   "execution_count": 34,
   "metadata": {},
   "outputs": [
    {
     "name": "stdout",
     "output_type": "stream",
     "text": [
      "Craft-repair         522\n",
      "Prof-specialty       494\n",
      "Exec-managerial      481\n",
      "Adm-clerical         472\n",
      "Other                457\n",
      "Sales                431\n",
      "Other-service        400\n",
      "Machine-op-inspct    241\n",
      "Transport-moving     196\n",
      "Name: occupation, dtype: int64\n"
     ]
    },
    {
     "data": {
      "image/png": "[encoded data removed]",
      "text/plain": [
       "<Figure size 432x288 with 1 Axes>"
      ]
     },
     "metadata": {
      "needs_background": "light"
     },
     "output_type": "display_data"
    }
   ],
   "source": [
    "visual.univariate_categ_to_class(data, \"occupation\")"
   ]
  },
  {
   "cell_type": "markdown",
   "metadata": {},
   "source": [
    "#### workclass"
   ]
  },
  {
   "cell_type": "code",
   "execution_count": 35,
   "metadata": {},
   "outputs": [
    {
     "name": "stdout",
     "output_type": "stream",
     "text": [
      "Private             2756\n",
      "Self-emp-not-inc     289\n",
      "Local-gov            253\n",
      "State-gov            145\n",
      "Self-emp-inc         131\n",
      "Federal-gov          119\n",
      "Never-worked           2\n",
      "Without-pay            1\n",
      "Name: workclass, dtype: int64\n"
     ]
    },
    {
     "data": {
      "image/png": "[encoded data removed]",
      "text/plain": [
       "<Figure size 432x288 with 1 Axes>"
      ]
     },
     "metadata": {
      "needs_background": "light"
     },
     "output_type": "display_data"
    }
   ],
   "source": [
    "visual.univariate_categ_to_class(data, \"workclass\")"
   ]
  },
  {
   "cell_type": "markdown",
   "metadata": {},
   "source": [
    "Tu mergneme vsetky kategorie, ktore nie su private..."
   ]
  },
  {
   "cell_type": "code",
   "execution_count": 36,
   "metadata": {},
   "outputs": [],
   "source": [
    "def workclass_categories(row):\n",
    "\n",
    "    wc = row[\"workclass\"]\n",
    "    \n",
    "    if wc is not np.nan and wc != \"Private\":\n",
    "        row[\"workclass\"] = \"Non-private\"\n",
    "        \n",
    "    return row"
   ]
  },
  {
   "cell_type": "code",
   "execution_count": 37,
   "metadata": {},
   "outputs": [],
   "source": [
    "data = data.apply(workclass_categories, axis=1)"
   ]
  },
  {
   "cell_type": "code",
   "execution_count": 38,
   "metadata": {},
   "outputs": [
    {
     "name": "stdout",
     "output_type": "stream",
     "text": [
      "Private        2756\n",
      "Non-private     940\n",
      "Name: workclass, dtype: int64\n"
     ]
    },
    {
     "data": {
      "image/png": "[encoded data removed]",
      "text/plain": [
       "<Figure size 432x288 with 1 Axes>"
      ]
     },
     "metadata": {
      "needs_background": "light"
     },
     "output_type": "display_data"
    }
   ],
   "source": [
    "visual.univariate_categ_to_class(data, \"workclass\")"
   ]
  },
  {
   "cell_type": "code",
   "execution_count": 39,
   "metadata": {},
   "outputs": [
    {
     "data": {
      "image/png": "[encoded data removed]",
      "text/plain": [
       "<Figure size 432x288 with 2 Axes>"
      ]
     },
     "metadata": {
      "needs_background": "light"
     },
     "output_type": "display_data"
    }
   ],
   "source": [
    "visual.bivar_2cats(data=data, x=\"workclass\", y=\"occupation\")"
   ]
  },
  {
   "cell_type": "markdown",
   "metadata": {},
   "source": [
    "### Sem pridame aj education-num, lebo to je tiez celkom vhodny atribut do tejto kategorie..."
   ]
  },
  {
   "cell_type": "code",
   "execution_count": 40,
   "metadata": {},
   "outputs": [
    {
     "data": {
      "text/plain": [
       "workclass         237\n",
       "occupation        239\n",
       "income              5\n",
       "hours-per-week      9\n",
       "dtype: int64"
      ]
     },
     "execution_count": 40,
     "metadata": {},
     "output_type": "execute_result"
    }
   ],
   "source": [
    "data[[\"workclass\", \"occupation\", \"income\", \"hours-per-week\"]].isnull().sum()"
   ]
  },
  {
   "cell_type": "markdown",
   "metadata": {},
   "source": [
    "Ako mozno vidiet, je velke mnozstvo NaN hodnot, ktore potrebujeme vyriesit. Mohli by sme ich odstranit, najma pokial by sme nemali ine atributy, podla ktorych by sme mohli imputovat hodnoty, no kvoli tomu, ze je ich tolko vela na imputaciu, tak pouzijeme viacero atributov dokopy, ktore pouzijeme do IterativeImputer na doplnenie missing values.\n",
    "\n",
    "Este predtym, nez vykoname spominanu imputaciu missing values, treba predspracovat ostatne atributy."
   ]
  },
  {
   "cell_type": "code",
   "execution_count": 41,
   "metadata": {},
   "outputs": [],
   "source": [
    "#tato funkcia sluzi len na vizualizaciu aplikacie nonlinearnych transformacii na distribuciu a pocet outlierov\n",
    "#vdaka nej sa mozme rozhodnut, ci chceme \n",
    "def resolving_outliers_transformations(data, column, power_method=\"yeo-johnson\", apply_transformation=None,\n",
    "                                       figsize=None):\n",
    "    \n",
    "    transformers = [\n",
    "        preprocessing.PowerTransformer(method=power_method),\n",
    "        preprocessing.QuantileTransformer(output_distribution=\"normal\")\n",
    "    ]\n",
    "    \n",
    "    transf_names = [\"PowerTransformer\", \"QuantileTransformer\"]\n",
    "    \n",
    "    #uz chcem aplikovat konkretnu kombinaciu\n",
    "    if apply_transformation is not None:\n",
    "        \n",
    "        data = data.copy()\n",
    "        \n",
    "        idx = transf_names.index(apply_transformation)\n",
    "        new_data = transformers[idx].fit_transform(data[[column]])\n",
    "        \n",
    "        data[column] = pd.Series(new_data.reshape(-1))\n",
    "        \n",
    "        return data\n",
    "        \n",
    "    \n",
    "    for transf, name in zip(transformers, transf_names):\n",
    "\n",
    "        transformed = transf.fit_transform(data[[column]])\n",
    "    \n",
    "        outliery = identify_outliers(pd.Series(transformed.reshape(-1)))\n",
    "        \n",
    "        if name == \"PowerTransformer\":\n",
    "            print(name, \"| metoda:\", power_method)\n",
    "        else:\n",
    "            print(name)\n",
    "            \n",
    "        print(\"Pocet outlierov:\", len(outliery))\n",
    "    \n",
    "        visual.f(figsize)\n",
    "        sns.distplot(transformed)\n",
    "        plt.show()\n",
    "    \n"
   ]
  },
  {
   "cell_type": "code",
   "execution_count": 42,
   "metadata": {},
   "outputs": [],
   "source": [
    "#tato funkcia sluzi na zistenie poctu outlierov, pokial distribuciu atributu rozdelime na dvoje, podla hodnoty clz\n",
    "def outliers_per_distributions_to_class(data, column, clz=\"class\"):\n",
    "     \n",
    "    data_y0 = data[data[clz] == 0][column]\n",
    "    data_y1 = data[data[clz] == 1][column]\n",
    "    \n",
    "    out1 = identify_outliers(data_y0)\n",
    "    out2 = identify_outliers(data_y1)\n",
    "    \n",
    "    print(\"Pocet outlierov pri y=0 je:\", len(out1))\n",
    "    print(\"Pocet outlierov pri y=1 je:\", len(out2))\n",
    "    \n",
    "    return len(out1) + len(out2)\n",
    "    "
   ]
  },
  {
   "cell_type": "code",
   "execution_count": 43,
   "metadata": {},
   "outputs": [],
   "source": [
    "#tato funkcia sluzi pre zistenie idealnej kombinacie, ako vyriesit outliery pre dolezite atributy, teda tie, ktore \n",
    "#maju silnu korelaciu z target atributom \n",
    "#typicky to pouzivame prave pri atributoch o glukoze ci kysliku\n",
    "#vyskusaju sa vsetky kombinacie, teda vyskusa sa na vyriesenie outlierov najprv nonlinearne transformacie, ci odstranenie samotnych\n",
    "#outlierov. Taktiez sa vyskusa rovno odstranit outliery z novych distribucii, ktore boli vytvorene transformaciami\n",
    "\n",
    "#apply_combination je metoda, ktorou vykonas urcite operacie, ktore si si vybral pri predchadzajucom volani tejto funkcie\n",
    "#apply_combination(nazov_transformatora, True/False pre odstranenie outlierov)\n",
    "def resolving_outliers_transformations_to_class(data, column, clz=\"class\", remove_outliers=True, apply_combination=None,\n",
    "                                                power_method=\"yeo-johnson\", figsize=None):\n",
    "\n",
    "    \n",
    "    transformers = [\n",
    "        preprocessing.PowerTransformer(method=power_method),\n",
    "        preprocessing.QuantileTransformer(output_distribution=\"normal\"),\n",
    "        None\n",
    "    ]\n",
    "    \n",
    "    transformers_names = [\"PowerTransformer\", \"QuantileTransformer\", None]\n",
    "    \n",
    "    #uz chcem aplikovat konkretnu kombinaciu\n",
    "    if apply_combination is not None:\n",
    "        \n",
    "        #aplikujeme transformaciu\n",
    "        if apply_combination[0] is not None:\n",
    "\n",
    "            data = data.copy()\n",
    "            \n",
    "            idx = transformers_names.index(apply_combination[0])\n",
    "            new_data = transformers[idx].fit_transform(data[[column]])\n",
    "\n",
    "            data[column] = pd.Series(new_data.reshape(-1))\n",
    "            \n",
    "            #pokial aplikujeme aj odstranovanie outlierov\n",
    "            if apply_combination[1] == True:\n",
    "                data = removing_outliers_per_class(data, column, clz=clz, show_plot=False)\n",
    "        \n",
    "        #neaplikujeme transformaciu, teda jedine, co robime, je odstranovanie outlierov z distribucii \n",
    "        #podla target atributu\n",
    "        else:\n",
    "            data = removing_outliers_per_class(data, column, clz=clz, show_plot=False)\n",
    "        \n",
    "        \n",
    "        return data\n",
    "    \n",
    "    for transf,name in zip(transformers, transformers_names):\n",
    "    \n",
    "        #pokial aplikujem nejaku transformaciu\n",
    "        if transf is not None:\n",
    "            new_data = transf.fit_transform(data[[column]])\n",
    "            data[\"new_data\"] = pd.Series(new_data.reshape(-1))\n",
    "    \n",
    "            if name == \"PowerTransformer\":\n",
    "                print(name, \"| metoda:\", power_method)\n",
    "            else:\n",
    "                print(name)\n",
    "                \n",
    "            pocet_outlierov = outliers_per_distributions_to_class(data, \"new_data\", clz=clz)\n",
    "        \n",
    "            visual.f(figsize)\n",
    "            visual.univariate_num_to_class(data, \"new_data\", clz=clz, figsize=figsize, show_regplot=False)\n",
    "                \n",
    "        #pokial skusame vymazavat outliery...\n",
    "        if remove_outliers == True:\n",
    "            \n",
    "            #pokial aplikujeme nejaku transformaciu\n",
    "            if transf is None:\n",
    "                print(\"\\n\")\n",
    "                print(\"Vyskusame odstranit vsetky outliery z danej hornej distribucie\")\n",
    "            \n",
    "            #pokial neaplikueme ziadnu transformaciu\n",
    "            else:\n",
    "                data[\"new_data\"] = data[column]\n",
    "                pocet_outlierov = outliers_per_distributions_to_class(data, \"new_data\", clz=clz)\n",
    "                print(\"Bez transformacie - vyskusame len odstranit outliery\")\n",
    "                \n",
    "            \n",
    "           \n",
    "            print(\"Pocet outlierov na odstranenie:\", pocet_outlierov)\n",
    "            removing_outliers_per_class(data, \"new_data\", clz=clz, figsize=figsize)\n",
    "    \n",
    "        print(\"\\n------------------------------------------\\n\")\n",
    "    \n",
    "    data = data.drop(columns=[\"new_data\"])\n",
    "    \n",
    "    "
   ]
  },
  {
   "cell_type": "code",
   "execution_count": 44,
   "metadata": {},
   "outputs": [],
   "source": [
    "def removing_outliers_per_class(data, column, clz=\"class\", show_plot=True, figsize=None):\n",
    "    \n",
    "    data = data.copy()\n",
    "    \n",
    "    data_y0 = data[data[clz] == 0][column]\n",
    "    data_y1 = data[data[clz] == 1][column]\n",
    "    \n",
    "    idx = identify_outliers(data_y0).index.values\n",
    "    data = data.drop(index=idx)\n",
    "\n",
    "    idx = identify_outliers(data_y1).index.values\n",
    "    data = data.drop(index=idx)\n",
    "    \n",
    "    if show_plot == True:\n",
    "        visual.f(figsize)\n",
    "        visual.univariate_num_to_class(data, column, show_regplot=False)\n",
    "    \n",
    "    return data\n",
    "    "
   ]
  },
  {
   "cell_type": "markdown",
   "metadata": {},
   "source": [
    "#### hours-per-week"
   ]
  },
  {
   "cell_type": "code",
   "execution_count": 45,
   "metadata": {},
   "outputs": [
    {
     "name": "stdout",
     "output_type": "stream",
     "text": [
      "Pocet outlierov: 1089\n",
      "Korelacia medzi nasim atributom a y: -0.022582040803000948\n"
     ]
    },
    {
     "data": {
      "image/png": "[encoded data removed]",
      "text/plain": [
       "<Figure size 432x288 with 1 Axes>"
      ]
     },
     "metadata": {
      "needs_background": "light"
     },
     "output_type": "display_data"
    },
    {
     "data": {
      "image/png": "[encoded data removed]",
      "text/plain": [
       "<Figure size 432x288 with 1 Axes>"
      ]
     },
     "metadata": {
      "needs_background": "light"
     },
     "output_type": "display_data"
    }
   ],
   "source": [
    "outliery = identify_outliers(data[\"hours-per-week\"])\n",
    "print(\"Pocet outlierov:\", len(outliery))\n",
    "visual.univariate_num_to_class(data, \"hours-per-week\", show_regplot=False)"
   ]
  },
  {
   "cell_type": "code",
   "execution_count": 46,
   "metadata": {},
   "outputs": [
    {
     "name": "stdout",
     "output_type": "stream",
     "text": [
      "PowerTransformer | metoda: yeo-johnson\n",
      "Pocet outlierov: 1089\n"
     ]
    },
    {
     "data": {
      "image/png": "[encoded data removed]",
      "text/plain": [
       "<Figure size 432x288 with 1 Axes>"
      ]
     },
     "metadata": {
      "needs_background": "light"
     },
     "output_type": "display_data"
    },
    {
     "name": "stdout",
     "output_type": "stream",
     "text": [
      "QuantileTransformer\n",
      "Pocet outlierov: 604\n"
     ]
    },
    {
     "data": {
      "image/png": "[encoded data removed]",
      "text/plain": [
       "<Figure size 432x288 with 1 Axes>"
      ]
     },
     "metadata": {
      "needs_background": "light"
     },
     "output_type": "display_data"
    }
   ],
   "source": [
    "resolving_outliers_transformations(data, \"hours-per-week\")"
   ]
  },
  {
   "cell_type": "markdown",
   "metadata": {},
   "source": [
    "Je tu velke mnozstvo outlierov, ktore nemozeme len tak vymazat. Skusal som uz predtym aplikovat na tuto distribuciu viacero transformacii, ako PowerTransform alebo QuantileTransform, aby som transformoval spominane outliery, no bez uspechu. Dovodom, preco je tolko vela dat povazovanych za outlierov je, ze IQR je strasne maly. \n",
    "\n",
    "Rozhodol som sa, ze zkategorizujem tento atribut, cim vlastne aj mierne sa zbavim problemu outlierov."
   ]
  },
  {
   "cell_type": "code",
   "execution_count": 47,
   "metadata": {},
   "outputs": [
    {
     "name": "stdout",
     "output_type": "stream",
     "text": [
      "40.0\n",
      "40.0\n",
      "45.0\n"
     ]
    }
   ],
   "source": [
    "print(data[\"hours-per-week\"].quantile(0.25))\n",
    "print(data[\"hours-per-week\"].quantile(0.70))\n",
    "print(data[\"hours-per-week\"].quantile(0.75))"
   ]
  },
  {
   "cell_type": "code",
   "execution_count": 48,
   "metadata": {},
   "outputs": [],
   "source": [
    "def categorize_hours(row):\n",
    "    \n",
    "    hour = row[\"hours-per-week\"]\n",
    "    \n",
    "    if math.isnan(hour):\n",
    "        row[\"hours-per-week-cat\"] = math.nan\n",
    "    elif hour <= 35:\n",
    "        row[\"hours-per-week-cat\"] = \"<=35\"\n",
    "    elif hour <= 45:\n",
    "        row[\"hours-per-week-cat\"] = \"35< hours <=45\"\n",
    "    elif hour > 45:\n",
    "        row[\"hours-per-week-cat\"] = \">45\"        \n",
    "\n",
    "    return row\n",
    "        \n",
    "data[\"hours-per-week-cat\"] = 0\n",
    "data = data.apply(categorize_hours, axis=1)"
   ]
  },
  {
   "cell_type": "code",
   "execution_count": 49,
   "metadata": {},
   "outputs": [
    {
     "name": "stdout",
     "output_type": "stream",
     "text": [
      "35< hours <=45    2260\n",
      "<=35               839\n",
      ">45                825\n",
      "Name: hours-per-week-cat, dtype: int64\n"
     ]
    },
    {
     "data": {
      "image/png": "[encoded data removed]",
      "text/plain": [
       "<Figure size 432x288 with 1 Axes>"
      ]
     },
     "metadata": {
      "needs_background": "light"
     },
     "output_type": "display_data"
    }
   ],
   "source": [
    "visual.univariate_categ_to_class(data, \"hours-per-week-cat\")"
   ]
  },
  {
   "cell_type": "markdown",
   "metadata": {},
   "source": [
    "#### income"
   ]
  },
  {
   "cell_type": "markdown",
   "metadata": {},
   "source": [
    "Pre tento atribut netreba nic riesit, len imputaciu hodnot, co vsak vykoname spolu s ostatnymi atributmi"
   ]
  },
  {
   "cell_type": "code",
   "execution_count": 50,
   "metadata": {},
   "outputs": [
    {
     "name": "stdout",
     "output_type": "stream",
     "text": [
      "<=50K    2967\n",
      ">50K      961\n",
      "Name: income, dtype: int64\n"
     ]
    },
    {
     "data": {
      "image/png": "[encoded data removed]",
      "text/plain": [
       "<Figure size 432x288 with 1 Axes>"
      ]
     },
     "metadata": {
      "needs_background": "light"
     },
     "output_type": "display_data"
    }
   ],
   "source": [
    "visual.univariate_categ_to_class(data, \"income\")"
   ]
  },
  {
   "cell_type": "markdown",
   "metadata": {},
   "source": [
    "## Tu chceme pridat aj to education"
   ]
  },
  {
   "cell_type": "code",
   "execution_count": 51,
   "metadata": {},
   "outputs": [
    {
     "name": "stdout",
     "output_type": "stream",
     "text": [
      "Jeden error bol trapnuty, kedy funkcii vadili NaNs. Tento error je ale divny, lebo mu to vadi len prvy krat, a potom to uz ide...\n"
     ]
    }
   ],
   "source": [
    "data = data.drop(columns=[\"hours-per-week\"])\n",
    "data = categ_impute_iterativeImputer(data, [\"occupation\", \"workclass\", \"income\", \"hours-per-week-cat\"], max_iter=20)"
   ]
  },
  {
   "cell_type": "markdown",
   "metadata": {},
   "source": [
    "Podme sa teraz pozriet najma na atributy occupation a workclass, ktorym velkme mnozstvo hodnot chybalo"
   ]
  },
  {
   "cell_type": "code",
   "execution_count": 52,
   "metadata": {},
   "outputs": [
    {
     "name": "stdout",
     "output_type": "stream",
     "text": [
      "Other                677\n",
      "Craft-repair         541\n",
      "Prof-specialty       494\n",
      "Exec-managerial      481\n",
      "Adm-clerical         472\n",
      "Sales                431\n",
      "Other-service        400\n",
      "Machine-op-inspct    241\n",
      "Transport-moving     196\n",
      "Name: occupation, dtype: int64\n"
     ]
    },
    {
     "data": {
      "image/png": "[encoded data removed]",
      "text/plain": [
       "<Figure size 432x288 with 1 Axes>"
      ]
     },
     "metadata": {
      "needs_background": "light"
     },
     "output_type": "display_data"
    }
   ],
   "source": [
    "visual.univariate_categ_to_class(data, \"occupation\")"
   ]
  },
  {
   "cell_type": "code",
   "execution_count": 53,
   "metadata": {},
   "outputs": [
    {
     "name": "stdout",
     "output_type": "stream",
     "text": [
      "Private        2993\n",
      "Non-private     940\n",
      "Name: workclass, dtype: int64\n"
     ]
    },
    {
     "data": {
      "image/png": "[encoded data removed]",
      "text/plain": [
       "<Figure size 432x288 with 1 Axes>"
      ]
     },
     "metadata": {
      "needs_background": "light"
     },
     "output_type": "display_data"
    }
   ],
   "source": [
    "visual.univariate_categ_to_class(data, \"workclass\")"
   ]
  },
  {
   "cell_type": "markdown",
   "metadata": {},
   "source": [
    "### Atribut native_country"
   ]
  },
  {
   "cell_type": "markdown",
   "metadata": {},
   "source": [
    "# FEEDBACK ---------------------------------------------------------------------\n",
    "\n",
    "skoro vsade sa pouzivaju \"-\", nie \"_\", plus je to aj tak jedno, takze som ti do odkomentoval :P"
   ]
  },
  {
   "cell_type": "code",
   "execution_count": 54,
   "metadata": {},
   "outputs": [],
   "source": [
    "#data = data.rename(columns = {'native-country':'native_country'})"
   ]
  },
  {
   "cell_type": "code",
   "execution_count": 55,
   "metadata": {},
   "outputs": [
    {
     "name": "stdout",
     "output_type": "stream",
     "text": [
      "United-States         3527\n",
      "Mexico                  73\n",
      "Philippines             28\n",
      "El-Salvador             18\n",
      "Puerto-Rico             15\n",
      "Canada                  14\n",
      "England                 13\n",
      "Cuba                    12\n",
      "India                   12\n",
      "Germany                 12\n",
      "Vietnam                 10\n",
      "Italy                    9\n",
      "China                    8\n",
      "South                    8\n",
      "Guatemala                7\n",
      "Iran                     7\n",
      "Taiwan                   7\n",
      "Jamaica                  7\n",
      "Columbia                 6\n",
      "Japan                    6\n",
      "Dominican-Republic       5\n",
      "Poland                   5\n",
      "Portugal                 4\n",
      "Honduras                 4\n",
      "Peru                     4\n",
      "Thailand                 3\n",
      "France                   3\n",
      "Hong                     3\n",
      "Haiti                    3\n",
      "Scotland                 2\n",
      "Yugoslavia               2\n",
      "Ireland                  2\n",
      "Trinadad&Tobago          2\n",
      "Ecuador                  2\n",
      "Holand-Netherlands       1\n",
      "Cambodia                 1\n",
      "Laos                     1\n",
      "Hungary                  1\n",
      "Greece                   1\n",
      "Nicaragua                1\n",
      "Name: native-country, dtype: int64\n"
     ]
    },
    {
     "data": {
      "image/png": "[encoded data removed]",
      "text/plain": [
       "<Figure size 432x288 with 1 Axes>"
      ]
     },
     "metadata": {
      "needs_background": "light"
     },
     "output_type": "display_data"
    }
   ],
   "source": [
    "visual.univariate_categ_to_class(data, \"native-country\")"
   ]
  },
  {
   "cell_type": "markdown",
   "metadata": {},
   "source": [
    "# FEEDBACK ---------------------------------------------------------------------\n",
    "\n",
    "tu si robil veci, ako odstranenie medzier ci replacnutie ? za nan, no to vsetko je uz spravene hore nejakou funkciou, ktora, pokial sa nemylim, ti nesla spustit, tak si zariad, aby ti sla :P - funkcia string_formatting\n",
    "\n",
    "to iste plati aj pre category_encoders, aby ti sli\n",
    "\n",
    "vkuse pouzivas `data.info()`, kedy netusim, ze preco... je to velke a nic nam to nepovie"
   ]
  },
  {
   "cell_type": "code",
   "execution_count": 56,
   "metadata": {},
   "outputs": [],
   "source": [
    "def native_country_categories(row):\n",
    "\n",
    "    nc = row[\"native-country\"]\n",
    "    \n",
    "    if nc is not np.nan and nc not in (\"United-States\"):\n",
    "        row[\"native-country\"] = \"Other\"\n",
    "        \n",
    "    return row"
   ]
  },
  {
   "cell_type": "code",
   "execution_count": 57,
   "metadata": {},
   "outputs": [],
   "source": [
    "data = data.apply(native_country_categories, axis=1)"
   ]
  },
  {
   "cell_type": "code",
   "execution_count": 58,
   "metadata": {},
   "outputs": [
    {
     "name": "stdout",
     "output_type": "stream",
     "text": [
      "United-States    3527\n",
      "Other             322\n",
      "Name: native-country, dtype: int64\n",
      "Pocet percent ludi z USA: 0.8967709127892194\n",
      "Error in callback <function flush_figures at 0x000001618FBEF310> (for post_execute):\n"
     ]
    },
    {
     "ename": "KeyboardInterrupt",
     "evalue": "",
     "output_type": "error",
     "traceback": [
      "\u001b[1;31m---------------------------------------------------------------------------\u001b[0m",
      "\u001b[1;31mKeyboardInterrupt\u001b[0m                         Traceback (most recent call last)",
      "\u001b[1;32mc:\\users\\marcel\\appdata\\local\\programs\\python\\python38\\lib\\site-packages\\ipykernel\\pylab\\backend_inline.py\u001b[0m in \u001b[0;36mflush_figures\u001b[1;34m()\u001b[0m\n\u001b[0;32m    119\u001b[0m         \u001b[1;31m# ignore the tracking, just draw and close all figures\u001b[0m\u001b[1;33m\u001b[0m\u001b[1;33m\u001b[0m\u001b[1;33m\u001b[0m\u001b[0m\n\u001b[0;32m    120\u001b[0m         \u001b[1;32mtry\u001b[0m\u001b[1;33m:\u001b[0m\u001b[1;33m\u001b[0m\u001b[1;33m\u001b[0m\u001b[0m\n\u001b[1;32m--> 121\u001b[1;33m             \u001b[1;32mreturn\u001b[0m \u001b[0mshow\u001b[0m\u001b[1;33m(\u001b[0m\u001b[1;32mTrue\u001b[0m\u001b[1;33m)\u001b[0m\u001b[1;33m\u001b[0m\u001b[1;33m\u001b[0m\u001b[0m\n\u001b[0m\u001b[0;32m    122\u001b[0m         \u001b[1;32mexcept\u001b[0m \u001b[0mException\u001b[0m \u001b[1;32mas\u001b[0m \u001b[0me\u001b[0m\u001b[1;33m:\u001b[0m\u001b[1;33m\u001b[0m\u001b[1;33m\u001b[0m\u001b[0m\n\u001b[0;32m    123\u001b[0m             \u001b[1;31m# safely show traceback if in IPython, else raise\u001b[0m\u001b[1;33m\u001b[0m\u001b[1;33m\u001b[0m\u001b[1;33m\u001b[0m\u001b[0m\n",
      "\u001b[1;32mc:\\users\\marcel\\appdata\\local\\programs\\python\\python38\\lib\\site-packages\\ipykernel\\pylab\\backend_inline.py\u001b[0m in \u001b[0;36mshow\u001b[1;34m(close, block)\u001b[0m\n\u001b[0;32m     39\u001b[0m     \u001b[1;32mtry\u001b[0m\u001b[1;33m:\u001b[0m\u001b[1;33m\u001b[0m\u001b[1;33m\u001b[0m\u001b[0m\n\u001b[0;32m     40\u001b[0m         \u001b[1;32mfor\u001b[0m \u001b[0mfigure_manager\u001b[0m \u001b[1;32min\u001b[0m \u001b[0mGcf\u001b[0m\u001b[1;33m.\u001b[0m\u001b[0mget_all_fig_managers\u001b[0m\u001b[1;33m(\u001b[0m\u001b[1;33m)\u001b[0m\u001b[1;33m:\u001b[0m\u001b[1;33m\u001b[0m\u001b[1;33m\u001b[0m\u001b[0m\n\u001b[1;32m---> 41\u001b[1;33m             display(\n\u001b[0m\u001b[0;32m     42\u001b[0m                 \u001b[0mfigure_manager\u001b[0m\u001b[1;33m.\u001b[0m\u001b[0mcanvas\u001b[0m\u001b[1;33m.\u001b[0m\u001b[0mfigure\u001b[0m\u001b[1;33m,\u001b[0m\u001b[1;33m\u001b[0m\u001b[1;33m\u001b[0m\u001b[0m\n\u001b[0;32m     43\u001b[0m                 \u001b[0mmetadata\u001b[0m\u001b[1;33m=\u001b[0m\u001b[0m_fetch_figure_metadata\u001b[0m\u001b[1;33m(\u001b[0m\u001b[0mfigure_manager\u001b[0m\u001b[1;33m.\u001b[0m\u001b[0mcanvas\u001b[0m\u001b[1;33m.\u001b[0m\u001b[0mfigure\u001b[0m\u001b[1;33m)\u001b[0m\u001b[1;33m\u001b[0m\u001b[1;33m\u001b[0m\u001b[0m\n",
      "\u001b[1;32mc:\\users\\marcel\\appdata\\local\\programs\\python\\python38\\lib\\site-packages\\IPython\\core\\display.py\u001b[0m in \u001b[0;36mdisplay\u001b[1;34m(include, exclude, metadata, transient, display_id, *objs, **kwargs)\u001b[0m\n\u001b[0;32m    311\u001b[0m             \u001b[0mpublish_display_data\u001b[0m\u001b[1;33m(\u001b[0m\u001b[0mdata\u001b[0m\u001b[1;33m=\u001b[0m\u001b[0mobj\u001b[0m\u001b[1;33m,\u001b[0m \u001b[0mmetadata\u001b[0m\u001b[1;33m=\u001b[0m\u001b[0mmetadata\u001b[0m\u001b[1;33m,\u001b[0m \u001b[1;33m**\u001b[0m\u001b[0mkwargs\u001b[0m\u001b[1;33m)\u001b[0m\u001b[1;33m\u001b[0m\u001b[1;33m\u001b[0m\u001b[0m\n\u001b[0;32m    312\u001b[0m         \u001b[1;32melse\u001b[0m\u001b[1;33m:\u001b[0m\u001b[1;33m\u001b[0m\u001b[1;33m\u001b[0m\u001b[0m\n\u001b[1;32m--> 313\u001b[1;33m             \u001b[0mformat_dict\u001b[0m\u001b[1;33m,\u001b[0m \u001b[0mmd_dict\u001b[0m \u001b[1;33m=\u001b[0m \u001b[0mformat\u001b[0m\u001b[1;33m(\u001b[0m\u001b[0mobj\u001b[0m\u001b[1;33m,\u001b[0m \u001b[0minclude\u001b[0m\u001b[1;33m=\u001b[0m\u001b[0minclude\u001b[0m\u001b[1;33m,\u001b[0m \u001b[0mexclude\u001b[0m\u001b[1;33m=\u001b[0m\u001b[0mexclude\u001b[0m\u001b[1;33m)\u001b[0m\u001b[1;33m\u001b[0m\u001b[1;33m\u001b[0m\u001b[0m\n\u001b[0m\u001b[0;32m    314\u001b[0m             \u001b[1;32mif\u001b[0m \u001b[1;32mnot\u001b[0m \u001b[0mformat_dict\u001b[0m\u001b[1;33m:\u001b[0m\u001b[1;33m\u001b[0m\u001b[1;33m\u001b[0m\u001b[0m\n\u001b[0;32m    315\u001b[0m                 \u001b[1;31m# nothing to display (e.g. _ipython_display_ took over)\u001b[0m\u001b[1;33m\u001b[0m\u001b[1;33m\u001b[0m\u001b[1;33m\u001b[0m\u001b[0m\n",
      "\u001b[1;32mc:\\users\\marcel\\appdata\\local\\programs\\python\\python38\\lib\\site-packages\\IPython\\core\\formatters.py\u001b[0m in \u001b[0;36mformat\u001b[1;34m(self, obj, include, exclude)\u001b[0m\n\u001b[0;32m    178\u001b[0m             \u001b[0mmd\u001b[0m \u001b[1;33m=\u001b[0m \u001b[1;32mNone\u001b[0m\u001b[1;33m\u001b[0m\u001b[1;33m\u001b[0m\u001b[0m\n\u001b[0;32m    179\u001b[0m             \u001b[1;32mtry\u001b[0m\u001b[1;33m:\u001b[0m\u001b[1;33m\u001b[0m\u001b[1;33m\u001b[0m\u001b[0m\n\u001b[1;32m--> 180\u001b[1;33m                 \u001b[0mdata\u001b[0m \u001b[1;33m=\u001b[0m \u001b[0mformatter\u001b[0m\u001b[1;33m(\u001b[0m\u001b[0mobj\u001b[0m\u001b[1;33m)\u001b[0m\u001b[1;33m\u001b[0m\u001b[1;33m\u001b[0m\u001b[0m\n\u001b[0m\u001b[0;32m    181\u001b[0m             \u001b[1;32mexcept\u001b[0m\u001b[1;33m:\u001b[0m\u001b[1;33m\u001b[0m\u001b[1;33m\u001b[0m\u001b[0m\n\u001b[0;32m    182\u001b[0m                 \u001b[1;31m# FIXME: log the exception\u001b[0m\u001b[1;33m\u001b[0m\u001b[1;33m\u001b[0m\u001b[1;33m\u001b[0m\u001b[0m\n",
      "\u001b[1;32m<decorator-gen-9>\u001b[0m in \u001b[0;36m__call__\u001b[1;34m(self, obj)\u001b[0m\n",
      "\u001b[1;32mc:\\users\\marcel\\appdata\\local\\programs\\python\\python38\\lib\\site-packages\\IPython\\core\\formatters.py\u001b[0m in \u001b[0;36mcatch_format_error\u001b[1;34m(method, self, *args, **kwargs)\u001b[0m\n\u001b[0;32m    222\u001b[0m     \u001b[1;34m\"\"\"show traceback on failed format call\"\"\"\u001b[0m\u001b[1;33m\u001b[0m\u001b[1;33m\u001b[0m\u001b[0m\n\u001b[0;32m    223\u001b[0m     \u001b[1;32mtry\u001b[0m\u001b[1;33m:\u001b[0m\u001b[1;33m\u001b[0m\u001b[1;33m\u001b[0m\u001b[0m\n\u001b[1;32m--> 224\u001b[1;33m         \u001b[0mr\u001b[0m \u001b[1;33m=\u001b[0m \u001b[0mmethod\u001b[0m\u001b[1;33m(\u001b[0m\u001b[0mself\u001b[0m\u001b[1;33m,\u001b[0m \u001b[1;33m*\u001b[0m\u001b[0margs\u001b[0m\u001b[1;33m,\u001b[0m \u001b[1;33m**\u001b[0m\u001b[0mkwargs\u001b[0m\u001b[1;33m)\u001b[0m\u001b[1;33m\u001b[0m\u001b[1;33m\u001b[0m\u001b[0m\n\u001b[0m\u001b[0;32m    225\u001b[0m     \u001b[1;32mexcept\u001b[0m \u001b[0mNotImplementedError\u001b[0m\u001b[1;33m:\u001b[0m\u001b[1;33m\u001b[0m\u001b[1;33m\u001b[0m\u001b[0m\n\u001b[0;32m    226\u001b[0m         \u001b[1;31m# don't warn on NotImplementedErrors\u001b[0m\u001b[1;33m\u001b[0m\u001b[1;33m\u001b[0m\u001b[1;33m\u001b[0m\u001b[0m\n",
      "\u001b[1;32mc:\\users\\marcel\\appdata\\local\\programs\\python\\python38\\lib\\site-packages\\IPython\\core\\formatters.py\u001b[0m in \u001b[0;36m__call__\u001b[1;34m(self, obj)\u001b[0m\n\u001b[0;32m    339\u001b[0m                 \u001b[1;32mpass\u001b[0m\u001b[1;33m\u001b[0m\u001b[1;33m\u001b[0m\u001b[0m\n\u001b[0;32m    340\u001b[0m             \u001b[1;32melse\u001b[0m\u001b[1;33m:\u001b[0m\u001b[1;33m\u001b[0m\u001b[1;33m\u001b[0m\u001b[0m\n\u001b[1;32m--> 341\u001b[1;33m                 \u001b[1;32mreturn\u001b[0m \u001b[0mprinter\u001b[0m\u001b[1;33m(\u001b[0m\u001b[0mobj\u001b[0m\u001b[1;33m)\u001b[0m\u001b[1;33m\u001b[0m\u001b[1;33m\u001b[0m\u001b[0m\n\u001b[0m\u001b[0;32m    342\u001b[0m             \u001b[1;31m# Finally look for special method names\u001b[0m\u001b[1;33m\u001b[0m\u001b[1;33m\u001b[0m\u001b[1;33m\u001b[0m\u001b[0m\n\u001b[0;32m    343\u001b[0m             \u001b[0mmethod\u001b[0m \u001b[1;33m=\u001b[0m \u001b[0mget_real_method\u001b[0m\u001b[1;33m(\u001b[0m\u001b[0mobj\u001b[0m\u001b[1;33m,\u001b[0m \u001b[0mself\u001b[0m\u001b[1;33m.\u001b[0m\u001b[0mprint_method\u001b[0m\u001b[1;33m)\u001b[0m\u001b[1;33m\u001b[0m\u001b[1;33m\u001b[0m\u001b[0m\n",
      "\u001b[1;32mc:\\users\\marcel\\appdata\\local\\programs\\python\\python38\\lib\\site-packages\\IPython\\core\\pylabtools.py\u001b[0m in \u001b[0;36m<lambda>\u001b[1;34m(fig)\u001b[0m\n\u001b[0;32m    246\u001b[0m \u001b[1;33m\u001b[0m\u001b[0m\n\u001b[0;32m    247\u001b[0m     \u001b[1;32mif\u001b[0m \u001b[1;34m'png'\u001b[0m \u001b[1;32min\u001b[0m \u001b[0mformats\u001b[0m\u001b[1;33m:\u001b[0m\u001b[1;33m\u001b[0m\u001b[1;33m\u001b[0m\u001b[0m\n\u001b[1;32m--> 248\u001b[1;33m         \u001b[0mpng_formatter\u001b[0m\u001b[1;33m.\u001b[0m\u001b[0mfor_type\u001b[0m\u001b[1;33m(\u001b[0m\u001b[0mFigure\u001b[0m\u001b[1;33m,\u001b[0m \u001b[1;32mlambda\u001b[0m \u001b[0mfig\u001b[0m\u001b[1;33m:\u001b[0m \u001b[0mprint_figure\u001b[0m\u001b[1;33m(\u001b[0m\u001b[0mfig\u001b[0m\u001b[1;33m,\u001b[0m \u001b[1;34m'png'\u001b[0m\u001b[1;33m,\u001b[0m \u001b[1;33m**\u001b[0m\u001b[0mkwargs\u001b[0m\u001b[1;33m)\u001b[0m\u001b[1;33m)\u001b[0m\u001b[1;33m\u001b[0m\u001b[1;33m\u001b[0m\u001b[0m\n\u001b[0m\u001b[0;32m    249\u001b[0m     \u001b[1;32mif\u001b[0m \u001b[1;34m'retina'\u001b[0m \u001b[1;32min\u001b[0m \u001b[0mformats\u001b[0m \u001b[1;32mor\u001b[0m \u001b[1;34m'png2x'\u001b[0m \u001b[1;32min\u001b[0m \u001b[0mformats\u001b[0m\u001b[1;33m:\u001b[0m\u001b[1;33m\u001b[0m\u001b[1;33m\u001b[0m\u001b[0m\n\u001b[0;32m    250\u001b[0m         \u001b[0mpng_formatter\u001b[0m\u001b[1;33m.\u001b[0m\u001b[0mfor_type\u001b[0m\u001b[1;33m(\u001b[0m\u001b[0mFigure\u001b[0m\u001b[1;33m,\u001b[0m \u001b[1;32mlambda\u001b[0m \u001b[0mfig\u001b[0m\u001b[1;33m:\u001b[0m \u001b[0mretina_figure\u001b[0m\u001b[1;33m(\u001b[0m\u001b[0mfig\u001b[0m\u001b[1;33m,\u001b[0m \u001b[1;33m**\u001b[0m\u001b[0mkwargs\u001b[0m\u001b[1;33m)\u001b[0m\u001b[1;33m)\u001b[0m\u001b[1;33m\u001b[0m\u001b[1;33m\u001b[0m\u001b[0m\n",
      "\u001b[1;32mc:\\users\\marcel\\appdata\\local\\programs\\python\\python38\\lib\\site-packages\\IPython\\core\\pylabtools.py\u001b[0m in \u001b[0;36mprint_figure\u001b[1;34m(fig, fmt, bbox_inches, **kwargs)\u001b[0m\n\u001b[0;32m    130\u001b[0m         \u001b[0mFigureCanvasBase\u001b[0m\u001b[1;33m(\u001b[0m\u001b[0mfig\u001b[0m\u001b[1;33m)\u001b[0m\u001b[1;33m\u001b[0m\u001b[1;33m\u001b[0m\u001b[0m\n\u001b[0;32m    131\u001b[0m \u001b[1;33m\u001b[0m\u001b[0m\n\u001b[1;32m--> 132\u001b[1;33m     \u001b[0mfig\u001b[0m\u001b[1;33m.\u001b[0m\u001b[0mcanvas\u001b[0m\u001b[1;33m.\u001b[0m\u001b[0mprint_figure\u001b[0m\u001b[1;33m(\u001b[0m\u001b[0mbytes_io\u001b[0m\u001b[1;33m,\u001b[0m \u001b[1;33m**\u001b[0m\u001b[0mkw\u001b[0m\u001b[1;33m)\u001b[0m\u001b[1;33m\u001b[0m\u001b[1;33m\u001b[0m\u001b[0m\n\u001b[0m\u001b[0;32m    133\u001b[0m     \u001b[0mdata\u001b[0m \u001b[1;33m=\u001b[0m \u001b[0mbytes_io\u001b[0m\u001b[1;33m.\u001b[0m\u001b[0mgetvalue\u001b[0m\u001b[1;33m(\u001b[0m\u001b[1;33m)\u001b[0m\u001b[1;33m\u001b[0m\u001b[1;33m\u001b[0m\u001b[0m\n\u001b[0;32m    134\u001b[0m     \u001b[1;32mif\u001b[0m \u001b[0mfmt\u001b[0m \u001b[1;33m==\u001b[0m \u001b[1;34m'svg'\u001b[0m\u001b[1;33m:\u001b[0m\u001b[1;33m\u001b[0m\u001b[1;33m\u001b[0m\u001b[0m\n",
      "\u001b[1;32mc:\\users\\marcel\\appdata\\local\\programs\\python\\python38\\lib\\site-packages\\matplotlib\\backend_bases.py\u001b[0m in \u001b[0;36mprint_figure\u001b[1;34m(self, filename, dpi, facecolor, edgecolor, orientation, format, bbox_inches, pad_inches, bbox_extra_artists, backend, **kwargs)\u001b[0m\n\u001b[0;32m   2193\u001b[0m                         \u001b[0mself\u001b[0m\u001b[1;33m.\u001b[0m\u001b[0mfigure\u001b[0m\u001b[1;33m.\u001b[0m\u001b[0mdraw\u001b[0m\u001b[1;33m(\u001b[0m\u001b[0mrenderer\u001b[0m\u001b[1;33m)\u001b[0m\u001b[1;33m\u001b[0m\u001b[1;33m\u001b[0m\u001b[0m\n\u001b[0;32m   2194\u001b[0m \u001b[1;33m\u001b[0m\u001b[0m\n\u001b[1;32m-> 2195\u001b[1;33m                     bbox_inches = self.figure.get_tightbbox(\n\u001b[0m\u001b[0;32m   2196\u001b[0m                         renderer, bbox_extra_artists=bbox_extra_artists)\n\u001b[0;32m   2197\u001b[0m                     \u001b[1;32mif\u001b[0m \u001b[0mpad_inches\u001b[0m \u001b[1;32mis\u001b[0m \u001b[1;32mNone\u001b[0m\u001b[1;33m:\u001b[0m\u001b[1;33m\u001b[0m\u001b[1;33m\u001b[0m\u001b[0m\n",
      "\u001b[1;32mc:\\users\\marcel\\appdata\\local\\programs\\python\\python38\\lib\\site-packages\\matplotlib\\figure.py\u001b[0m in \u001b[0;36mget_tightbbox\u001b[1;34m(self, renderer, bbox_extra_artists)\u001b[0m\n\u001b[0;32m   2513\u001b[0m                 \u001b[1;31m# need this conditional....\u001b[0m\u001b[1;33m\u001b[0m\u001b[1;33m\u001b[0m\u001b[1;33m\u001b[0m\u001b[0m\n\u001b[0;32m   2514\u001b[0m                 \u001b[1;32mtry\u001b[0m\u001b[1;33m:\u001b[0m\u001b[1;33m\u001b[0m\u001b[1;33m\u001b[0m\u001b[0m\n\u001b[1;32m-> 2515\u001b[1;33m                     bbox = ax.get_tightbbox(\n\u001b[0m\u001b[0;32m   2516\u001b[0m                         renderer, bbox_extra_artists=bbox_extra_artists)\n\u001b[0;32m   2517\u001b[0m                 \u001b[1;32mexcept\u001b[0m \u001b[0mTypeError\u001b[0m\u001b[1;33m:\u001b[0m\u001b[1;33m\u001b[0m\u001b[1;33m\u001b[0m\u001b[0m\n",
      "\u001b[1;32mc:\\users\\marcel\\appdata\\local\\programs\\python\\python38\\lib\\site-packages\\matplotlib\\axes\\_base.py\u001b[0m in \u001b[0;36mget_tightbbox\u001b[1;34m(self, renderer, call_axes_locator, bbox_extra_artists, for_layout_only)\u001b[0m\n\u001b[0;32m   4163\u001b[0m             \u001b[1;32mif\u001b[0m \u001b[0mself\u001b[0m\u001b[1;33m.\u001b[0m\u001b[0myaxis\u001b[0m\u001b[1;33m.\u001b[0m\u001b[0mget_visible\u001b[0m\u001b[1;33m(\u001b[0m\u001b[1;33m)\u001b[0m\u001b[1;33m:\u001b[0m\u001b[1;33m\u001b[0m\u001b[1;33m\u001b[0m\u001b[0m\n\u001b[0;32m   4164\u001b[0m                 \u001b[1;32mtry\u001b[0m\u001b[1;33m:\u001b[0m\u001b[1;33m\u001b[0m\u001b[1;33m\u001b[0m\u001b[0m\n\u001b[1;32m-> 4165\u001b[1;33m                     bb_yaxis = self.yaxis.get_tightbbox(\n\u001b[0m\u001b[0;32m   4166\u001b[0m                         renderer, for_layout_only=for_layout_only)\n\u001b[0;32m   4167\u001b[0m                 \u001b[1;32mexcept\u001b[0m \u001b[0mTypeError\u001b[0m\u001b[1;33m:\u001b[0m\u001b[1;33m\u001b[0m\u001b[1;33m\u001b[0m\u001b[0m\n",
      "\u001b[1;32mc:\\users\\marcel\\appdata\\local\\programs\\python\\python38\\lib\\site-packages\\matplotlib\\axis.py\u001b[0m in \u001b[0;36mget_tightbbox\u001b[1;34m(self, renderer, for_layout_only)\u001b[0m\n\u001b[0;32m   1109\u001b[0m         \u001b[0mticks_to_draw\u001b[0m \u001b[1;33m=\u001b[0m \u001b[0mself\u001b[0m\u001b[1;33m.\u001b[0m\u001b[0m_update_ticks\u001b[0m\u001b[1;33m(\u001b[0m\u001b[1;33m)\u001b[0m\u001b[1;33m\u001b[0m\u001b[1;33m\u001b[0m\u001b[0m\n\u001b[0;32m   1110\u001b[0m \u001b[1;33m\u001b[0m\u001b[0m\n\u001b[1;32m-> 1111\u001b[1;33m         \u001b[0mself\u001b[0m\u001b[1;33m.\u001b[0m\u001b[0m_update_label_position\u001b[0m\u001b[1;33m(\u001b[0m\u001b[0mrenderer\u001b[0m\u001b[1;33m)\u001b[0m\u001b[1;33m\u001b[0m\u001b[1;33m\u001b[0m\u001b[0m\n\u001b[0m\u001b[0;32m   1112\u001b[0m \u001b[1;33m\u001b[0m\u001b[0m\n\u001b[0;32m   1113\u001b[0m         \u001b[1;31m# go back to just this axis's tick labels\u001b[0m\u001b[1;33m\u001b[0m\u001b[1;33m\u001b[0m\u001b[1;33m\u001b[0m\u001b[0m\n",
      "\u001b[1;32mc:\\users\\marcel\\appdata\\local\\programs\\python\\python38\\lib\\site-packages\\matplotlib\\axis.py\u001b[0m in \u001b[0;36m_update_label_position\u001b[1;34m(self, renderer)\u001b[0m\n\u001b[0;32m   2354\u001b[0m             \u001b[1;32mtry\u001b[0m\u001b[1;33m:\u001b[0m\u001b[1;33m\u001b[0m\u001b[1;33m\u001b[0m\u001b[0m\n\u001b[0;32m   2355\u001b[0m                 \u001b[0mspine\u001b[0m \u001b[1;33m=\u001b[0m \u001b[0mself\u001b[0m\u001b[1;33m.\u001b[0m\u001b[0maxes\u001b[0m\u001b[1;33m.\u001b[0m\u001b[0mspines\u001b[0m\u001b[1;33m[\u001b[0m\u001b[1;34m'left'\u001b[0m\u001b[1;33m]\u001b[0m\u001b[1;33m\u001b[0m\u001b[1;33m\u001b[0m\u001b[0m\n\u001b[1;32m-> 2356\u001b[1;33m                 spinebbox = spine.get_transform().transform_path(\n\u001b[0m\u001b[0;32m   2357\u001b[0m                     spine.get_path()).get_extents()\n\u001b[0;32m   2358\u001b[0m             \u001b[1;32mexcept\u001b[0m \u001b[0mKeyError\u001b[0m\u001b[1;33m:\u001b[0m\u001b[1;33m\u001b[0m\u001b[1;33m\u001b[0m\u001b[0m\n",
      "\u001b[1;32mc:\\users\\marcel\\appdata\\local\\programs\\python\\python38\\lib\\site-packages\\matplotlib\\path.py\u001b[0m in \u001b[0;36mget_extents\u001b[1;34m(self, transform, **kwargs)\u001b[0m\n\u001b[0;32m    594\u001b[0m             \u001b[0m_\u001b[0m\u001b[1;33m,\u001b[0m \u001b[0mdzeros\u001b[0m \u001b[1;33m=\u001b[0m \u001b[0mcurve\u001b[0m\u001b[1;33m.\u001b[0m\u001b[0maxis_aligned_extrema\u001b[0m\u001b[1;33m(\u001b[0m\u001b[1;33m)\u001b[0m\u001b[1;33m\u001b[0m\u001b[1;33m\u001b[0m\u001b[0m\n\u001b[0;32m    595\u001b[0m             \u001b[1;31m# as can the ends of the curve\u001b[0m\u001b[1;33m\u001b[0m\u001b[1;33m\u001b[0m\u001b[1;33m\u001b[0m\u001b[0m\n\u001b[1;32m--> 596\u001b[1;33m             \u001b[0mbbox\u001b[0m\u001b[1;33m.\u001b[0m\u001b[0mupdate_from_data_xy\u001b[0m\u001b[1;33m(\u001b[0m\u001b[0mcurve\u001b[0m\u001b[1;33m(\u001b[0m\u001b[1;33m[\u001b[0m\u001b[1;36m0\u001b[0m\u001b[1;33m,\u001b[0m \u001b[1;33m*\u001b[0m\u001b[0mdzeros\u001b[0m\u001b[1;33m,\u001b[0m \u001b[1;36m1\u001b[0m\u001b[1;33m]\u001b[0m\u001b[1;33m)\u001b[0m\u001b[1;33m,\u001b[0m \u001b[0mignore\u001b[0m\u001b[1;33m=\u001b[0m\u001b[1;32mFalse\u001b[0m\u001b[1;33m)\u001b[0m\u001b[1;33m\u001b[0m\u001b[1;33m\u001b[0m\u001b[0m\n\u001b[0m\u001b[0;32m    597\u001b[0m         \u001b[1;32mreturn\u001b[0m \u001b[0mbbox\u001b[0m\u001b[1;33m\u001b[0m\u001b[1;33m\u001b[0m\u001b[0m\n\u001b[0;32m    598\u001b[0m \u001b[1;33m\u001b[0m\u001b[0m\n",
      "\u001b[1;32mc:\\users\\marcel\\appdata\\local\\programs\\python\\python38\\lib\\site-packages\\matplotlib\\transforms.py\u001b[0m in \u001b[0;36mupdate_from_data_xy\u001b[1;34m(self, xy, ignore, updatex, updatey)\u001b[0m\n\u001b[0;32m    906\u001b[0m \u001b[1;33m\u001b[0m\u001b[0m\n\u001b[0;32m    907\u001b[0m         \u001b[0mpath\u001b[0m \u001b[1;33m=\u001b[0m \u001b[0mPath\u001b[0m\u001b[1;33m(\u001b[0m\u001b[0mxy\u001b[0m\u001b[1;33m)\u001b[0m\u001b[1;33m\u001b[0m\u001b[1;33m\u001b[0m\u001b[0m\n\u001b[1;32m--> 908\u001b[1;33m         self.update_from_path(path, ignore=ignore,\n\u001b[0m\u001b[0;32m    909\u001b[0m                               updatex=updatex, updatey=updatey)\n\u001b[0;32m    910\u001b[0m \u001b[1;33m\u001b[0m\u001b[0m\n",
      "\u001b[1;32mc:\\users\\marcel\\appdata\\local\\programs\\python\\python38\\lib\\site-packages\\matplotlib\\transforms.py\u001b[0m in \u001b[0;36mupdate_from_path\u001b[1;34m(self, path, ignore, updatex, updatey)\u001b[0m\n\u001b[0;32m    880\u001b[0m                 \u001b[0mself\u001b[0m\u001b[1;33m.\u001b[0m\u001b[0m_minpos\u001b[0m\u001b[1;33m[\u001b[0m\u001b[1;36m0\u001b[0m\u001b[1;33m]\u001b[0m \u001b[1;33m=\u001b[0m \u001b[0mminpos\u001b[0m\u001b[1;33m[\u001b[0m\u001b[1;36m0\u001b[0m\u001b[1;33m]\u001b[0m\u001b[1;33m\u001b[0m\u001b[1;33m\u001b[0m\u001b[0m\n\u001b[0;32m    881\u001b[0m             \u001b[1;32mif\u001b[0m \u001b[0mupdatey\u001b[0m\u001b[1;33m:\u001b[0m\u001b[1;33m\u001b[0m\u001b[1;33m\u001b[0m\u001b[0m\n\u001b[1;32m--> 882\u001b[1;33m                 \u001b[0mself\u001b[0m\u001b[1;33m.\u001b[0m\u001b[0m_points\u001b[0m\u001b[1;33m[\u001b[0m\u001b[1;33m:\u001b[0m\u001b[1;33m,\u001b[0m \u001b[1;36m1\u001b[0m\u001b[1;33m]\u001b[0m \u001b[1;33m=\u001b[0m \u001b[0mpoints\u001b[0m\u001b[1;33m[\u001b[0m\u001b[1;33m:\u001b[0m\u001b[1;33m,\u001b[0m \u001b[1;36m1\u001b[0m\u001b[1;33m]\u001b[0m\u001b[1;33m\u001b[0m\u001b[1;33m\u001b[0m\u001b[0m\n\u001b[0m\u001b[0;32m    883\u001b[0m                 \u001b[0mself\u001b[0m\u001b[1;33m.\u001b[0m\u001b[0m_minpos\u001b[0m\u001b[1;33m[\u001b[0m\u001b[1;36m1\u001b[0m\u001b[1;33m]\u001b[0m \u001b[1;33m=\u001b[0m \u001b[0mminpos\u001b[0m\u001b[1;33m[\u001b[0m\u001b[1;36m1\u001b[0m\u001b[1;33m]\u001b[0m\u001b[1;33m\u001b[0m\u001b[1;33m\u001b[0m\u001b[0m\n\u001b[0;32m    884\u001b[0m \u001b[1;33m\u001b[0m\u001b[0m\n",
      "\u001b[1;31mKeyboardInterrupt\u001b[0m: "
     ]
    }
   ],
   "source": [
    "visual.univariate_categ_to_class(data, \"native-country\")\n",
    "print(\"Pocet percent ludi z USA:\", len(data[data[\"native-country\"] == \"United-States\"]) / len(data))"
   ]
  },
  {
   "cell_type": "markdown",
   "metadata": {},
   "source": [
    "Tento atribut, aj po mergnuti vsetkych krajin do jednej, neratajuc USA, stale drtiva vacsina je z USA, a teda ma dany atribut malu varianciu, tak ho vymazeme..."
   ]
  },
  {
   "cell_type": "code",
   "execution_count": 59,
   "metadata": {},
   "outputs": [],
   "source": [
    "data = data.drop(columns=[\"native-country\"])"
   ]
  },
  {
   "cell_type": "markdown",
   "metadata": {},
   "source": [
    "### Atribut race"
   ]
  },
  {
   "cell_type": "markdown",
   "metadata": {},
   "source": [
    "V prvej fáze sme zistili že početnosť white previšuje všetký ostatné mnohonásobne. Rozhodli sme sa zvyšné rasy mergnut do jednej ktorú sme pomenovali \"other\""
   ]
  },
  {
   "cell_type": "code",
   "execution_count": 60,
   "metadata": {},
   "outputs": [
    {
     "name": "stdout",
     "output_type": "stream",
     "text": [
      "White                 3358\n",
      "Black                  383\n",
      "Asian-Pac-Islander     127\n",
      "Amer-Indian-Eskimo      33\n",
      "Other                   26\n",
      "Name: race, dtype: int64\n"
     ]
    },
    {
     "data": {
      "image/png": "[encoded data removed]",
      "text/plain": [
       "<Figure size 432x288 with 1 Axes>"
      ]
     },
     "metadata": {
      "needs_background": "light"
     },
     "output_type": "display_data"
    }
   ],
   "source": [
    "visual.univariate_categ_to_class(data, \"race\")"
   ]
  },
  {
   "cell_type": "code",
   "execution_count": 61,
   "metadata": {},
   "outputs": [],
   "source": [
    "def race_categories(row):\n",
    "    \n",
    "    race = row[\"race\"]\n",
    "        \n",
    "    if race is not np.nan and race not in (\"White\"):\n",
    "        row[\"race\"] = \"Other\"\n",
    "        \n",
    "    return row"
   ]
  },
  {
   "cell_type": "code",
   "execution_count": 62,
   "metadata": {},
   "outputs": [],
   "source": [
    "data = data.apply(race_categories, axis=1)"
   ]
  },
  {
   "cell_type": "code",
   "execution_count": 63,
   "metadata": {},
   "outputs": [
    {
     "name": "stdout",
     "output_type": "stream",
     "text": [
      "White    3358\n",
      "Other     569\n",
      "Name: race, dtype: int64\n",
      "Pocet percent bielych ludi: 0.8538011695906432\n"
     ]
    },
    {
     "data": {
      "image/png": "[encoded data removed]",
      "text/plain": [
       "<Figure size 432x288 with 1 Axes>"
      ]
     },
     "metadata": {
      "needs_background": "light"
     },
     "output_type": "display_data"
    }
   ],
   "source": [
    "visual.univariate_categ_to_class(data, \"race\")\n",
    "print(\"Pocet percent bielych ludi:\", len(data[data[\"race\"] == \"White\"]) / len(data))"
   ]
  },
  {
   "cell_type": "markdown",
   "metadata": {},
   "source": [
    "Ako v pripade native-country, tak tento atribut mozeme vymazat, lebo ma malu varianciu."
   ]
  },
  {
   "cell_type": "code",
   "execution_count": 64,
   "metadata": {},
   "outputs": [],
   "source": [
    "data = data.drop(columns=[\"race\"])"
   ]
  },
  {
   "cell_type": "markdown",
   "metadata": {},
   "source": [
    "# NEZABUDNI SPRAVIT education + education-num\n",
    "### Atribut education "
   ]
  },
  {
   "cell_type": "code",
   "execution_count": 65,
   "metadata": {},
   "outputs": [],
   "source": [
    "#znova som ti vymazal veci, co uz su vykonane predoslou funkciou (string_formatting)"
   ]
  },
  {
   "cell_type": "markdown",
   "metadata": {},
   "source": [
    "### Atribut education-num"
   ]
  },
  {
   "cell_type": "markdown",
   "metadata": {},
   "source": [
    "### Atribut address\n",
    "\n",
    "# FEEDBACK ---------------------------------------------------\n",
    "\n",
    "Ziskaj cisto meno mesta zo stringu, a pokial tam nebudu nejake velkopocetne skupiny, povezdme, ze zo 50 ludi z rovnakeho mesta, tak sa pozrieme na stat, teda vycitas stat (zvacsa to je USA, takze tie 2 pismenka) a tiez zistime, kolko ludi je v danych statoch\n",
    "\n",
    "Pouzijes visual.univariate_categ_to_class pokial su tam nejak zgroupeny ludia"
   ]
  },
  {
   "cell_type": "code",
   "execution_count": 66,
   "metadata": {},
   "outputs": [
    {
     "data": {
      "text/plain": [
       "3933"
      ]
     },
     "execution_count": 66,
     "metadata": {},
     "output_type": "execute_result"
    }
   ],
   "source": [
    "len(data[\"address\"].unique())"
   ]
  },
  {
   "cell_type": "code",
   "execution_count": 67,
   "metadata": {},
   "outputs": [],
   "source": [
    "data[['street','city']] = data.address.str.split('\\r\\n', expand = True)"
   ]
  },
  {
   "cell_type": "code",
   "execution_count": 68,
   "metadata": {},
   "outputs": [],
   "source": [
    "data = data.drop(columns=[\"address\"])"
   ]
  },
  {
   "cell_type": "markdown",
   "metadata": {},
   "source": [
    "Rozparsujeme si atribut addressdo dvoch novych atributov \n",
    "Nasledne si overime ci nam chybaju nejake data"
   ]
  },
  {
   "cell_type": "code",
   "execution_count": 69,
   "metadata": {},
   "outputs": [
    {
     "data": {
      "text/plain": [
       "0"
      ]
     },
     "execution_count": 69,
     "metadata": {},
     "output_type": "execute_result"
    }
   ],
   "source": [
    "data.street.isnull().sum()"
   ]
  },
  {
   "cell_type": "code",
   "execution_count": 70,
   "metadata": {},
   "outputs": [
    {
     "data": {
      "text/plain": [
       "0"
      ]
     },
     "execution_count": 70,
     "metadata": {},
     "output_type": "execute_result"
    }
   ],
   "source": [
    "data.city.isnull().sum()"
   ]
  },
  {
   "cell_type": "markdown",
   "metadata": {},
   "source": [
    "### Atribut date_of_birth"
   ]
  },
  {
   "cell_type": "code",
   "execution_count": 71,
   "metadata": {},
   "outputs": [
    {
     "data": {
      "text/plain": [
       "['**/**/****',\n",
       " '****-**-** ** ** **',\n",
       " '**-**-**',\n",
       " '****-**-**',\n",
       " '****/**/**',\n",
       " '****-**-** **:**:**']"
      ]
     },
     "execution_count": 71,
     "metadata": {},
     "output_type": "execute_result"
    }
   ],
   "source": [
    "import re\n",
    "dates = []\n",
    "\n",
    "for index,row in data.iterrows():\n",
    "    dates.append(re.sub('\\d', '*',  row['date_of_birth']))\n",
    "    \n",
    "dates = list(set(dates))\n",
    "dates"
   ]
  },
  {
   "cell_type": "markdown",
   "metadata": {},
   "source": [
    "Vidime ze v date_of_birth su rozne formaty datumov. V nasledujucej casti ich upravime na rovnaky format"
   ]
  },
  {
   "cell_type": "code",
   "execution_count": 72,
   "metadata": {},
   "outputs": [],
   "source": [
    "import re\n",
    "from datetime import datetime\n",
    "\n",
    "for index,row in data.iterrows():\n",
    "    line = row['date_of_birth']\n",
    "    if re.match(r\"^\\d{2}-\\d{2}-\\d{2}$\", line):\n",
    "        regex1 = line[0:2]\n",
    "        regex2 = line[3:5]\n",
    "        regex3 = line[6:8]\n",
    "        \n",
    "        verbose = False\n",
    "        if (verbose == True):\n",
    "            if (int(regex1) > 31):\n",
    "                print('Prvy udaj > 31: ',regex1)\n",
    "            if (int(regex2) > 31):\n",
    "                print('Druhy udaj > 31: ',regex2)\n",
    "            if (int(regex3) > 31):\n",
    "                print('Treti udaj > 31: ',regex3)"
   ]
  },
  {
   "cell_type": "markdown",
   "metadata": {},
   "source": [
    "Overili sme si ze prvy udaj je rok, upravime to tak ze skrateny rok nahradime celym rokom. Napr. 67 - 1967"
   ]
  },
  {
   "cell_type": "code",
   "execution_count": 73,
   "metadata": {},
   "outputs": [],
   "source": [
    "data['date_of_birth'] = data['date_of_birth'].map(lambda x: x[:10])"
   ]
  },
  {
   "cell_type": "markdown",
   "metadata": {},
   "source": [
    "Odstranili sme cas"
   ]
  },
  {
   "cell_type": "code",
   "execution_count": 74,
   "metadata": {},
   "outputs": [
    {
     "data": {
      "text/plain": [
       "['**/**/****', '****-**-**', '****/**/**', '**-**-**']"
      ]
     },
     "execution_count": 74,
     "metadata": {},
     "output_type": "execute_result"
    }
   ],
   "source": [
    "import re\n",
    "dates = []\n",
    "\n",
    "for index,row in data.iterrows():\n",
    "    dates.append(re.sub('\\d', '*',  row['date_of_birth']))\n",
    "    \n",
    "dates = list(set(dates))\n",
    "dates"
   ]
  },
  {
   "cell_type": "markdown",
   "metadata": {},
   "source": [
    "Mame 4 rozne formaty datumov"
   ]
  },
  {
   "cell_type": "code",
   "execution_count": 75,
   "metadata": {},
   "outputs": [],
   "source": [
    "import re\n",
    "from datetime import datetime\n",
    "\n",
    "for index,row in data.iterrows():\n",
    "    line = row['date_of_birth']\n",
    "    dateObj = None\n",
    "    if re.match(r\"^\\d{2}-\", line):\n",
    "        newDate = '19' + line\n",
    "        dateObj = datetime.strptime(newDate,'%Y-%m-%d')\n",
    "    elif re.match(r\"^\\d{4}-\", line):\n",
    "        dateObj = datetime.strptime(line,'%Y-%m-%d')\n",
    "    elif re.match(r\"^\\d{4}/\", line):\n",
    "        dateObj = datetime.strptime(line,'%Y/%m/%d')\n",
    "    elif re.match(r\"^\\d{2}/\", line):\n",
    "        dateObj = datetime.strptime(line,'%d/%m/%Y')\n",
    "    data.at[index,'date_of_birth'] = dateObj.strftime('%d-%m-%Y')"
   ]
  },
  {
   "cell_type": "code",
   "execution_count": 76,
   "metadata": {},
   "outputs": [
    {
     "data": {
      "text/plain": [
       "0    27-12-1962\n",
       "1    22-05-1969\n",
       "2    26-07-1994\n",
       "3    16-04-1977\n",
       "4    11-12-1969\n",
       "Name: date_of_birth, dtype: object"
      ]
     },
     "execution_count": 76,
     "metadata": {},
     "output_type": "execute_result"
    }
   ],
   "source": [
    "data['date_of_birth'].head()"
   ]
  },
  {
   "cell_type": "markdown",
   "metadata": {},
   "source": [
    "Datum sme nakoniec upravili do jedneho formatu pre vsetky zaznami"
   ]
  },
  {
   "cell_type": "code",
   "execution_count": 77,
   "metadata": {},
   "outputs": [
    {
     "data": {
      "text/plain": [
       "0"
      ]
     },
     "execution_count": 77,
     "metadata": {},
     "output_type": "execute_result"
    }
   ],
   "source": [
    "data[\"date_of_birth\"].isnull().sum()"
   ]
  },
  {
   "cell_type": "markdown",
   "metadata": {},
   "source": [
    "### Atribut age"
   ]
  },
  {
   "cell_type": "code",
   "execution_count": 78,
   "metadata": {},
   "outputs": [
    {
     "data": {
      "text/plain": [
       "array([   56,    50,    25,    42, -4900,    47,    74,    60,    72,\n",
       "          61,    43,    52,    70,    57,    63,    54,    67, -3700,\n",
       "          45,    75,    36,    41,    64,    46,    33,    77,    48,\n",
       "        6900,    30,    37, -5200,    28,    65, -5800,    59,    68,\n",
       "          69,    66,    53,    22, -5700, -4300,    58,    51,    38,\n",
       "          29,    39,    35, -5400,    49,    17,    31,  5000,    62,\n",
       "        6100,  5100,    44,    34,  5800,  3700, -4400, -5600,    -1,\n",
       "        5300, -5300,  5400, -6900,    55,  4700,  7800,  6400, -6800,\n",
       "          40, -5100,    73,  5200, -4800, -4000,  5900,  3200,  4500,\n",
       "          26, -6200,  7100,  5600, -6400,  4000,  5700,    79,    90,\n",
       "        7000,  6800,    82,     3,    23,    19,    81,  3600, -6700,\n",
       "          80,     7, -3300,    76,    27,    71,    83, -3800, -5500,\n",
       "       -5900, -4600,  4200,  4800,    16, -8600, -6500,    84,  6200,\n",
       "       -8000, -5000,  4300,    18, -6000,  2900, -4500,  3800,    32,\n",
       "          24,    21, -3900, -6100,    14,    78, -7300,  3900,  3100,\n",
       "       -4100, -4200,  5500,    12,    86,  7500,    99,  3400,  8100,\n",
       "        6500, -3500, -6300,  6700,  4400,  3000,  4100,  6600,    20,\n",
       "        7200,     9,  3300,  7700,  6300,  4600,  2700, -3400, -6600,\n",
       "        4900, -3200,  7300, -7700,  2400,    15, -4700,   113, -1700,\n",
       "       -3000, -7600,    85, -8100,    87, -7400,  2600,  7400,    97,\n",
       "       -2300,    93], dtype=int64)"
      ]
     },
     "execution_count": 78,
     "metadata": {},
     "output_type": "execute_result"
    }
   ],
   "source": [
    "data.age.unique()"
   ]
  },
  {
   "cell_type": "markdown",
   "metadata": {},
   "source": [
    "Vidime ze age ma nekorektne hodnoty, tento stlpec si dropneme a na zaklade date_of_birth si vytvorime novy age kde budu hodnoty spravne. Mohli by sme pouzit approach, ktory sme pouzivali v analyze, kedy velke cisla su len vynasobene 100, resp. -100, kedy sme aj na dany approach spravili hypotezu, ktoru sme nevedeli vyvratit - co je dobre, no na druhej strane mame atribut, ktory neobsahuje ziadne nullove hodnoty, tak preco ho nevyuzit."
   ]
  },
  {
   "cell_type": "code",
   "execution_count": 79,
   "metadata": {},
   "outputs": [],
   "source": [
    "data = data.drop(['age'], axis=1)"
   ]
  },
  {
   "cell_type": "code",
   "execution_count": 80,
   "metadata": {},
   "outputs": [],
   "source": [
    "def calculate_age(born):\n",
    "        born = datetime.strptime(born, \"%d-%m-%Y\").date()\n",
    "        today = date.today()\n",
    "        return today.year - born.year - ((today.month, today.day) < (born.month, born.day))"
   ]
  },
  {
   "cell_type": "markdown",
   "metadata": {},
   "source": [
    "Funkcia na vypocet veku z datumu narodenia"
   ]
  },
  {
   "cell_type": "code",
   "execution_count": 81,
   "metadata": {},
   "outputs": [],
   "source": [
    "data['age'] = data['date_of_birth'].apply(calculate_age)"
   ]
  },
  {
   "cell_type": "code",
   "execution_count": 82,
   "metadata": {},
   "outputs": [
    {
     "name": "stdout",
     "output_type": "stream",
     "text": [
      "60\n",
      "Korelacia medzi nasim atributom a y: 0.3640766849074918\n"
     ]
    },
    {
     "data": {
      "image/png": "[encoded data removed]",
      "text/plain": [
       "<Figure size 432x288 with 1 Axes>"
      ]
     },
     "metadata": {
      "needs_background": "light"
     },
     "output_type": "display_data"
    },
    {
     "data": {
      "image/png": "[encoded data removed]",
      "text/plain": [
       "<Figure size 432x288 with 1 Axes>"
      ]
     },
     "metadata": {
      "needs_background": "light"
     },
     "output_type": "display_data"
    }
   ],
   "source": [
    "outliers = identify_outliers(data[\"age\"])\n",
    "print(len(outliers))\n",
    "\n",
    "visual.univariate_num_to_class(data, \"age\")"
   ]
  },
  {
   "cell_type": "markdown",
   "metadata": {},
   "source": [
    "Tento atribut je na hrane dolezitosti podla korelacie voci target atributu, a tak nevieme presne, ako sa mame k nemu spravat. Sice nema najvyssiu korelaciu, ale podla grafu vyssie, je mozne dany atribut povazovat za 2 distribucie na zaklade target atributu. Tak mozme vyskusat obidva approachy, pricom hladame taky, kde budem najmenej outlierov, aby sme vela zaznamov nemuseli vymazavat."
   ]
  },
  {
   "cell_type": "code",
   "execution_count": 83,
   "metadata": {},
   "outputs": [
    {
     "name": "stdout",
     "output_type": "stream",
     "text": [
      "PowerTransformer | metoda: yeo-johnson\n",
      "Pocet outlierov: 60\n"
     ]
    },
    {
     "data": {
      "image/png": "[encoded data removed]",
      "text/plain": [
       "<Figure size 432x288 with 1 Axes>"
      ]
     },
     "metadata": {
      "needs_background": "light"
     },
     "output_type": "display_data"
    },
    {
     "name": "stdout",
     "output_type": "stream",
     "text": [
      "QuantileTransformer\n",
      "Pocet outlierov: 33\n"
     ]
    },
    {
     "data": {
      "image/png": "[encoded data removed]",
      "text/plain": [
       "<Figure size 432x288 with 1 Axes>"
      ]
     },
     "metadata": {
      "needs_background": "light"
     },
     "output_type": "display_data"
    }
   ],
   "source": [
    "resolving_outliers_transformations(data, \"age\")"
   ]
  },
  {
   "cell_type": "code",
   "execution_count": 84,
   "metadata": {},
   "outputs": [
    {
     "name": "stdout",
     "output_type": "stream",
     "text": [
      "PowerTransformer | metoda: yeo-johnson\n",
      "Pocet outlierov pri y=0 je: 16\n",
      "Pocet outlierov pri y=1 je: 6\n",
      "Korelacia medzi nasim atributom a y: 0.36664703581155994\n"
     ]
    },
    {
     "data": {
      "image/png": "[encoded data removed]",
      "text/plain": [
       "<Figure size 432x288 with 1 Axes>"
      ]
     },
     "metadata": {
      "needs_background": "light"
     },
     "output_type": "display_data"
    },
    {
     "data": {
      "image/png": "[encoded data removed]",
      "text/plain": [
       "<Figure size 432x288 with 1 Axes>"
      ]
     },
     "metadata": {
      "needs_background": "light"
     },
     "output_type": "display_data"
    },
    {
     "name": "stdout",
     "output_type": "stream",
     "text": [
      "\n",
      "------------------------------------------\n",
      "\n",
      "QuantileTransformer\n",
      "Pocet outlierov pri y=0 je: 10\n",
      "Pocet outlierov pri y=1 je: 2\n",
      "Korelacia medzi nasim atributom a y: 0.3662884565974514\n"
     ]
    },
    {
     "name": "stderr",
     "output_type": "stream",
     "text": [
      "ERROR:root:Internal Python error in the inspect module.\n",
      "Below is the traceback from this internal error.\n",
      "\n"
     ]
    },
    {
     "name": "stdout",
     "output_type": "stream",
     "text": [
      "Traceback (most recent call last):\n",
      "  File \"c:\\users\\marcel\\appdata\\local\\programs\\python\\python38\\lib\\site-packages\\IPython\\core\\interactiveshell.py\", line 3417, in run_code\n",
      "    exec(code_obj, self.user_global_ns, self.user_ns)\n",
      "  File \"<ipython-input-84-5f19725514e0>\", line 1, in <module>\n",
      "    resolving_outliers_transformations_to_class(data, \"age\", remove_outliers=False)\n",
      "  File \"<ipython-input-43-d9264542d086>\", line 61, in resolving_outliers_transformations_to_class\n",
      "    visual.univariate_num_to_class(data, \"new_data\", clz=clz, figsize=figsize, show_regplot=False)\n",
      "  File \"C:\\Users\\Marcel\\OneDrive\\Dokumenty\\FIIT\\5.semester\\IAU_prj\\vizualizacia_funkcie.py\", line 57, in univariate_num_to_class\n",
      "    plt.show()\n",
      "  File \"c:\\users\\marcel\\appdata\\local\\programs\\python\\python38\\lib\\site-packages\\matplotlib\\pyplot.py\", line 336, in show\n",
      "    return _backend_mod.show(*args, **kwargs)\n",
      "  File \"c:\\users\\marcel\\appdata\\local\\programs\\python\\python38\\lib\\site-packages\\ipykernel\\pylab\\backend_inline.py\", line 41, in show\n",
      "    display(\n",
      "  File \"c:\\users\\marcel\\appdata\\local\\programs\\python\\python38\\lib\\site-packages\\IPython\\core\\display.py\", line 313, in display\n",
      "    format_dict, md_dict = format(obj, include=include, exclude=exclude)\n",
      "  File \"c:\\users\\marcel\\appdata\\local\\programs\\python\\python38\\lib\\site-packages\\IPython\\core\\formatters.py\", line 180, in format\n",
      "    data = formatter(obj)\n",
      "  File \"<decorator-gen-9>\", line 2, in __call__\n",
      "  File \"c:\\users\\marcel\\appdata\\local\\programs\\python\\python38\\lib\\site-packages\\IPython\\core\\formatters.py\", line 224, in catch_format_error\n",
      "    r = method(self, *args, **kwargs)\n",
      "  File \"c:\\users\\marcel\\appdata\\local\\programs\\python\\python38\\lib\\site-packages\\IPython\\core\\formatters.py\", line 341, in __call__\n",
      "    return printer(obj)\n",
      "  File \"c:\\users\\marcel\\appdata\\local\\programs\\python\\python38\\lib\\site-packages\\IPython\\core\\pylabtools.py\", line 248, in <lambda>\n",
      "    png_formatter.for_type(Figure, lambda fig: print_figure(fig, 'png', **kwargs))\n",
      "  File \"c:\\users\\marcel\\appdata\\local\\programs\\python\\python38\\lib\\site-packages\\IPython\\core\\pylabtools.py\", line 132, in print_figure\n",
      "    fig.canvas.print_figure(bytes_io, **kw)\n",
      "  File \"c:\\users\\marcel\\appdata\\local\\programs\\python\\python38\\lib\\site-packages\\matplotlib\\backend_bases.py\", line 2210, in print_figure\n",
      "    result = print_method(\n",
      "  File \"c:\\users\\marcel\\appdata\\local\\programs\\python\\python38\\lib\\site-packages\\matplotlib\\backend_bases.py\", line 1639, in wrapper\n",
      "    return func(*args, **kwargs)\n",
      "  File \"c:\\users\\marcel\\appdata\\local\\programs\\python\\python38\\lib\\site-packages\\matplotlib\\backends\\backend_agg.py\", line 509, in print_png\n",
      "    FigureCanvasAgg.draw(self)\n",
      "  File \"c:\\users\\marcel\\appdata\\local\\programs\\python\\python38\\lib\\site-packages\\matplotlib\\backends\\backend_agg.py\", line 407, in draw\n",
      "    self.figure.draw(self.renderer)\n",
      "  File \"c:\\users\\marcel\\appdata\\local\\programs\\python\\python38\\lib\\site-packages\\matplotlib\\artist.py\", line 41, in draw_wrapper\n",
      "    return draw(artist, renderer, *args, **kwargs)\n",
      "  File \"c:\\users\\marcel\\appdata\\local\\programs\\python\\python38\\lib\\site-packages\\matplotlib\\figure.py\", line 1863, in draw\n",
      "    mimage._draw_list_compositing_images(\n",
      "  File \"c:\\users\\marcel\\appdata\\local\\programs\\python\\python38\\lib\\site-packages\\matplotlib\\image.py\", line 132, in _draw_list_compositing_images\n",
      "    a.draw(renderer)\n",
      "  File \"c:\\users\\marcel\\appdata\\local\\programs\\python\\python38\\lib\\site-packages\\matplotlib\\artist.py\", line 41, in draw_wrapper\n",
      "    return draw(artist, renderer, *args, **kwargs)\n",
      "  File \"c:\\users\\marcel\\appdata\\local\\programs\\python\\python38\\lib\\site-packages\\matplotlib\\cbook\\deprecation.py\", line 411, in wrapper\n",
      "    return func(*inner_args, **inner_kwargs)\n",
      "  File \"c:\\users\\marcel\\appdata\\local\\programs\\python\\python38\\lib\\site-packages\\matplotlib\\axes\\_base.py\", line 2748, in draw\n",
      "    mimage._draw_list_compositing_images(renderer, self, artists)\n",
      "  File \"c:\\users\\marcel\\appdata\\local\\programs\\python\\python38\\lib\\site-packages\\matplotlib\\image.py\", line 132, in _draw_list_compositing_images\n",
      "    a.draw(renderer)\n",
      "  File \"c:\\users\\marcel\\appdata\\local\\programs\\python\\python38\\lib\\site-packages\\matplotlib\\artist.py\", line 41, in draw_wrapper\n",
      "    return draw(artist, renderer, *args, **kwargs)\n",
      "  File \"c:\\users\\marcel\\appdata\\local\\programs\\python\\python38\\lib\\site-packages\\matplotlib\\axis.py\", line 1169, in draw\n",
      "    tick.draw(renderer)\n",
      "  File \"c:\\users\\marcel\\appdata\\local\\programs\\python\\python38\\lib\\site-packages\\matplotlib\\artist.py\", line 41, in draw_wrapper\n",
      "    return draw(artist, renderer, *args, **kwargs)\n",
      "  File \"c:\\users\\marcel\\appdata\\local\\programs\\python\\python38\\lib\\site-packages\\matplotlib\\axis.py\", line 291, in draw\n",
      "    artist.draw(renderer)\n",
      "  File \"c:\\users\\marcel\\appdata\\local\\programs\\python\\python38\\lib\\site-packages\\matplotlib\\artist.py\", line 41, in draw_wrapper\n",
      "    return draw(artist, renderer, *args, **kwargs)\n",
      "  File \"c:\\users\\marcel\\appdata\\local\\programs\\python\\python38\\lib\\site-packages\\matplotlib\\text.py\", line 725, in draw\n",
      "    textrenderer.draw_text(gc, x, y, clean_line,\n",
      "  File \"c:\\users\\marcel\\appdata\\local\\programs\\python\\python38\\lib\\site-packages\\matplotlib\\backends\\backend_agg.py\", line 195, in draw_text\n",
      "    font = self._get_agg_font(prop)\n",
      "  File \"c:\\users\\marcel\\appdata\\local\\programs\\python\\python38\\lib\\site-packages\\matplotlib\\backends\\backend_agg.py\", line 272, in _get_agg_font\n",
      "    fname = findfont(prop)\n",
      "  File \"c:\\users\\marcel\\appdata\\local\\programs\\python\\python38\\lib\\site-packages\\matplotlib\\font_manager.py\", line 1314, in findfont\n",
      "    return os.path.realpath(filename)\n",
      "  File \"c:\\users\\marcel\\appdata\\local\\programs\\python\\python38\\lib\\ntpath.py\", line 647, in realpath\n",
      "    path = _getfinalpathname(path)\n",
      "KeyboardInterrupt\n",
      "\n",
      "During handling of the above exception, another exception occurred:\n",
      "\n",
      "Traceback (most recent call last):\n",
      "  File \"c:\\users\\marcel\\appdata\\local\\programs\\python\\python38\\lib\\site-packages\\IPython\\core\\interactiveshell.py\", line 2044, in showtraceback\n",
      "    stb = value._render_traceback_()\n",
      "AttributeError: 'KeyboardInterrupt' object has no attribute '_render_traceback_'\n",
      "\n",
      "During handling of the above exception, another exception occurred:\n",
      "\n",
      "Traceback (most recent call last):\n",
      "  File \"c:\\users\\marcel\\appdata\\local\\programs\\python\\python38\\lib\\site-packages\\IPython\\core\\ultratb.py\", line 1169, in get_records\n",
      "    return _fixed_getinnerframes(etb, number_of_lines_of_context, tb_offset)\n",
      "  File \"c:\\users\\marcel\\appdata\\local\\programs\\python\\python38\\lib\\site-packages\\IPython\\core\\ultratb.py\", line 316, in wrapped\n",
      "    return f(*args, **kwargs)\n",
      "  File \"c:\\users\\marcel\\appdata\\local\\programs\\python\\python38\\lib\\site-packages\\IPython\\core\\ultratb.py\", line 350, in _fixed_getinnerframes\n",
      "    records = fix_frame_records_filenames(inspect.getinnerframes(etb, context))\n",
      "  File \"c:\\users\\marcel\\appdata\\local\\programs\\python\\python38\\lib\\inspect.py\", line 1503, in getinnerframes\n",
      "    frameinfo = (tb.tb_frame,) + getframeinfo(tb, context)\n",
      "  File \"c:\\users\\marcel\\appdata\\local\\programs\\python\\python38\\lib\\inspect.py\", line 1465, in getframeinfo\n",
      "    lines, lnum = findsource(frame)\n",
      "  File \"c:\\users\\marcel\\appdata\\local\\programs\\python\\python38\\lib\\site-packages\\IPython\\core\\ultratb.py\", line 170, in findsource\n",
      "    file = getsourcefile(object) or getfile(object)\n",
      "  File \"c:\\users\\marcel\\appdata\\local\\programs\\python\\python38\\lib\\inspect.py\", line 705, in getsourcefile\n",
      "    if os.path.exists(filename):\n",
      "  File \"c:\\users\\marcel\\appdata\\local\\programs\\python\\python38\\lib\\genericpath.py\", line 19, in exists\n",
      "    os.stat(path)\n",
      "KeyboardInterrupt\n"
     ]
    },
    {
     "name": "stderr",
     "output_type": "stream",
     "text": [
      "\n",
      "KeyboardInterrupt\n",
      "\n"
     ]
    }
   ],
   "source": [
    "resolving_outliers_transformations_to_class(data, \"age\")"
   ]
  },
  {
   "cell_type": "markdown",
   "metadata": {},
   "source": [
    "Vidime, ze najmenej outlierov dosahujeme, pokial pouzijeme quantile transformaciu. Nasledne vymazeme dane outliery..."
   ]
  },
  {
   "cell_type": "code",
   "execution_count": null,
   "metadata": {},
   "outputs": [],
   "source": [
    "asd asd asdasdasd asd asda s"
   ]
  },
  {
   "cell_type": "markdown",
   "metadata": {},
   "source": [
    "## medical_info \n",
    "\n",
    "Ako vieme uz z minulej casti, v tomto atribute su ulozene 4 atributy, ktore sa sustreduju na namerane hodnoty mnozstva kyslika v krvi pacientov.\n",
    "\n",
    "Najprv budeme riesit outliery jednotlivych atributov, a potom spolu naraz im vyriesime missing values cez IterativeImputator"
   ]
  },
  {
   "cell_type": "code",
   "execution_count": null,
   "metadata": {},
   "outputs": [],
   "source": [
    "data[\"mean_oxygen\"] = np.nan\n",
    "data[\"std_oxygen\"] = np.nan\n",
    "data[\"kurtosis_oxygen\"] = np.nan\n",
    "data[\"skewness_oxygen\"] = np.nan"
   ]
  },
  {
   "cell_type": "code",
   "execution_count": null,
   "metadata": {},
   "outputs": [],
   "source": [
    "def get_oxygen_stats(row):\n",
    "    \n",
    "    string = row[\"medical_info\"]\n",
    "    \n",
    "    if string is np.nan:\n",
    "        return row\n",
    "    \n",
    "    string = string.replace(\"\\'\", \"\\\"\")\n",
    "    di = json.loads(string)\n",
    "    \n",
    "    for k in di.keys():\n",
    "        row[k] = float(di[k])\n",
    "        \n",
    "    return row"
   ]
  },
  {
   "cell_type": "code",
   "execution_count": null,
   "metadata": {},
   "outputs": [],
   "source": [
    "data = data.apply(get_oxygen_stats, axis=1)\n",
    "data = data.drop(columns=[\"medical_info\"])"
   ]
  },
  {
   "cell_type": "markdown",
   "metadata": {},
   "source": [
    "#### mean_oxygen"
   ]
  },
  {
   "cell_type": "code",
   "execution_count": null,
   "metadata": {},
   "outputs": [],
   "source": [
    "outliers = identify_outliers(data[\"mean_oxygen\"])\n",
    "print(\"Pocet outlierov:\", len(outliers))\n",
    "\n",
    "visual.univariate_num_to_class(data, \"mean_oxygen\", show_regplot=False)"
   ]
  },
  {
   "cell_type": "markdown",
   "metadata": {},
   "source": [
    "Klucom pri spracovavani outlierov pri vacsine tychto medicinskych merani, je rozdelit si dany atribut podla target atributu. Ako mozno vidiet vyssie, tak vidime, ze dane distribucie hodnot tohto atributu podla hodnoty class su radikalne odlisne."
   ]
  },
  {
   "cell_type": "code",
   "execution_count": null,
   "metadata": {},
   "outputs": [],
   "source": [
    "outliers_per_distributions_to_class(data, \"mean_oxygen\")"
   ]
  },
  {
   "cell_type": "markdown",
   "metadata": {},
   "source": [
    "Uz len tymto rozdelenim hodnot do dvoch distribucii sme sa zbavili polovice outlierov. Keby sme to tak nespravili, tak velke mnozstvo cukrovkarov by bolo odstranenych, i ked oni sami, ked ich porovname k ostatnym cukrovkarom, nie su outliermi."
   ]
  },
  {
   "cell_type": "code",
   "execution_count": null,
   "metadata": {},
   "outputs": [],
   "source": [
    "adsasd asdas dasd asd "
   ]
  },
  {
   "cell_type": "code",
   "execution_count": null,
   "metadata": {},
   "outputs": [],
   "source": [
    "resolving_outliers_transformations_to_class(data, \"mean_oxygen\")"
   ]
  },
  {
   "cell_type": "code",
   "execution_count": null,
   "metadata": {},
   "outputs": [],
   "source": [
    "removing_outliers_per_class(data, \"mean_oxygen\")"
   ]
  },
  {
   "cell_type": "markdown",
   "metadata": {},
   "source": [
    "Ako mozno vidiet, pokial by sme rovno na vsetky hodnoty **mean_oxygen** pouzili napriklad PowerTransform, tak sice by sme sa zbavili vsetkych outlierov, no taktiez by sme zahodili rozdielnost distribucii na zaklade hodnoty class."
   ]
  },
  {
   "cell_type": "markdown",
   "metadata": {},
   "source": [
    "Rozhodol som sa, ze odstranime outliery pri tomto atribute, co znamena, ze vacsina hodnot bude vymazana prave pre target triedu 0, co nam nevadi, lebo aj tak boli triedy nevyvazene."
   ]
  },
  {
   "cell_type": "code",
   "execution_count": null,
   "metadata": {},
   "outputs": [],
   "source": [
    "idx = identify_outliers(data_y0).index.values\n",
    "data = data.drop(index=idx)\n",
    "\n",
    "idx = identify_outliers(data_y1).index.values\n",
    "data = data.drop(index=idx)"
   ]
  },
  {
   "cell_type": "code",
   "execution_count": null,
   "metadata": {},
   "outputs": [],
   "source": [
    "visual.univariate_num_to_class(data, \"mean_oxygen\")"
   ]
  },
  {
   "cell_type": "markdown",
   "metadata": {},
   "source": [
    "Teraz mozme vyskusat znova pouzit PowerTransformer"
   ]
  },
  {
   "cell_type": "code",
   "execution_count": null,
   "metadata": {},
   "outputs": [],
   "source": [
    "power = preprocessing.StandardScaler()\n",
    "new_data = power.fit_transform(data[\"mean_oxygen\"].to_frame())"
   ]
  },
  {
   "cell_type": "code",
   "execution_count": null,
   "metadata": {},
   "outputs": [],
   "source": [
    "sns.distplot(new_data)\n",
    "\n",
    "data[\"new_data\"] = pd.Series(new_data.reshape(-1))"
   ]
  },
  {
   "cell_type": "markdown",
   "metadata": {},
   "source": [
    "#### std_oxygen"
   ]
  },
  {
   "cell_type": "code",
   "execution_count": null,
   "metadata": {},
   "outputs": [],
   "source": [
    "visual.univariate_num_to_class(data, \"std_oxygen\")"
   ]
  },
  {
   "cell_type": "code",
   "execution_count": null,
   "metadata": {},
   "outputs": [],
   "source": [
    "identify_outliers(data[\"std_oxygen\"]).shape"
   ]
  },
  {
   "cell_type": "markdown",
   "metadata": {},
   "source": [
    "Znova to splitneme na 2 distribucie a pozrieme, kolko outlierov potom bude..."
   ]
  },
  {
   "cell_type": "code",
   "execution_count": null,
   "metadata": {},
   "outputs": [],
   "source": [
    "data_y0 = data[data[\"class\"] == 0][\"std_oxygen\"]\n",
    "data_y1 = data[data[\"class\"] == 1][\"std_oxygen\"]\n",
    "\n",
    "print(\"Pocet outlierov:\", identify_outliers(data_y0).shape)\n",
    "print(\"Pocet outlierov:\", identify_outliers(data_y1).shape)"
   ]
  },
  {
   "cell_type": "code",
   "execution_count": null,
   "metadata": {},
   "outputs": [],
   "source": [
    "idx = identify_outliers(data_y0).index.values\n",
    "data = data.drop(index=idx)"
   ]
  },
  {
   "cell_type": "code",
   "execution_count": null,
   "metadata": {},
   "outputs": [],
   "source": [
    "visual.univariate_num_to_class(data, \"std_oxygen\")"
   ]
  },
  {
   "cell_type": "markdown",
   "metadata": {},
   "source": [
    "#### skewness_oxygen"
   ]
  },
  {
   "cell_type": "code",
   "execution_count": null,
   "metadata": {},
   "outputs": [],
   "source": [
    "visual.univariate_num_to_class(data, \"skewness_oxygen\")"
   ]
  },
  {
   "cell_type": "code",
   "execution_count": null,
   "metadata": {},
   "outputs": [],
   "source": [
    "identify_outliers(data[\"skewness_oxygen\"]).shape"
   ]
  },
  {
   "cell_type": "code",
   "execution_count": null,
   "metadata": {},
   "outputs": [],
   "source": [
    "data_y0 = data[data[\"class\"] == 0][\"skewness_oxygen\"]\n",
    "data_y1 = data[data[\"class\"] == 1][\"skewness_oxygen\"]\n",
    "\n",
    "print(\"Pocet outlierov:\", identify_outliers(data_y0).shape)\n",
    "print(\"Pocet outlierov:\", identify_outliers(data_y1).shape)"
   ]
  },
  {
   "cell_type": "code",
   "execution_count": null,
   "metadata": {},
   "outputs": [],
   "source": [
    "idx = identify_outliers(data_y0).index.values\n",
    "data = data.drop(index=idx)\n",
    "\n",
    "idx = identify_outliers(data_y1).index.values\n",
    "data = data.drop(index=idx)"
   ]
  },
  {
   "cell_type": "code",
   "execution_count": null,
   "metadata": {},
   "outputs": [],
   "source": [
    "visual.univariate_num_to_class(data, \"skewness_oxygen\")"
   ]
  },
  {
   "cell_type": "markdown",
   "metadata": {},
   "source": [
    "Najprv som chcel rovno transformovat tento atribut, aby som sa zbavil outlierov, no vyskusal som najprv vymazanie outierov v jednotlivych distribuciach podla hodnoty atributu class, cim som vyrazne zvysil korelaciu tohto atributu s target atributom."
   ]
  },
  {
   "cell_type": "markdown",
   "metadata": {},
   "source": [
    "#### kurtosis_oxygen"
   ]
  },
  {
   "cell_type": "code",
   "execution_count": null,
   "metadata": {},
   "outputs": [],
   "source": [
    "visual.univariate_num_to_class(data, \"kurtosis_oxygen\")"
   ]
  },
  {
   "cell_type": "code",
   "execution_count": null,
   "metadata": {},
   "outputs": [],
   "source": [
    "print(\"Pocet outlierov:\", identify_outliers(data[\"kurtosis_oxygen\"]).shape)"
   ]
  },
  {
   "cell_type": "code",
   "execution_count": null,
   "metadata": {},
   "outputs": [],
   "source": [
    "data_y0 = data[data[\"class\"] == 0][\"skewness_oxygen\"]\n",
    "data_y1 = data[data[\"class\"] == 1][\"skewness_oxygen\"]\n",
    "\n",
    "print(\"Pocet outlierov:\", identify_outliers(data_y0).shape)\n",
    "print(\"Pocet outlierov:\", identify_outliers(data_y1).shape)"
   ]
  },
  {
   "cell_type": "code",
   "execution_count": null,
   "metadata": {},
   "outputs": [],
   "source": [
    "idx = identify_outliers(data_y0).index.values\n",
    "data = data.drop(index=idx)\n",
    "\n",
    "idx = identify_outliers(data_y1).index.values\n",
    "data = data.drop(index=idx)"
   ]
  },
  {
   "cell_type": "code",
   "execution_count": null,
   "metadata": {},
   "outputs": [],
   "source": [
    "visual.univariate_num_to_class(data, \"kurtosis_oxygen\")"
   ]
  },
  {
   "cell_type": "markdown",
   "metadata": {},
   "source": [
    "Teraz sa mozme sustredit na imputaciu missing values"
   ]
  },
  {
   "cell_type": "code",
   "execution_count": null,
   "metadata": {},
   "outputs": [],
   "source": [
    "data[[\"mean_oxygen\", \"std_oxygen\", \"skewness_oxygen\", \"kurtosis_oxygen\"]].isnull().sum()"
   ]
  },
  {
   "cell_type": "code",
   "execution_count": null,
   "metadata": {},
   "outputs": [],
   "source": [
    "data[[\"mean_oxygen\", \"std_oxygen\", \"skewness_oxygen\", \"kurtosis_oxygen\"]].isnull().all(axis=1).sum()"
   ]
  },
  {
   "cell_type": "markdown",
   "metadata": {},
   "source": [
    "Sice vieme celkom dobre nahradit nejake chybajuce hodnoty atributov merani kyslika a glukozy na zaklade korelacie s inymi meraniami, vidime, ze prave 9 pacientov nema ziaden atribut o kysliku, inak povedane, maju atribut medical_info == NaN.\n",
    "\n",
    "A toto by sme si uz moc trufali imputaciu atributov kyslika, pokial nemame ziadne hodnoty pre vsetky atributy kyslika. Tak ich iba jednoducho dropneme..."
   ]
  },
  {
   "cell_type": "code",
   "execution_count": null,
   "metadata": {},
   "outputs": [],
   "source": [
    "idx = data[data[[\"mean_oxygen\", \"std_oxygen\", \"skewness_oxygen\", \"kurtosis_oxygen\"]].isnull().all(axis=1)].index.values\n",
    "data = data.drop(index=idx)"
   ]
  },
  {
   "cell_type": "markdown",
   "metadata": {},
   "source": [
    "Kedze my si chceme uchovat tvar, resp. doterajsiu diverzitu medzi distribuciami rovnakeho atributu na zaklade hodnoty class, tak my nepouzijeme ziadnu nelinearnu transformaciu, aby sme nasilu dostali normalnu distribuciu, lebo potom by sme \"zabili\" korelaciu medzi danym atributom a target atributom. \n",
    "\n",
    "Namiesto toho ich iba rescalujeme, konkretne pouzijeme StandardScaler"
   ]
  },
  {
   "cell_type": "code",
   "execution_count": null,
   "metadata": {},
   "outputs": [],
   "source": [
    "def standardize(data, columns):\n",
    "    \n",
    "    data = data.copy()\n",
    "    X = data[columns]\n",
    "\n",
    "    scaler = preprocessing.StandardScaler()\n",
    "    X = scaler.fit_transform(X)\n",
    "\n",
    "    data[columns] = X\n",
    "    \n",
    "    return data"
   ]
  },
  {
   "cell_type": "code",
   "execution_count": null,
   "metadata": {},
   "outputs": [],
   "source": [
    "data = standardize(data, [\"mean_oxygen\", \"std_oxygen\", \"skewness_oxygen\", \"kurtosis_oxygen\"])"
   ]
  },
  {
   "cell_type": "markdown",
   "metadata": {},
   "source": [
    "#### skewness_glucose"
   ]
  },
  {
   "cell_type": "code",
   "execution_count": null,
   "metadata": {},
   "outputs": [],
   "source": [
    "visual.univariate_num(data, \"skewness_glucose\")\n",
    "identify_outliers(data[\"skewness_glucose\"]).shape"
   ]
  },
  {
   "cell_type": "code",
   "execution_count": null,
   "metadata": {},
   "outputs": [],
   "source": [
    "visual.univariate_num_to_class(data, \"skewness_glucose\")"
   ]
  },
  {
   "cell_type": "code",
   "execution_count": null,
   "metadata": {},
   "outputs": [],
   "source": [
    "identify_outliers(data[\"skewness_glucose\"]).shape"
   ]
  },
  {
   "cell_type": "code",
   "execution_count": null,
   "metadata": {},
   "outputs": [],
   "source": [
    "data_y0 = data[data[\"class\"] == 0][\"skewness_glucose\"]\n",
    "data_y1 = data[data[\"class\"] == 1][\"skewness_glucose\"]\n",
    "\n",
    "print(\"Pocet outlierov:\", identify_outliers(data_y0).shape)\n",
    "print(\"Pocet outlierov:\", identify_outliers(data_y1).shape)"
   ]
  },
  {
   "cell_type": "code",
   "execution_count": null,
   "metadata": {},
   "outputs": [],
   "source": [
    "idx = identify_outliers(data_y0).index.values\n",
    "data = data.drop(index=idx)\n",
    "\n",
    "idx = identify_outliers(data_y1).index.values\n",
    "data = data.drop(index=idx)"
   ]
  },
  {
   "cell_type": "code",
   "execution_count": null,
   "metadata": {},
   "outputs": [],
   "source": [
    "visual.univariate_num_to_class(data, \"skewness_glucose\")"
   ]
  },
  {
   "cell_type": "markdown",
   "metadata": {},
   "source": [
    "#### kurtosis_glucose"
   ]
  },
  {
   "cell_type": "code",
   "execution_count": null,
   "metadata": {},
   "outputs": [],
   "source": [
    "visual.univariate_num_to_class(data, \"kurtosis_glucose\")"
   ]
  },
  {
   "cell_type": "code",
   "execution_count": null,
   "metadata": {},
   "outputs": [],
   "source": [
    "identify_outliers(data[\"kurtosis_glucose\"]).shape"
   ]
  },
  {
   "cell_type": "code",
   "execution_count": null,
   "metadata": {},
   "outputs": [],
   "source": [
    "data_y0 = data[data[\"class\"] == 0][\"kurtosis_glucose\"]\n",
    "data_y1 = data[data[\"class\"] == 1][\"kurtosis_glucose\"]\n",
    "\n",
    "print(\"Pocet outlierov:\", identify_outliers(data_y0).shape)\n",
    "print(\"Pocet outlierov:\", identify_outliers(data_y1).shape)"
   ]
  },
  {
   "cell_type": "code",
   "execution_count": null,
   "metadata": {},
   "outputs": [],
   "source": [
    "idx = identify_outliers(data_y0).index.values\n",
    "data = data.drop(index=idx)"
   ]
  },
  {
   "cell_type": "code",
   "execution_count": null,
   "metadata": {},
   "outputs": [],
   "source": [
    "visual.univariate_num_to_class(data, \"kurtosis_glucose\")"
   ]
  },
  {
   "cell_type": "markdown",
   "metadata": {},
   "source": [
    "#### mean_glucose"
   ]
  },
  {
   "cell_type": "markdown",
   "metadata": {},
   "source": [
    "Atribut mean_glucose sme museli pretipovat lebo bol vedeny ako object"
   ]
  },
  {
   "cell_type": "code",
   "execution_count": null,
   "metadata": {},
   "outputs": [],
   "source": [
    "data['mean_glucose'] = pd.to_numeric(data['mean_glucose'], errors= 'coerce')"
   ]
  },
  {
   "cell_type": "code",
   "execution_count": null,
   "metadata": {},
   "outputs": [],
   "source": [
    "visual.univariate_num_to_class(data, \"mean_glucose\")"
   ]
  },
  {
   "cell_type": "code",
   "execution_count": null,
   "metadata": {},
   "outputs": [],
   "source": [
    "identify_outliers(data[\"mean_glucose\"]).shape"
   ]
  },
  {
   "cell_type": "code",
   "execution_count": null,
   "metadata": {},
   "outputs": [],
   "source": [
    "data_y0 = data[data[\"class\"] == 0][\"mean_glucose\"]\n",
    "data_y1 = data[data[\"class\"] == 1][\"mean_glucose\"]\n",
    "\n",
    "print(\"Pocet outlierov:\", identify_outliers(data_y0).shape)\n",
    "print(\"Pocet outlierov:\", identify_outliers(data_y1).shape)"
   ]
  },
  {
   "cell_type": "code",
   "execution_count": null,
   "metadata": {},
   "outputs": [],
   "source": [
    "idx = identify_outliers(data_y0).index.values\n",
    "data = data.drop(index=idx)"
   ]
  },
  {
   "cell_type": "code",
   "execution_count": null,
   "metadata": {},
   "outputs": [],
   "source": [
    "visual.univariate_num_to_class(data, \"mean_glucose\")"
   ]
  },
  {
   "cell_type": "markdown",
   "metadata": {},
   "source": [
    "#### std_glucose"
   ]
  },
  {
   "cell_type": "code",
   "execution_count": null,
   "metadata": {},
   "outputs": [],
   "source": [
    "visual.univariate_num_to_class(data, \"std_glucose\")"
   ]
  },
  {
   "cell_type": "code",
   "execution_count": null,
   "metadata": {},
   "outputs": [],
   "source": [
    "identify_outliers(data[\"std_glucose\"]).shape"
   ]
  },
  {
   "cell_type": "code",
   "execution_count": null,
   "metadata": {},
   "outputs": [],
   "source": [
    "data_y0 = data[data[\"class\"] == 0][\"std_glucose\"]\n",
    "data_y1 = data[data[\"class\"] == 1][\"std_glucose\"]\n",
    "\n",
    "print(\"Pocet outlierov:\", identify_outliers(data_y0).shape)\n",
    "print(\"Pocet outlierov:\", identify_outliers(data_y1).shape)"
   ]
  },
  {
   "cell_type": "code",
   "execution_count": null,
   "metadata": {},
   "outputs": [],
   "source": [
    "idx = identify_outliers(data_y0).index.values\n",
    "data = data.drop(index=idx)\n",
    "\n",
    "idx = identify_outliers(data_y1).index.values\n",
    "data = data.drop(index=idx)"
   ]
  },
  {
   "cell_type": "code",
   "execution_count": null,
   "metadata": {},
   "outputs": [],
   "source": [
    "visual.univariate_num_to_class(data, \"std_glucose\")"
   ]
  },
  {
   "cell_type": "code",
   "execution_count": null,
   "metadata": {},
   "outputs": [],
   "source": [
    "data[[\"skewness_glucose\", \"kurtosis_glucose\", \"mean_glucose\", \"std_glucose\"]].isnull().sum()"
   ]
  },
  {
   "cell_type": "markdown",
   "metadata": {},
   "source": [
    "Tuto by som potreboval pomoct ze ako mam nahradit chybajuce data"
   ]
  },
  {
   "cell_type": "markdown",
   "metadata": {},
   "source": [
    "### class\n",
    "\n",
    "Tomuto atributu chyba zopar hodnot, konkretne 9, a tak datam by sme neublizili, pokial by sme ich jednoducho dropli. Kludne by sme mohli aj imputovat dane hodnoty, mame dobre atributy so silnymi korelaciami s tymto atributom, a tak by sme sa hrali, ze vlastne uz robime danu klasifikacnu ulohu, ako keby, no tento atribut ma cisto obsahovat len ground truth, a tak, aby sme boli korektny, mali by sme missing value odstranit."
   ]
  },
  {
   "cell_type": "code",
   "execution_count": null,
   "metadata": {},
   "outputs": [],
   "source": [
    "idx = data[data[\"class\"].isnull()].index.values\n",
    "data = data.drop(index=idx)"
   ]
  },
  {
   "cell_type": "markdown",
   "metadata": {},
   "source": [
    "# TODO\n",
    "\n",
    "- Kategoricke atributy -> Doteraz som len zmensoval pocet hodnot pri kategorickych atributoch + sme riesili imputovanie. Teraz vsak je potrebne encodovat ich bud do OrdinalEncoder alebo OneHotEncoder.\n",
    "- Spojite atributy -> Bud v pripade \"hours-per-week\" sme dany atribut transformovali na kategoricky, alebo sme odstranovali outliery bud transformaciou alebo rovno odstranovanim zaznamov (zatial sme pouzivali len odstarnovanie zaznamov na odstranenie outlierov). Teraz je potrebne ich, v pripade, ze chceme zachovat distribuciu, len rescalovat - StandardScaler, alebo pokial nemusime zachovat distribuciu, tak rovno atribut namapujeme na gaussovku cez nelinearne transformacie - PowerTransforer / QuantileTransformer\n",
    "\n",
    "Treba pouzivat OneHotEncoder pre nominal attributes a OrdinalEncoder pre ordinal attributes"
   ]
  },
  {
   "cell_type": "markdown",
   "metadata": {},
   "source": [
    "Toto je basic layout, ako budeme postupne tvorit velky PIPELINE, do ktoreho vsetok preprocessing hodime. Avsak mozme tam hodit iba veci, pri ktorych nepracujeme s target triedou y, teda v PIPELINE neodstranujeme samples."
   ]
  },
  {
   "cell_type": "code",
   "execution_count": null,
   "metadata": {},
   "outputs": [],
   "source": [
    "class TransformaciaMS_Relationship(base.BaseEstimator, base.TransformerMixin):\n",
    "    \n",
    "    def __init__(self):\n",
    "        self.ordinal_encoder = None\n",
    "        self.iterative_imputer = None\n",
    "        \n",
    "    def fit(self, X, y=None):\n",
    "        \n",
    "        print(\"FIT\")\n",
    "        \n",
    "        columns = X.columns.values\n",
    "\n",
    "        null_values = pd.DataFrame(index=pd.Index([-1]), columns=columns, data=[[np.nan for i in range(len(columns))]])\n",
    "        X = pd.concat([null_values,X])\n",
    "\n",
    "        self.ordinal_encoder = ce.ordinal.OrdinalEncoder(handle_missing=\"return_nan\", handle_unknown=\"return_nan\")\n",
    "        X = self.ordinal_encoder.fit_transform(X)\n",
    "        \n",
    "        X = X[1:]\n",
    "\n",
    "        self.iterative_imputer = impute.IterativeImputer(max_iter=20, random_state=42, initial_strategy=\"most_frequent\", \n",
    "                                              min_value=X.min(), max_value=X.max())\n",
    "\n",
    "        \n",
    "        try:\n",
    "            X = self.iterative_imputer.fit(X)\n",
    "        except (ValueError, np.linalg.LinAlgError):\n",
    "            print(\"Jeden error bol trapnuty, kedy funkcii vadili NaNs. Tento error je ale divny, lebo mu to vadi\", \\\n",
    "              \"len prvy krat, a potom to uz ide...\")\n",
    "            X = self.iterative_imputer.fit(X)\n",
    "            \n",
    "        return self\n",
    "               \n",
    "\n",
    "    def transform(self, X):\n",
    "        print(\"TRANSFORM\")\n",
    "        columns = X.columns.values\n",
    "    \n",
    "        X = self.ordinal_encoder.transform(X)\n",
    "        X = self.iterative_imputer.transform(X).round()\n",
    "        \n",
    "        X = pd.DataFrame(data=X, columns=columns)\n",
    "        \n",
    "        X = self.ordinal_encoder.inverse_transform(X)\n",
    "        \n",
    "        return X\n",
    "    "
   ]
  },
  {
   "cell_type": "code",
   "execution_count": null,
   "metadata": {},
   "outputs": [],
   "source": [
    "pip = pipeline.Pipeline(steps=[\n",
    "    (\"moja_transf\", TransformaciaMS_Relationship()),\n",
    "    (\"one_hot_enc\", preprocessing.OneHotEncoder())\n",
    "])\n",
    "\n",
    "\n",
    "col_transform = compose.ColumnTransformer(transformers=[\n",
    "        ('vztahy', pip, [\"marital-status\", \"relationship\"])\n",
    "    ])\n",
    "\n",
    "PIPE = pipeline.Pipeline(steps=[\n",
    "    (\"transform\", col_transform),\n",
    "    (\"model\", svm.SVR())\n",
    "])"
   ]
  },
  {
   "cell_type": "markdown",
   "metadata": {},
   "source": [
    "# Realizácia krokov predspracovania dát a ich zdokumentovanie"
   ]
  },
  {
   "cell_type": "code",
   "execution_count": null,
   "metadata": {},
   "outputs": [],
   "source": [
    "data.isnull().sum()"
   ]
  },
  {
   "cell_type": "code",
   "execution_count": null,
   "metadata": {},
   "outputs": [],
   "source": [
    "from sklearn.impute import SimpleImputer"
   ]
  },
  {
   "cell_type": "code",
   "execution_count": null,
   "metadata": {},
   "outputs": [],
   "source": [
    "imp = SimpleImputer(missing_values=np.nan, strategy='mean')\n",
    " \n",
    "data['education-num'] = imp.fit_transform(data[['education-num']])"
   ]
  },
  {
   "cell_type": "markdown",
   "metadata": {},
   "source": [
    "Mozeme pouzit mean - priemer, median alebo most_frequent"
   ]
  },
  {
   "cell_type": "code",
   "execution_count": null,
   "metadata": {},
   "outputs": [],
   "source": [
    "data.info()"
   ]
  },
  {
   "cell_type": "code",
   "execution_count": null,
   "metadata": {},
   "outputs": [],
   "source": [
    "data.isnull().sum()"
   ]
  },
  {
   "cell_type": "markdown",
   "metadata": {},
   "source": [
    "## Vychylene hodnoty"
   ]
  },
  {
   "cell_type": "markdown",
   "metadata": {},
   "source": [
    "Pojdeme po poradi a budeme odstranovat vychylene hodnoty jednotlivych atributov. Pouzijeme dve metody\n",
    "1. transformácia atribútu s vychýlenými hodnotami pomocou zvolenej funkcie (logaritmus, odmocnina a pod.)\n",
    "2. nahradenie vychýlenej hodnoty hraničnými hodnotami rozdelenia (5 percentilom, resp. 95 percentilom)"
   ]
  },
  {
   "cell_type": "markdown",
   "metadata": {},
   "source": [
    "na vychylene data sa da pozerat cez boxplot, pairplot. No ak nemaju normalne rozlozenie, treba data normalizovat"
   ]
  },
  {
   "cell_type": "code",
   "execution_count": null,
   "metadata": {},
   "outputs": [],
   "source": [
    "data_glucose = data[['kurtosis_glucose', 'skewness_glucose', \n",
    "                        'mean_glucose', 'std_glucose','class']]\n",
    "\n",
    "sns.pairplot(data_glucose, hue = 'class')"
   ]
  },
  {
   "cell_type": "code",
   "execution_count": null,
   "metadata": {},
   "outputs": [],
   "source": [
    "data.hist(figsize = (18,12), bins=50)"
   ]
  },
  {
   "cell_type": "markdown",
   "metadata": {},
   "source": [
    "tu treba identifikovat normalne a ine rozlozenia a ptm boxplot vykreslit"
   ]
  },
  {
   "cell_type": "markdown",
   "metadata": {},
   "source": [
    "Spočítajme si hodnotu pre fúzy. Všetky pozorovania mimo týchto hodnôt boli označené ako outlier"
   ]
  },
  {
   "cell_type": "code",
   "execution_count": null,
   "metadata": {},
   "outputs": [],
   "source": [
    "def normalizujOdmocninou(atribut,data):\n",
    "    transformed1 = np.sqrt(data[atribut])\n",
    "    pom = pd.Series(transformed1).hist(bins=50)\n",
    "    pom.set_title(\"index: %s (sqrt transform)\" % atribut)\n",
    "    print(\"Skewness:\", stats.skew(transformed1))\n",
    "    data[atribut] = transformed1\n",
    "    \n",
    "    return data"
   ]
  },
  {
   "cell_type": "code",
   "execution_count": null,
   "metadata": {},
   "outputs": [],
   "source": [
    "def vypisoutlierov(atribut,data):\n",
    "    print('Skewness: ', stats.skew(data[atribut]))\n",
    "    \n",
    "    descr = data[atribut].describe()\n",
    "    whisker_r = descr['75%'] + (1.5 * (descr['75%'] - descr['25%']))\n",
    "    whisker_r\n",
    "\n",
    "    descr = data[atribut].describe()\n",
    "    whisker_r = np.min([descr['max'], descr['75%'] + (1.5 * (descr['75%'] - descr['25%']))])\n",
    "    whisker_l = np.max([descr['min'], descr['25%'] - (1.5 * (descr['75%'] - descr['25%']))])\n",
    "    whisker_l, whisker_r\n",
    "    \n",
    "    print(\"Lavy fuz \", data[atribut].min())\n",
    "    \n",
    "    print(\"Pocet definovanych lavych outlierov \", sum(data[atribut] < whisker_l))\n",
    "    \n",
    "    print(\"Pravy fuz \", data[atribut].max())\n",
    "    \n",
    "    print(\"Pocet definovanych pravych outlierov \", sum(data[atribut] > whisker_r))"
   ]
  },
  {
   "cell_type": "code",
   "execution_count": null,
   "metadata": {},
   "outputs": [],
   "source": [
    "def normalizujLogaritmom(atribut,data):\n",
    "    transformed1 = np.log(data[atribut])\n",
    "    pom = pd.Series(transformed1).hist(bins=50)\n",
    "    pom.set_title(\"index: %s (log transform)\" % atribut)\n",
    "    print(\"Skewness:\", stats.skew(transformed1))\n",
    "    data[atribut] = transformed1\n",
    "    \n",
    "    return data"
   ]
  },
  {
   "cell_type": "code",
   "execution_count": null,
   "metadata": {},
   "outputs": [],
   "source": [
    "def vychylenehodnotypreatribut(atribut,data):\n",
    "    \n",
    "    print(\"\\nStatistiky pred normalizaciou.\\n\")\n",
    "    vypisoutlierov(atribut,data)\n",
    "    \n",
    "    data = normalizujOdmocninou(atribut,data)\n",
    "    \n",
    "    print(\"\\nStatistiky po normalizacii.\\n\")\n",
    "    vypisoutlierov(atribut,data)\n",
    "    \n",
    "    return data"
   ]
  },
  {
   "cell_type": "code",
   "execution_count": null,
   "metadata": {},
   "outputs": [],
   "source": [
    "def vychylenehodnotypreatributLogaritmom(atribut,data):\n",
    "    \n",
    "    print(\"\\nStatistiky pred normalizaciou.\\n\")\n",
    "    vypisoutlierov(atribut,data)\n",
    "    \n",
    "    data = normalizujLogaritmom(atribut,data)\n",
    "    \n",
    "    print(\"\\nStatistiky po normalizacii.\\n\")\n",
    "    vypisoutlierov(atribut,data)\n",
    "    \n",
    "    return data"
   ]
  },
  {
   "cell_type": "markdown",
   "metadata": {},
   "source": [
    "Atribut kurtosis_glucose"
   ]
  },
  {
   "cell_type": "code",
   "execution_count": null,
   "metadata": {},
   "outputs": [],
   "source": [
    "hist = plt.hist(data['kurtosis_glucose'],bins=10)"
   ]
  },
  {
   "cell_type": "code",
   "execution_count": null,
   "metadata": {},
   "outputs": [],
   "source": [
    "sns.boxplot(data['kurtosis_glucose'])"
   ]
  },
  {
   "cell_type": "code",
   "execution_count": null,
   "metadata": {},
   "outputs": [],
   "source": [
    "data['kurtosis_glucose'] = data['kurtosis_glucose'].map(lambda x: x+2)"
   ]
  },
  {
   "cell_type": "code",
   "execution_count": null,
   "metadata": {},
   "outputs": [],
   "source": [
    "sns.boxplot(data['kurtosis_glucose'])"
   ]
  },
  {
   "cell_type": "code",
   "execution_count": null,
   "metadata": {},
   "outputs": [],
   "source": [
    "data = vychylenehodnotypreatribut('kurtosis_glucose',data)"
   ]
  },
  {
   "cell_type": "code",
   "execution_count": null,
   "metadata": {},
   "outputs": [],
   "source": [
    "data = vychylenehodnotypreatribut('kurtosis_glucose',data)"
   ]
  },
  {
   "cell_type": "code",
   "execution_count": null,
   "metadata": {},
   "outputs": [],
   "source": [
    "data.columns"
   ]
  },
  {
   "cell_type": "markdown",
   "metadata": {},
   "source": [
    "Atribut kurtosis_glucose"
   ]
  },
  {
   "cell_type": "code",
   "execution_count": null,
   "metadata": {},
   "outputs": [],
   "source": [
    "hist = plt.hist(data['kurtosis_oxygen'],bins=10)"
   ]
  },
  {
   "cell_type": "code",
   "execution_count": null,
   "metadata": {},
   "outputs": [],
   "source": [
    "sns.boxplot(data['kurtosis_oxygen'])"
   ]
  },
  {
   "cell_type": "code",
   "execution_count": null,
   "metadata": {},
   "outputs": [],
   "source": [
    "descr = data['kurtosis_oxygen'].describe()\n",
    "whisker_r = descr['75%'] + (1.5 * (descr['75%'] - descr['25%']))\n",
    "whisker_r\n",
    "\n",
    "descr = data['kurtosis_oxygen'].describe()\n",
    "whisker_r = np.min([descr['max'], descr['75%'] + (1.5 * (descr['75%'] - descr['25%']))])\n",
    "whisker_l = np.max([descr['min'], descr['25%'] - (1.5 * (descr['75%'] - descr['25%']))])\n",
    "whisker_l, whisker_r\n",
    "    \n",
    "print(\"Lavy fuz \", data['kurtosis_oxygen'].min())"
   ]
  },
  {
   "cell_type": "code",
   "execution_count": null,
   "metadata": {},
   "outputs": [],
   "source": [
    "data['kurtosis_glucose'] = data['kurtosis_glucose'].map(lambda x: x+3)"
   ]
  },
  {
   "cell_type": "code",
   "execution_count": null,
   "metadata": {},
   "outputs": [],
   "source": [
    "data = vychylenehodnotypreatribut('kurtosis_glucose',data)"
   ]
  },
  {
   "cell_type": "markdown",
   "metadata": {},
   "source": [
    "Atribut mean_glucose"
   ]
  },
  {
   "cell_type": "code",
   "execution_count": null,
   "metadata": {},
   "outputs": [],
   "source": [
    "data.info()"
   ]
  },
  {
   "cell_type": "markdown",
   "metadata": {},
   "source": [
    "Mean_glucose je object treba upravit na float"
   ]
  },
  {
   "cell_type": "markdown",
   "metadata": {},
   "source": [
    "Atribut mean_oxygen"
   ]
  },
  {
   "cell_type": "code",
   "execution_count": null,
   "metadata": {},
   "outputs": [],
   "source": [
    "hist = plt.hist(data['mean_oxygen'],bins=10)"
   ]
  },
  {
   "cell_type": "code",
   "execution_count": null,
   "metadata": {},
   "outputs": [],
   "source": [
    "sns.boxplot(data['mean_oxygen'])"
   ]
  },
  {
   "cell_type": "code",
   "execution_count": null,
   "metadata": {},
   "outputs": [],
   "source": [
    "data = vychylenehodnotypreatribut('mean_oxygen',data)"
   ]
  },
  {
   "cell_type": "code",
   "execution_count": null,
   "metadata": {},
   "outputs": [],
   "source": [
    "data = vychylenehodnotypreatribut('mean_oxygen',data)"
   ]
  },
  {
   "cell_type": "code",
   "execution_count": null,
   "metadata": {},
   "outputs": [],
   "source": [
    "data = vychylenehodnotypreatribut('mean_oxygen',data)"
   ]
  },
  {
   "cell_type": "code",
   "execution_count": null,
   "metadata": {},
   "outputs": [],
   "source": [
    "data = vychylenehodnotypreatribut('mean_oxygen',data)"
   ]
  },
  {
   "cell_type": "markdown",
   "metadata": {},
   "source": [
    "Atribut skewness_glucose"
   ]
  },
  {
   "cell_type": "code",
   "execution_count": null,
   "metadata": {},
   "outputs": [],
   "source": [
    "hist = plt.hist(data['skewness_glucose'],bins=10)"
   ]
  },
  {
   "cell_type": "code",
   "execution_count": null,
   "metadata": {},
   "outputs": [],
   "source": [
    "sns.boxplot(data['skewness_glucose'])"
   ]
  },
  {
   "cell_type": "code",
   "execution_count": null,
   "metadata": {},
   "outputs": [],
   "source": [
    "descr = data['skewness_glucose'].describe()\n",
    "whisker_r = descr['75%'] + (1.5 * (descr['75%'] - descr['25%']))\n",
    "whisker_r\n",
    "\n",
    "descr = data['skewness_glucose'].describe()\n",
    "whisker_r = np.min([descr['max'], descr['75%'] + (1.5 * (descr['75%'] - descr['25%']))])\n",
    "whisker_l = np.max([descr['min'], descr['25%'] - (1.5 * (descr['75%'] - descr['25%']))])\n",
    "whisker_l, whisker_r\n",
    "\n",
    "print(\"Lavy fuz \", data['skewness_glucose'].min())"
   ]
  },
  {
   "cell_type": "code",
   "execution_count": null,
   "metadata": {},
   "outputs": [],
   "source": [
    "data['skewness_glucose'] = data['skewness_glucose'].map(lambda x: x+2)"
   ]
  },
  {
   "cell_type": "code",
   "execution_count": null,
   "metadata": {},
   "outputs": [],
   "source": [
    "data = vychylenehodnotypreatributLogaritmom('skewness_glucose',data)"
   ]
  },
  {
   "cell_type": "markdown",
   "metadata": {},
   "source": [
    "Atribut skewness_oxygen"
   ]
  },
  {
   "cell_type": "code",
   "execution_count": null,
   "metadata": {},
   "outputs": [],
   "source": [
    "hist = plt.hist(data['skewness_oxygen'],bins=10)"
   ]
  },
  {
   "cell_type": "code",
   "execution_count": null,
   "metadata": {},
   "outputs": [],
   "source": [
    "sns.boxplot(data['skewness_oxygen'])"
   ]
  },
  {
   "cell_type": "code",
   "execution_count": null,
   "metadata": {},
   "outputs": [],
   "source": [
    "vypisoutlierov('skewness_oxygen',data)"
   ]
  },
  {
   "cell_type": "code",
   "execution_count": null,
   "metadata": {},
   "outputs": [],
   "source": [
    "data['skewness_oxygen'] = data['skewness_oxygen'].map(lambda x: x+2)"
   ]
  },
  {
   "cell_type": "code",
   "execution_count": null,
   "metadata": {},
   "outputs": [],
   "source": [
    "data = vychylenehodnotypreatribut('skewness_oxygen',data)"
   ]
  },
  {
   "cell_type": "markdown",
   "metadata": {},
   "source": [
    "Atribut std_glucose"
   ]
  },
  {
   "cell_type": "code",
   "execution_count": null,
   "metadata": {},
   "outputs": [],
   "source": [
    "hist = plt.hist(data['std_glucose'],bins=10)"
   ]
  },
  {
   "cell_type": "code",
   "execution_count": null,
   "metadata": {},
   "outputs": [],
   "source": [
    "sns.boxplot(data['std_glucose'])"
   ]
  },
  {
   "cell_type": "code",
   "execution_count": null,
   "metadata": {},
   "outputs": [],
   "source": [
    "vypisoutlierov('std_glucose',data)"
   ]
  },
  {
   "cell_type": "markdown",
   "metadata": {},
   "source": [
    "Atribut std_oxygen"
   ]
  },
  {
   "cell_type": "code",
   "execution_count": null,
   "metadata": {},
   "outputs": [],
   "source": [
    "hist = plt.hist(data['std_oxygen'],bins=10)"
   ]
  },
  {
   "cell_type": "code",
   "execution_count": null,
   "metadata": {},
   "outputs": [],
   "source": [
    "sns.boxplot(data['std_oxygen'])"
   ]
  },
  {
   "cell_type": "code",
   "execution_count": null,
   "metadata": {},
   "outputs": [],
   "source": [
    "data = vychylenehodnotypreatribut('std_oxygen',data)"
   ]
  },
  {
   "cell_type": "markdown",
   "metadata": {},
   "source": [
    "# Znovupoužiteľnosť predspracovania"
   ]
  },
  {
   "cell_type": "code",
   "execution_count": null,
   "metadata": {},
   "outputs": [],
   "source": []
  }
 ],
 "metadata": {
  "kernelspec": {
   "display_name": "Python 3",
   "language": "python",
   "name": "python3"
  },
  "language_info": {
   "codemirror_mode": {
    "name": "ipython",
    "version": 3
   },
   "file_extension": ".py",
   "mimetype": "text/x-python",
   "name": "python",
   "nbconvert_exporter": "python",
   "pygments_lexer": "ipython3",
   "version": "3.8.5"
  }
 },
 "nbformat": 4,
 "nbformat_minor": 4
}
