{
 "cells": [
  {
   "cell_type": "code",
   "execution_count": 1,
   "metadata": {},
   "outputs": [],
   "source": [
    "import pandas as pd\n",
    "import numpy as np\n",
    "import seaborn as sns\n",
    "import re\n",
    "import matplotlib.pyplot as plt\n",
    "import json\n",
    "import scipy.stats as stats\n",
    "import math\n",
    "\n",
    "import category_encoders as ce\n",
    "\n",
    "import statsmodels.api as sm\n",
    "import statsmodels.stats as sm_stats\n",
    "import statsmodels.stats.api as sms\n",
    "\n",
    "import vizualizacia_funkcie as visual\n",
    "\n",
    "from sklearn import preprocessing\n",
    "from sklearn import pipeline\n",
    "from sklearn import base\n",
    "from sklearn import compose\n",
    "from sklearn import feature_selection\n",
    "from sklearn import model_selection\n",
    "\n",
    "from datetime import datetime\n",
    "from datetime import date\n",
    "\n",
    "from sklearn.model_selection import train_test_split\n",
    "from sklearn import tree\n",
    "from sklearn.metrics import accuracy_score\n",
    "from sklearn.metrics import precision_score\n",
    "from sklearn.metrics import recall_score\n",
    "from sklearn.metrics import f1_score\n",
    "from sklearn.tree import DecisionTreeClassifier\n",
    "from sklearn.metrics import roc_curve, auc\n",
    "\n",
    "import imblearn\n",
    "import preprocessing_pipeline as prep_pip\n",
    "\n",
    "# grafy\n",
    "from sklearn.tree import export_graphviz\n",
    "from graphviz import Source\n",
    "from IPython.display import SVG\n",
    "from IPython.display import HTML # toto je tu len pre to aby sa mi obrazok zmestil na obrazovku\n"
   ]
  },
  {
   "cell_type": "markdown",
   "metadata": {},
   "source": [
    "# Predspracovanie validacneho datasetu a opis pripadnych zmien"
   ]
  },
  {
   "cell_type": "code",
   "execution_count": 2,
   "metadata": {},
   "outputs": [
    {
     "name": "stderr",
     "output_type": "stream",
     "text": [
      "C:\\Users\\Marcel\\OneDrive\\Dokumenty\\FIIT\\5.semester\\IAU_prj\\preprocessing_pipeline.py:58: SettingWithCopyWarning: \n",
      "A value is trying to be set on a copy of a slice from a DataFrame\n",
      "\n",
      "See the caveats in the documentation: https://pandas.pydata.org/pandas-docs/stable/user_guide/indexing.html#returning-a-view-versus-a-copy\n",
      "  mini_dataset.iloc[0][attr] = not_null.values[0]\n"
     ]
    }
   ],
   "source": [
    "df1 = pd.read_csv(\"./data/personal_train.csv\", index_col=0)\n",
    "df2 = pd.read_csv(\"./data/other_train.csv\", index_col=0)\n",
    "\n",
    "X, y = prep_pip.one_proper_df(df1, df2)"
   ]
  },
  {
   "cell_type": "code",
   "execution_count": 3,
   "metadata": {},
   "outputs": [],
   "source": [
    "PIP = prep_pip.get_preprocessing_pipeline()"
   ]
  },
  {
   "cell_type": "code",
   "execution_count": 4,
   "metadata": {},
   "outputs": [],
   "source": [
    "X_train, y_train = PIP.fit_predict(X, y)"
   ]
  },
  {
   "cell_type": "code",
   "execution_count": 5,
   "metadata": {},
   "outputs": [
    {
     "name": "stdout",
     "output_type": "stream",
     "text": [
      "(3254, 33)\n",
      "(3254,)\n"
     ]
    }
   ],
   "source": [
    "print(X_train.shape)\n",
    "print(y_train.shape)"
   ]
  },
  {
   "cell_type": "code",
   "execution_count": 6,
   "metadata": {},
   "outputs": [
    {
     "data": {
      "text/plain": [
       "Index(['age', 'mean_oxygen', 'std_oxygen', 'kurtosis_oxygen',\n",
       "       'skewness_oxygen', 'mean_glucose', 'std_glucose', 'kurtosis_glucose',\n",
       "       'skewness_glucose', 'sex_0', 'sex_1', 'marital-status_0',\n",
       "       'marital-status_1', 'marital-status_2', 'marital-status_3',\n",
       "       'relationship_0', 'relationship_1', 'relationship_2', 'relationship_3',\n",
       "       'occupation_0', 'occupation_1', 'occupation_2', 'occupation_3',\n",
       "       'occupation_4', 'occupation_5', 'occupation_6', 'occupation_7',\n",
       "       'occupation_8', 'workclass_0', 'workclass_1', 'education',\n",
       "       'hours-per-week-cat', 'income'],\n",
       "      dtype='object')"
      ]
     },
     "execution_count": 6,
     "metadata": {},
     "output_type": "execute_result"
    }
   ],
   "source": [
    "X_train.columns"
   ]
  },
  {
   "cell_type": "markdown",
   "metadata": {},
   "source": [
    "# Pri praci s validacnym datasetom sa nepouziva fit_predict ale iba predict"
   ]
  },
  {
   "cell_type": "code",
   "execution_count": 7,
   "metadata": {},
   "outputs": [
    {
     "name": "stderr",
     "output_type": "stream",
     "text": [
      "C:\\Users\\Marcel\\OneDrive\\Dokumenty\\FIIT\\5.semester\\IAU_prj\\preprocessing_pipeline.py:58: SettingWithCopyWarning: \n",
      "A value is trying to be set on a copy of a slice from a DataFrame\n",
      "\n",
      "See the caveats in the documentation: https://pandas.pydata.org/pandas-docs/stable/user_guide/indexing.html#returning-a-view-versus-a-copy\n",
      "  mini_dataset.iloc[0][attr] = not_null.values[0]\n"
     ]
    }
   ],
   "source": [
    "df1 = pd.read_csv(\"./data/personal_valid.csv\", index_col=0)\n",
    "df2 = pd.read_csv(\"./data/other_valid.csv\", index_col=0)\n",
    "\n",
    "X, y = prep_pip.one_proper_df(df1, df2)\n",
    "\n",
    "data = X\n",
    "data[\"class\"] = y\n",
    "\n",
    "\n",
    "indices = data.loc[data[\"class\"].isnull()].index.values\n",
    "\n",
    "data = data.drop(index=indices)\n",
    "data = data.reset_index(drop=True)\n",
    "\n",
    "X = data.drop(columns=[\"class\"])\n",
    "y = data[\"class\"]"
   ]
  },
  {
   "cell_type": "code",
   "execution_count": 8,
   "metadata": {},
   "outputs": [],
   "source": [
    "X_valid = PIP.predict(X)\n",
    "y_valid = y"
   ]
  },
  {
   "cell_type": "code",
   "execution_count": 9,
   "metadata": {},
   "outputs": [
    {
     "name": "stdout",
     "output_type": "stream",
     "text": [
      "(1303, 33)\n",
      "(1303,)\n"
     ]
    }
   ],
   "source": [
    "print(X_valid.shape)\n",
    "print(y_valid.shape)"
   ]
  },
  {
   "cell_type": "markdown",
   "metadata": {},
   "source": [
    "# Manualne vytvorenie a vyhodnotenie rozhodovacich pravidiel pre klasifikaciu"
   ]
  },
  {
   "cell_type": "code",
   "execution_count": 10,
   "metadata": {},
   "outputs": [
    {
     "name": "stderr",
     "output_type": "stream",
     "text": [
      "<ipython-input-10-63683c3859ec>:5: SettingWithCopyWarning: \n",
      "A value is trying to be set on a copy of a slice from a DataFrame.\n",
      "Try using .loc[row_indexer,col_indexer] = value instead\n",
      "\n",
      "See the caveats in the documentation: https://pandas.pydata.org/pandas-docs/stable/user_guide/indexing.html#returning-a-view-versus-a-copy\n",
      "  medical_data[\"class\"] = y_train\n"
     ]
    }
   ],
   "source": [
    "medical_attributes = ['kurtosis_glucose', 'skewness_glucose', 'mean_glucose', 'std_glucose', \n",
    "                       'kurtosis_oxygen','skewness_oxygen', 'mean_oxygen', 'std_oxygen']\n",
    "\n",
    "medical_data = X_train[medical_attributes]\n",
    "medical_data[\"class\"] = y_train"
   ]
  },
  {
   "cell_type": "markdown",
   "metadata": {},
   "source": [
    "Ideme hladat medical atributy ktore maju najvacsiu korelaciu s class atributom"
   ]
  },
  {
   "cell_type": "code",
   "execution_count": 11,
   "metadata": {},
   "outputs": [
    {
     "data": {
      "text/html": [
       "<div>\n",
       "<style scoped>\n",
       "    .dataframe tbody tr th:only-of-type {\n",
       "        vertical-align: middle;\n",
       "    }\n",
       "\n",
       "    .dataframe tbody tr th {\n",
       "        vertical-align: top;\n",
       "    }\n",
       "\n",
       "    .dataframe thead th {\n",
       "        text-align: right;\n",
       "    }\n",
       "</style>\n",
       "<table border=\"1\" class=\"dataframe\">\n",
       "  <thead>\n",
       "    <tr style=\"text-align: right;\">\n",
       "      <th></th>\n",
       "      <th>kurtosis_glucose</th>\n",
       "      <th>skewness_glucose</th>\n",
       "      <th>mean_glucose</th>\n",
       "      <th>std_glucose</th>\n",
       "      <th>kurtosis_oxygen</th>\n",
       "      <th>skewness_oxygen</th>\n",
       "      <th>mean_oxygen</th>\n",
       "      <th>std_oxygen</th>\n",
       "      <th>class</th>\n",
       "    </tr>\n",
       "  </thead>\n",
       "  <tbody>\n",
       "    <tr>\n",
       "      <th>kurtosis_glucose</th>\n",
       "      <td>1.000000</td>\n",
       "      <td>0.835325</td>\n",
       "      <td>-0.934560</td>\n",
       "      <td>-0.714519</td>\n",
       "      <td>-0.752050</td>\n",
       "      <td>-0.751751</td>\n",
       "      <td>0.782131</td>\n",
       "      <td>0.804809</td>\n",
       "      <td>0.833264</td>\n",
       "    </tr>\n",
       "    <tr>\n",
       "      <th>skewness_glucose</th>\n",
       "      <td>0.835325</td>\n",
       "      <td>1.000000</td>\n",
       "      <td>-0.871752</td>\n",
       "      <td>-0.867680</td>\n",
       "      <td>-0.657859</td>\n",
       "      <td>-0.661421</td>\n",
       "      <td>0.686865</td>\n",
       "      <td>0.719545</td>\n",
       "      <td>0.802770</td>\n",
       "    </tr>\n",
       "    <tr>\n",
       "      <th>mean_glucose</th>\n",
       "      <td>-0.934560</td>\n",
       "      <td>-0.871752</td>\n",
       "      <td>1.000000</td>\n",
       "      <td>0.707912</td>\n",
       "      <td>0.717437</td>\n",
       "      <td>0.717312</td>\n",
       "      <td>-0.744496</td>\n",
       "      <td>-0.773611</td>\n",
       "      <td>-0.828168</td>\n",
       "    </tr>\n",
       "    <tr>\n",
       "      <th>std_glucose</th>\n",
       "      <td>-0.714519</td>\n",
       "      <td>-0.867680</td>\n",
       "      <td>0.707912</td>\n",
       "      <td>1.000000</td>\n",
       "      <td>0.455566</td>\n",
       "      <td>0.462249</td>\n",
       "      <td>-0.482558</td>\n",
       "      <td>-0.505701</td>\n",
       "      <td>-0.579271</td>\n",
       "    </tr>\n",
       "    <tr>\n",
       "      <th>kurtosis_oxygen</th>\n",
       "      <td>-0.752050</td>\n",
       "      <td>-0.657859</td>\n",
       "      <td>0.717437</td>\n",
       "      <td>0.455566</td>\n",
       "      <td>1.000000</td>\n",
       "      <td>0.993711</td>\n",
       "      <td>-0.989776</td>\n",
       "      <td>-0.922936</td>\n",
       "      <td>-0.813903</td>\n",
       "    </tr>\n",
       "    <tr>\n",
       "      <th>skewness_oxygen</th>\n",
       "      <td>-0.751751</td>\n",
       "      <td>-0.661421</td>\n",
       "      <td>0.717312</td>\n",
       "      <td>0.462249</td>\n",
       "      <td>0.993711</td>\n",
       "      <td>1.000000</td>\n",
       "      <td>-0.988444</td>\n",
       "      <td>-0.937249</td>\n",
       "      <td>-0.820950</td>\n",
       "    </tr>\n",
       "    <tr>\n",
       "      <th>mean_oxygen</th>\n",
       "      <td>0.782131</td>\n",
       "      <td>0.686865</td>\n",
       "      <td>-0.744496</td>\n",
       "      <td>-0.482558</td>\n",
       "      <td>-0.989776</td>\n",
       "      <td>-0.988444</td>\n",
       "      <td>1.000000</td>\n",
       "      <td>0.940096</td>\n",
       "      <td>0.851477</td>\n",
       "    </tr>\n",
       "    <tr>\n",
       "      <th>std_oxygen</th>\n",
       "      <td>0.804809</td>\n",
       "      <td>0.719545</td>\n",
       "      <td>-0.773611</td>\n",
       "      <td>-0.505701</td>\n",
       "      <td>-0.922936</td>\n",
       "      <td>-0.937249</td>\n",
       "      <td>0.940096</td>\n",
       "      <td>1.000000</td>\n",
       "      <td>0.877938</td>\n",
       "    </tr>\n",
       "    <tr>\n",
       "      <th>class</th>\n",
       "      <td>0.833264</td>\n",
       "      <td>0.802770</td>\n",
       "      <td>-0.828168</td>\n",
       "      <td>-0.579271</td>\n",
       "      <td>-0.813903</td>\n",
       "      <td>-0.820950</td>\n",
       "      <td>0.851477</td>\n",
       "      <td>0.877938</td>\n",
       "      <td>1.000000</td>\n",
       "    </tr>\n",
       "  </tbody>\n",
       "</table>\n",
       "</div>"
      ],
      "text/plain": [
       "                  kurtosis_glucose  skewness_glucose  mean_glucose  \\\n",
       "kurtosis_glucose          1.000000          0.835325     -0.934560   \n",
       "skewness_glucose          0.835325          1.000000     -0.871752   \n",
       "mean_glucose             -0.934560         -0.871752      1.000000   \n",
       "std_glucose              -0.714519         -0.867680      0.707912   \n",
       "kurtosis_oxygen          -0.752050         -0.657859      0.717437   \n",
       "skewness_oxygen          -0.751751         -0.661421      0.717312   \n",
       "mean_oxygen               0.782131          0.686865     -0.744496   \n",
       "std_oxygen                0.804809          0.719545     -0.773611   \n",
       "class                     0.833264          0.802770     -0.828168   \n",
       "\n",
       "                  std_glucose  kurtosis_oxygen  skewness_oxygen  mean_oxygen  \\\n",
       "kurtosis_glucose    -0.714519        -0.752050        -0.751751     0.782131   \n",
       "skewness_glucose    -0.867680        -0.657859        -0.661421     0.686865   \n",
       "mean_glucose         0.707912         0.717437         0.717312    -0.744496   \n",
       "std_glucose          1.000000         0.455566         0.462249    -0.482558   \n",
       "kurtosis_oxygen      0.455566         1.000000         0.993711    -0.989776   \n",
       "skewness_oxygen      0.462249         0.993711         1.000000    -0.988444   \n",
       "mean_oxygen         -0.482558        -0.989776        -0.988444     1.000000   \n",
       "std_oxygen          -0.505701        -0.922936        -0.937249     0.940096   \n",
       "class               -0.579271        -0.813903        -0.820950     0.851477   \n",
       "\n",
       "                  std_oxygen     class  \n",
       "kurtosis_glucose    0.804809  0.833264  \n",
       "skewness_glucose    0.719545  0.802770  \n",
       "mean_glucose       -0.773611 -0.828168  \n",
       "std_glucose        -0.505701 -0.579271  \n",
       "kurtosis_oxygen    -0.922936 -0.813903  \n",
       "skewness_oxygen    -0.937249 -0.820950  \n",
       "mean_oxygen         0.940096  0.851477  \n",
       "std_oxygen          1.000000  0.877938  \n",
       "class               0.877938  1.000000  "
      ]
     },
     "execution_count": 11,
     "metadata": {},
     "output_type": "execute_result"
    }
   ],
   "source": [
    "medical_data.corr()"
   ]
  },
  {
   "cell_type": "code",
   "execution_count": 12,
   "metadata": {},
   "outputs": [],
   "source": [
    "medical_attributes = ['kurtosis_glucose', 'mean_glucose', 'mean_oxygen', 'std_oxygen']"
   ]
  },
  {
   "cell_type": "markdown",
   "metadata": {},
   "source": [
    "Medzi atributy s najvacsou korelaciou ku atributu target su:\n",
    "- std_oxygen\n",
    "- mean_oxygen\n",
    "- kurtosis_glucose\n",
    "- mean_glucose\n",
    "\n",
    "Tieto atributy sme si zvolili na pracu s nasim manualne vytvorenym stromom"
   ]
  },
  {
   "cell_type": "code",
   "execution_count": 13,
   "metadata": {},
   "outputs": [
    {
     "name": "stdout",
     "output_type": "stream",
     "text": [
      "Korelacia medzi nasim atributom a y: 0.8332636111101277\n"
     ]
    },
    {
     "data": {
      "image/png": "[encoded data removed]",
      "text/plain": [
       "<Figure size 432x288 with 1 Axes>"
      ]
     },
     "metadata": {
      "needs_background": "light"
     },
     "output_type": "display_data"
    },
    {
     "data": {
      "image/png": "[encoded data removed]",
      "text/plain": [
       "<Figure size 432x288 with 1 Axes>"
      ]
     },
     "metadata": {
      "needs_background": "light"
     },
     "output_type": "display_data"
    }
   ],
   "source": [
    "visual.univariate_num_to_class(medical_data, \"kurtosis_glucose\", show_regplot=False)"
   ]
  },
  {
   "cell_type": "code",
   "execution_count": 14,
   "metadata": {},
   "outputs": [
    {
     "name": "stdout",
     "output_type": "stream",
     "text": [
      "Korelacia medzi nasim atributom a y: -0.5792708486920815\n"
     ]
    },
    {
     "data": {
      "image/png": "[encoded data removed]",
      "text/plain": [
       "<Figure size 432x288 with 1 Axes>"
      ]
     },
     "metadata": {
      "needs_background": "light"
     },
     "output_type": "display_data"
    },
    {
     "data": {
      "image/png": "[encoded data removed]",
      "text/plain": [
       "<Figure size 432x288 with 1 Axes>"
      ]
     },
     "metadata": {
      "needs_background": "light"
     },
     "output_type": "display_data"
    }
   ],
   "source": [
    "visual.univariate_num_to_class(medical_data, \"std_glucose\", show_regplot=False)"
   ]
  },
  {
   "cell_type": "code",
   "execution_count": 15,
   "metadata": {},
   "outputs": [
    {
     "name": "stdout",
     "output_type": "stream",
     "text": [
      "Korelacia medzi nasim atributom a y: 0.851476701566479\n"
     ]
    },
    {
     "data": {
      "image/png": "[encoded data removed]",
      "text/plain": [
       "<Figure size 432x288 with 1 Axes>"
      ]
     },
     "metadata": {
      "needs_background": "light"
     },
     "output_type": "display_data"
    },
    {
     "data": {
      "image/png": "[encoded data removed]",
      "text/plain": [
       "<Figure size 432x288 with 1 Axes>"
      ]
     },
     "metadata": {
      "needs_background": "light"
     },
     "output_type": "display_data"
    }
   ],
   "source": [
    "visual.univariate_num_to_class(medical_data, \"mean_oxygen\", show_regplot=False)"
   ]
  },
  {
   "cell_type": "code",
   "execution_count": 16,
   "metadata": {},
   "outputs": [
    {
     "name": "stdout",
     "output_type": "stream",
     "text": [
      "Korelacia medzi nasim atributom a y: 0.877937984221098\n"
     ]
    },
    {
     "data": {
      "image/png": "[encoded data removed]",
      "text/plain": [
       "<Figure size 432x288 with 1 Axes>"
      ]
     },
     "metadata": {
      "needs_background": "light"
     },
     "output_type": "display_data"
    },
    {
     "data": {
      "image/png": "[encoded data removed]",
      "text/plain": [
       "<Figure size 432x288 with 1 Axes>"
      ]
     },
     "metadata": {
      "needs_background": "light"
     },
     "output_type": "display_data"
    }
   ],
   "source": [
    "visual.univariate_num_to_class(medical_data, \"std_oxygen\", show_regplot=False)"
   ]
  },
  {
   "cell_type": "markdown",
   "metadata": {},
   "source": [
    "S pozorovania vidime ze najvacsiu korelaciu dosahuju atributy kurtosis_glucose, skewness_glucose, mean_oxygen, std_oxygen"
   ]
  },
  {
   "cell_type": "code",
   "execution_count": 17,
   "metadata": {},
   "outputs": [
    {
     "ename": "NameError",
     "evalue": "name 'medical_train_ds' is not defined",
     "output_type": "error",
     "traceback": [
      "\u001b[1;31m---------------------------------------------------------------------------\u001b[0m",
      "\u001b[1;31mNameError\u001b[0m                                 Traceback (most recent call last)",
      "\u001b[1;32m<ipython-input-17-440f62a81ed2>\u001b[0m in \u001b[0;36m<module>\u001b[1;34m\u001b[0m\n\u001b[1;32m----> 1\u001b[1;33m \u001b[0msns\u001b[0m\u001b[1;33m.\u001b[0m\u001b[0mpairplot\u001b[0m\u001b[1;33m(\u001b[0m\u001b[0mmedical_train_ds\u001b[0m\u001b[1;33m[\u001b[0m\u001b[1;33m[\u001b[0m\u001b[1;34m'kurtosis_glucose'\u001b[0m\u001b[1;33m,\u001b[0m \u001b[1;34m'mean_glucose'\u001b[0m\u001b[1;33m,\u001b[0m \u001b[1;34m'mean_oxygen'\u001b[0m\u001b[1;33m,\u001b[0m \u001b[1;34m'std_oxygen'\u001b[0m\u001b[1;33m,\u001b[0m\u001b[1;34m'class'\u001b[0m\u001b[1;33m]\u001b[0m\u001b[1;33m]\u001b[0m\u001b[1;33m,\u001b[0m \u001b[0mhue\u001b[0m \u001b[1;33m=\u001b[0m \u001b[1;34m'class'\u001b[0m\u001b[1;33m)\u001b[0m\u001b[1;33m\u001b[0m\u001b[1;33m\u001b[0m\u001b[0m\n\u001b[0m",
      "\u001b[1;31mNameError\u001b[0m: name 'medical_train_ds' is not defined"
     ]
    }
   ],
   "source": [
    "sns.pairplot(medical_data[['kurtosis_glucose', 'mean_glucose', 'mean_oxygen', 'std_oxygen','class']], hue = 'class')"
   ]
  },
  {
   "cell_type": "markdown",
   "metadata": {},
   "source": [
    "# Nami vytvoreny strom"
   ]
  },
  {
   "cell_type": "code",
   "execution_count": null,
   "metadata": {},
   "outputs": [],
   "source": [
    "class Node:\n",
    "    \n",
    "    #budeme sa riadit, ze pravidla vyzeraju ATTR < X, kedy pokial je to pravda, ideme dolava\n",
    "    def __init__(self, threshold=None, col_name=None, gini=None, leaf=True, root=False):\n",
    "        \n",
    "        self.root = root\n",
    "    \n",
    "        self.left = None\n",
    "        self.right = None\n",
    "\n",
    "        #atributy inner nodu\n",
    "        self.col_name = col_name\n",
    "        self.threshold = threshold\n",
    "        \n",
    "        \n",
    "        \n",
    "        #atributy leaf nodu\n",
    "        self.predicition = None\n",
    "        self.leaf = leaf\n",
    "        self.gini = gini\n",
    "    \n"
   ]
  },
  {
   "cell_type": "code",
   "execution_count": null,
   "metadata": {},
   "outputs": [],
   "source": [
    "#v nasom strome budeme pracovat len s ciselnymi atributmi\n",
    "class DecisionTree:\n",
    "    \n",
    "    def __init__(self):\n",
    "        self.root = Node(leaf=False, root=True)\n",
    "        \n",
    "    def fit(self, X, y, node=None):\n",
    "        \n",
    "        #uz nemame dataset\n",
    "        if X.shape[1] == 0 or X.shape[0] == 0:\n",
    "            return\n",
    "        \n",
    "        #pokial dany node ma gini impurity == 0, tak cely dataset ma rovnaku triedu\n",
    "        if node is not None and node.gini == 0:\n",
    "            return\n",
    "        \n",
    "        #hladanie optimalneho thresholdu\n",
    "        attribute_name, threshold = self.best_threshold(X, y)\n",
    "        \n",
    "        #pokial najlepsi threshold je stale vacsi ako doterajsia impurita - teda sa neoplati uz dataset\n",
    "        #splitovat, a teda koncime\n",
    "        if node is not None and node.gini < threshold:\n",
    "            return\n",
    "        \n",
    "        #splitneme dataset podla pravidla + vypocitame gini impurity pre konkretne children nody\n",
    "        data = X\n",
    "        data[\"class\"] = y\n",
    "        \n",
    "        left_data = data.loc[data[attribute_name] < threshold]\n",
    "        right_data = data.loc[data[attribute_name] >= threshold]\n",
    "        \n",
    "        #taktiez dropneme atribut, ktoremu sme uz vytvorili pravidlo\n",
    "        left_data = left_data.drop(columns=[attribute_name])\n",
    "        right_data = right_data.drop(columns=[attribute_name])\n",
    "        \n",
    "        #vypocitame gini impurity pre jednotlive children nody\n",
    "        left_yes = len(left_data.loc[data[\"class\"] == 1])\n",
    "        left_no = len(left_data.loc[data[\"class\"] == 0])\n",
    "        \n",
    "        right_yes = len(right_data.loc[data[\"class\"] == 1])\n",
    "        right_no = len(right_data.loc[data[\"class\"] == 0])\n",
    "        \n",
    "        left_gini = 1 - (left_yes/len(left_data))**2 - (left_no/len(left_data))**2\n",
    "        right_gini = 1 - (right_yes/len(right_data))**2 - (right_no/len(right_data))**2\n",
    "        \n",
    "    \n",
    "        #chceme vypocitat, co children nody klasifikuju, pokial by zostali leaf nodami\n",
    "        left_pred = 0\n",
    "        right_pred = 0\n",
    "        \n",
    "        if left_yes >= left_no:\n",
    "            left_pred = 1\n",
    "        \n",
    "        if right_yes >= right_no:\n",
    "            right_pred = 1\n",
    "         \n",
    "        \n",
    "        if node is None:\n",
    "            node = self.root\n",
    "            \n",
    "        #pridanie atributov pre inner node - pravidlo\n",
    "        node.threshold = threshold\n",
    "        node.col_name = attribute_name\n",
    "        node.leaf = False\n",
    "        \n",
    "        #vytvorime children nody\n",
    "        node.left = Node()\n",
    "        node.right = Node()\n",
    "        \n",
    "        #pridanie atributov pre leaf nody\n",
    "        node.left.prediction = left_pred\n",
    "        node.left.gini = left_gini\n",
    "        \n",
    "        node.right.prediction = right_pred\n",
    "        node.right.gini = right_gini\n",
    "    \n",
    "            \n",
    "        #rekurzivne vytvarame dalsie nody v strome\n",
    "        \n",
    "        #lavy podstrom\n",
    "        self.fit(left_data.drop(columns=[\"class\"]), left_data[\"class\"], node.left)\n",
    "        \n",
    "        #pravy podstrom\n",
    "        self.fit(right_data.drop(columns=[\"class\"]), right_data[\"class\"], node.right)\n",
    "        \n",
    "    \n",
    "    def best_threshold(self, X, y):\n",
    "        \n",
    "        n_features = X.shape[1]\n",
    "        col_names = X.columns.values\n",
    "        \n",
    "        print(\"hladanie najlepsich thresholdov s poctom atributov:\", n_features)\n",
    "        \n",
    "        best_thresholds = np.zeros(n_features)\n",
    "        \n",
    "        best_ginis = np.ones(n_features)\n",
    "        \n",
    "        #hladame najlepsi threshold v kazdom atribute\n",
    "        for i in range(n_features):\n",
    "            \n",
    "            print(\"ity feature:\", i)\n",
    "            \n",
    "            data = X.copy()\n",
    "            data[\"class\"] = y.copy()\n",
    "            \n",
    "            data = data.sort_values(by=[col_names[i]], ascending=True)\n",
    "            \n",
    "            #hladame najlepsi threshold pre konkretny atribut\n",
    "            for row in range(len(data)-1):\n",
    "                \n",
    "                thresh = (data.iloc[row][col_names[i]] + data.iloc[row+1][col_names[i]]) / 2\n",
    "                impurity = self.get_gini(X, y, thresh, col_names[i])\n",
    "                \n",
    "                if impurity < best_ginis[i]:\n",
    "                    best_thresholds[i] = thresh\n",
    "                    best_ginis[i] = impurity\n",
    "        \n",
    "        #teraz vratime najlepsi threshold s najlepsich, spolu s nazvom stplca\n",
    "        index = np.argmin(best_ginis)\n",
    "        print(\"GINI:\", best_ginis[index])\n",
    "        return col_names[index], best_thresholds[index]\n",
    "    \n",
    "    def predict(self, X):\n",
    "        predictions = np.zeros(len(X))\n",
    "        \n",
    "        for i in range(len(X)):\n",
    "            predictions[i] = self.traverse_tree(X.iloc[i])\n",
    "            \n",
    "        return predictions\n",
    "        \n",
    "    \n",
    "    def traverse_tree(self, x):\n",
    "        node = self.root\n",
    "        \n",
    "        while node.leaf == False:\n",
    "            col = node.col_name\n",
    "            if x[col] < node.threshold:\n",
    "                node = node.left\n",
    "            else:\n",
    "                node = node.right\n",
    "        \n",
    "        return node.prediction\n",
    "    \n",
    "    #vracia a zaroven vypisuje metriky v poradi accuracy, precision, recall, f1\n",
    "    def score(self, valid_data):\n",
    "        \n",
    "        truth = valid_data[\"class\"].values\n",
    "        predictions = self.predict(valid_data.drop(columns=[\"class\"]))\n",
    "        \n",
    "        TP = ((truth == 1) & (predictions == 1)).sum()\n",
    "        FP = ((truth == 0) & (predictions == 1)).sum()\n",
    "        TN = ((truth == 0) & (predictions == 0)).sum()\n",
    "        FN = ((truth == 1) & (predictions == 0)).sum()\n",
    "        \n",
    "        accuracy = (TP+TN)/(len(truth))#+1e-9)\n",
    "        precision = TP/(TP+FP)#+1e-9)\n",
    "        recall = TP/(TP+FN)#+1e-9)\n",
    "        f1 = 2 * (precision*recall) / (precision+recall)\n",
    "        \n",
    "        print(\"Accuracy:\", accuracy)\n",
    "        print(\"Precision:\", precision)\n",
    "        print(\"Recall:\", recall)\n",
    "        print(\"F1 score:\", f1)\n",
    "        \n",
    "        return accuracy, precision, recall, f1\n",
    "    \n",
    "    def get_gini(self, X, y, thresh, col):\n",
    "        \n",
    "        data = X\n",
    "        data[\"class\"] = y\n",
    "        \n",
    "        left_data = data.loc[data[col] < thresh]\n",
    "        right_data = data.loc[data[col] >= thresh]\n",
    "        \n",
    "        #neoplati sa nam splitovat dataset, pokial cely dataset sa presunie do ineho nodu, takze\n",
    "        #automaticky dame gini = 2, aby sme nevybrali tento threshold\n",
    "        if len(left_data) == 0 or len(right_data) == 0:\n",
    "            return 2\n",
    "        \n",
    "        left_yes = len(left_data.loc[data[\"class\"] == 1])\n",
    "        left_no = len(left_data.loc[data[\"class\"] == 0])\n",
    "        \n",
    "        right_yes = len(right_data.loc[data[\"class\"] == 1])\n",
    "        right_no = len(right_data.loc[data[\"class\"] == 0])\n",
    "        \n",
    "        left_gini = 1 - (left_yes/len(left_data))**2 - (left_no/len(left_data))**2\n",
    "        right_gini = 1 - (right_yes/len(right_data))**2 - (right_no/len(right_data))**2\n",
    "        \n",
    "        gini = (len(left_data) / len(X))*left_gini + (len(right_data)/len(X))*right_gini\n",
    "        return gini\n",
    "        "
   ]
  },
  {
   "cell_type": "code",
   "execution_count": null,
   "metadata": {},
   "outputs": [],
   "source": [
    "medical_train_ds = X_train[medical_attributes]\n",
    "medical_train_ds['class'] = y_train\n",
    "\n",
    "medical_valid_ds = X_valid[medical_attributes]\n",
    "medical_valid_ds['class'] = y_valid"
   ]
  },
  {
   "cell_type": "code",
   "execution_count": null,
   "metadata": {},
   "outputs": [],
   "source": [
    "import warnings\n",
    "warnings.filterwarnings('ignore')\n",
    "\n",
    "import time\n",
    "\n",
    "tree = DecisionTree()\n",
    "tree.fit(medical_train_ds.drop(columns=[\"class\"]), medical_train_ds[\"class\"])"
   ]
  },
  {
   "cell_type": "code",
   "execution_count": null,
   "metadata": {},
   "outputs": [],
   "source": [
    "tree.score(medical_valid_ds)"
   ]
  },
  {
   "cell_type": "code",
   "execution_count": null,
   "metadata": {},
   "outputs": [],
   "source": [
    "adsasdasdasd"
   ]
  },
  {
   "cell_type": "markdown",
   "metadata": {},
   "source": [
    "# Natrenovanie a vyhodnotenie klasifikatora s vyuzitim rozhodovacich stromov"
   ]
  },
  {
   "cell_type": "markdown",
   "metadata": {},
   "source": [
    "Rozdelenie datasetu na trenovaciu a testovaciu sadu"
   ]
  },
  {
   "cell_type": "code",
   "execution_count": null,
   "metadata": {},
   "outputs": [],
   "source": [
    "X_train, X_test, y_train, y_test = train_test_split(X_train, y_train, test_size=0.2)"
   ]
  },
  {
   "cell_type": "markdown",
   "metadata": {},
   "source": [
    "max_depth"
   ]
  },
  {
   "cell_type": "markdown",
   "metadata": {},
   "source": [
    "Pozrieme sa na vztah hlbky stromu a accuracy."
   ]
  },
  {
   "cell_type": "code",
   "execution_count": null,
   "metadata": {},
   "outputs": [],
   "source": [
    "max_depths = np.linspace(1, 9, 9, endpoint=True)\n",
    "\n",
    "train_results = []\n",
    "test_results = []\n",
    "\n",
    "for max_depth in max_depths:\n",
    "    dt = DecisionTreeClassifier(max_depth=max_depth)\n",
    "    dt.fit(X_train, y_train)\n",
    "    train_pred = dt.predict(X_train)\n",
    "    false_positive_rate, true_positive_rate, thresholds = roc_curve(y_train, train_pred)\n",
    "    roc_auc = auc(false_positive_rate, true_positive_rate)\n",
    "    # Add auc score to previous train results\n",
    "    train_results.append(roc_auc)\n",
    "    y_pred = dt.predict(X_test)\n",
    "    false_positive_rate, true_positive_rate, thresholds = roc_curve(y_test, y_pred)\n",
    "    roc_auc = auc(false_positive_rate, true_positive_rate)\n",
    "    # Add auc score to previous test results\n",
    "    test_results.append(roc_auc)\n",
    "\n",
    "from matplotlib.legend_handler import HandlerLine2D\n",
    "line1, = plt.plot(max_depths, train_results, 'b', label='Train AUC')\n",
    "line2, = plt.plot(max_depths, test_results, 'r', label='Test AUC')\n",
    "plt.legend(handler_map={line1: HandlerLine2D(numpoints=2)})\n",
    "plt.ylabel('AUC score')\n",
    "plt.xlabel('Tree depth')\n",
    "plt.show()"
   ]
  },
  {
   "cell_type": "markdown",
   "metadata": {},
   "source": [
    "Vidime ze nas model dosahuje pri trenovacom datasete najlepsie vysledky v hlbke 9 zatial co testovaci dosahuje najlepsi vysledok v hlbke 5."
   ]
  },
  {
   "cell_type": "markdown",
   "metadata": {},
   "source": [
    "min_samples_leafs"
   ]
  },
  {
   "cell_type": "markdown",
   "metadata": {},
   "source": [
    "Definuje minimálne vzorky (alebo pozorovania) požadované v koncovom uzle alebo liste.\n"
   ]
  },
  {
   "cell_type": "code",
   "execution_count": null,
   "metadata": {},
   "outputs": [],
   "source": [
    "min_samples_leafs = np.linspace(0.1, 0.5, 5, endpoint=True)\n",
    "train_results = []\n",
    "test_results = []\n",
    "for min_samples_leaf in min_samples_leafs:\n",
    "    dt = DecisionTreeClassifier(min_samples_leaf=min_samples_leaf)\n",
    "    dt.fit(X_train, y_train)\n",
    "    train_pred = dt.predict(X_train)\n",
    "    false_positive_rate, true_positive_rate, thresholds = roc_curve(y_train, train_pred)\n",
    "    roc_auc = auc(false_positive_rate, true_positive_rate)\n",
    "    train_results.append(roc_auc)\n",
    "    y_pred = dt.predict(X_test)\n",
    "    false_positive_rate, true_positive_rate, thresholds = roc_curve(y_test, y_pred)\n",
    "    roc_auc = auc(false_positive_rate, true_positive_rate)\n",
    "    test_results.append(roc_auc)\n",
    "    \n",
    "from matplotlib.legend_handler import HandlerLine2D\n",
    "line1, = plt.plot(min_samples_leafs, train_results, 'b', label='Train AUC')\n",
    "line2, = plt.plot(min_samples_leafs, test_results, 'r', label='Test AUC')\n",
    "plt.legend(handler_map={line1: HandlerLine2D(numpoints=2)})\n",
    "plt.ylabel('AUC score')\n",
    "plt.xlabel('min samples leaf')\n",
    "plt.show()"
   ]
  },
  {
   "cell_type": "markdown",
   "metadata": {},
   "source": [
    "#### Metody pre automatizovane testovanie rozhodovacich stromov"
   ]
  },
  {
   "cell_type": "markdown",
   "metadata": {},
   "source": [
    "Pri testovani sa budeme pozerat na metriky : Accuracy, Precision, Recall a F1 score\n",
    "\n",
    "Accuracy :  predstavuje schopnosť modelu správne predpovedať pozitíva aj negatíva zo všetkých predpovedí. Matematicky predstavuje pomer súčtu skutočných pozitív a skutočných negatívov zo všetkých predpovedí.\n",
    "\n",
    "Precision : predstavuje schopnosť modelu správne predpovedať pozitíva zo všetkých pozitívnych predpovedí, ktoré urobil. Skóre presnosti je užitočným meradlom úspešnosti predikcie, keď sú triedy veľmi nevyvážené. Matematicky predstavuje pomer skutočne pozitívneho k súčtu skutočných pozitívnych a falošných pozitív.\n",
    "\n",
    "Recall : predstavuje schopnosť modelu správne predpovedať pozitíva zo skutočných pozitív. To je na rozdiel od presnosti, ktorá meria, koľko predpovedí vytvorených modelmi je skutočne pozitívnych zo všetkých vytvorených pozitívnych predpovedí. Skóre Recall je užitočným meradlom úspešnosti predikcie, keď sú triedy veľmi nevyvážené. Matematicky predstavuje pomer skutočne pozitívneho k súčtu skutočných pozitívnych a falošných negatívov.\n",
    "\n",
    "F1 Score : predstavuje skóre modelu v závislosti od presnosti a skóre vyvolania. Toto je užitočné opatrenie modelu v scenároch, keď sa človek snaží optimalizovať buď presnosť alebo vyvolanie skóre, a vo výsledku tým trpí výkonnosť modelu.\n"
   ]
  },
  {
   "cell_type": "code",
   "execution_count": null,
   "metadata": {},
   "outputs": [],
   "source": [
    "def printMetrics(model):\n",
    "    print('---------------------ACCURACY-----------------------')\n",
    "    \n",
    "    y_pred = model.predict(X_valid)\n",
    "    print('Accuracy: ', accuracy_score(y_valid, y_pred))\n",
    "    \n",
    "    print('---------------------PRECISION----------------------')\n",
    "    \n",
    "    micro_precision = precision_score(y_pred, y_valid, average='micro')\n",
    "    print('Micro-averaged precision: ', micro_precision)\n",
    "\n",
    "    macro_precision = precision_score(y_pred, y_valid, average='macro')\n",
    "    print('Macro-averaged precision: ', macro_precision)\n",
    "\n",
    "    per_class_precision = precision_score(y_pred, y_valid, average=None)\n",
    "    print('Per-class precision score:', per_class_precision)\n",
    "    \n",
    "    print('----------------------RECALL------------------------')\n",
    "    \n",
    "    micro_recall = recall_score(y_valid, y_pred, average='micro')\n",
    "    print('Micro-averaged recall: ', micro_recall)\n",
    "\n",
    "    macro_recall = recall_score(y_valid, y_pred, average='macro')\n",
    "    print('Macro-averaged recall: ', macro_recall)\n",
    "\n",
    "    per_class_recall = recall_score(y_valid, y_pred, average=None)\n",
    "    print('Per-class recall score:', per_class_recall)\n",
    "    \n",
    "    print('----------------------F1-SCORE----------------------')\n",
    "    \n",
    "    micro_f1_score = f1_score(y_valid, y_pred, average='micro')\n",
    "    print('Micro-averaged f1 score: ', micro_f1_score)\n",
    "\n",
    "    macro_f1_score = f1_score(y_valid, y_pred, average='macro')\n",
    "    print('Macro-averaged f1 score: ', macro_f1_score)\n",
    "\n",
    "    per_class_f1_score = f1_score(y_valid, y_pred, average=None)\n",
    "    print('Per-class f1 score:', per_class_f1_score)"
   ]
  },
  {
   "cell_type": "markdown",
   "metadata": {},
   "source": [
    "Funkcia na vykreslenie stromu"
   ]
  },
  {
   "cell_type": "code",
   "execution_count": null,
   "metadata": {},
   "outputs": [],
   "source": [
    "def visualizeTree(model, X):\n",
    "    graph = Source(export_graphviz(model, \n",
    "                               out_file=None,\n",
    "                               feature_names=X.columns,\n",
    "                               class_names=['no', 'yes'],\n",
    "                               filled = True))\n",
    "\n",
    "    display(SVG(graph.pipe(format='svg')))\n",
    "\n",
    "    style = \"<style>svg{width:70% !important;height:70% !important;}</style>\"\n",
    "    HTML(style)"
   ]
  },
  {
   "cell_type": "markdown",
   "metadata": {},
   "source": [
    "Funkcia ktora nam ulahci testovanie stromov, kde si vieme navolit parametre pre testovanie"
   ]
  },
  {
   "cell_type": "code",
   "execution_count": null,
   "metadata": {},
   "outputs": [],
   "source": [
    "def testDecissionTree(criterion, max_depth, min_samples_leaf, max_features, max_leaf_nodes, random_state, splitter, X, y):\n",
    "    dt = DecisionTreeClassifier(criterion = criterion, max_depth = max_depth, min_samples_leaf = min_samples_leaf, \n",
    "                               max_features = max_features, max_leaf_nodes = max_leaf_nodes, random_state = random_state,\n",
    "                               splitter = splitter)\n",
    "    \n",
    "    dt.fit(X, y)\n",
    "    \n",
    "    print('---------------------PARAMETERS---------------------')\n",
    "    \n",
    "    print(dt)\n",
    "    \n",
    "    printMetrics(dt)\n",
    "    \n",
    "    visualizeTree(dt, X)"
   ]
  },
  {
   "cell_type": "markdown",
   "metadata": {},
   "source": [
    "Pred touto castou je potrebne si nainstalovat Graphviz do prostredia, inak sa nevykreslia stromy"
   ]
  },
  {
   "cell_type": "markdown",
   "metadata": {},
   "source": [
    "Viacero testovani s roznymi hyperparametrami, kde sme sa snazili najst najlepsie kombinacie parametrov. Nizsie vidime niektore z nich"
   ]
  },
  {
   "cell_type": "code",
   "execution_count": null,
   "metadata": {},
   "outputs": [],
   "source": [
    "testDecissionTree('gini', 4, 1, None, None, np.random, 'random', X_train, y_train)"
   ]
  },
  {
   "cell_type": "code",
   "execution_count": null,
   "metadata": {},
   "outputs": [],
   "source": [
    "testDecissionTree('gini', 8, 4, None, None, np.random, 'best', X_train, y_train)"
   ]
  },
  {
   "cell_type": "code",
   "execution_count": null,
   "metadata": {},
   "outputs": [],
   "source": [
    "testDecissionTree('entropy', 1, 1, None, None, None, 'random', X_train, y_train)"
   ]
  },
  {
   "cell_type": "code",
   "execution_count": null,
   "metadata": {},
   "outputs": [],
   "source": [
    "testDecissionTree('entropy', 5, 3, 'sqrt', None, None, 'random', X_train, y_train)"
   ]
  },
  {
   "cell_type": "code",
   "execution_count": null,
   "metadata": {},
   "outputs": [],
   "source": [
    "testDecissionTree('gini', 3, 1, None, None, np.random, 'best', X_train, y_train)"
   ]
  },
  {
   "cell_type": "code",
   "execution_count": null,
   "metadata": {},
   "outputs": [],
   "source": [
    "image = plt.imread('tree.png')\n",
    "plt.figure(figsize = (15,15))\n",
    "plt.imshow(image)"
   ]
  },
  {
   "cell_type": "markdown",
   "metadata": {},
   "source": [
    "### Porovnanie natrenovaneho klasifikatora s nasimi pravidlami"
   ]
  },
  {
   "cell_type": "markdown",
   "metadata": {},
   "source": [
    "Pri pozorovani sme zistili ze manualne pravidla volene nami maju lepsiu presnost ako natrenovany klasifikator. Natrenovany klasifikator dosahoval accuracy v priemere 0.86 zatial co nase pravidla dosiahli 0.95. Aj pri precision dosahuje nas strom lepsie vysledky 0.89, zatial co natrenovany klasifikator dosiahol v priemere 0.87. Recall dosiahol nas strom 0.89 a natrenovany klasifikator 0.86. F1 Score dosiahol nas strom 0.91 a natrenovany klasifikator 0.87. Po tomto pozorovani mozeme povedat ze nami urobeny strom dosahuje lepsie vysledky."
   ]
  },
  {
   "cell_type": "markdown",
   "metadata": {},
   "source": [
    "# Optimalizacia hyperparametrov"
   ]
  },
  {
   "cell_type": "markdown",
   "metadata": {},
   "source": [
    "### Krizova validacia nad trenovacimi datami"
   ]
  },
  {
   "cell_type": "code",
   "execution_count": null,
   "metadata": {},
   "outputs": [],
   "source": [
    "df1 = pd.read_csv(\"./data/personal_train.csv\", index_col=0)\n",
    "df2 = pd.read_csv(\"./data/other_train.csv\", index_col=0)\n",
    "\n",
    "print(\"Dlzka personal_train\", df1.shape[0])\n",
    "print(\"Pocet unique pacientov\", df1[\"name\"].nunique())\n",
    "print(\"Rozdiel medzi velkostou df a poctu pacientov\", df1.shape[0] - df1[\"name\"].nunique())\n",
    "print()\n",
    "\n",
    "print(\"Dlzka other_train\", df2.shape[0])\n",
    "print(\"Pocet unique pacientov\", df2[\"name\"].nunique())\n",
    "print(\"Rozdiel medzi velkostou df a poctu pacientov\", df2.shape[0] - df2[\"name\"].nunique())\n",
    "print()\n",
    "\n",
    "X1,y1 = prep_pip.one_proper_df(df1, df2)\n",
    "print(\"Dlzka noveho dataframu\", X1.shape[0])"
   ]
  },
  {
   "cell_type": "code",
   "execution_count": null,
   "metadata": {},
   "outputs": [],
   "source": [
    "df1 = pd.read_csv(\"./data/personal_valid.csv\", index_col=0)\n",
    "df2 = pd.read_csv(\"./data/other_valid.csv\", index_col=0)\n",
    "\n",
    "print(\"Dlzka personal_valid\", df1.shape[0])\n",
    "print(\"Pocet unique pacientov\", df1[\"name\"].nunique())\n",
    "print(\"Rozdiel medzi velkostou df a poctu pacientov\", df1.shape[0] - df1[\"name\"].nunique())\n",
    "print()\n",
    "\n",
    "print(\"Dlzka other_valid\", df2.shape[0])\n",
    "print(\"Pocet unique pacientov\", df2[\"name\"].nunique())\n",
    "print(\"Rozdiel medzi velkostou df a poctu pacientov\", df2.shape[0] - df2[\"name\"].nunique())\n",
    "print()\n",
    "\n",
    "X2,y2 = prep_pip.one_proper_df(df1, df2)\n",
    "print(\"Dlzka noveho dataframu\", X2.shape[0])"
   ]
  },
  {
   "cell_type": "code",
   "execution_count": null,
   "metadata": {},
   "outputs": [],
   "source": [
    "X1[\"class\"] = y1\n",
    "X2[\"class\"] = y2"
   ]
  },
  {
   "cell_type": "code",
   "execution_count": null,
   "metadata": {},
   "outputs": [],
   "source": [
    "data = pd.concat([X1,X2])\n",
    "data.shape"
   ]
  },
  {
   "cell_type": "code",
   "execution_count": null,
   "metadata": {},
   "outputs": [],
   "source": [
    "data = data.reset_index(drop=True)\n",
    "indices = data.loc[data[\"class\"].isnull()].index.values\n",
    "\n",
    "data = data.drop(index=indices)\n",
    "data = data.reset_index(drop=True)\n",
    "\n",
    "data.shape"
   ]
  },
  {
   "cell_type": "code",
   "execution_count": null,
   "metadata": {},
   "outputs": [],
   "source": [
    "prep_steps = prep_pip.get_preprocessing_steps()\n",
    "\n",
    "pip = imblearn.pipeline.Pipeline(steps=[\n",
    "    step for step in prep_steps\n",
    "])\n",
    "    \n",
    "from sklearn import tree\n",
    "pip.steps.append(\n",
    "    (\"classifier\", tree.DecisionTreeClassifier())\n",
    ")"
   ]
  },
  {
   "cell_type": "code",
   "execution_count": null,
   "metadata": {},
   "outputs": [],
   "source": [
    "param_grid = {\n",
    "    \"classifier__criterion\" : [\"gini\", \"entropy\"],\n",
    "    \"classifier__max_depth\" :  [3,5,10],  \n",
    "    \"classifier__min_samples_leaf\": [0.04, 0.08, 0.1],\n",
    "    \"classifier__max_features\": [0.4, 0.6, 1]\n",
    "}"
   ]
  },
  {
   "cell_type": "code",
   "execution_count": null,
   "metadata": {},
   "outputs": [],
   "source": [
    "grid_search = model_selection.GridSearchCV(pip, param_grid, scoring=\"accuracy\", cv=10, verbose=1, refit=False)"
   ]
  },
  {
   "cell_type": "markdown",
   "metadata": {},
   "source": [
    "Neviem preco sa to rozbilo. "
   ]
  },
  {
   "cell_type": "code",
   "execution_count": null,
   "metadata": {},
   "outputs": [],
   "source": [
    "X = data.drop(columns=[\"class\"])\n",
    "y = data[\"class\"]\n",
    "\n",
    "grid_search.fit(X,y)"
   ]
  },
  {
   "cell_type": "code",
   "execution_count": null,
   "metadata": {},
   "outputs": [],
   "source": [
    "grid_search.cv_results_"
   ]
  },
  {
   "cell_type": "code",
   "execution_count": null,
   "metadata": {},
   "outputs": [],
   "source": [
    "grid_search.best_score_"
   ]
  },
  {
   "cell_type": "code",
   "execution_count": null,
   "metadata": {},
   "outputs": [],
   "source": [
    "grid_search.best_params_"
   ]
  },
  {
   "cell_type": "markdown",
   "metadata": {},
   "source": [
    "# Vyhodnotenie vplyvu zvolenej strategie riesenia chybajucich hodnot na spravnost klasifikacie"
   ]
  },
  {
   "cell_type": "code",
   "execution_count": null,
   "metadata": {},
   "outputs": [],
   "source": []
  }
 ],
 "metadata": {
  "kernelspec": {
   "display_name": "Python 3",
   "language": "python",
   "name": "python3"
  },
  "language_info": {
   "codemirror_mode": {
    "name": "ipython",
    "version": 3
   },
   "file_extension": ".py",
   "mimetype": "text/x-python",
   "name": "python",
   "nbconvert_exporter": "python",
   "pygments_lexer": "ipython3",
   "version": "3.8.5"
  }
 },
 "nbformat": 4,
 "nbformat_minor": 4
}
