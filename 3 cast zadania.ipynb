{
 "cells": [
  {
   "cell_type": "code",
   "execution_count": 3,
   "metadata": {},
   "outputs": [],
   "source": [
    "import pandas as pd\n",
    "import numpy as np\n",
    "import seaborn as sns\n",
    "import re\n",
    "import matplotlib.pyplot as plt\n",
    "import json\n",
    "import scipy.stats as stats\n",
    "import math\n",
    "\n",
    "import statsmodels.api as sm\n",
    "import statsmodels.stats as sm_stats\n",
    "import statsmodels.stats.api as sms\n",
    "\n",
    "import vizualizacia_funkcie as visual\n",
    "import preprocessing_pipeline as prep_pip"
   ]
  },
  {
   "cell_type": "code",
   "execution_count": 7,
   "metadata": {},
   "outputs": [],
   "source": [
    "df1 = pd.read_csv(\"./data/personal_train.csv\", index_col=0)\n",
    "df2 = pd.read_csv(\"./data/other_train.csv\", index_col=0)\n",
    "\n",
    "X,y = prep_pip.one_proper_df(df1, df2)"
   ]
  },
  {
   "cell_type": "code",
   "execution_count": 9,
   "metadata": {},
   "outputs": [],
   "source": [
    "PIP = prep_pip.get_preprocessing_pipeline()"
   ]
  },
  {
   "cell_type": "code",
   "execution_count": 12,
   "metadata": {},
   "outputs": [],
   "source": [
    "preprocessed_train_data = PIP.fit_predict(X,y)"
   ]
  },
  {
   "cell_type": "code",
   "execution_count": 18,
   "metadata": {},
   "outputs": [
    {
     "name": "stdout",
     "output_type": "stream",
     "text": [
      "(3263, 33)\n",
      "(3263,)\n"
     ]
    }
   ],
   "source": [
    "print(preprocessed_train_data[0].shape)\n",
    "print(preprocessed_train_data[1].shape)"
   ]
  },
  {
   "cell_type": "code",
   "execution_count": 19,
   "metadata": {},
   "outputs": [
    {
     "data": {
      "text/plain": [
       "Index(['age', 'mean_oxygen', 'std_oxygen', 'kurtosis_oxygen',\n",
       "       'skewness_oxygen', 'mean_glucose', 'std_glucose', 'kurtosis_glucose',\n",
       "       'skewness_glucose', 'sex_0', 'sex_1', 'marital-status_0',\n",
       "       'marital-status_1', 'marital-status_2', 'marital-status_3',\n",
       "       'relationship_0', 'relationship_1', 'relationship_2', 'relationship_3',\n",
       "       'occupation_0', 'occupation_1', 'occupation_2', 'occupation_3',\n",
       "       'occupation_4', 'occupation_5', 'occupation_6', 'occupation_7',\n",
       "       'occupation_8', 'workclass_0', 'workclass_1', 'education',\n",
       "       'hours-per-week-cat', 'income'],\n",
       "      dtype='object')"
      ]
     },
     "execution_count": 19,
     "metadata": {},
     "output_type": "execute_result"
    }
   ],
   "source": [
    "preprocessed_train_data[0].columns"
   ]
  },
  {
   "cell_type": "markdown",
   "metadata": {},
   "source": [
    "# Pri praci s validacnym datasetom sa nepouziva fit_predict ale iba predict"
   ]
  },
  {
   "cell_type": "code",
   "execution_count": null,
   "metadata": {},
   "outputs": [],
   "source": [
    "df1 = pd.read_csv(\"./data/personal_valid.csv\", index_col=0)\n",
    "df2 = pd.read_csv(\"./data/other_valid.csv\", index_col=0)"
   ]
  }
 ],
 "metadata": {
  "kernelspec": {
   "display_name": "Python 3",
   "language": "python",
   "name": "python3"
  },
  "language_info": {
   "codemirror_mode": {
    "name": "ipython",
    "version": 3
   },
   "file_extension": ".py",
   "mimetype": "text/x-python",
   "name": "python",
   "nbconvert_exporter": "python",
   "pygments_lexer": "ipython3",
   "version": "3.8.5"
  }
 },
 "nbformat": 4,
 "nbformat_minor": 4
}
