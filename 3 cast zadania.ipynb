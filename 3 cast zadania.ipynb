{
 "cells": [
  {
   "cell_type": "code",
   "execution_count": 1,
   "metadata": {},
   "outputs": [],
   "source": [
    "import pandas as pd\n",
    "import numpy as np\n",
    "import seaborn as sns\n",
    "import re\n",
    "import matplotlib.pyplot as plt\n",
    "import json\n",
    "import scipy.stats as stats\n",
    "import math\n",
    "\n",
    "import statsmodels.api as sm\n",
    "import statsmodels.stats as sm_stats\n",
    "import statsmodels.stats.api as sms\n",
    "\n",
    "import vizualizacia_funkcie as visual\n",
    "import preprocessing_pipeline as prep_pip"
   ]
  },
  {
   "cell_type": "markdown",
   "metadata": {},
   "source": [
    "# Predspracovanie validacneho datasetu a opis pripadnych zmien"
   ]
  },
  {
   "cell_type": "code",
   "execution_count": 2,
   "metadata": {},
   "outputs": [
    {
     "name": "stderr",
     "output_type": "stream",
     "text": [
      "C:\\Users\\makoh\\IAU\\git_projekt\\IAU\\preprocessing_pipeline.py:58: SettingWithCopyWarning: \n",
      "A value is trying to be set on a copy of a slice from a DataFrame\n",
      "\n",
      "See the caveats in the documentation: https://pandas.pydata.org/pandas-docs/stable/user_guide/indexing.html#returning-a-view-versus-a-copy\n",
      "  mini_dataset.iloc[0][attr] = not_null.values[0]\n"
     ]
    }
   ],
   "source": [
    "df1 = pd.read_csv(\"./data/personal_train.csv\", index_col=0)\n",
    "df2 = pd.read_csv(\"./data/other_train.csv\", index_col=0)\n",
    "\n",
    "X,y = prep_pip.one_proper_df(df1, df2)"
   ]
  },
  {
   "cell_type": "code",
   "execution_count": 3,
   "metadata": {},
   "outputs": [],
   "source": [
    "PIP = prep_pip.get_preprocessing_pipeline()"
   ]
  },
  {
   "cell_type": "code",
   "execution_count": 4,
   "metadata": {},
   "outputs": [],
   "source": [
    "preprocessed_train_data = PIP.fit_predict(X,y)"
   ]
  },
  {
   "cell_type": "code",
   "execution_count": 5,
   "metadata": {},
   "outputs": [
    {
     "name": "stdout",
     "output_type": "stream",
     "text": [
      "(3263, 33)\n",
      "(3263,)\n"
     ]
    }
   ],
   "source": [
    "print(preprocessed_train_data[0].shape)\n",
    "print(preprocessed_train_data[1].shape)"
   ]
  },
  {
   "cell_type": "code",
   "execution_count": 6,
   "metadata": {},
   "outputs": [
    {
     "data": {
      "text/plain": [
       "Index(['age', 'mean_oxygen', 'std_oxygen', 'kurtosis_oxygen',\n",
       "       'skewness_oxygen', 'mean_glucose', 'std_glucose', 'kurtosis_glucose',\n",
       "       'skewness_glucose', 'sex_0', 'sex_1', 'marital-status_0',\n",
       "       'marital-status_1', 'marital-status_2', 'marital-status_3',\n",
       "       'relationship_0', 'relationship_1', 'relationship_2', 'relationship_3',\n",
       "       'occupation_0', 'occupation_1', 'occupation_2', 'occupation_3',\n",
       "       'occupation_4', 'occupation_5', 'occupation_6', 'occupation_7',\n",
       "       'occupation_8', 'workclass_0', 'workclass_1', 'education',\n",
       "       'hours-per-week-cat', 'income'],\n",
       "      dtype='object')"
      ]
     },
     "execution_count": 6,
     "metadata": {},
     "output_type": "execute_result"
    }
   ],
   "source": [
    "preprocessed_train_data[0].columns"
   ]
  },
  {
   "cell_type": "markdown",
   "metadata": {},
   "source": [
    "# Pri praci s validacnym datasetom sa nepouziva fit_predict ale iba predict"
   ]
  },
  {
   "cell_type": "code",
   "execution_count": 7,
   "metadata": {},
   "outputs": [],
   "source": [
    "df1 = pd.read_csv(\"./data/personal_valid.csv\", index_col=0)\n",
    "df2 = pd.read_csv(\"./data/other_valid.csv\", index_col=0)"
   ]
  },
  {
   "cell_type": "code",
   "execution_count": 8,
   "metadata": {},
   "outputs": [
    {
     "name": "stdout",
     "output_type": "stream",
     "text": [
      "<class 'pandas.core.frame.DataFrame'>\n",
      "Int64Index: 3263 entries, 0 to 3932\n",
      "Data columns (total 33 columns):\n",
      " #   Column              Non-Null Count  Dtype  \n",
      "---  ------              --------------  -----  \n",
      " 0   age                 3263 non-null   float64\n",
      " 1   mean_oxygen         3263 non-null   float64\n",
      " 2   std_oxygen          3263 non-null   float64\n",
      " 3   kurtosis_oxygen     3263 non-null   float64\n",
      " 4   skewness_oxygen     3263 non-null   float64\n",
      " 5   mean_glucose        3263 non-null   float64\n",
      " 6   std_glucose         3263 non-null   float64\n",
      " 7   kurtosis_glucose    3263 non-null   float64\n",
      " 8   skewness_glucose    3263 non-null   float64\n",
      " 9   sex_0               3263 non-null   float64\n",
      " 10  sex_1               3263 non-null   float64\n",
      " 11  marital-status_0    3263 non-null   float64\n",
      " 12  marital-status_1    3263 non-null   float64\n",
      " 13  marital-status_2    3263 non-null   float64\n",
      " 14  marital-status_3    3263 non-null   float64\n",
      " 15  relationship_0      3263 non-null   float64\n",
      " 16  relationship_1      3263 non-null   float64\n",
      " 17  relationship_2      3263 non-null   float64\n",
      " 18  relationship_3      3263 non-null   float64\n",
      " 19  occupation_0        3263 non-null   float64\n",
      " 20  occupation_1        3263 non-null   float64\n",
      " 21  occupation_2        3263 non-null   float64\n",
      " 22  occupation_3        3263 non-null   float64\n",
      " 23  occupation_4        3263 non-null   float64\n",
      " 24  occupation_5        3263 non-null   float64\n",
      " 25  occupation_6        3263 non-null   float64\n",
      " 26  occupation_7        3263 non-null   float64\n",
      " 27  occupation_8        3263 non-null   float64\n",
      " 28  workclass_0         3263 non-null   float64\n",
      " 29  workclass_1         3263 non-null   float64\n",
      " 30  education           3263 non-null   float64\n",
      " 31  hours-per-week-cat  3263 non-null   float64\n",
      " 32  income              3263 non-null   float64\n",
      "dtypes: float64(33)\n",
      "memory usage: 866.7 KB\n"
     ]
    }
   ],
   "source": [
    "preprocessed_train_data[0].info()"
   ]
  },
  {
   "cell_type": "markdown",
   "metadata": {},
   "source": [
    "# Manualne vytvorenie a vyhodnotenie rozhodovacich pravidiel pre klasifikaciu"
   ]
  },
  {
   "cell_type": "markdown",
   "metadata": {},
   "source": [
    "# Natrenovanie a vyhodnotenie klasifikatora s vyuzitim rozhodovacich stromov"
   ]
  },
  {
   "cell_type": "markdown",
   "metadata": {},
   "source": [
    "# Optimalizacia hyperparametrov"
   ]
  },
  {
   "cell_type": "markdown",
   "metadata": {},
   "source": [
    "# Vyhodnotenie vplyvu zvolenej strategie riesenia na spravnost klasifikacie"
   ]
  },
  {
   "cell_type": "code",
   "execution_count": null,
   "metadata": {},
   "outputs": [],
   "source": []
  }
 ],
 "metadata": {
  "kernelspec": {
   "display_name": "Python 3",
   "language": "python",
   "name": "python3"
  },
  "language_info": {
   "codemirror_mode": {
    "name": "ipython",
    "version": 3
   },
   "file_extension": ".py",
   "mimetype": "text/x-python",
   "name": "python",
   "nbconvert_exporter": "python",
   "pygments_lexer": "ipython3",
   "version": "3.7.9"
  }
 },
 "nbformat": 4,
 "nbformat_minor": 4
}
